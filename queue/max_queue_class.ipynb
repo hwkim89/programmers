{
 "cells": [
  {
   "cell_type": "markdown",
   "metadata": {},
   "source": [
    "# 최대 용량이 정해진 FIFO 큐 클래스"
   ]
  },
  {
   "cell_type": "markdown",
   "metadata": {},
   "source": [
    "## 문제 설명"
   ]
  },
  {
   "cell_type": "markdown",
   "metadata": {},
   "source": [
    "이번 문제에서는 다음 두 가지 일을 해야 합니다.\n",
    "\n",
    "* 최대 용량이 정해진 FIFO 큐 클래스 구현\n",
    "* 표준 입력으로 들어온 명령어로 큐 조작"
   ]
  },
  {
   "cell_type": "markdown",
   "metadata": {},
   "source": [
    "### 최대 용량이 정해진 FIFO 큐 클래스 구현"
   ]
  },
  {
   "cell_type": "markdown",
   "metadata": {},
   "source": [
    "스택 두 개를 통해 최대 용량이 max_size가 정해진 FIFO 큐 클래스, MyQueue를 구현하세요. 구현할 메소드는 다음과 같습니다.\n",
    "\n",
    "* qsize()\n",
    "    * 큐가 가진 원소 수를 리턴합니다.\n",
    "* push(x)\n",
    "    * 입력받은 인자, x를 큐에 넣습니다.\n",
    "    * 단, 현재 큐가 꽉 찬 경우 인자를 넣지 말고 False를 리턴하세요.\n",
    "* pop():\n",
    "    * 큐가 가진 원소 중, 가장 처음에 들어온 원소를 큐에서 제거하고 리턴합니다.\n",
    "    * 큐에 원소가 없다면 Empty Exception을 raise 하세요. Empty Exception은 본인이 직접 만드셔야 합니다."
   ]
  },
  {
   "cell_type": "markdown",
   "metadata": {},
   "source": [
    "### 표준 입력으로 들어온 명령어로 큐 조작"
   ]
  },
  {
   "cell_type": "markdown",
   "metadata": {},
   "source": [
    "* 첫 줄에는 앞으로 들어올 명령어 수 n과 큐의 최대 크기인 max_size가 공백으로 구분되어 주어집니다.\n",
    "* 그 뒤로는 N 줄에 걸쳐, 큐를 조작할 명령어가 주어집니다.\n",
    "\n",
    "| 명령어 종류 | result                                                        |\n",
    "| -------- | -------------------------------------------------------------- |\n",
    "| SIZE     | 현재 큐에 들은 원소 수를 출력합니다.                                  |\n",
    "| PUSH X   | 정수 X를 큐에 넣습니다. 성공했다면 True를, 아니라면 False를 출력합니다.    |\n",
    "| POP      | 큐에서 원소를 빼냅니다. 성공했다면 빼낸 원소를, 아니라면 False를 출력합니다. |"
   ]
  },
  {
   "cell_type": "markdown",
   "metadata": {},
   "source": [
    "## 제한사항"
   ]
  },
  {
   "cell_type": "markdown",
   "metadata": {},
   "source": [
    "* n은 1 이상 100 이하입니다.\n",
    "* max_size는 1 이상 100 이하입니다.\n",
    "* PUSH 명령어에서 들어오는 X는 -100 이상 100 이하인 정수입니다."
   ]
  },
  {
   "cell_type": "markdown",
   "metadata": {},
   "source": [
    "## 입출력 예"
   ]
  },
  {
   "cell_type": "markdown",
   "metadata": {},
   "source": [
    "### 입력"
   ]
  },
  {
   "cell_type": "markdown",
   "metadata": {},
   "source": [
    "```\n",
    "5 1\n",
    "PUSH 3\n",
    "PUSH -5\n",
    "POP\n",
    "SIZE\n",
    "POP\n",
    "```"
   ]
  },
  {
   "cell_type": "markdown",
   "metadata": {},
   "source": [
    "### 출력"
   ]
  },
  {
   "cell_type": "markdown",
   "metadata": {},
   "source": [
    "```\n",
    "True\n",
    "False\n",
    "3\n",
    "0\n",
    "False\n",
    "```"
   ]
  },
  {
   "cell_type": "markdown",
   "metadata": {},
   "source": [
    "### 입출력 예 설명"
   ]
  },
  {
   "cell_type": "markdown",
   "metadata": {},
   "source": [
    "명령어는 5개, 큐의 최대 허용량은 1입니다.<br><br>\n",
    "\n",
    "| 명령어   | 결과                                                     |\n",
    "| ------- | ------------------------------------------------------ |\n",
    "| PUSH 3  | 큐에 3이 들어갑니다. True를 출력합니다.                       |\n",
    "| PUSH -5 | 큐가 꽉 찼습니다. 더 이상 원소를 넣을 수 없어 False를 출력합니다.  |\n",
    "| POP     | 큐의 원소 중, 가장 먼저 들어간 3을 꺼냅니다. 따라서 3을 출력합니다. |\n",
    "| SIZE    | 큐에 남은 원소는 0개 이므로, 0을 출력합니다.                    |\n",
    "| POP     | 큐에 원소가 없으므로 False를 출력합니다.                       |"
   ]
  },
  {
   "cell_type": "markdown",
   "metadata": {},
   "source": [
    "## 코드"
   ]
  },
  {
   "cell_type": "code",
   "execution_count": null,
   "metadata": {},
   "outputs": [],
   "source": [
    "class MyStack(object):\n",
    "    def __init__(self):\n",
    "        self.lst = list()\n",
    "\n",
    "    def push(self, x):\n",
    "        self.lst.append(x)\n",
    "\n",
    "    def pop(self):\n",
    "        return self.lst.pop()\n",
    "\n",
    "    def size(self):\n",
    "        return len(self.lst)\n",
    "\n",
    "class MyQueue(object):\n",
    "    def __init__(self, max_size):\n",
    "        self.stack1 = MyStack()\n",
    "        self.stack2 = MyStack()\n",
    "        self.max_size = max_size\n",
    "\n",
    "    def qsize(self):\n",
    "        return min(self.stack1.size(), max_size)\n",
    "\n",
    "    def push(self, item):\n",
    "        if self.stack1.size() == max_size:\n",
    "            return False\n",
    "        self.stack1.push(item)\n",
    "        return True\n",
    "\n",
    "    def pop(self):\n",
    "        if self.stack1.size() == 0:\n",
    "            raise Exception()\n",
    "            \n",
    "        # Insert items in stack1 to stack2 without first item\n",
    "        while self.stack1.size() > 1:\n",
    "            self.stack2.push(self.stack1.pop())\n",
    "        # Get first item in stack1\n",
    "        pop_item = self.stack1.pop()\n",
    "        \n",
    "        # Insert items in stack2 to stack1\n",
    "        while self.stack2.size() > 0:\n",
    "            self.stack1.push(self.stack2.pop())\n",
    "        \n",
    "        return pop_item\n",
    "    \n",
    "n, max_size = map(int, input().strip().split(' '))\n",
    "my_queue = MyQueue(max_size)\n",
    "for _ in range(n):\n",
    "    info = input().split()\n",
    "    cmd = info[0]\n",
    "    if len(info) > 1:\n",
    "        item = int(info[1])\n",
    "        \n",
    "    # Handle a command\n",
    "    if cmd == 'SIZE':\n",
    "        print(my_queue.qsize())\n",
    "    elif cmd == 'PUSH':\n",
    "        print(my_queue.push(item))\n",
    "    elif cmd == 'POP':\n",
    "        try:\n",
    "            print(my_queue.pop())\n",
    "        except:\n",
    "            print(False)"
   ]
  },
  {
   "cell_type": "markdown",
   "metadata": {},
   "source": [
    "### 시간 복잡도"
   ]
  },
  {
   "cell_type": "markdown",
   "metadata": {},
   "source": []
  }
 ],
 "metadata": {
  "kernelspec": {
   "display_name": "Python 3",
   "language": "python",
   "name": "python3"
  },
  "language_info": {
   "codemirror_mode": {
    "name": "ipython",
    "version": 3
   },
   "file_extension": ".py",
   "mimetype": "text/x-python",
   "name": "python",
   "nbconvert_exporter": "python",
   "pygments_lexer": "ipython3",
   "version": "3.7.3"
  }
 },
 "nbformat": 4,
 "nbformat_minor": 2
}
