{
 "cells": [
  {
   "cell_type": "markdown",
   "metadata": {},
   "source": [
    "# 소수"
   ]
  },
  {
   "cell_type": "markdown",
   "metadata": {},
   "source": [
    "## 문제 링크"
   ]
  },
  {
   "cell_type": "markdown",
   "metadata": {},
   "source": [
    "* https://www.acmicpc.net/problem/2581"
   ]
  },
  {
   "cell_type": "markdown",
   "metadata": {},
   "source": [
    "## 최종 코드"
   ]
  },
  {
   "cell_type": "code",
   "execution_count": 12,
   "metadata": {},
   "outputs": [
    {
     "name": "stdout",
     "output_type": "stream",
     "text": [
      "60\n",
      "100\n",
      "620\n",
      "61\n"
     ]
    }
   ],
   "source": [
    "def get_prime_nums(M, N):\n",
    "    MAX_NUM = N\n",
    "    p_nums = set(range(2, MAX_NUM+1))\n",
    "    for n in range(2, MAX_NUM+1):\n",
    "        if n in p_nums:\n",
    "            removed_p_nums = set()\n",
    "            for p_num in p_nums:\n",
    "                if n != p_num and p_num % n == 0:\n",
    "                    removed_p_nums.add(p_num)\n",
    "            p_nums -= removed_p_nums\n",
    "            \n",
    "    p_nums = [p_num for p_num in p_nums if p_num >= M]\n",
    "    return p_nums\n",
    "\n",
    "def print_sum_and_min_of_p_nums(p_nums):\n",
    "    if p_nums:\n",
    "        print(sum(p_nums))\n",
    "        print(min(p_nums))\n",
    "    else:\n",
    "        print(-1)\n",
    "        \n",
    "M, N = int(input()), int(input())\n",
    "p_nums = get_prime_nums(M, N)\n",
    "print_sum_and_min_of_p_nums(p_nums)"
   ]
  },
  {
   "cell_type": "markdown",
   "metadata": {},
   "source": [
    "### 시간 복잡도"
   ]
  },
  {
   "cell_type": "code",
   "execution_count": null,
   "metadata": {},
   "outputs": [],
   "source": []
  },
  {
   "cell_type": "markdown",
   "metadata": {},
   "source": [
    "## 테스트 코드"
   ]
  },
  {
   "cell_type": "code",
   "execution_count": 10,
   "metadata": {},
   "outputs": [],
   "source": [
    "def get_prime_nums(M, N):\n",
    "    MAX_NUM = N\n",
    "    p_nums = set(range(2, MAX_NUM+1))\n",
    "    for n in range(2, MAX_NUM+1):\n",
    "        if n in p_nums:\n",
    "            removed_p_nums = set()\n",
    "            for p_num in p_nums:\n",
    "                if n != p_num and p_num % n == 0:\n",
    "                    removed_p_nums.add(p_num)\n",
    "            p_nums -= removed_p_nums\n",
    "            \n",
    "    p_nums = [p_num for p_num in p_nums if p_num >= M]\n",
    "    return p_nums\n",
    "\n",
    "def print_sum_and_min_of_p_nums(p_nums):\n",
    "    if p_nums:\n",
    "        print(sum(p_nums))\n",
    "        print(min(p_nums))\n",
    "    else:\n",
    "        print(-1)"
   ]
  },
  {
   "cell_type": "code",
   "execution_count": 11,
   "metadata": {},
   "outputs": [
    {
     "name": "stdout",
     "output_type": "stream",
     "text": [
      "60\n",
      "100\n",
      "620\n",
      "61\n"
     ]
    }
   ],
   "source": [
    "M, N = int(input()), int(input())\n",
    "p_nums = get_prime_nums(M, N)\n",
    "print_sum_and_min_of_p_nums(p_nums)"
   ]
  },
  {
   "cell_type": "markdown",
   "metadata": {},
   "source": [
    "### 예제 입출력"
   ]
  },
  {
   "cell_type": "code",
   "execution_count": 8,
   "metadata": {},
   "outputs": [
    {
     "name": "stdout",
     "output_type": "stream",
     "text": [
      "620\n",
      "61\n"
     ]
    }
   ],
   "source": [
    "M, N = 60, 100\n",
    "p_nums = get_prime_nums(M, N)\n",
    "print_sum_and_min_of_p_nums(p_nums)"
   ]
  },
  {
   "cell_type": "code",
   "execution_count": 9,
   "metadata": {},
   "outputs": [
    {
     "name": "stdout",
     "output_type": "stream",
     "text": [
      "-1\n"
     ]
    }
   ],
   "source": [
    "M, N = 64, 65\n",
    "p_nums = get_prime_nums(M, N)\n",
    "print_sum_and_min_of_p_nums(p_nums)"
   ]
  }
 ],
 "metadata": {
  "kernelspec": {
   "display_name": "Python 3",
   "language": "python",
   "name": "python3"
  },
  "language_info": {
   "codemirror_mode": {
    "name": "ipython",
    "version": 3
   },
   "file_extension": ".py",
   "mimetype": "text/x-python",
   "name": "python",
   "nbconvert_exporter": "python",
   "pygments_lexer": "ipython3",
   "version": "3.7.3"
  }
 },
 "nbformat": 4,
 "nbformat_minor": 2
}
