{
 "cells": [
  {
   "cell_type": "markdown",
   "metadata": {},
   "source": [
    "## 덱"
   ]
  },
  {
   "cell_type": "markdown",
   "metadata": {},
   "source": [
    "### 문제 링크"
   ]
  },
  {
   "cell_type": "markdown",
   "metadata": {},
   "source": [
    "* https://www.acmicpc.net/problem/10866"
   ]
  },
  {
   "cell_type": "markdown",
   "metadata": {},
   "source": [
    "### 최종 코드"
   ]
  },
  {
   "cell_type": "code",
   "execution_count": null,
   "metadata": {},
   "outputs": [],
   "source": [
    "from collections import deque as deque_ori\n",
    "from sys import stdin\n",
    "\n",
    "class Deque:\n",
    "    def __init__(self):\n",
    "        self._deque = deque_ori()\n",
    "\n",
    "    @property\n",
    "    def size(self):\n",
    "        return len(self._deque)\n",
    "    \n",
    "    @property\n",
    "    def front(self):\n",
    "        return self._deque[0] if self._deque else -1\n",
    "    \n",
    "    @property\n",
    "    def back(self):\n",
    "        return self._deque[-1] if self._deque else -1\n",
    "    \n",
    "    def push_front(self, element):\n",
    "        self._deque.appendleft(element)\n",
    "    \n",
    "    def push_back(self, element):\n",
    "        self._deque.append(element)\n",
    "        \n",
    "    def pop_front(self):\n",
    "        return self._deque.popleft() if self._deque else -1\n",
    "        \n",
    "    def pop_back(self):\n",
    "        return self._deque.pop() if self._deque else -1\n",
    "    \n",
    "    def is_empty(self):\n",
    "        return 0 if self._deque else 1\n",
    "    \n",
    "def solution(queue, cmd):\n",
    "    if len(cmd) > 1: # push\n",
    "        cmd, element = cmd\n",
    "        if cmd == 'push_front':\n",
    "            queue.push_front(element)\n",
    "        else: # push_back\n",
    "            queue.push_back(element)\n",
    "    else:\n",
    "        cmd = cmd[0]\n",
    "        if cmd == 'size':\n",
    "            print(queue.size)\n",
    "        elif cmd == 'front':\n",
    "            print(queue.front)\n",
    "        elif cmd == 'back':\n",
    "            print(queue.back)\n",
    "        elif cmd == 'pop_front':\n",
    "            print(queue.pop_front())\n",
    "        elif cmd == 'pop_back':\n",
    "            print(queue.pop_back())\n",
    "        else: # empty\n",
    "            print(queue.is_empty())\n",
    "            \n",
    "N = int(stdin.readline())\n",
    "deque = Deque()\n",
    "for _ in range(N):\n",
    "    cmd = stdin.readline().split()\n",
    "    solution(deque, cmd)"
   ]
  },
  {
   "cell_type": "markdown",
   "metadata": {},
   "source": [
    "#### 시간 복잡도"
   ]
  },
  {
   "cell_type": "code",
   "execution_count": null,
   "metadata": {},
   "outputs": [],
   "source": []
  },
  {
   "cell_type": "markdown",
   "metadata": {},
   "source": [
    "### 코드"
   ]
  },
  {
   "cell_type": "code",
   "execution_count": 7,
   "metadata": {},
   "outputs": [],
   "source": [
    "from collections import deque as deque_ori\n",
    "from sys import stdin\n",
    "\n",
    "class Deque:\n",
    "    def __init__(self):\n",
    "        self._deque = deque_ori()\n",
    "\n",
    "    @property\n",
    "    def size(self):\n",
    "        return len(self._deque)\n",
    "    \n",
    "    @property\n",
    "    def front(self):\n",
    "        return self._deque[0] if self._deque else -1\n",
    "    \n",
    "    @property\n",
    "    def back(self):\n",
    "        return self._deque[-1] if self._deque else -1\n",
    "    \n",
    "    def push_front(self, element):\n",
    "        self._deque.appendleft(element)\n",
    "    \n",
    "    def push_back(self, element):\n",
    "        self._deque.append(element)\n",
    "        \n",
    "    def pop_front(self):\n",
    "        return self._deque.popleft() if self._deque else -1\n",
    "        \n",
    "    def pop_back(self):\n",
    "        return self._deque.pop() if self._deque else -1\n",
    "    \n",
    "    def is_empty(self):\n",
    "        return 0 if self._deque else 1\n",
    "    \n",
    "def solution(queue, cmd):\n",
    "    if len(cmd) > 1: # push\n",
    "        cmd, element = cmd\n",
    "        if cmd == 'push_front':\n",
    "            queue.push_front(element)\n",
    "        else: # push_back\n",
    "            queue.push_back(element)\n",
    "    else:\n",
    "        cmd = cmd[0]\n",
    "        if cmd == 'size':\n",
    "            print(queue.size)\n",
    "        elif cmd == 'front':\n",
    "            print(queue.front)\n",
    "        elif cmd == 'back':\n",
    "            print(queue.back)\n",
    "        elif cmd == 'pop_front':\n",
    "            print(queue.pop_front())\n",
    "        elif cmd == 'pop_back':\n",
    "            print(queue.pop_back())\n",
    "        else: # empty\n",
    "            print(queue.is_empty())"
   ]
  },
  {
   "cell_type": "code",
   "execution_count": null,
   "metadata": {},
   "outputs": [],
   "source": [
    "N = int(stdin.readline())\n",
    "deque = Deque()\n",
    "for _ in range(N):\n",
    "    cmd = stdin.readline().split()\n",
    "    solution(deque, cmd)"
   ]
  },
  {
   "cell_type": "markdown",
   "metadata": {},
   "source": [
    "### 예제 입출력"
   ]
  },
  {
   "cell_type": "code",
   "execution_count": 9,
   "metadata": {},
   "outputs": [
    {
     "name": "stdout",
     "output_type": "stream",
     "text": [
      "2\n",
      "1\n",
      "2\n",
      "0\n",
      "2\n",
      "1\n",
      "-1\n",
      "0\n",
      "1\n",
      "-1\n",
      "0\n",
      "3\n"
     ]
    }
   ],
   "source": [
    "N = 15\n",
    "deque = Deque()\n",
    "cmds = [\n",
    "    'push_back 1',\n",
    "    'push_front 2',\n",
    "    'front',\n",
    "    'back',\n",
    "    'size',\n",
    "    'empty',\n",
    "    'pop_front',\n",
    "    'pop_back',\n",
    "    'pop_front',\n",
    "    'size',\n",
    "    'empty',\n",
    "    'pop_back',\n",
    "    'push_front 3',\n",
    "    'empty',\n",
    "    'front'\n",
    "]\n",
    "for cmd in cmds:\n",
    "    cmd = cmd.split()\n",
    "    solution(deque, cmd)"
   ]
  },
  {
   "cell_type": "code",
   "execution_count": 10,
   "metadata": {},
   "outputs": [
    {
     "name": "stdout",
     "output_type": "stream",
     "text": [
      "-1\n",
      "-1\n",
      "-1\n",
      "-1\n",
      "1\n",
      "1\n",
      "2\n",
      "2\n",
      "333\n",
      "10\n",
      "10\n",
      "333\n",
      "20\n",
      "1234\n",
      "1234\n",
      "20\n"
     ]
    }
   ],
   "source": [
    "N = 22\n",
    "deque = Deque()\n",
    "cmds = [\n",
    "    'front',\n",
    "    'back',\n",
    "    'pop_front',\n",
    "    'pop_back',\n",
    "    'push_front 1',\n",
    "    'front',\n",
    "    'pop_back',\n",
    "    'push_back 2',\n",
    "    'back',\n",
    "    'pop_front',\n",
    "    'push_front 10',\n",
    "    'push_front 333',\n",
    "    'front',\n",
    "    'back',\n",
    "    'pop_back',\n",
    "    'pop_back',\n",
    "    'push_back 20',\n",
    "    'push_back 1234',\n",
    "    'front',\n",
    "    'back',\n",
    "    'pop_back',\n",
    "    'pop_back'\n",
    "]\n",
    "for cmd in cmds:\n",
    "    cmd = cmd.split()\n",
    "    solution(deque, cmd)"
   ]
  }
 ],
 "metadata": {
  "kernelspec": {
   "display_name": "Python 3",
   "language": "python",
   "name": "python3"
  },
  "language_info": {
   "codemirror_mode": {
    "name": "ipython",
    "version": 3
   },
   "file_extension": ".py",
   "mimetype": "text/x-python",
   "name": "python",
   "nbconvert_exporter": "python",
   "pygments_lexer": "ipython3",
   "version": "3.7.3"
  }
 },
 "nbformat": 4,
 "nbformat_minor": 2
}
