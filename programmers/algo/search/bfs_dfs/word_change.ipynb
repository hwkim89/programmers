{
 "cells": [
  {
   "cell_type": "markdown",
   "metadata": {},
   "source": [
    "# 단어 변환"
   ]
  },
  {
   "cell_type": "markdown",
   "metadata": {},
   "source": [
    "## 문제 링크"
   ]
  },
  {
   "cell_type": "markdown",
   "metadata": {},
   "source": [
    "* https://programmers.co.kr/learn/courses/30/lessons/43163"
   ]
  },
  {
   "cell_type": "markdown",
   "metadata": {},
   "source": [
    "## 코드"
   ]
  },
  {
   "source": [
    "### 방법 1"
   ],
   "cell_type": "markdown",
   "metadata": {}
  },
  {
   "cell_type": "code",
   "execution_count": 42,
   "metadata": {},
   "outputs": [],
   "source": [
    "from collections import deque\n",
    "\n",
    "def solution(begin, target, words):\n",
    "    def is_transitiable(w1, w2):\n",
    "        count = sum([1 for c1, c2 in zip(w1, w2) if c1 != c2])\n",
    "        return True if count == 1 else False\n",
    "    \n",
    "    if target not in words:\n",
    "        return 0\n",
    "    \n",
    "    queue, visited = deque([(begin, 0)]), set()\n",
    "    while queue:\n",
    "        cur_word, dist = queue.popleft()\n",
    "        if cur_word == target:\n",
    "            return dist\n",
    "            \n",
    "        for next_word in words:\n",
    "            if next_word not in visited \\\n",
    "            and is_transitiable(cur_word, next_word):\n",
    "                queue.append((next_word, dist+1))\n",
    "                visited.add(next_word)"
   ]
  },
  {
   "source": [
    "### 방법 2"
   ],
   "cell_type": "markdown",
   "metadata": {}
  },
  {
   "cell_type": "code",
   "execution_count": 50,
   "metadata": {},
   "outputs": [],
   "source": [
    "from collections import defaultdict, deque\n",
    "import math\n",
    "\n",
    "def calc_diff(node1, node2):\n",
    "    count = 0\n",
    "    for element1, element2 in zip(node1, node2):\n",
    "        if element1 != element2:\n",
    "            count += 1\n",
    "    return count\n",
    "\n",
    "def get_graph(start_node, nodes):\n",
    "    graph = defaultdict(list)\n",
    "    nodes.append(start_node)\n",
    "    for node1 in nodes:\n",
    "        for node2 in nodes:\n",
    "            if calc_diff(node1, node2) == 1:\n",
    "                graph[node1].append(node2)\n",
    "    return graph\n",
    "\n",
    "def solution(begin, target, words):\n",
    "    graph = get_graph(begin, words)\n",
    "    queue = deque([(begin, 0, set())])\n",
    "    min_count = math.inf\n",
    "    while queue:\n",
    "        cur_node, count, visited = queue.popleft()\n",
    "        visited.add(cur_node)\n",
    "        for next_node in graph[cur_node]:\n",
    "            if next_node not in visited:\n",
    "                queue.append((next_node, count+1, visited))\n",
    "                if next_node == target:\n",
    "                    min_count = min(count + 1, min_count)\n",
    "\n",
    "    return min_count if min_count != math.inf else 0"
   ]
  },
  {
   "cell_type": "markdown",
   "metadata": {},
   "source": [
    "### 예제 입출력"
   ]
  },
  {
   "cell_type": "code",
   "execution_count": 51,
   "metadata": {
    "scrolled": true
   },
   "outputs": [
    {
     "output_type": "execute_result",
     "data": {
      "text/plain": [
       "4"
      ]
     },
     "metadata": {},
     "execution_count": 51
    }
   ],
   "source": [
    "begin, target = 'hit', 'cog'\n",
    "words = ['hot', 'dot', 'lot', 'log', 'cog', 'dog']\n",
    "solution(begin, target, words)"
   ]
  },
  {
   "cell_type": "code",
   "execution_count": 52,
   "metadata": {},
   "outputs": [
    {
     "output_type": "execute_result",
     "data": {
      "text/plain": [
       "0"
      ]
     },
     "metadata": {},
     "execution_count": 52
    }
   ],
   "source": [
    "begin, target = 'hit', 'cog'\n",
    "words = ['hot', 'dot', 'dog', 'lot', 'log']\n",
    "solution(begin, target, words)"
   ]
  }
 ],
 "metadata": {
  "kernelspec": {
   "name": "python385jvsc74a57bd0881438aaf537e66dfdaad625390fa0d3b3d0ff5ed91f143384dfadbe6c34b6b5",
   "display_name": "Python 3.8.5 64-bit ('base': conda)"
  },
  "language_info": {
   "codemirror_mode": {
    "name": "ipython",
    "version": 3
   },
   "file_extension": ".py",
   "mimetype": "text/x-python",
   "name": "python",
   "nbconvert_exporter": "python",
   "pygments_lexer": "ipython3",
   "version": "3.8.5"
  },
  "metadata": {
   "interpreter": {
    "hash": "881438aaf537e66dfdaad625390fa0d3b3d0ff5ed91f143384dfadbe6c34b6b5"
   }
  }
 },
 "nbformat": 4,
 "nbformat_minor": 2
}