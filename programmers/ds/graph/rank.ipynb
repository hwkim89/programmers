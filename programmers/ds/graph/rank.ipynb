{
 "cells": [
  {
   "cell_type": "markdown",
   "metadata": {},
   "source": [
    "# 순위"
   ]
  },
  {
   "cell_type": "markdown",
   "metadata": {},
   "source": [
    "## 문제 링크\n",
    "- https://programmers.co.kr/learn/courses/30/lessons/49191"
   ]
  },
  {
   "cell_type": "markdown",
   "metadata": {},
   "source": [
    "## 코드"
   ]
  },
  {
   "cell_type": "code",
   "execution_count": 237,
   "metadata": {},
   "outputs": [],
   "source": [
    "from collections import defaultdict\n",
    "\n",
    "def solution(n, results):\n",
    "    graph = {player: defaultdict(set) for player in range(1, n+1)}\n",
    "    for winner, loser in results:\n",
    "        # Update loser information\n",
    "        for p_winner in graph[winner]['winner']:\n",
    "            graph[p_winner]['loser'].add(loser)\n",
    "            graph[p_winner]['loser'] |= graph[loser]['loser']\n",
    "        graph[winner]['loser'].add(loser)\n",
    "        graph[winner]['loser'] |= graph[loser]['loser']\n",
    "\n",
    "        # Update winner information\n",
    "        for c_loser in graph[loser]['loser']:\n",
    "            graph[c_loser]['winner'].add(winner)\n",
    "            graph[c_loser]['winner'] |= graph[winner]['winner']\n",
    "        graph[loser]['winner'].add(winner)\n",
    "        graph[loser]['winner'] |= graph[winner]['winner']\n",
    "\n",
    "    fixed_pnum = 0\n",
    "    for player in range(1, n+1):\n",
    "        visited = graph[player]['winner'] | graph[player]['loser']\n",
    "        if len(visited) == n-1:\n",
    "            fixed_pnum += 1\n",
    "\n",
    "    return fixed_pnum"
   ]
  },
  {
   "cell_type": "markdown",
   "metadata": {},
   "source": [
    "### 입출력 예"
   ]
  },
  {
   "cell_type": "code",
   "execution_count": 238,
   "metadata": {
    "scrolled": false
   },
   "outputs": [
    {
     "output_type": "execute_result",
     "data": {
      "text/plain": [
       "2"
      ]
     },
     "metadata": {},
     "execution_count": 238
    }
   ],
   "source": [
    "n, results = 5, [[4, 3], [4, 2], [3, 2], [1, 2], [2, 5]]\n",
    "solution(n, results)"
   ]
  },
  {
   "cell_type": "code",
   "execution_count": 240,
   "metadata": {},
   "outputs": [
    {
     "output_type": "stream",
     "name": "stdout",
     "text": [
      "pred, label: 2 2\npred, label: 4 4\npred, label: 6 6\npred, label: 5 5\npred, label: 1 1\npred, label: 1 1\npred, label: 0 0\npred, label: 0 0\npred, label: 1 1\npred, label: 6 6\npred, label: 4 4\npred, label: 1 1\npred, label: 1 1\n"
     ]
    }
   ],
   "source": [
    "print('pred, label:', solution(5, [[4, 3], [4, 2], [3, 2], [1, 2], [2, 5]]), 2)\n",
    "print('pred, label:', solution(7, [[4, 3], [4, 2], [3, 2], [1, 2], [2, 5], [5,6], [6,7]]), 4)\n",
    "print('pred, label:', solution(6, [[1,2], [2,3], [3,4], [4,5], [5,6]]), 6)\n",
    "print('pred, label:', solution(5, [[1, 4], [4, 2], [2, 5], [5, 3]]), 5)\n",
    "print('pred, label:', solution(5, [[3, 5], [4, 2], [4, 5], [5, 1], [5, 2]]), 1)\n",
    "print('pred, label:', solution(3, [[1,2],[1,3]]), 1)\n",
    "print('pred, label:', solution(6, [[1,6],[2,6],[3,6],[4,6]]), 0)\n",
    "print('pred, label:', solution(8, [[1,2],[3,4],[5,6],[7,8]]),0)\n",
    "print('pred, label:', solution(9, [[1,2],[1,3],[1,4],[1,5],[6,1],[7,1],[8,1],[9,1]]), 1)\n",
    "print('pred, label:', solution(6, [[1,2],[2,3],[3,4],[4,5],[5,6],[2,4],[2,6]]), 6)\n",
    "print('pred, label:', solution(4, [[4,3],[4,2],[3,2],[3,1],[4,1], [2,1]]), 4)\n",
    "print('pred, label:', solution(3, [[3,2],[3,1]]), 1)\n",
    "print('pred, label:', solution(4, [[1,2],[1,3],[3,4]]), 1)"
   ]
  }
 ],
 "metadata": {
  "kernelspec": {
   "name": "python385jvsc74a57bd0881438aaf537e66dfdaad625390fa0d3b3d0ff5ed91f143384dfadbe6c34b6b5",
   "display_name": "Python 3.8.5 64-bit ('base': conda)"
  },
  "language_info": {
   "codemirror_mode": {
    "name": "ipython",
    "version": 3
   },
   "file_extension": ".py",
   "mimetype": "text/x-python",
   "name": "python",
   "nbconvert_exporter": "python",
   "pygments_lexer": "ipython3",
   "version": "3.8.5"
  },
  "metadata": {
   "interpreter": {
    "hash": "881438aaf537e66dfdaad625390fa0d3b3d0ff5ed91f143384dfadbe6c34b6b5"
   }
  }
 },
 "nbformat": 4,
 "nbformat_minor": 2
}