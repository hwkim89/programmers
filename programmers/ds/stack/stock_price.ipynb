{
 "metadata": {
  "language_info": {
   "codemirror_mode": {
    "name": "ipython",
    "version": 3
   },
   "file_extension": ".py",
   "mimetype": "text/x-python",
   "name": "python",
   "nbconvert_exporter": "python",
   "pygments_lexer": "ipython3",
   "version": "3.8.5"
  },
  "orig_nbformat": 2,
  "kernelspec": {
   "name": "python385jvsc74a57bd0881438aaf537e66dfdaad625390fa0d3b3d0ff5ed91f143384dfadbe6c34b6b5",
   "display_name": "Python 3.8.5 64-bit ('base': conda)"
  },
  "metadata": {
   "interpreter": {
    "hash": "881438aaf537e66dfdaad625390fa0d3b3d0ff5ed91f143384dfadbe6c34b6b5"
   }
  }
 },
 "nbformat": 4,
 "nbformat_minor": 2,
 "cells": [
  {
   "source": [
    "# 주식가격"
   ],
   "cell_type": "markdown",
   "metadata": {}
  },
  {
   "source": [
    "## 문제 링크\n",
    "- https://programmers.co.kr/learn/courses/30/lessons/42584"
   ],
   "cell_type": "markdown",
   "metadata": {}
  },
  {
   "source": [
    "## 코드"
   ],
   "cell_type": "markdown",
   "metadata": {}
  },
  {
   "cell_type": "code",
   "execution_count": 76,
   "metadata": {},
   "outputs": [],
   "source": [
    "def solution(prices):\n",
    "    prev_prices = []\n",
    "    counts = [0 for _ in range(len(prices))]\n",
    "    while prices:\n",
    "        price = prices.pop()\n",
    "        for i in range(len(prev_prices)-1, -1, -1):\n",
    "            counts[len(prices)] += 1\n",
    "            if price > prev_prices[i]:\n",
    "                break\n",
    "\n",
    "        prev_prices.append(price)\n",
    "    \n",
    "    return counts"
   ]
  },
  {
   "source": [
    "### 입출력 예"
   ],
   "cell_type": "markdown",
   "metadata": {}
  },
  {
   "cell_type": "code",
   "execution_count": 77,
   "metadata": {},
   "outputs": [
    {
     "output_type": "execute_result",
     "data": {
      "text/plain": [
       "[4, 3, 1, 1, 0]"
      ]
     },
     "metadata": {},
     "execution_count": 77
    }
   ],
   "source": [
    "prices = [1, 2, 3, 2, 3]\n",
    "solution(prices)"
   ]
  }
 ]
}