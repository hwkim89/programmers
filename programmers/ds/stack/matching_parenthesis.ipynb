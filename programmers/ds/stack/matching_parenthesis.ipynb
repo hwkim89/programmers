{
 "cells": [
  {
   "cell_type": "markdown",
   "metadata": {},
   "source": [
    "# 대중소 괄호 짝 맞추기"
   ]
  },
  {
   "cell_type": "markdown",
   "metadata": {},
   "source": [
    "## 문제 설명"
   ]
  },
  {
   "cell_type": "markdown",
   "metadata": {},
   "source": [
    "여섯 가지 괄호 '(', ')', '{', '}', '[', ']'로 이루어진 문자열이 바르게 닫힌 문자열인지 알아보려 합니다. 바르게 닫힌 문자열이라는 것은\n",
    "\n",
    "* '(' 문자로 열렸으면 반드시 짝지어서 ')' 문자로,\n",
    "* '[' 문자로 열렸으면 반드시 짝지어서 ']' 문자로,\n",
    "* '{' 문자로 열렸으면 반드시 짝지어서 '}' 문자로\n",
    "\n",
    "닫히는 문자열입니다. 또한, 괄호 쌍 안에는 다른 괄호 쌍이 들어갈 수 있습니다. 예를 들어,\n",
    "\n",
    "* {{}}, ({})[]는 바르게 닫힌 괄호입니다.\n",
    "* \\[), ]()[, ([())]는 바르게 닫히지 않은 괄호입니다.\n",
    "\n",
    "문자열 s가 주어졌을 때, 문자열 s가 바르게 닫힌 괄호이면 true를, 그렇지 않으면 false를 return 하는 solution 함수를 완성해 주세요."
   ]
  },
  {
   "cell_type": "markdown",
   "metadata": {},
   "source": [
    "## 제한사항"
   ]
  },
  {
   "cell_type": "markdown",
   "metadata": {},
   "source": [
    "* 문자열 s는 (, ), {, }, [, ] 로만 이루어졌습니다.\n",
    "* 문자열 s의 길이는 1 이상 40 이하입니다."
   ]
  },
  {
   "cell_type": "markdown",
   "metadata": {},
   "source": [
    "## 입출력 예"
   ]
  },
  {
   "cell_type": "markdown",
   "metadata": {},
   "source": [
    "| s      | answer |\n",
    "| ------ | ------ |\n",
    "| {{}}   | true   |\n",
    "| ({})[] | true   |\n",
    "| [)     | false  |\n",
    "| ]()[   | false  |\n",
    "| ([())] | false  |"
   ]
  },
  {
   "cell_type": "markdown",
   "metadata": {},
   "source": [
    "## 코드"
   ]
  },
  {
   "cell_type": "markdown",
   "metadata": {},
   "source": [
    "### 최종 코드"
   ]
  },
  {
   "cell_type": "code",
   "execution_count": null,
   "metadata": {},
   "outputs": [],
   "source": [
    "def solution(s):\n",
    "    PARENTHESIS = {')': '(', '}': '{', ']': '['}\n",
    "    LEFT_PARENTHESIS = '({['\n",
    "    \n",
    "    stack = []\n",
    "    for parenthesis in s:\n",
    "        if parenthesis in LEFT_PARENTHESIS:\n",
    "            stack.append(parenthesis)\n",
    "        elif stack and parenthesis in PARENTHESIS and PARENTHESIS[parenthesis] == stack[-1]:\n",
    "            stack.pop()\n",
    "        else:\n",
    "            return False\n",
    "            \n",
    "    return len(stack) == 0"
   ]
  },
  {
   "cell_type": "markdown",
   "metadata": {},
   "source": [
    "#### 시간 복잡도"
   ]
  },
  {
   "cell_type": "code",
   "execution_count": null,
   "metadata": {},
   "outputs": [],
   "source": [
    "# N = len(s)\n",
    "# 최종 시간 복잡도: O(N)\n",
    "\n",
    "def solution(s):\n",
    "    PARENTHESIS = {')': '(', '}': '{', ']': '['}\n",
    "    LEFT_PARENTHESIS = '({['\n",
    "    \n",
    "    stack = []\n",
    "    for parenthesis in s: # O(N)\n",
    "        if parenthesis in LEFT_PARENTHESIS:\n",
    "            stack.append(parenthesis)\n",
    "        elif stack and parenthesis in PARENTHESIS and PARENTHESIS[parenthesis] == stack[-1]:\n",
    "            stack.pop()\n",
    "        else:\n",
    "            return False\n",
    "            \n",
    "    return len(stack) == 0"
   ]
  },
  {
   "cell_type": "markdown",
   "metadata": {},
   "source": [
    "### Version 1"
   ]
  },
  {
   "cell_type": "code",
   "execution_count": null,
   "metadata": {},
   "outputs": [],
   "source": [
    "from collections import defaultdict\n",
    "\n",
    "def solution(s):\n",
    "    PARENTHESIS = defaultdict(str, {')': '(', '}': '{', ']': '['})\n",
    "    LEFT_PARENTHESIS = '({['\n",
    "    RIGHT_PARENTHESIS = ')}]'\n",
    "    \n",
    "    stack = []\n",
    "    for parenthesis in s:\n",
    "        if parenthesis in LEFT_PARENTHESIS:\n",
    "            stack.append(parenthesis)\n",
    "        elif stack and parenthesis in RIGHT_PARENTHESIS and PARENTHESIS[parenthesis] == stack[-1]:\n",
    "            stack.pop()\n",
    "        else:\n",
    "            return False\n",
    "            \n",
    "    return len(stack) == 0"
   ]
  },
  {
   "cell_type": "markdown",
   "metadata": {},
   "source": [
    "* defaultdict를 쓰지 않아도 됨\n",
    "* RIGHT_PARENTHESIS로 in 연산 시 O(len(LEFT_PARENTHESIS))이 소요됨\n",
    "    * PARENTHESIS로 in 연산 시 dict key 찾는 경우이므로 O(1)이 소요됨\n",
    "    * 여기서는 데이터 크기가 작지 않아 문제 X\n",
    "* 제한사항에서 괄호만 있다고 했으므로 else 구문 필요 X"
   ]
  },
  {
   "cell_type": "markdown",
   "metadata": {},
   "source": [
    "### Version 2"
   ]
  },
  {
   "cell_type": "code",
   "execution_count": 1,
   "metadata": {},
   "outputs": [],
   "source": [
    "def solution(s):\n",
    "    PARENTHESIS = {')': '(', '}': '{', ']': '['}\n",
    "    LEFT_PARENTHESIS = '({['\n",
    "    \n",
    "    stack = []\n",
    "    for parenthesis in s:\n",
    "        if parenthesis in LEFT_PARENTHESIS:\n",
    "            stack.append(parenthesis)\n",
    "        elif stack and parenthesis in PARENTHESIS and PARENTHESIS[parenthesis] == stack[-1]:\n",
    "            stack.pop()\n",
    "        else:\n",
    "            return False\n",
    "            \n",
    "    return len(stack) == 0"
   ]
  },
  {
   "cell_type": "markdown",
   "metadata": {},
   "source": [
    "#### 시간 복잡도"
   ]
  },
  {
   "cell_type": "code",
   "execution_count": null,
   "metadata": {},
   "outputs": [],
   "source": [
    "# N = len(s)\n",
    "# 최종 시간 복잡도: O(N)\n",
    "\n",
    "def solution(s):\n",
    "    PARENTHESIS = {')': '(', '}': '{', ']': '['}\n",
    "    LEFT_PARENTHESIS = '({['\n",
    "    \n",
    "    stack = []\n",
    "    for parenthesis in s: # O(N)\n",
    "        if parenthesis in LEFT_PARENTHESIS:\n",
    "            stack.append(parenthesis)\n",
    "        elif stack and parenthesis in PARENTHESIS and PARENTHESIS[parenthesis] == stack[-1]:\n",
    "            stack.pop()\n",
    "        else:\n",
    "            return False\n",
    "            \n",
    "    return len(stack) == 0"
   ]
  },
  {
   "cell_type": "markdown",
   "metadata": {},
   "source": [
    "### 예제 "
   ]
  },
  {
   "cell_type": "code",
   "execution_count": 2,
   "metadata": {},
   "outputs": [
    {
     "name": "stdout",
     "output_type": "stream",
     "text": [
      "True\n",
      "True\n",
      "False\n",
      "False\n",
      "False\n"
     ]
    }
   ],
   "source": [
    "s = '{{}}'\n",
    "print(solution(s))\n",
    "\n",
    "s = '({})[]'\n",
    "print(solution(s))\n",
    "\n",
    "s = '[)'\n",
    "print(solution(s))\n",
    "\n",
    "s = ']()['\n",
    "print(solution(s))\n",
    "\n",
    "s = '([())]'\n",
    "print(solution(s))"
   ]
  }
 ],
 "metadata": {
  "kernelspec": {
   "display_name": "Python 3",
   "language": "python",
   "name": "python3"
  },
  "language_info": {
   "codemirror_mode": {
    "name": "ipython",
    "version": 3
   },
   "file_extension": ".py",
   "mimetype": "text/x-python",
   "name": "python",
   "nbconvert_exporter": "python",
   "pygments_lexer": "ipython3",
   "version": "3.7.3"
  }
 },
 "nbformat": 4,
 "nbformat_minor": 2
}
