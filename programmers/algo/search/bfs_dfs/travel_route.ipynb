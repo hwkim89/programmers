{
 "cells": [
  {
   "cell_type": "markdown",
   "metadata": {},
   "source": [
    "# 여행 경로"
   ]
  },
  {
   "cell_type": "markdown",
   "metadata": {},
   "source": [
    "## 문제 링크\n",
    "- https://programmers.co.kr/learn/courses/30/lessons/43164"
   ]
  },
  {
   "cell_type": "markdown",
   "metadata": {},
   "source": [
    "## 코드"
   ]
  },
  {
   "source": [
    "### 방법 1"
   ],
   "cell_type": "markdown",
   "metadata": {}
  },
  {
   "cell_type": "code",
   "execution_count": 109,
   "metadata": {},
   "outputs": [],
   "source": [
    "def dfs(routes, start):\n",
    "    visited = []\n",
    "    stack = [start]\n",
    "    while stack:\n",
    "        city = stack[-1]\n",
    "        if city not in routes or len(routes[city]) == 0:\n",
    "            visited.append((stack.pop()))\n",
    "        else:\n",
    "            stack.append(routes[city].pop())\n",
    "    return visited\n",
    "\n",
    "def solution(tickets):\n",
    "    routes = {}\n",
    "    for start, end in sorted(tickets, key=lambda x: x[1], reverse=True):\n",
    "        routes[start] = routes.get(start, []) + [end]\n",
    "    path = dfs(routes, 'ICN')\n",
    "    return path[::-1]"
   ]
  },
  {
   "source": [
    "### 방법 2"
   ],
   "cell_type": "markdown",
   "metadata": {}
  },
  {
   "cell_type": "code",
   "execution_count": 13,
   "metadata": {},
   "outputs": [],
   "source": [
    "from collections import defaultdict\n",
    "\n",
    "def dfs(routes, start):\n",
    "    stack, visited = [start], []\n",
    "    while stack:\n",
    "        city = stack[-1]\n",
    "        if city in routes and routes[city]:\n",
    "            stack.append(routes[city].pop())\n",
    "        else:\n",
    "            visited.append(stack.pop())\n",
    "            \n",
    "    return visited[::-1]\n",
    "\n",
    "def solution(tickets):\n",
    "    routes = defaultdict(list)\n",
    "    for start, end in sorted(tickets, key=lambda x: x[1], reverse=True):\n",
    "        routes[start].append(end)\n",
    "        \n",
    "    path = dfs(routes, 'ICN')\n",
    "    return path"
   ]
  },
  {
   "cell_type": "markdown",
   "metadata": {},
   "source": [
    "### 방법 3"
   ]
  },
  {
   "cell_type": "code",
   "execution_count": 58,
   "metadata": {},
   "outputs": [],
   "source": [
    "from collections import defaultdict, deque\n",
    "\n",
    "def search(ticket_graph, start_loc):\n",
    "    graph_stack, routes = [start_loc], []\n",
    "    while graph_stack:\n",
    "        cur_loc = graph_stack[-1]\n",
    "        if ticket_graph[cur_loc]:\n",
    "            graph_stack.append(ticket_graph[cur_loc].popleft())\n",
    "        else:\n",
    "            routes.append(graph_stack.pop())\n",
    "\n",
    "    return routes[::-1]\n",
    "\n",
    "def solution(tickets):\n",
    "    tickets.sort(key=lambda x: x[1])\n",
    "    ticket_graph = defaultdict(deque)\n",
    "    for departure, arrival in tickets:\n",
    "        ticket_graph[departure].append(arrival)\n",
    "    return search(ticket_graph, start_loc='ICN')"
   ]
  },
  {
   "cell_type": "markdown",
   "metadata": {},
   "source": [
    "### 입출력 예"
   ]
  },
  {
   "cell_type": "code",
   "execution_count": 59,
   "metadata": {},
   "outputs": [
    {
     "output_type": "execute_result",
     "data": {
      "text/plain": [
       "['ICN', 'JFK', 'HND', 'IAD']"
      ]
     },
     "metadata": {},
     "execution_count": 59
    }
   ],
   "source": [
    "tickets = [['ICN', 'JFK'], ['HND', 'IAD'], ['JFK', 'HND']]\n",
    "solution(tickets)"
   ]
  },
  {
   "cell_type": "code",
   "execution_count": 60,
   "metadata": {},
   "outputs": [
    {
     "output_type": "execute_result",
     "data": {
      "text/plain": [
       "['ICN', 'ATL', 'ICN', 'SFO', 'ATL', 'SFO']"
      ]
     },
     "metadata": {},
     "execution_count": 60
    }
   ],
   "source": [
    "tickets = [['ICN', 'SFO'], ['ICN', 'ATL'], ['SFO', 'ATL'], ['ATL', 'ICN'], ['ATL', 'SFO']]\n",
    "solution(tickets)"
   ]
  },
  {
   "cell_type": "code",
   "execution_count": 61,
   "metadata": {},
   "outputs": [
    {
     "output_type": "execute_result",
     "data": {
      "text/plain": [
       "['ICN', 'B', 'ICN', 'A']"
      ]
     },
     "metadata": {},
     "execution_count": 61
    }
   ],
   "source": [
    "# 반레: https://programmers.co.kr/questions/11893\n",
    "tickets = [[\"ICN\", \"A\"], [\"ICN\", \"B\"], [\"B\", \"ICN\"]]\n",
    "solution(tickets)"
   ]
  }
 ],
 "metadata": {
  "kernelspec": {
   "name": "python385jvsc74a57bd0881438aaf537e66dfdaad625390fa0d3b3d0ff5ed91f143384dfadbe6c34b6b5",
   "display_name": "Python 3.8.5 64-bit ('base': conda)"
  },
  "language_info": {
   "codemirror_mode": {
    "name": "ipython",
    "version": 3
   },
   "file_extension": ".py",
   "mimetype": "text/x-python",
   "name": "python",
   "nbconvert_exporter": "python",
   "pygments_lexer": "ipython3",
   "version": "3.8.5"
  },
  "metadata": {
   "interpreter": {
    "hash": "881438aaf537e66dfdaad625390fa0d3b3d0ff5ed91f143384dfadbe6c34b6b5"
   }
  }
 },
 "nbformat": 4,
 "nbformat_minor": 2
}