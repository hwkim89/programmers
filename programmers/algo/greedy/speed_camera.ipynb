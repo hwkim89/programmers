{
 "cells": [
  {
   "cell_type": "markdown",
   "metadata": {},
   "source": [
    "# 단속 카메라"
   ]
  },
  {
   "cell_type": "markdown",
   "metadata": {},
   "source": [
    "## 문제 링크"
   ]
  },
  {
   "cell_type": "markdown",
   "metadata": {},
   "source": [
    "* https://programmers.co.kr/learn/courses/30/lessons/42884"
   ]
  },
  {
   "cell_type": "markdown",
   "metadata": {},
   "source": [
    "## 코드"
   ]
  },
  {
   "cell_type": "code",
   "execution_count": 15,
   "metadata": {},
   "outputs": [],
   "source": [
    "# 특정 카메라 위치가 차량 이동 구간에 포함되는지 확인\n",
    "def is_in(info, loc):\n",
    "    if info[0] <= loc and info[1] >= loc:\n",
    "        return True\n",
    "    return False"
   ]
  },
  {
   "cell_type": "code",
   "execution_count": 16,
   "metadata": {},
   "outputs": [],
   "source": [
    "# 카메라 위치에 포함되는 차량 이동 구간은 모두 제거\n",
    "def remove_passed(routes, camera_loc):\n",
    "    removal_list = []\n",
    "    for i, route in enumerate(routes):\n",
    "        if is_in(route, camera_loc):\n",
    "            removal_list.append(route)\n",
    "            \n",
    "    for value in removal_list:\n",
    "        routes.remove(value)"
   ]
  },
  {
   "cell_type": "code",
   "execution_count": 13,
   "metadata": {},
   "outputs": [],
   "source": [
    "def solution(routes):\n",
    "    cameras = 0\n",
    "    while routes:\n",
    "        # 가장 큰 진출 지점에 카메라 위치를 두는 경우, 포함되는 구간 모두 제거\n",
    "        max_left = max(routes, key=lambda x: x[0])[0]\n",
    "        remove_passed(routes, max_left)\n",
    "        cameras += 1\n",
    "        if not routes:\n",
    "            break\n",
    "\n",
    "        # 가장 작은 진입 지점에 카메라 위치를 두는 경우, 포함되는 구간 모두 제거\n",
    "        min_right = min(routes, key=lambda x: x[1])[1]\n",
    "        remove_passed(routes, min_right)\n",
    "        cameras += 1\n",
    "        \n",
    "    return cameras"
   ]
  },
  {
   "cell_type": "markdown",
   "metadata": {},
   "source": [
    "### 예제"
   ]
  },
  {
   "cell_type": "code",
   "execution_count": 14,
   "metadata": {
    "scrolled": true
   },
   "outputs": [
    {
     "data": {
      "text/plain": [
       "2"
      ]
     },
     "execution_count": 14,
     "metadata": {},
     "output_type": "execute_result"
    }
   ],
   "source": [
    "routes = [[-20,15], [-14,-5], [-18,-13], [-5,-3]]\n",
    "solution(routes)"
   ]
  },
  {
   "cell_type": "markdown",
   "metadata": {},
   "source": [
    "### 시간 복잡도"
   ]
  },
  {
   "cell_type": "code",
   "execution_count": null,
   "metadata": {},
   "outputs": [],
   "source": []
  }
 ],
 "metadata": {
  "kernelspec": {
   "display_name": "Python 3",
   "language": "python",
   "name": "python3"
  },
  "language_info": {
   "codemirror_mode": {
    "name": "ipython",
    "version": 3
   },
   "file_extension": ".py",
   "mimetype": "text/x-python",
   "name": "python",
   "nbconvert_exporter": "python",
   "pygments_lexer": "ipython3",
   "version": "3.7.4"
  }
 },
 "nbformat": 4,
 "nbformat_minor": 2
}
