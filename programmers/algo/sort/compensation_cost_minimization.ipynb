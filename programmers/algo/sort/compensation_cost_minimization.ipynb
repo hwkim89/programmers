{
 "cells": [
  {
   "cell_type": "markdown",
   "metadata": {},
   "source": [
    "# 배상 비용 최소화"
   ]
  },
  {
   "cell_type": "markdown",
   "metadata": {},
   "source": [
    "## 문제 설명"
   ]
  },
  {
   "cell_type": "markdown",
   "metadata": {},
   "source": [
    "OO 조선소에서는 태풍으로 인한 작업지연으로 수주한 선박들을 기한 내에 완성하지 못할 것이 예상됩니다. 기한 내에 완성하지 못하면 손해 배상을 해야 하므로 남은 일의 작업량을 숫자로 매기고 배상비용을 최소화하는 방법을 찾으려고 합니다.\n",
    "배상 비용은 각 선박의 완성까지 남은 일의 작업량을 제곱하여 모두 더한 값이 됩니다.\n",
    "\n",
    "조선소에서는 1시간 동안 남은 일 중 하나를 골라 작업량 1만큼 처리할 수 있습니다. 조선소에서 작업할 수 있는 N 시간과 각 일에 대한 작업량이 담긴 배열(works)이 있을 때 배상 비용을 최소화한 결과를 반환하는 함수를 만들어 주세요. 예를 들어, N=4일 때, 선박별로 남은 일의 작업량이 works = [4, 3, 3]이라면 배상 비용을 최소화하기 위해 일을 한 결과는 [2, 2, 2]가 되고 배상 비용은 22 + 22 + 22 = 12가 되어 12를 반환해 줍니다."
   ]
  },
  {
   "cell_type": "markdown",
   "metadata": {},
   "source": [
    "## 제한사항"
   ]
  },
  {
   "cell_type": "markdown",
   "metadata": {},
   "source": [
    "* 일할 수 있는 시간 N : 1,000,000 이하의 자연수\n",
    "배열 works의 크기 : 1,000 이하의 자연수\n",
    "각 일에 대한 작업량 : 1,000 이하의 자연수"
   ]
  },
  {
   "cell_type": "markdown",
   "metadata": {},
   "source": [
    "## 입출력 예"
   ]
  },
  {
   "cell_type": "markdown",
   "metadata": {},
   "source": [
    "| N | works   | result |\n",
    "| - | ------- | ------ |\n",
    "| 4 | [4,3,3] | 12     |\n",
    "| 2 | [3,3,3] | 17     |"
   ]
  },
  {
   "cell_type": "markdown",
   "metadata": {},
   "source": [
    "### 입출력 예 설명"
   ]
  },
  {
   "cell_type": "markdown",
   "metadata": {},
   "source": [
    "* 입출력 예 #1\n",
    "    * 문제의 예제와 같습니다.\n",
    "\n",
    "* 입출력 예 #2\n",
    "    * 배상 비용을 최소화하기 위해 일을 한 결과는 [2, 2, 3]가 되고 배상 비용은 22 + 22 + 32 = 17가 되어 17를 반환해 줍니다."
   ]
  },
  {
   "cell_type": "markdown",
   "metadata": {},
   "source": [
    "## 문제 해결 방법"
   ]
  },
  {
   "cell_type": "markdown",
   "metadata": {},
   "source": [
    "* 가장 큰 작업량을 우선으로 감소시킨 후 최종 배상 비용을 계산하면 된다.\n",
    "* 가장 큰 작업량을 추출하기 위해 Max heap을 사용할 수 있다."
   ]
  },
  {
   "cell_type": "markdown",
   "metadata": {},
   "source": [
    "## 코드"
   ]
  },
  {
   "cell_type": "markdown",
   "metadata": {},
   "source": [
    "### 실패한 코드"
   ]
  },
  {
   "cell_type": "markdown",
   "metadata": {},
   "source": [
    "#### Version 1"
   ]
  },
  {
   "cell_type": "code",
   "execution_count": 14,
   "metadata": {},
   "outputs": [],
   "source": [
    "def solution(no, works):\n",
    "    for _ in range(no):\n",
    "        i = works.index(max(works))\n",
    "        works[i] -= 1\n",
    "        \n",
    "    cost = 0\n",
    "    for work in works:\n",
    "        cost += work**2\n",
    "    return cost"
   ]
  },
  {
   "cell_type": "markdown",
   "metadata": {},
   "source": [
    "#### Version 2"
   ]
  },
  {
   "cell_type": "code",
   "execution_count": 15,
   "metadata": {},
   "outputs": [],
   "source": [
    "import heapq\n",
    "\n",
    "def solution(no, works):\n",
    "    works = [-work for work in works]\n",
    "    heapq.heapify(works)\n",
    "    for _ in range(no):\n",
    "        max_work = heapq.heappop(works)\n",
    "        heapq.heappush(works, max_work + 1)\n",
    "\n",
    "    cost = 0\n",
    "    for work in works:\n",
    "        cost += (-work)**2\n",
    "    return cost"
   ]
  },
  {
   "cell_type": "markdown",
   "metadata": {},
   "source": [
    "### 성공한 코드"
   ]
  },
  {
   "cell_type": "markdown",
   "metadata": {},
   "source": [
    "#### Version 1"
   ]
  },
  {
   "cell_type": "code",
   "execution_count": null,
   "metadata": {},
   "outputs": [],
   "source": [
    "import heapq\n",
    "\n",
    "def solution(no, works):\n",
    "    works = [-work for work in works]\n",
    "    heapq.heapify(works)\n",
    "    for _ in range(no):\n",
    "        max_work = heapq.heappop(works)\n",
    "        if max_work == 0:\n",
    "            break\n",
    "        heapq.heappush(works, max_work + 1)\n",
    "\n",
    "    cost = 0\n",
    "    for work in works:\n",
    "        cost += (-work)**2\n",
    "    return cost"
   ]
  },
  {
   "cell_type": "markdown",
   "metadata": {},
   "source": [
    "위 코드 14줄의 cost += (-work)**2에서 -를 쓸 필요가 없다. 왜냐하면 \"양수x양수 = 양수\"이고, \"음수x음수 = 양수\"이기 때문이다."
   ]
  },
  {
   "cell_type": "markdown",
   "metadata": {},
   "source": [
    "#### Version 2"
   ]
  },
  {
   "cell_type": "code",
   "execution_count": null,
   "metadata": {},
   "outputs": [],
   "source": [
    "import heapq\n",
    "\n",
    "def solution(no, works):\n",
    "    works = [-work for work in works]\n",
    "    heapq.heapify(works)\n",
    "    for _ in range(no):\n",
    "        max_work = heapq.heappop(works)\n",
    "        if max_work == 0:\n",
    "            break\n",
    "        heapq.heappush(works, max_work + 1)\n",
    "\n",
    "    cost = 0\n",
    "    for work in works:\n",
    "        cost += work**2\n",
    "    return cost"
   ]
  },
  {
   "cell_type": "markdown",
   "metadata": {},
   "source": [
    "### 시간 복잡도"
   ]
  },
  {
   "cell_type": "markdown",
   "metadata": {},
   "source": [
    "N을 no, n을 works 배열의 길이라고 했을 때,\n",
    "\n",
    "* works 재배열: O(n)\n",
    "* heapify: O(n)\n",
    "* 남은 시간에 대한 업무 처리: O(N*nlogn)\n",
    "    * heappop: O(N*nlogn)\n",
    "    * heappush: O(N*nlogn)\n",
    "* 잔여 작업량에 대한 비용 계산: O(n)\n",
    "* 최종 시간 복잡도: O(N*nlogn)"
   ]
  },
  {
   "cell_type": "markdown",
   "metadata": {},
   "source": [
    "### 예제 1"
   ]
  },
  {
   "cell_type": "code",
   "execution_count": 12,
   "metadata": {},
   "outputs": [
    {
     "data": {
      "text/plain": [
       "12"
      ]
     },
     "execution_count": 12,
     "metadata": {},
     "output_type": "execute_result"
    }
   ],
   "source": [
    "no = 4\n",
    "works = [4,3,3]\n",
    "solution(no, works)"
   ]
  },
  {
   "cell_type": "markdown",
   "metadata": {},
   "source": [
    "### 예제 2"
   ]
  },
  {
   "cell_type": "code",
   "execution_count": 13,
   "metadata": {},
   "outputs": [
    {
     "data": {
      "text/plain": [
       "17"
      ]
     },
     "execution_count": 13,
     "metadata": {},
     "output_type": "execute_result"
    }
   ],
   "source": [
    "no = 2\n",
    "works = [3,3,3]\n",
    "solution(no, works)"
   ]
  }
 ],
 "metadata": {
  "kernelspec": {
   "display_name": "Python 3",
   "language": "python",
   "name": "python3"
  },
  "language_info": {
   "codemirror_mode": {
    "name": "ipython",
    "version": 3
   },
   "file_extension": ".py",
   "mimetype": "text/x-python",
   "name": "python",
   "nbconvert_exporter": "python",
   "pygments_lexer": "ipython3",
   "version": "3.7.3"
  }
 },
 "nbformat": 4,
 "nbformat_minor": 2
}
