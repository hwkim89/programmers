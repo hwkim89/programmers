{
 "cells": [
  {
   "cell_type": "markdown",
   "metadata": {},
   "source": [
    "# 문제 설명"
   ]
  },
  {
   "cell_type": "markdown",
   "metadata": {},
   "source": [
    "0 또는 양의 정수가 주어졌을 때, 정수를 이어 붙여 만들 수 있는 가장 큰 수를 알아내 주세요.\n",
    "\n",
    "예를 들어, 주어진 정수가 [6, 10, 2]라면 [6102, 6210, 1062, 1026, 2610, 2106]를 만들 수 있고, 이중 가장 큰 수는 6210입니다.\n",
    "\n",
    "0 또는 양의 정수가 담긴 배열 numbers가 매개변수로 주어질 때, 순서를 재배치하여 만들 수 있는 가장 큰 수를 문자열로 바꾸어 return 하도록 solution 함수를 작성해주세요."
   ]
  },
  {
   "cell_type": "markdown",
   "metadata": {},
   "source": [
    "# 제한 사항"
   ]
  },
  {
   "cell_type": "markdown",
   "metadata": {},
   "source": [
    "* numbers의 길이는 1 이상 100,000 이하입니다.\n",
    "* numbers의 원소는 0 이상 1,000 이하입니다.\n",
    "* 정답이 너무 클 수 있으니 문자열로 바꾸어 return 합니다."
   ]
  },
  {
   "cell_type": "markdown",
   "metadata": {},
   "source": [
    "# 입출력 예"
   ]
  },
  {
   "cell_type": "markdown",
   "metadata": {},
   "source": [
    "numbers\treturn\n",
    "\n",
    "[6, 10, 2]\t6210\n",
    "\n",
    "[3, 30, 34, 5, 9]\t9534330"
   ]
  },
  {
   "cell_type": "markdown",
   "metadata": {},
   "source": [
    "# 코드"
   ]
  },
  {
   "cell_type": "markdown",
   "metadata": {},
   "source": [
    "### Simple"
   ]
  },
  {
   "cell_type": "code",
   "execution_count": 54,
   "metadata": {},
   "outputs": [],
   "source": [
    "from itertools import permutations\n",
    "\n",
    "def solution(numbers):\n",
    "    answer = str(sorted([\n",
    "        int(''.join([str(n) for n in n_tuple]))\n",
    "        for n_tuple in permutations(numbers, len(numbers))\n",
    "    ], reverse=True)[0])\n",
    "    \n",
    "    return answer"
   ]
  },
  {
   "cell_type": "code",
   "execution_count": 56,
   "metadata": {},
   "outputs": [
    {
     "data": {
      "text/plain": [
       "'6210'"
      ]
     },
     "execution_count": 56,
     "metadata": {},
     "output_type": "execute_result"
    }
   ],
   "source": [
    "numbers = [6, 10, 2]\n",
    "solution(numbers)"
   ]
  },
  {
   "cell_type": "code",
   "execution_count": 55,
   "metadata": {},
   "outputs": [
    {
     "data": {
      "text/plain": [
       "'9534330'"
      ]
     },
     "execution_count": 55,
     "metadata": {},
     "output_type": "execute_result"
    }
   ],
   "source": [
    "numbers = [3, 30, 34, 5, 9]\n",
    "solution(numbers)"
   ]
  },
  {
   "cell_type": "markdown",
   "metadata": {},
   "source": [
    "Result -> 0점"
   ]
  },
  {
   "cell_type": "markdown",
   "metadata": {
    "collapsed": true
   },
   "source": [
    "---"
   ]
  },
  {
   "cell_type": "markdown",
   "metadata": {},
   "source": [
    "### Update version 1"
   ]
  },
  {
   "cell_type": "code",
   "execution_count": null,
   "metadata": {},
   "outputs": [],
   "source": [
    "def solution(numbers):\n",
    "    ordered_numbers = []\n",
    "    for n in numbers:\n",
    "        # ordered_numbers가 비어 있는 경우, 첫번째 숫자 삽입\n",
    "        if not ordered_numbers:\n",
    "            ordered_numbers.append(str(n))\n",
    "        # ordered numbers가 비어 있지 않은 경우, 가장 적절한 위치에 숫자 삽입\n",
    "        else:\n",
    "            # 새로운 숫자를 모든 위치에 배치했을 때 가장 큰 경우 찾기\n",
    "            max = (-1, 0)\n",
    "            for i in range(0, len(ordered_numbers)+1):\n",
    "                # 기존 ordered_numbers의 복사본 생성 후 i번째 위치에 숫자 삽입\n",
    "                temp_ordered_numbers = ordered_numbers.copy()\n",
    "                temp_ordered_numbers.insert(i, n)\n",
    "                \n",
    "                # 새롭게 삽입된 숫자로 생성된 숫자와 Max 값을 비교한 후 Max 값 업데이트\n",
    "                new_n = int(''.join([str(temp_n) for temp_n in temp_ordered_numbers]))\n",
    "                if new_n > max[1]:\n",
    "                    max = (i, new_n)\n",
    "                    \n",
    "            # 새로운 숫자의 가장 적절한 위치에 추가\n",
    "            ordered_numbers.insert(max[0], str(n))\n",
    "        \n",
    "    answer = ''.join(ordered_numbers)\n",
    "    return answer"
   ]
  },
  {
   "cell_type": "code",
   "execution_count": 52,
   "metadata": {},
   "outputs": [
    {
     "data": {
      "text/plain": [
       "'6210'"
      ]
     },
     "execution_count": 52,
     "metadata": {},
     "output_type": "execute_result"
    }
   ],
   "source": [
    "numbers = [6, 10, 2]\n",
    "solution(numbers)"
   ]
  },
  {
   "cell_type": "code",
   "execution_count": 53,
   "metadata": {},
   "outputs": [
    {
     "data": {
      "text/plain": [
       "'9534330'"
      ]
     },
     "execution_count": 53,
     "metadata": {},
     "output_type": "execute_result"
    }
   ],
   "source": [
    "numbers = [3, 30, 34, 5, 9]\n",
    "solution(numbers)"
   ]
  },
  {
   "cell_type": "markdown",
   "metadata": {},
   "source": [
    "Result -> 0점"
   ]
  },
  {
   "cell_type": "markdown",
   "metadata": {},
   "source": [
    "---"
   ]
  },
  {
   "cell_type": "markdown",
   "metadata": {},
   "source": [
    "### Update version 2"
   ]
  },
  {
   "cell_type": "code",
   "execution_count": 1,
   "metadata": {},
   "outputs": [],
   "source": [
    "def solution(numbers):\n",
    "    ordered_numbers = []\n",
    "    for n in numbers:\n",
    "        # ordered_numbers가 비어 있는 경우, 첫번째 숫자 삽입\n",
    "        if not ordered_numbers:\n",
    "            ordered_numbers.append(str(n))\n",
    "        # ordered numbers가 비어 있지 않은 경우, 가장 적절한 위치에 숫자 삽입\n",
    "        else:\n",
    "            # 새로운 숫자로 생길 수 있는 모든 경우의 수 생성\n",
    "            candidates = []\n",
    "            temp_ordered_numbers = ordered_numbers.copy()\n",
    "            for i in range(0, len(ordered_numbers)+1):\n",
    "                temp_ordered_numbers.insert(i, n)\n",
    "                candidates.append((i, int(''.join([str(temp_n) for temp_n in temp_ordered_numbers]))))\n",
    "                temp_ordered_numbers.pop(i)\n",
    "                \n",
    "            # 새로운 숫자 위치의 후보군 정렬 후 가장 큰 수의 위치와 값 추출\n",
    "            candidates.sort(key = lambda element : element[1], reverse=True)\n",
    "            max_i, max_n = candidates[0]\n",
    "\n",
    "            # 새로운 숫자의 가장 적절한 위치에 추가\n",
    "            ordered_numbers.insert(max_i, str(n))\n",
    "        \n",
    "    answer = ''.join(ordered_numbers)\n",
    "    return answer"
   ]
  },
  {
   "cell_type": "code",
   "execution_count": 2,
   "metadata": {},
   "outputs": [
    {
     "data": {
      "text/plain": [
       "'6210'"
      ]
     },
     "execution_count": 2,
     "metadata": {},
     "output_type": "execute_result"
    }
   ],
   "source": [
    "numbers = [6, 10, 2]\n",
    "solution(numbers)"
   ]
  },
  {
   "cell_type": "code",
   "execution_count": 3,
   "metadata": {},
   "outputs": [
    {
     "data": {
      "text/plain": [
       "'9534330'"
      ]
     },
     "execution_count": 3,
     "metadata": {},
     "output_type": "execute_result"
    }
   ],
   "source": [
    "numbers = [3, 30, 34, 5, 9]\n",
    "solution(numbers)"
   ]
  },
  {
   "cell_type": "markdown",
   "metadata": {},
   "source": [
    "Result -> 36.4점"
   ]
  },
  {
   "cell_type": "markdown",
   "metadata": {},
   "source": [
    "---"
   ]
  },
  {
   "cell_type": "markdown",
   "metadata": {},
   "source": [
    "### Update version 3"
   ]
  },
  {
   "cell_type": "markdown",
   "metadata": {},
   "source": [
    "* Quick sort\n",
    "    * https://oi-test.readthedocs.io/en/latest/algorithms/sort/quick_sort.html#example\n",
    "    * http://interactivepython.org/courselib/static/pythonds/SortSearch/TheQuickSort.html"
   ]
  },
  {
   "cell_type": "code",
   "execution_count": 22,
   "metadata": {},
   "outputs": [],
   "source": [
    "def quickSort(alist):\n",
    "    quickSortHelper(alist,0,len(alist)-1)\n",
    "\n",
    "def quickSortHelper(alist,first,last):\n",
    "    if first<last:\n",
    "        splitpoint = partition(alist,first,last)\n",
    "        quickSortHelper(alist,first,splitpoint-1)\n",
    "        quickSortHelper(alist,splitpoint+1,last)\n",
    "\n",
    "def partition(alist,first,last):\n",
    "    pivotvalue = alist[first][1]\n",
    "    leftmark = first+1\n",
    "    rightmark = last\n",
    "\n",
    "    done = False\n",
    "    while not done:\n",
    "        while leftmark <= rightmark and alist[leftmark][1] <= pivotvalue:\n",
    "            leftmark = leftmark + 1\n",
    "\n",
    "        while alist[rightmark][1] >= pivotvalue and rightmark >= leftmark:\n",
    "            rightmark = rightmark -1\n",
    "\n",
    "        if rightmark < leftmark:\n",
    "            done = True\n",
    "        else:\n",
    "            temp = alist[leftmark]\n",
    "            alist[leftmark] = alist[rightmark]\n",
    "            alist[rightmark] = temp\n",
    "\n",
    "    temp = alist[first]\n",
    "    alist[first] = alist[rightmark]\n",
    "    alist[rightmark] = temp\n",
    "\n",
    "    return rightmark"
   ]
  },
  {
   "cell_type": "code",
   "execution_count": 23,
   "metadata": {},
   "outputs": [],
   "source": [
    "def solution(numbers):\n",
    "    ordered_numbers = []\n",
    "    for n in numbers:\n",
    "        # ordered_numbers가 비어 있는 경우, 첫번째 숫자 삽입\n",
    "        if not ordered_numbers:\n",
    "            ordered_numbers.append(str(n))\n",
    "        # ordered numbers가 비어 있지 않은 경우, 가장 적절한 위치에 숫자 삽입\n",
    "        else:\n",
    "            # 새로운 숫자로 생길 수 있는 모든 경우의 수 생성\n",
    "            candidates = []\n",
    "            temp_ordered_numbers = ordered_numbers.copy()\n",
    "            for i in range(0, len(ordered_numbers)+1):\n",
    "                temp_ordered_numbers.insert(i, n)\n",
    "                candidates.append((i, int(''.join([str(temp_n) for temp_n in temp_ordered_numbers]))))\n",
    "                temp_ordered_numbers.pop(i)\n",
    "                \n",
    "            # 새로운 숫자 위치의 후보군 정렬 후 가장 큰 수의 위치와 값 추출\n",
    "            quickSort(candidates)\n",
    "            max_i, max_n = candidates[-1]\n",
    "\n",
    "            # 새로운 숫자의 가장 적절한 위치에 추가\n",
    "            ordered_numbers.insert(max_i, str(n))\n",
    "        \n",
    "    answer = ''.join(ordered_numbers)\n",
    "    return answer"
   ]
  },
  {
   "cell_type": "code",
   "execution_count": 24,
   "metadata": {},
   "outputs": [
    {
     "data": {
      "text/plain": [
       "'6210'"
      ]
     },
     "execution_count": 24,
     "metadata": {},
     "output_type": "execute_result"
    }
   ],
   "source": [
    "numbers = [6, 10, 2]\n",
    "solution(numbers)"
   ]
  },
  {
   "cell_type": "code",
   "execution_count": 25,
   "metadata": {},
   "outputs": [
    {
     "data": {
      "text/plain": [
       "'9534330'"
      ]
     },
     "execution_count": 25,
     "metadata": {},
     "output_type": "execute_result"
    }
   ],
   "source": [
    "numbers = [3, 30, 34, 5, 9]\n",
    "solution(numbers)"
   ]
  },
  {
   "cell_type": "markdown",
   "metadata": {},
   "source": [
    "Result -> 36.4점"
   ]
  },
  {
   "cell_type": "markdown",
   "metadata": {},
   "source": [
    "---"
   ]
  },
  {
   "cell_type": "markdown",
   "metadata": {},
   "source": [
    "### Update version 4"
   ]
  },
  {
   "cell_type": "code",
   "execution_count": 59,
   "metadata": {},
   "outputs": [],
   "source": [
    "from functools import cmp_to_key\n",
    "\n",
    "# n1+n2와 n2+n1을 비교하여 전자가 크면 1, 같으면 0, 후자가 크면 -1을 반환하는 함수\n",
    "def cmp(n1, n2):\n",
    "    print((n1, n2), n1+n2, n2+n1, n1 + n2 > n2 + n1)\n",
    "    if n1 + n2 > n2 + n1:\n",
    "        return 1\n",
    "    elif n1 + n2 == n2 + n1:\n",
    "        return 0\n",
    "    else:\n",
    "        return -1\n",
    "    \n",
    "# 문자열 수 리스트를 뒤에서부터 비교하여 적절한 위치에 배치한 후 연결하여 결과 반환하는 함수\n",
    "def solution(numbers):\n",
    "    numbers = [str(n) for n in numbers]\n",
    "    numbers = sorted(numbers, key=cmp_to_key(cmp), reverse=True)\n",
    "    answer = ''.join(numbers)\n",
    "    \n",
    "    if answer[0] == '0':\n",
    "        return '0'\n",
    "    return answer"
   ]
  },
  {
   "cell_type": "code",
   "execution_count": 60,
   "metadata": {},
   "outputs": [
    {
     "name": "stdout",
     "output_type": "stream",
     "text": [
      "('10', '2') 102 210 False\n",
      "('6', '10') 610 106 True\n",
      "('6', '2') 62 26 True\n"
     ]
    },
    {
     "data": {
      "text/plain": [
       "'6210'"
      ]
     },
     "execution_count": 60,
     "metadata": {},
     "output_type": "execute_result"
    }
   ],
   "source": [
    "numbers = [6, 10, 2]\n",
    "solution(numbers)"
   ]
  },
  {
   "cell_type": "code",
   "execution_count": 61,
   "metadata": {},
   "outputs": [
    {
     "name": "stdout",
     "output_type": "stream",
     "text": [
      "('5', '9') 59 95 False\n",
      "('34', '5') 345 534 False\n",
      "('30', '34') 3034 3430 False\n",
      "('3', '30') 330 303 True\n",
      "('3', '5') 35 53 False\n",
      "('3', '34') 334 343 False\n",
      "('3', '30') 330 303 True\n"
     ]
    },
    {
     "data": {
      "text/plain": [
       "'9534330'"
      ]
     },
     "execution_count": 61,
     "metadata": {},
     "output_type": "execute_result"
    }
   ],
   "source": [
    "numbers = [3, 30, 34, 5, 9]\n",
    "solution(numbers)"
   ]
  },
  {
   "cell_type": "markdown",
   "metadata": {},
   "source": [
    "Result -> 100점"
   ]
  },
  {
   "cell_type": "markdown",
   "metadata": {},
   "source": [
    "---"
   ]
  }
 ],
 "metadata": {
  "kernelspec": {
   "display_name": "Python 3",
   "language": "python",
   "name": "python3"
  },
  "language_info": {
   "codemirror_mode": {
    "name": "ipython",
    "version": 3
   },
   "file_extension": ".py",
   "mimetype": "text/x-python",
   "name": "python",
   "nbconvert_exporter": "python",
   "pygments_lexer": "ipython3",
   "version": "3.7.1"
  }
 },
 "nbformat": 4,
 "nbformat_minor": 2
}
