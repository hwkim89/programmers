{
 "cells": [
  {
   "cell_type": "markdown",
   "metadata": {},
   "source": [
    "# 톱니바퀴"
   ]
  },
  {
   "cell_type": "markdown",
   "metadata": {},
   "source": [
    "## 문제 링크"
   ]
  },
  {
   "cell_type": "markdown",
   "metadata": {},
   "source": [
    "* https://www.acmicpc.net/problem/14891"
   ]
  },
  {
   "cell_type": "markdown",
   "metadata": {},
   "source": [
    "## 코드"
   ]
  },
  {
   "cell_type": "code",
   "execution_count": 68,
   "metadata": {},
   "outputs": [],
   "source": [
    "from collections import deque\n",
    "\n",
    "def turn(gears, gnum, d):\n",
    "    RIGHT = 1\n",
    "    if d == RIGHT:\n",
    "        last = gears[gnum][-1]\n",
    "        for i in range(len(gears[gnum])-1, 0, -1):\n",
    "            gears[gnum][i] = gears[gnum][i-1]\n",
    "        gears[gnum][0] = last\n",
    "    else:\n",
    "        first = gears[gnum][0]\n",
    "        for i in range(0, len(gears[gnum])-1):\n",
    "            gears[gnum][i] = gears[gnum][i+1]\n",
    "        gears[gnum][-1] = first\n",
    "\n",
    "def solution(gears, directions):\n",
    "    for gear_num, direction in directions:\n",
    "        queue, turning_list = deque([(gear_num, direction)]), set()\n",
    "        while queue:\n",
    "            gnum, d = queue.popleft()\n",
    "            turning_list.add((gnum, d))\n",
    "            prev_gnum, next_gnum = gnum - 1, gnum + 1\n",
    "            if 1 <= prev_gnum <= 4 \\\n",
    "            and (prev_gnum, d) not in turning_list \\\n",
    "            and (prev_gnum, -d) not in turning_list \\\n",
    "            and gears[prev_gnum][2] != gears[gnum][6]:\n",
    "                queue.append((prev_gnum, -d))\n",
    "            if 1 <= next_gnum <= 4 \\\n",
    "            and (next_gnum, d) not in turning_list \\\n",
    "            and (next_gnum, -d) not in turning_list \\\n",
    "            and gears[gnum][2] != gears[next_gnum][6]:\n",
    "                queue.append((next_gnum, -d))\n",
    "                \n",
    "        for gnum, d in turning_list:\n",
    "            turn(gears, gnum, d)\n",
    "\n",
    "    S, score = '1', 0\n",
    "    for gnum, gear in gears.items():\n",
    "        if gear[0] == S:\n",
    "            score += 2**(gnum-1)\n",
    "    return score"
   ]
  },
  {
   "cell_type": "markdown",
   "metadata": {},
   "source": [
    "### 시간 복잡도"
   ]
  },
  {
   "cell_type": "code",
   "execution_count": null,
   "metadata": {},
   "outputs": [],
   "source": []
  },
  {
   "cell_type": "markdown",
   "metadata": {},
   "source": [
    "### 예제 입력 및 출력"
   ]
  },
  {
   "cell_type": "code",
   "execution_count": 77,
   "metadata": {},
   "outputs": [
    {
     "name": "stdout",
     "output_type": "stream",
     "text": [
      "10101111\n",
      "01111101\n",
      "11001110\n",
      "00000010\n",
      "2\n",
      "3 -1\n",
      "1 1\n"
     ]
    },
    {
     "data": {
      "text/plain": [
       "7"
      ]
     },
     "execution_count": 77,
     "metadata": {},
     "output_type": "execute_result"
    }
   ],
   "source": [
    "gears = {}\n",
    "for gnum in range(1, 5):\n",
    "    gears[gnum] = list(input())\n",
    "\n",
    "N = int(input())\n",
    "directions = []\n",
    "for _ in range(N):\n",
    "    directions.append(list(map(int, input().split())))\n",
    "    \n",
    "print(solution(gears, directions))"
   ]
  },
  {
   "cell_type": "markdown",
   "metadata": {},
   "source": [
    "#### 예제 1"
   ]
  },
  {
   "cell_type": "code",
   "execution_count": 70,
   "metadata": {},
   "outputs": [
    {
     "data": {
      "text/plain": [
       "7"
      ]
     },
     "execution_count": 70,
     "metadata": {},
     "output_type": "execute_result"
    }
   ],
   "source": [
    "gears = {\n",
    "    1: list('10101111'),\n",
    "    2: list('01111101'),\n",
    "    3: list('11001110'),\n",
    "    4: list('00000010')\n",
    "}\n",
    "\n",
    "N = 2\n",
    "directions = [(3, -1), (1, 1)]\n",
    "solution(gears, directions)"
   ]
  },
  {
   "cell_type": "markdown",
   "metadata": {},
   "source": [
    "#### 예제 2"
   ]
  },
  {
   "cell_type": "code",
   "execution_count": 71,
   "metadata": {},
   "outputs": [
    {
     "data": {
      "text/plain": [
       "15"
      ]
     },
     "execution_count": 71,
     "metadata": {},
     "output_type": "execute_result"
    }
   ],
   "source": [
    "gears = {\n",
    "    1: list('11111111'),\n",
    "    2: list('11111111'),\n",
    "    3: list('11111111'),\n",
    "    4: list('11111111')\n",
    "}\n",
    "\n",
    "N = 3\n",
    "directions = [(1, 1), (2, 1), (3, 1)]\n",
    "solution(gears, directions)"
   ]
  },
  {
   "cell_type": "markdown",
   "metadata": {},
   "source": [
    "#### 예제 3"
   ]
  },
  {
   "cell_type": "code",
   "execution_count": 72,
   "metadata": {},
   "outputs": [
    {
     "data": {
      "text/plain": [
       "6"
      ]
     },
     "execution_count": 72,
     "metadata": {},
     "output_type": "execute_result"
    }
   ],
   "source": [
    "gears = {\n",
    "    1: list('10001011'),\n",
    "    2: list('10000011'),\n",
    "    3: list('01011011'),\n",
    "    4: list('00111101')\n",
    "}\n",
    "\n",
    "N = 5\n",
    "directions = [(1, 1), (2, 1), (3, 1), (4, 1), (1, -1)]\n",
    "solution(gears, directions)"
   ]
  },
  {
   "cell_type": "markdown",
   "metadata": {},
   "source": [
    "#### 예제 4"
   ]
  },
  {
   "cell_type": "code",
   "execution_count": 73,
   "metadata": {},
   "outputs": [
    {
     "data": {
      "text/plain": [
       "5"
      ]
     },
     "execution_count": 73,
     "metadata": {},
     "output_type": "execute_result"
    }
   ],
   "source": [
    "gears = {\n",
    "    1: list('10010011'),\n",
    "    2: list('01010011'),\n",
    "    3: list('11100011'),\n",
    "    4: list('01010101')\n",
    "}\n",
    "\n",
    "N = 8\n",
    "directions = [(1, 1), (2, 1), (3, 1), (4, 1),\n",
    "              (1, -1), (2, -1), (3, -1), (4, -1)]\n",
    "solution(gears, directions)"
   ]
  }
 ],
 "metadata": {
  "kernelspec": {
   "display_name": "Python 3",
   "language": "python",
   "name": "python3"
  },
  "language_info": {
   "codemirror_mode": {
    "name": "ipython",
    "version": 3
   },
   "file_extension": ".py",
   "mimetype": "text/x-python",
   "name": "python",
   "nbconvert_exporter": "python",
   "pygments_lexer": "ipython3",
   "version": "3.7.3"
  }
 },
 "nbformat": 4,
 "nbformat_minor": 2
}
