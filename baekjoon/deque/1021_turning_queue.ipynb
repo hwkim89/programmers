{
 "cells": [
  {
   "cell_type": "markdown",
   "metadata": {},
   "source": [
    "## 회전하는 큐"
   ]
  },
  {
   "cell_type": "markdown",
   "metadata": {},
   "source": [
    "### 문제 링크"
   ]
  },
  {
   "cell_type": "markdown",
   "metadata": {},
   "source": [
    "* https://www.acmicpc.net/problem/1021"
   ]
  },
  {
   "cell_type": "markdown",
   "metadata": {},
   "source": [
    "### 최종 코드"
   ]
  },
  {
   "cell_type": "code",
   "execution_count": 40,
   "metadata": {},
   "outputs": [
    {
     "name": "stdout",
     "output_type": "stream",
     "text": [
      "10 3\n",
      "1 2 3\n",
      "0\n"
     ]
    }
   ],
   "source": [
    "from collections import deque\n",
    "\n",
    "def count_oper_num(n, nums):\n",
    "    num_deque= deque(range(1, n+1))\n",
    "    i, oper_num = 0, 0\n",
    "    while i < len(nums):\n",
    "        if num_deque[0] == nums[i]:\n",
    "            num_deque.popleft()\n",
    "            i += 1\n",
    "        else:\n",
    "            r_i, l_i = 0, 0\n",
    "            for j in range(1, len(num_deque)):\n",
    "                r_i += 1\n",
    "                if num_deque[j] == nums[i]: break\n",
    "                    \n",
    "            for j in range(len(num_deque)-1, 0, -1):\n",
    "                l_i += 1\n",
    "                if num_deque[j] == nums[i]: break\n",
    "                    \n",
    "            if r_i <= l_i:\n",
    "                oper_num += r_i\n",
    "                while num_deque[0] != nums[i]:\n",
    "                    num_deque.append(num_deque.popleft())\n",
    "            else:\n",
    "                oper_num += l_i\n",
    "                while num_deque[0] != nums[i]:\n",
    "                    num_deque.appendleft(num_deque.pop())\n",
    "\n",
    "    return oper_num\n",
    "\n",
    "N, M = map(int, input().split())\n",
    "nums = list(map(int, input().split()))\n",
    "print(count_oper_num(N, nums))"
   ]
  },
  {
   "cell_type": "markdown",
   "metadata": {},
   "source": [
    "#### 시간 복잡도"
   ]
  },
  {
   "cell_type": "code",
   "execution_count": null,
   "metadata": {},
   "outputs": [],
   "source": []
  },
  {
   "cell_type": "markdown",
   "metadata": {},
   "source": [
    "### 코드"
   ]
  },
  {
   "cell_type": "code",
   "execution_count": 34,
   "metadata": {},
   "outputs": [],
   "source": [
    "from collections import deque\n",
    "\n",
    "def count_oper_num(n, nums):\n",
    "    num_deque= deque(range(1, n+1))\n",
    "    i, oper_num = 0, 0\n",
    "    while i < len(nums):\n",
    "        if num_deque[0] == nums[i]:\n",
    "            num_deque.popleft()\n",
    "            i += 1\n",
    "        else:\n",
    "            r_i, l_i = 0, 0\n",
    "            for j in range(1, len(num_deque)):\n",
    "                r_i += 1\n",
    "                if num_deque[j] == nums[i]: break\n",
    "                    \n",
    "            for j in range(len(num_deque)-1, 0, -1):\n",
    "                l_i += 1\n",
    "                if num_deque[j] == nums[i]: break\n",
    "                    \n",
    "            if r_i <= l_i:\n",
    "                oper_num += r_i\n",
    "                while num_deque[0] != nums[i]:\n",
    "                    num_deque.append(num_deque.popleft())\n",
    "            else:\n",
    "                oper_num += l_i\n",
    "                while num_deque[0] != nums[i]:\n",
    "                    num_deque.appendleft(num_deque.pop())\n",
    "\n",
    "    return oper_num"
   ]
  },
  {
   "cell_type": "code",
   "execution_count": 39,
   "metadata": {},
   "outputs": [
    {
     "name": "stdout",
     "output_type": "stream",
     "text": [
      "10 3\n",
      "1 2 3\n",
      "0\n"
     ]
    }
   ],
   "source": [
    "N, M = map(int, input().split())\n",
    "nums = list(map(int, input().split()))\n",
    "print(count_oper_num(N, nums))"
   ]
  },
  {
   "cell_type": "markdown",
   "metadata": {},
   "source": [
    "### 예제 입출력"
   ]
  },
  {
   "cell_type": "code",
   "execution_count": 35,
   "metadata": {},
   "outputs": [
    {
     "name": "stdout",
     "output_type": "stream",
     "text": [
      "0\n"
     ]
    }
   ],
   "source": [
    "N, M = 10, 3\n",
    "nums = [1, 2, 3]\n",
    "print(count_oper_num(N, nums))"
   ]
  },
  {
   "cell_type": "code",
   "execution_count": 36,
   "metadata": {},
   "outputs": [
    {
     "name": "stdout",
     "output_type": "stream",
     "text": [
      "8\n"
     ]
    }
   ],
   "source": [
    "N, M = 10, 3\n",
    "nums = [2, 9, 5]\n",
    "print(count_oper_num(N, nums))"
   ]
  },
  {
   "cell_type": "code",
   "execution_count": 37,
   "metadata": {},
   "outputs": [
    {
     "name": "stdout",
     "output_type": "stream",
     "text": [
      "59\n"
     ]
    }
   ],
   "source": [
    "N, M = 32, 6\n",
    "nums = [27, 16, 30, 11, 6, 23]\n",
    "print(count_oper_num(N, nums))"
   ]
  },
  {
   "cell_type": "code",
   "execution_count": 38,
   "metadata": {},
   "outputs": [
    {
     "name": "stdout",
     "output_type": "stream",
     "text": [
      "14\n"
     ]
    }
   ],
   "source": [
    "N, M = 10, 10\n",
    "nums = [1, 6, 3, 2, 7, 9, 8, 4, 10, 5]\n",
    "print(count_oper_num(N, nums))"
   ]
  }
 ],
 "metadata": {
  "kernelspec": {
   "display_name": "Python 3",
   "language": "python",
   "name": "python3"
  },
  "language_info": {
   "codemirror_mode": {
    "name": "ipython",
    "version": 3
   },
   "file_extension": ".py",
   "mimetype": "text/x-python",
   "name": "python",
   "nbconvert_exporter": "python",
   "pygments_lexer": "ipython3",
   "version": "3.7.3"
  }
 },
 "nbformat": 4,
 "nbformat_minor": 2
}
