{
 "cells": [
  {
   "cell_type": "markdown",
   "metadata": {},
   "source": [
    "# 퇴사 2"
   ]
  },
  {
   "cell_type": "markdown",
   "metadata": {},
   "source": [
    "## 문제 링크"
   ]
  },
  {
   "cell_type": "markdown",
   "metadata": {},
   "source": [
    "* https://www.acmicpc.net/problem/15486"
   ]
  },
  {
   "cell_type": "markdown",
   "metadata": {},
   "source": [
    "## 코드"
   ]
  },
  {
   "cell_type": "markdown",
   "metadata": {},
   "source": [
    "#### Version 1"
   ]
  },
  {
   "cell_type": "code",
   "execution_count": 128,
   "metadata": {},
   "outputs": [],
   "source": [
    "from collections import deque\n",
    "\n",
    "def solution(schedule, retirement_day):\n",
    "    def check_schedule(scheduled_days, today, consulting_days, retirement_day):\n",
    "        if today + consulting_days - 1 > retirement_day \\\n",
    "        or set(range(today, today+consulting_days)) & scheduled_days:\n",
    "            return False\n",
    "        return True\n",
    "    \n",
    "    schedule.sort(key=lambda x: x[1])\n",
    "    schedule.sort(key=lambda x: x[2], reverse=True)\n",
    "    \n",
    "    scheduled_days = set()\n",
    "    pays = 0\n",
    "    for today, consulting_days, pay in schedule:\n",
    "        if check_schedule(scheduled_days, today, consulting_days, retirement_day):\n",
    "            scheduled_days.update(range(today, today+consulting_days))\n",
    "            pays += pay\n",
    "    return pays"
   ]
  },
  {
   "cell_type": "code",
   "execution_count": 134,
   "metadata": {},
   "outputs": [
    {
     "name": "stdout",
     "output_type": "stream",
     "text": [
      "7\n",
      "3 10\n",
      "5 20\n",
      "1 10\n",
      "1 20\n",
      "2 15\n",
      "4 40\n",
      "2 200\n",
      "45\n"
     ]
    }
   ],
   "source": [
    "N = int(input())\n",
    "schedule = []\n",
    "for today in range(1, N+1):\n",
    "    consulting_days, pay = map(int, input().split())\n",
    "    schedule.append((today, consulting_days, pay))\n",
    "print(solution(schedule, N))"
   ]
  },
  {
   "cell_type": "markdown",
   "metadata": {},
   "source": [
    "#### Version 2"
   ]
  },
  {
   "cell_type": "code",
   "execution_count": 121,
   "metadata": {},
   "outputs": [],
   "source": [
    "def solution(consulting_days, pays, last_day):\n",
    "    MAX_CONSULTING_DAYS = 50\n",
    "    max_pays = [0] * (last_day+MAX_CONSULTING_DAYS)\n",
    "    for today in range(N):\n",
    "        max_pays[today+consulting_days[today]] = max(max_pays[today+consulting_days[today]],\n",
    "                                                     max_pays[today] + pays[today])\n",
    "        max_pays[today+1] = max(max_pays[today+1], max_pays[today])\n",
    "    return max_pays[N]"
   ]
  },
  {
   "cell_type": "markdown",
   "metadata": {},
   "source": [
    "### 시간 복잡도"
   ]
  },
  {
   "cell_type": "code",
   "execution_count": null,
   "metadata": {},
   "outputs": [],
   "source": []
  },
  {
   "cell_type": "markdown",
   "metadata": {},
   "source": [
    "### 예제 입력 및 출력"
   ]
  },
  {
   "cell_type": "code",
   "execution_count": null,
   "metadata": {},
   "outputs": [],
   "source": [
    "N = int(input())\n",
    "consulting_days, pays = [0] * N, [0] * N\n",
    "for day in range(N):\n",
    "    consulting_days[day], pays[day] = map(int, input().split())\n",
    "print(solution(consulting_days, pays, N))"
   ]
  },
  {
   "cell_type": "markdown",
   "metadata": {},
   "source": [
    "#### 예제 1"
   ]
  },
  {
   "cell_type": "code",
   "execution_count": 123,
   "metadata": {},
   "outputs": [
    {
     "data": {
      "text/plain": [
       "45"
      ]
     },
     "execution_count": 123,
     "metadata": {},
     "output_type": "execute_result"
    }
   ],
   "source": [
    "N = 7\n",
    "schedule = [\n",
    "    (3, 10),\n",
    "    (5, 20),\n",
    "    (1, 10),\n",
    "    (1, 20),\n",
    "    (2, 15),\n",
    "    (4, 40),\n",
    "    (2, 200)\n",
    "]\n",
    "consulting_days = [c_days for c_days, _ in schedule]\n",
    "pays = [pay for _, pay in schedule]\n",
    "solution(consulting_days, pays, N)"
   ]
  },
  {
   "cell_type": "markdown",
   "metadata": {},
   "source": [
    "#### 예제 2"
   ]
  },
  {
   "cell_type": "code",
   "execution_count": 124,
   "metadata": {},
   "outputs": [
    {
     "data": {
      "text/plain": [
       "55"
      ]
     },
     "execution_count": 124,
     "metadata": {},
     "output_type": "execute_result"
    }
   ],
   "source": [
    "N = 10\n",
    "schedule = [\n",
    "    (1, 1),\n",
    "    (1, 2),\n",
    "    (1, 3),\n",
    "    (1, 4),\n",
    "    (1, 5),\n",
    "    (1, 6),\n",
    "    (1, 7),\n",
    "    (1, 8),\n",
    "    (1, 9),\n",
    "    (1, 10)\n",
    "]\n",
    "consulting_days = [c_days for c_days, _ in schedule]\n",
    "pays = [pay for _, pay in schedule]\n",
    "solution(consulting_days, pays, N)"
   ]
  },
  {
   "cell_type": "markdown",
   "metadata": {},
   "source": [
    "#### 예제 3"
   ]
  },
  {
   "cell_type": "code",
   "execution_count": 126,
   "metadata": {
    "scrolled": true
   },
   "outputs": [
    {
     "data": {
      "text/plain": [
       "20"
      ]
     },
     "execution_count": 126,
     "metadata": {},
     "output_type": "execute_result"
    }
   ],
   "source": [
    "N = 10\n",
    "schedule = [\n",
    "    (5, 10),\n",
    "    (5, 9),\n",
    "    (5, 8),\n",
    "    (5, 7),\n",
    "    (5, 6),\n",
    "    (5, 10),\n",
    "    (5, 9),\n",
    "    (5, 8),\n",
    "    (5, 7),\n",
    "    (5, 6)\n",
    "]\n",
    "consulting_days = [c_days for c_days, _ in schedule]\n",
    "pays = [pay for _, pay in schedule]\n",
    "solution(consulting_days, pays, N)"
   ]
  },
  {
   "cell_type": "markdown",
   "metadata": {},
   "source": [
    "#### 예제 4"
   ]
  },
  {
   "cell_type": "code",
   "execution_count": 127,
   "metadata": {
    "scrolled": true
   },
   "outputs": [
    {
     "data": {
      "text/plain": [
       "90"
      ]
     },
     "execution_count": 127,
     "metadata": {},
     "output_type": "execute_result"
    }
   ],
   "source": [
    "N = 10\n",
    "schedule = [\n",
    "    (5, 50),\n",
    "    (4, 40),\n",
    "    (3, 30),\n",
    "    (2, 20),\n",
    "    (1, 10),\n",
    "    (1, 10),\n",
    "    (2, 20),\n",
    "    (3, 30),\n",
    "    (4, 40),\n",
    "    (5, 50)\n",
    "]\n",
    "consulting_days = [c_days for c_days, _ in schedule]\n",
    "pays = [pay for _, pay in schedule]\n",
    "solution(consulting_days, pays, N)"
   ]
  }
 ],
 "metadata": {
  "kernelspec": {
   "display_name": "Python 3",
   "language": "python",
   "name": "python3"
  },
  "language_info": {
   "codemirror_mode": {
    "name": "ipython",
    "version": 3
   },
   "file_extension": ".py",
   "mimetype": "text/x-python",
   "name": "python",
   "nbconvert_exporter": "python",
   "pygments_lexer": "ipython3",
   "version": "3.7.3"
  }
 },
 "nbformat": 4,
 "nbformat_minor": 2
}
