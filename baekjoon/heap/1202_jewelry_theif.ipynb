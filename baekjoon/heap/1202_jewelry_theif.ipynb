{
 "cells": [
  {
   "cell_type": "markdown",
   "metadata": {},
   "source": [
    "# 보석 도둑"
   ]
  },
  {
   "cell_type": "markdown",
   "metadata": {},
   "source": [
    "## 문제 링크"
   ]
  },
  {
   "cell_type": "markdown",
   "metadata": {},
   "source": [
    "* https://www.acmicpc.net/problem/1202"
   ]
  },
  {
   "cell_type": "markdown",
   "metadata": {},
   "source": [
    "## 최종 코드"
   ]
  },
  {
   "cell_type": "code",
   "execution_count": null,
   "metadata": {},
   "outputs": [],
   "source": [
    "from sys import stdin\n",
    "from collections import deque\n",
    "import heapq\n",
    "\n",
    "def get_max_price(jewels, bags):\n",
    "    jewels = deque(sorted(jewels))\n",
    "    bags.sort()\n",
    "    \n",
    "    partial_jewels = []\n",
    "    heapq.heapify(partial_jewels)\n",
    "    price = 0\n",
    "    for bag in bags:\n",
    "        while jewels and jewels[0][0] <= bag:\n",
    "            weight, value = jewels.popleft()\n",
    "            heapq.heappush(partial_jewels, -value)\n",
    "            \n",
    "        if partial_jewels:\n",
    "            max_value = heapq.heappop(partial_jewels)\n",
    "            price += -max_value\n",
    "        elif not jewels:\n",
    "            break\n",
    "    \n",
    "    return price\n",
    "\n",
    "\n",
    "N, K = map(int, stdin.readline().split())\n",
    "\n",
    "jewels = []\n",
    "for _ in range(N):\n",
    "    weight, value = map(int, stdin.readline().split())\n",
    "    jewels.append((weight, value))\n",
    "    \n",
    "bags = []\n",
    "for _ in range(K):\n",
    "    capacity = int(stdin.readline())\n",
    "    bags.append(capacity)\n",
    "    \n",
    "print(get_max_price(jewels, bags))"
   ]
  },
  {
   "cell_type": "markdown",
   "metadata": {},
   "source": [
    "### 시간 복잡도"
   ]
  },
  {
   "cell_type": "code",
   "execution_count": null,
   "metadata": {},
   "outputs": [],
   "source": [
    "from sys import stdin\n",
    "from collections import deque\n",
    "import heapq\n",
    "\n",
    "def get_max_price(jewels, bags):\n",
    "    jewels = deque(sorted(jewels))\n",
    "    bags.sort()\n",
    "    \n",
    "    partial_jewels = []\n",
    "    heapq.heapify(partial_jewels)\n",
    "    price = 0\n",
    "    for bag in bags:\n",
    "        while jewels and jewels[0][0] <= bag:\n",
    "            weight, value = jewels.popleft()\n",
    "            heapq.heappush(partial_jewels, -value)\n",
    "            \n",
    "        if partial_jewels:\n",
    "            max_value = heapq.heappop(partial_jewels)\n",
    "            price += -max_value\n",
    "        elif not jewels:\n",
    "            break\n",
    "    \n",
    "    return price\n",
    "\n",
    "\n",
    "N, K = map(int, stdin.readline().split())\n",
    "\n",
    "jewels = []\n",
    "for _ in range(N):\n",
    "    weight, value = map(int, stdin.readline().split())\n",
    "    jewels.append((weight, value))\n",
    "    \n",
    "bags = []\n",
    "for _ in range(K):\n",
    "    capacity = int(stdin.readline())\n",
    "    bags.append(capacity)\n",
    "    \n",
    "print(get_max_price(jewels, bags))"
   ]
  },
  {
   "cell_type": "markdown",
   "metadata": {},
   "source": [
    "## 테스트 코드"
   ]
  },
  {
   "cell_type": "code",
   "execution_count": 13,
   "metadata": {},
   "outputs": [],
   "source": [
    "from sys import stdin\n",
    "from collections import deque\n",
    "import heapq\n",
    "\n",
    "def get_max_price(jewels, bags):\n",
    "    jewels = deque(sorted(jewels))\n",
    "    bags.sort()\n",
    "    \n",
    "    partial_jewels = []\n",
    "    heapq.heapify(partial_jewels)\n",
    "    price = 0\n",
    "    for bag in bags:\n",
    "        while jewels and jewels[0][0] <= bag:\n",
    "            weight, value = jewels.popleft()\n",
    "            heapq.heappush(partial_jewels, -value)\n",
    "            \n",
    "        if partial_jewels:\n",
    "            max_value = heapq.heappop(partial_jewels)\n",
    "            price += -max_value\n",
    "        elif not jewels:\n",
    "            break\n",
    "    \n",
    "    return price"
   ]
  },
  {
   "cell_type": "code",
   "execution_count": 7,
   "metadata": {},
   "outputs": [
    {
     "name": "stdout",
     "output_type": "stream",
     "text": [
      "3 2\n",
      "1 65\n",
      "5 23\n",
      "2 99\n",
      "10\n",
      "2\n",
      "164\n"
     ]
    }
   ],
   "source": [
    "N, K = map(int, input().split())\n",
    "\n",
    "jewels = []\n",
    "for _ in range(N):\n",
    "    weight, value = map(int, input().split())\n",
    "    jewels.append((weight, value))\n",
    "    \n",
    "bags = []\n",
    "for _ in range(K):\n",
    "    capacity = int(input())\n",
    "    bags.append(capacity)\n",
    "    \n",
    "print(get_max_price(jewels, bags))"
   ]
  },
  {
   "cell_type": "code",
   "execution_count": null,
   "metadata": {},
   "outputs": [],
   "source": [
    "N, K = map(int, stdin.readline().split())\n",
    "\n",
    "jewels = []\n",
    "for _ in range(N):\n",
    "    weight, value = map(int, stdin.readline().split())\n",
    "    jewels.append((weight, value))\n",
    "    \n",
    "bags = []\n",
    "for _ in range(K):\n",
    "    capacity = int(stdin.readline())\n",
    "    bags.append(capacity)\n",
    "    \n",
    "print(get_max_price(jewels, bags))"
   ]
  },
  {
   "cell_type": "markdown",
   "metadata": {},
   "source": [
    "## 예제 입출력"
   ]
  },
  {
   "cell_type": "code",
   "execution_count": 14,
   "metadata": {},
   "outputs": [
    {
     "name": "stdout",
     "output_type": "stream",
     "text": [
      "164\n"
     ]
    }
   ],
   "source": [
    "jewels = [(1, 65), (5, 23), (2, 99)]\n",
    "bags = [10, 2]\n",
    "print(get_max_price(jewels, bags))"
   ]
  },
  {
   "cell_type": "code",
   "execution_count": 6,
   "metadata": {},
   "outputs": [
    {
     "name": "stdout",
     "output_type": "stream",
     "text": [
      "1.0261139869689941\n",
      "2920304569\n",
      "0.8798537254333496\n"
     ]
    }
   ],
   "source": [
    "from random import randint\n",
    "from time import time\n",
    "\n",
    "t = time()\n",
    "jewels = [(randint(0, 1000000), randint(0, 1000000)) for _ in range(300000)]\n",
    "bags = [randint(0, 100000000) for _ in range(300000)]\n",
    "print(time() - t)\n",
    "t = time()\n",
    "print(get_max_price(jewels, bags))\n",
    "print(time() - t)"
   ]
  }
 ],
 "metadata": {
  "kernelspec": {
   "display_name": "Python 3",
   "language": "python",
   "name": "python3"
  },
  "language_info": {
   "codemirror_mode": {
    "name": "ipython",
    "version": 3
   },
   "file_extension": ".py",
   "mimetype": "text/x-python",
   "name": "python",
   "nbconvert_exporter": "python",
   "pygments_lexer": "ipython3",
   "version": "3.7.3"
  }
 },
 "nbformat": 4,
 "nbformat_minor": 2
}
