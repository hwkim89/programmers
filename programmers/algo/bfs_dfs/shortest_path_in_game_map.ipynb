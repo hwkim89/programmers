{
 "cells": [
  {
   "cell_type": "markdown",
   "metadata": {},
   "source": [
    "# 게임 맵 최단거리"
   ]
  },
  {
   "cell_type": "markdown",
   "metadata": {},
   "source": [
    "## 문제 링크"
   ]
  },
  {
   "cell_type": "markdown",
   "metadata": {},
   "source": [
    "* https://programmers.co.kr/learn/courses/30/lessons/1844"
   ]
  },
  {
   "cell_type": "markdown",
   "metadata": {},
   "source": [
    "## 문제 설명"
   ]
  },
  {
   "cell_type": "markdown",
   "metadata": {},
   "source": [
    "ROR 게임은 두 팀으로 나누어서 진행하며, 상대 팀 진영을 먼저 파괴하면 이기는 게임입니다. 따라서, 각 팀은 상대 팀 진영에 최대한 빨리 도착하는 것이 유리합니다.\n",
    "\n",
    "지금부터 당신은 한 팀의 팀원이 되어 게임을 진행하려고 합니다. 다음은 5 x 5 크기의 맵에, 당신의 캐릭터가 (행: 1, 열: 1) 위치에 있고, 상대 팀 진영은 (행: 5, 열: 5) 위치에 있는 경우의 예시입니다.\n",
    "\n",
    "![image](img/shortest_path_in_game_map/shortest_path_in_game_map_01.png)\n",
    "\n",
    "위 그림에서 검은색 부분은 벽으로 막혀있어 갈 수 없는 길이며, 흰색 부분은 갈 수 있는 길입니다. 캐릭터가 움직일 때는 동, 서, 남, 북 방향으로 한 칸씩 이동하며, 게임 맵을 벗어난 길은 갈 수 없습니다.\n",
    "아래 예시는 캐릭터가 상대 팀 진영으로 가는 두 가지 방법을 나타내고 있습니다.\n",
    "\n",
    "* 첫 번째 방법은 11개의 칸을 지나서 상대 팀 진영에 도착했습니다.\n",
    "\n",
    "![image](img/shortest_path_in_game_map/shortest_path_in_game_map_02.png)\n",
    "\n",
    "* 두 번째 방법은 15개의 칸을 지나서 상대팀 진영에 도착했습니다.\n",
    "\n",
    "![image](img/shortest_path_in_game_map/shortest_path_in_game_map_03.png)\n",
    "\n",
    "위 예시에서는 첫 번째 방법보다 더 빠르게 상대팀 진영에 도착하는 방법은 없으므로, 이 방법이 상대 팀 진영으로 가는 가장 빠른 방법입니다.\n",
    "\n",
    "만약, 상대 팀이 자신의 팀 진영 주위에 벽을 세워두었다면 상대 팀 진영에 도착하지 못할 수도 있습니다. 예를 들어, 다음과 같은 경우에 당신의 캐릭터는 상대 팀 진영에 도착할 수 없습니다.\n",
    "\n",
    "![image](img/shortest_path_in_game_map/shortest_path_in_game_map_04.png)\n",
    "\n",
    "게임 맵의 상태 maps가 매개변수로 주어질 때, 캐릭터가 상대 팀 진영에 도착하기 위해서 지나가야 하는 칸의 개수의 최솟값을 return 하도록 solution 함수를 완성해주세요. 단, 상대 팀 진영에 도착할 수 없을 때는 -1을 return 해주세요."
   ]
  },
  {
   "cell_type": "markdown",
   "metadata": {},
   "source": [
    "## 제한사항"
   ]
  },
  {
   "cell_type": "markdown",
   "metadata": {},
   "source": [
    "* maps는 n x m 크기의 게임 맵의 상태가 들어있는 2차원 배열로, n과 m은 각각 1 이상 100 이하의 자연수입니다.\n",
    "    * n과 m은 서로 같을 수도, 다를 수도 있지만, n과 m이 모두 1인 경우는 입력으로 주어지지 않습니다.\n",
    "* maps는 0과 1로만 이루어져 있으며, 0은 벽이 있는 자리, 1은 벽이 없는 자리를 나타냅니다.\n",
    "* 처음에 캐릭터는 게임 맵의 좌측 상단인 (1, 1) 위치에 있으며, 상대방 진영은 게임 맵의 우측 하단인 (n, m) 위치에 있습니다."
   ]
  },
  {
   "cell_type": "markdown",
   "metadata": {},
   "source": [
    "## 입출력 예"
   ]
  },
  {
   "cell_type": "markdown",
   "metadata": {},
   "source": [
    "| maps                                                          | answer |\n",
    "| ------------------------------------------------------------- | ------ |\n",
    "| [[1,0,1,1,1],[1,0,1,0,1],[1,0,1,1,1],[1,1,1,0,1],[0,0,0,0,1]] | 11     |\n",
    "| [[1,0,1,1,1],[1,0,1,0,1],[1,0,1,1,1],[1,1,1,0,0],[0,0,0,0,1]] | -1     |"
   ]
  },
  {
   "cell_type": "markdown",
   "metadata": {},
   "source": [
    "### 입출력 예 설명"
   ]
  },
  {
   "cell_type": "markdown",
   "metadata": {},
   "source": [
    "#### 입출력 예 #1"
   ]
  },
  {
   "cell_type": "markdown",
   "metadata": {},
   "source": [
    "주어진 데이터는 다음과 같습니다.\n",
    "\n",
    "![image](shortest_path_in_game_map_05.png)\n",
    "\n",
    "캐릭터가 적 팀의 진영까지 이동하는 가장 빠른 길은 다음 그림과 같습니다.\n",
    "\n",
    "![image](shortest_path_in_game_map_06.png)\n",
    "\n",
    "따라서 총 11칸을 캐릭터가 지나갔으므로 11을 return 하면 됩니다."
   ]
  },
  {
   "cell_type": "markdown",
   "metadata": {},
   "source": [
    "#### 입출력 예 #2"
   ]
  },
  {
   "cell_type": "markdown",
   "metadata": {},
   "source": [
    "문제의 예시와 같으며, 상대 팀 진영에 도달할 방법이 없습니다. 따라서 -1을 return 합니다."
   ]
  },
  {
   "cell_type": "markdown",
   "metadata": {},
   "source": [
    "## 코드"
   ]
  },
  {
   "cell_type": "markdown",
   "metadata": {},
   "source": [
    "### DFS"
   ]
  },
  {
   "cell_type": "code",
   "execution_count": 4,
   "metadata": {},
   "outputs": [],
   "source": [
    "def dfs(maps, n, m, r, c, visited, short_path_len):\n",
    "    def is_valid(maps, n, m, r, c, visited):\n",
    "        return 0 <= r < n and 0 <= c < m and \\\n",
    "               maps[r][c] > 0 and (r, c) not in visited\n",
    "    \n",
    "    visited.add((r, c))\n",
    "    if maps[r][c] == 2:\n",
    "        short_path_len = min(len(visited), short_path_len)\n",
    "        return short_path_len\n",
    "    \n",
    "    for new_r, new_c in [(r, c-1), (r, c+1), (r-1, c), (r+1, c)]:\n",
    "        if is_valid(maps, n, m, new_r, new_c, visited):\n",
    "            short_path_len = dfs(maps, n, m, new_r, new_c,\n",
    "                                 visited, short_path_len)\n",
    "            visited.remove((new_r, new_c))\n",
    "    return short_path_len\n",
    "\n",
    "def solution(maps):\n",
    "    n, m = len(maps), len(maps[0])\n",
    "    if sum([sum(rows) for rows in maps]) == n * m:\n",
    "        return n + m - 1\n",
    "    \n",
    "    maps[n-1][m-1] = 2\n",
    "    short_path_len = dfs(maps, n, m, r=0, c=0, visited=set(), short_path_len=n*m)\n",
    "    if short_path_len == n * m:\n",
    "        return -1\n",
    "    return short_path_len"
   ]
  },
  {
   "cell_type": "markdown",
   "metadata": {},
   "source": [
    "### BFS"
   ]
  },
  {
   "cell_type": "markdown",
   "metadata": {},
   "source": [
    "* visited를 따로 변수로 둘 필요 없이, 기존 변수를 활용하는 방법을 쓰는 것이 시간초과 해결!!"
   ]
  },
  {
   "cell_type": "code",
   "execution_count": 3,
   "metadata": {},
   "outputs": [],
   "source": [
    "from collections import deque\n",
    "\n",
    "def solution(maps):\n",
    "    N, M = len(maps), len(maps[0])\n",
    "    START, VISITED, GOAL, FAIL = (0, 0, 0), 0, 2, -1\n",
    "    DELTAS = ((-1, 0), (1, 0), (0, -1), (0, 1))\n",
    "    maps[N-1][M-1] = GOAL\n",
    "    \n",
    "    queue = deque([START])\n",
    "    prev_level, count = -1, 0\n",
    "    while len(queue) > 0:\n",
    "        x, y, level = queue.popleft()\n",
    "        if level != prev_level:\n",
    "            count += 1\n",
    "            \n",
    "        for dx, dy in DELTAS:\n",
    "            new_x, new_y = x + dx, y + dy\n",
    "            if 0 <= new_x < N and 0 <= new_y < M and maps[new_x][new_y] != VISITED:\n",
    "                queue.append((new_x, new_y, count))\n",
    "                if maps[new_x][new_y] == GOAL:\n",
    "                    return count + 1\n",
    "                maps[new_x][new_y] = VISITED\n",
    "        prev_level = level\n",
    "    \n",
    "    return FAIL"
   ]
  },
  {
   "cell_type": "markdown",
   "metadata": {},
   "source": [
    "* queue empty 검사 시 그냥 변수명 그대로 사용!!"
   ]
  },
  {
   "cell_type": "code",
   "execution_count": null,
   "metadata": {},
   "outputs": [],
   "source": [
    "from collections import deque\n",
    "\n",
    "def solution(maps):\n",
    "    N, M = len(maps), len(maps[0])\n",
    "    START, VISITED, GOAL, FAIL = (0, 0, 0), 0, 2, -1\n",
    "    DELTAS = ((-1, 0), (1, 0), (0, -1), (0, 1))\n",
    "    maps[N-1][M-1] = GOAL\n",
    "    \n",
    "    queue = deque([START])\n",
    "    prev_level, count = -1, 0\n",
    "    while queue:\n",
    "        x, y, level = queue.popleft()\n",
    "        if level != prev_level:\n",
    "            count += 1\n",
    "            \n",
    "        for dx, dy in DELTAS:\n",
    "            new_x, new_y = x + dx, y + dy\n",
    "            if 0 <= new_x < N and 0 <= new_y < M and maps[new_x][new_y] != VISITED:\n",
    "                queue.append((new_x, new_y, count))\n",
    "                if maps[new_x][new_y] == GOAL:\n",
    "                    return count + 1\n",
    "                maps[new_x][new_y] = VISITED\n",
    "        prev_level = level\n",
    "    \n",
    "    return FAIL"
   ]
  },
  {
   "cell_type": "markdown",
   "metadata": {},
   "source": [
    "### 시간 복잡도"
   ]
  },
  {
   "cell_type": "code",
   "execution_count": null,
   "metadata": {},
   "outputs": [],
   "source": [
    "# N = n, M = m\n",
    "# 전체 시간 복잡도: O(NM)\n",
    "\n",
    "from collections import deque\n",
    "\n",
    "def solution(maps):\n",
    "    N, M = len(maps), len(maps[0])\n",
    "    START, VISITED, GOAL, FAIL = (0, 0, 0), 0, 2, -1\n",
    "    DELTAS = ((-1, 0), (1, 0), (0, -1), (0, 1))\n",
    "    maps[N-1][M-1] = GOAL\n",
    "    \n",
    "    queue = deque([START])\n",
    "    prev_level, count = -1, 0\n",
    "    while queue: # O(NM)\n",
    "        x, y, level = queue.popleft()\n",
    "        if level != prev_level:\n",
    "            count += 1\n",
    "            \n",
    "        for dx, dy in DELTAS: # O(1)\n",
    "            new_x, new_y = x + dx, y + dy\n",
    "            if 0 <= new_x < N and 0 <= new_y < M and maps[new_x][new_y] != VISITED:\n",
    "                queue.append((new_x, new_y, count))\n",
    "                if maps[new_x][new_y] == GOAL:\n",
    "                    return count + 1\n",
    "                maps[new_x][new_y] = VISITED\n",
    "        prev_level = level\n",
    "    \n",
    "    return FAIL"
   ]
  },
  {
   "cell_type": "markdown",
   "metadata": {},
   "source": [
    "### 예제 1"
   ]
  },
  {
   "cell_type": "code",
   "execution_count": 2,
   "metadata": {},
   "outputs": [
    {
     "data": {
      "text/plain": [
       "11"
      ]
     },
     "execution_count": 2,
     "metadata": {},
     "output_type": "execute_result"
    }
   ],
   "source": [
    "maps = [[1,0,1,1,1],[1,0,1,0,1],[1,0,1,1,1],[1,1,1,0,1],[0,0,0,0,1]]\n",
    "solution(maps)"
   ]
  },
  {
   "cell_type": "markdown",
   "metadata": {},
   "source": [
    "### 예제 2"
   ]
  },
  {
   "cell_type": "code",
   "execution_count": 54,
   "metadata": {},
   "outputs": [
    {
     "data": {
      "text/plain": [
       "-1"
      ]
     },
     "execution_count": 54,
     "metadata": {},
     "output_type": "execute_result"
    }
   ],
   "source": [
    "maps = [[1,0,1,1,1],[1,0,1,0,1],[1,0,1,1,1],[1,1,1,0,0],[0,0,0,0,1]]\n",
    "solution(maps)"
   ]
  }
 ],
 "metadata": {
  "kernelspec": {
   "display_name": "Python 3",
   "language": "python",
   "name": "python3"
  },
  "language_info": {
   "codemirror_mode": {
    "name": "ipython",
    "version": 3
   },
   "file_extension": ".py",
   "mimetype": "text/x-python",
   "name": "python",
   "nbconvert_exporter": "python",
   "pygments_lexer": "ipython3",
   "version": "3.7.4"
  }
 },
 "nbformat": 4,
 "nbformat_minor": 2
}
