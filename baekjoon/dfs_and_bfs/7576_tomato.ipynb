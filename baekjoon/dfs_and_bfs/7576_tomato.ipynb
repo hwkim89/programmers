{
 "cells": [
  {
   "cell_type": "markdown",
   "metadata": {},
   "source": [
    "# 토마토"
   ]
  },
  {
   "cell_type": "markdown",
   "metadata": {},
   "source": [
    "## 문제 링크"
   ]
  },
  {
   "cell_type": "markdown",
   "metadata": {},
   "source": [
    "* https://www.acmicpc.net/problem/7576"
   ]
  },
  {
   "cell_type": "markdown",
   "metadata": {},
   "source": [
    "## 최종 코드"
   ]
  },
  {
   "cell_type": "code",
   "execution_count": 34,
   "metadata": {},
   "outputs": [
    {
     "name": "stdout",
     "output_type": "stream",
     "text": [
      "6 4\n",
      "0 0 0 0 0 0\n",
      "0 0 0 0 0 0\n",
      "0 0 0 0 0 0\n",
      "0 0 0 0 0 1\n",
      "8\n"
     ]
    }
   ],
   "source": [
    "from collections import deque\n",
    "\n",
    "def get_ripened_day(box, M, N):\n",
    "    def get_box_info(box):\n",
    "        t_count = 0\n",
    "        queue = deque()\n",
    "        for x, rows in enumerate(box):\n",
    "            for y, t in enumerate(rows):\n",
    "                if t == 1:\n",
    "                    queue.append((x, y, 0))\n",
    "                elif t == 0:\n",
    "                    t_count += 1\n",
    "                    \n",
    "        return queue, t_count\n",
    "                    \n",
    "    queue, t_count = get_box_info(box)\n",
    "    if t_count == 0:\n",
    "        return 0\n",
    "    \n",
    "    day = 0\n",
    "    DIRS = [(-1, 0), (1, 0), (0, -1), (0, 1)]\n",
    "    while queue:\n",
    "        x, y, day = queue.popleft()\n",
    "        for dx, dy in DIRS:\n",
    "            next_x, next_y = x + dx, y + dy\n",
    "            if 0 <= next_x < N and 0 <= next_y < M \\\n",
    "            and box[next_x][next_y] == 0:\n",
    "                box[next_x][next_y] = 1\n",
    "                queue.append((next_x, next_y, day+1))\n",
    "                t_count -= 1\n",
    "                \n",
    "    if t_count > 0:\n",
    "        return -1\n",
    "    return day\n",
    "\n",
    "M, N = map(int, input().split())\n",
    "box = [list(map(int, input().split())) for _ in range(N)]\n",
    "print(get_ripened_day(box, M, N))"
   ]
  },
  {
   "cell_type": "markdown",
   "metadata": {},
   "source": [
    "### 시간 복잡도"
   ]
  },
  {
   "cell_type": "code",
   "execution_count": null,
   "metadata": {},
   "outputs": [],
   "source": []
  },
  {
   "cell_type": "markdown",
   "metadata": {},
   "source": [
    "## 테스트 코드"
   ]
  },
  {
   "cell_type": "code",
   "execution_count": 27,
   "metadata": {},
   "outputs": [],
   "source": [
    "from collections import deque\n",
    "\n",
    "def get_ripened_day(box, M, N):\n",
    "    def get_box_info(box):\n",
    "        t_count = 0\n",
    "        queue = deque()\n",
    "        for x, rows in enumerate(box):\n",
    "            for y, t in enumerate(rows):\n",
    "                if t == 1:\n",
    "                    queue.append((x, y, 0))\n",
    "                elif t == 0:\n",
    "                    t_count += 1\n",
    "                    \n",
    "        return queue, t_count\n",
    "                    \n",
    "    queue, t_count = get_box_info(box)\n",
    "    if t_count == 0:\n",
    "        return 0\n",
    "    \n",
    "    day = 0\n",
    "    DIRS = [(-1, 0), (1, 0), (0, -1), (0, 1)]\n",
    "    while queue:\n",
    "        x, y, day = queue.popleft()\n",
    "        for dx, dy in DIRS:\n",
    "            next_x, next_y = x + dx, y + dy\n",
    "            if 0 <= next_x < N and 0 <= next_y < M \\\n",
    "            and box[next_x][next_y] == 0:\n",
    "                box[next_x][next_y] = 1\n",
    "                queue.append((next_x, next_y, day+1))\n",
    "                t_count -= 1\n",
    "                \n",
    "    if t_count > 0:\n",
    "        return -1\n",
    "    return day"
   ]
  },
  {
   "cell_type": "code",
   "execution_count": 33,
   "metadata": {},
   "outputs": [
    {
     "name": "stdout",
     "output_type": "stream",
     "text": [
      "6 4\n",
      "0 0 0 0 0 0\n",
      "0 0 0 0 0 0\n",
      "0 0 0 0 0 0\n",
      "0 0 0 0 0 1\n",
      "8\n"
     ]
    }
   ],
   "source": [
    "M, N = map(int, input().split())\n",
    "box = [list(map(int, input().split())) for _ in range(N)]\n",
    "print(get_ripened_day(box, M, N))"
   ]
  },
  {
   "cell_type": "markdown",
   "metadata": {},
   "source": [
    "### 예제 입출력"
   ]
  },
  {
   "cell_type": "code",
   "execution_count": 32,
   "metadata": {},
   "outputs": [
    {
     "name": "stdout",
     "output_type": "stream",
     "text": [
      "8\n"
     ]
    }
   ],
   "source": [
    "M, N = 6, 4\n",
    "box = [\n",
    "    [0, 0, 0, 0, 0, 0],\n",
    "    [0, 0, 0, 0, 0, 0],\n",
    "    [0, 0, 0, 0, 0, 0],\n",
    "    [0, 0, 0, 0, 0, 1]\n",
    "]\n",
    "print(get_ripened_day(box, M, N))"
   ]
  },
  {
   "cell_type": "code",
   "execution_count": 31,
   "metadata": {},
   "outputs": [
    {
     "name": "stdout",
     "output_type": "stream",
     "text": [
      "-1\n"
     ]
    }
   ],
   "source": [
    "M, N = 6, 4\n",
    "box = [\n",
    "    [0, -1, 0, 0, 0, 0],\n",
    "    [-1, 0, 0, 0, 0, 0],\n",
    "    [0, 0, 0, 0, 0, 0],\n",
    "    [0, 0, 0, 0, 0, 1]\n",
    "]\n",
    "print(get_ripened_day(box, M, N))"
   ]
  },
  {
   "cell_type": "code",
   "execution_count": 30,
   "metadata": {},
   "outputs": [
    {
     "name": "stdout",
     "output_type": "stream",
     "text": [
      "6\n"
     ]
    }
   ],
   "source": [
    "M, N = 6, 4\n",
    "box = [\n",
    "    [1, -1, 0, 0, 0, 0],\n",
    "    [0, -1, 0, 0, 0, 0],\n",
    "    [0, 0, 0, 0, -1, 0],\n",
    "    [0, 0, 0, 0, -1, 1]\n",
    "]\n",
    "print(get_ripened_day(box, M, N))"
   ]
  },
  {
   "cell_type": "code",
   "execution_count": 28,
   "metadata": {},
   "outputs": [
    {
     "name": "stdout",
     "output_type": "stream",
     "text": [
      "14\n"
     ]
    }
   ],
   "source": [
    "M, N = 5, 5\n",
    "box = [\n",
    "    [-1, 1, 0, 0, 0],\n",
    "    [0, -1, -1, -1, 0],\n",
    "    [0, -1, -1, -1, 0],\n",
    "    [0, -1, -1, -1, 0],\n",
    "    [0, 0, 0, 0, 0]\n",
    "]\n",
    "print(get_ripened_day(box, M, N))"
   ]
  },
  {
   "cell_type": "code",
   "execution_count": 29,
   "metadata": {},
   "outputs": [
    {
     "name": "stdout",
     "output_type": "stream",
     "text": [
      "0\n"
     ]
    }
   ],
   "source": [
    "M, N = 2, 2\n",
    "box = [\n",
    "    [1, -1],\n",
    "    [-1, 1]\n",
    "]\n",
    "print(get_ripened_day(box, M, N))"
   ]
  }
 ],
 "metadata": {
  "kernelspec": {
   "display_name": "Python 3",
   "language": "python",
   "name": "python3"
  },
  "language_info": {
   "codemirror_mode": {
    "name": "ipython",
    "version": 3
   },
   "file_extension": ".py",
   "mimetype": "text/x-python",
   "name": "python",
   "nbconvert_exporter": "python",
   "pygments_lexer": "ipython3",
   "version": "3.7.3"
  }
 },
 "nbformat": 4,
 "nbformat_minor": 2
}
