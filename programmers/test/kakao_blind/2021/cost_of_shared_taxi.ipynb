{
 "cells": [
  {
   "cell_type": "markdown",
   "metadata": {},
   "source": [
    "# 합승 택시 요금"
   ]
  },
  {
   "cell_type": "markdown",
   "metadata": {},
   "source": [
    "## 문제 링크\n",
    "* https://programmers.co.kr/learn/courses/30/lessons/72413"
   ]
  },
  {
   "cell_type": "markdown",
   "metadata": {},
   "source": [
    "## 코드"
   ]
  },
  {
   "source": [
    "### 방법 1"
   ],
   "cell_type": "markdown",
   "metadata": {}
  },
  {
   "cell_type": "code",
   "execution_count": 7,
   "metadata": {},
   "outputs": [],
   "source": [
    "import math\n",
    "import heapq\n",
    "\n",
    "def dijkstra(n, start, costs):\n",
    "    queue = []\n",
    "    min_costs = [math.inf for _ in range(n)]\n",
    "    min_costs[start] = 0\n",
    "    heapq.heappush(queue, [min_costs[start], start])\n",
    "    while queue:\n",
    "        mid_cost, mid = heapq.heappop(queue)\n",
    "        for end, end_cost in costs[mid]:\n",
    "            if min_costs[end] > mid_cost + end_cost:\n",
    "                min_costs[end] = mid_cost + end_cost\n",
    "                heapq.heappush(queue, [min_costs[end], end])\n",
    "    return min_costs\n",
    "\n",
    "def solution(n, start, muzi, apeach, fares):\n",
    "    costs = [[] for _ in range(n)]\n",
    "    for s, e, c in fares:\n",
    "        costs[s-1].append([e-1, c])\n",
    "        costs[e-1].append([s-1, c])\n",
    "\n",
    "    start, muzi, apeach = start-1, muzi-1, apeach-1\n",
    "    min_costs = {}\n",
    "    for node in range(n):\n",
    "        min_costs[node] = dijkstra(n, start=node, costs=costs)\n",
    "\n",
    "    min_cost = math.inf\n",
    "    for node in range(n):\n",
    "        cost = min_costs[node][muzi] + min_costs[node][apeach]\n",
    "        if node != start:\n",
    "            cost += min_costs[start][node]\n",
    "        min_cost = min(cost, min_cost)\n",
    "    return min_cost"
   ]
  },
  {
   "source": [
    "### 방법 2"
   ],
   "cell_type": "markdown",
   "metadata": {}
  },
  {
   "cell_type": "code",
   "execution_count": null,
   "metadata": {},
   "outputs": [],
   "source": [
    "import numpy as np\n",
    "import heapq\n",
    "\n",
    "def solution(n, s, a, b, fares):\n",
    "    \n",
    "    def dijkstra(n, s, distance):\n",
    "        queue = []\n",
    "        s_distance = [np.inf for _ in range(n+1)]\n",
    "        s_distance[s] = 0\n",
    "        heapq.heappush(queue, [0, s])\n",
    "\n",
    "        while queue:\n",
    "            mid = heapq.heappop(queue)\n",
    "            for end in distance[mid[1]]:\n",
    "                if s_distance[end[0]] > mid[0] + end[1]:\n",
    "                    s_distance[end[0]] = mid[0] + end[1]\n",
    "                    heapq.heappush(queue, [s_distance[end[0]], end[0]])\n",
    "        return s_distance\n",
    "    \n",
    "    s, a, b = s-1, a-1, b-1\n",
    "    \n",
    "    distance = [[] for _ in range(n)]\n",
    "    for start, end, cost in fares:\n",
    "        distance[start-1].append([end-1, cost])\n",
    "        distance[end-1].append([start-1, cost])\n",
    "\n",
    "    graph = np.full((n, n), np.inf)\n",
    "    for i in range(n):\n",
    "        min_costs = dijkstra(n, i, distance)[:-1]\n",
    "        for j, cost in enumerate(min_costs):\n",
    "            graph[i][j] = min(graph[i][j], cost)\n",
    "            graph[j][i] = min(graph[j][i], cost)\n",
    "            \n",
    "    costs = [graph[s][a] + graph[s][b], graph[s][a] + graph[a][b], graph[s][b] + graph[b][a]]\n",
    "    for x in range(n):\n",
    "        if x != s and x != a and x != b:\n",
    "            costs.append(graph[s][x] + graph[x][a] + graph[x][b])\n",
    "\n",
    "    return int(min(costs))"
   ]
  },
  {
   "source": [
    "### 입출력 예"
   ],
   "cell_type": "markdown",
   "metadata": {}
  },
  {
   "cell_type": "code",
   "execution_count": 8,
   "metadata": {},
   "outputs": [
    {
     "output_type": "execute_result",
     "data": {
      "text/plain": [
       "82"
      ]
     },
     "metadata": {},
     "execution_count": 8
    }
   ],
   "source": [
    "n, a, s, b = 6, 4, 6, 2\n",
    "fares = [[4, 1, 10], [3, 5, 24], [5, 6, 2], [3, 1, 41], [5, 1, 24], [4, 6, 50], [2, 4, 66], [2, 3, 22], [1, 6, 25]]\n",
    "solution(n, a, s, b, fares)"
   ]
  },
  {
   "cell_type": "code",
   "execution_count": 9,
   "metadata": {},
   "outputs": [
    {
     "output_type": "execute_result",
     "data": {
      "text/plain": [
       "14"
      ]
     },
     "metadata": {},
     "execution_count": 9
    }
   ],
   "source": [
    "n, a, s, b = 7, 3, 4, 1\n",
    "fares = [[5, 7, 9], [4, 6, 4], [3, 6, 1], [3, 2, 3], [2, 1, 6]]\n",
    "solution(n, a, s, b, fares)"
   ]
  },
  {
   "cell_type": "code",
   "execution_count": 10,
   "metadata": {},
   "outputs": [
    {
     "output_type": "execute_result",
     "data": {
      "text/plain": [
       "18"
      ]
     },
     "metadata": {},
     "execution_count": 10
    }
   ],
   "source": [
    "n, a, s, b = 6, 4, 5, 6\n",
    "fares = [[2,6,6], [6,3,7], [4,6,7], [6,5,11], [2,5,12], [5,3,20], [2,4,8], [4,3,9]]\n",
    "solution(n, a, s, b, fares)"
   ]
  }
 ],
 "metadata": {
  "kernelspec": {
   "name": "python385jvsc74a57bd0881438aaf537e66dfdaad625390fa0d3b3d0ff5ed91f143384dfadbe6c34b6b5",
   "display_name": "Python 3.8.5 64-bit ('base': conda)"
  },
  "language_info": {
   "codemirror_mode": {
    "name": "ipython",
    "version": 3
   },
   "file_extension": ".py",
   "mimetype": "text/x-python",
   "name": "python",
   "nbconvert_exporter": "python",
   "pygments_lexer": "ipython3",
   "version": "3.8.5"
  },
  "metadata": {
   "interpreter": {
    "hash": "881438aaf537e66dfdaad625390fa0d3b3d0ff5ed91f143384dfadbe6c34b6b5"
   }
  }
 },
 "nbformat": 4,
 "nbformat_minor": 2
}