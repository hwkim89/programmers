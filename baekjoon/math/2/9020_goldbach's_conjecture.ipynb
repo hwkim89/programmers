{
 "cells": [
  {
   "cell_type": "markdown",
   "metadata": {},
   "source": [
    "# 골드바흐의 추측"
   ]
  },
  {
   "cell_type": "markdown",
   "metadata": {},
   "source": [
    "## 문제 링크"
   ]
  },
  {
   "cell_type": "markdown",
   "metadata": {},
   "source": [
    "* https://www.acmicpc.net/problem/9020"
   ]
  },
  {
   "cell_type": "markdown",
   "metadata": {},
   "source": [
    "## 최종 코드"
   ]
  },
  {
   "cell_type": "code",
   "execution_count": 1,
   "metadata": {},
   "outputs": [
    {
     "name": "stdout",
     "output_type": "stream",
     "text": [
      "3\n",
      "8\n",
      "3 5\n",
      "10\n",
      "5 5\n",
      "16\n",
      "5 11\n"
     ]
    }
   ],
   "source": [
    "from itertools import combinations\n",
    "\n",
    "def get_prime_nums():\n",
    "    MAX_NUM = 10000\n",
    "    p_nums, not_p_nums = set(), set()\n",
    "    for num in range(2, MAX_NUM+1):\n",
    "        if num not in not_p_nums:\n",
    "            p_nums.add(num)\n",
    "            not_p_nums |= set(range(num*2, MAX_NUM+1, num))\n",
    "    return p_nums\n",
    "\n",
    "def get_goldbach_partitions():\n",
    "    MAX_NUM = 10000\n",
    "    prime_nums = get_prime_nums()\n",
    "    candidates = list(combinations(prime_nums, 2))\n",
    "    candidates.extend([(n, n) for n in prime_nums])\n",
    "    goldbach_partitions = {}\n",
    "    for n1, n2 in candidates:\n",
    "        if n1 + n2 <= MAX_NUM and (n1 + n2) % 2 == 0:\n",
    "            if goldbach_partitions.get(n1+n2):\n",
    "                prev_n1, prev_n2 = map(int, goldbach_partitions.get(n1+n2).split())\n",
    "                if abs(n1 - n2) < abs(prev_n1 - prev_n2):\n",
    "                    n1, n2 = sorted([n1, n2])\n",
    "                    goldbach_partitions[n1+n2] = str(n1) + ' ' + str(n2)\n",
    "            else:\n",
    "                n1, n2 = sorted([n1, n2])\n",
    "                goldbach_partitions[n1+n2] = str(n1) + ' ' + str(n2)\n",
    "        \n",
    "    return goldbach_partitions\n",
    "\n",
    "T = int(input())\n",
    "goldbach_partitions = get_goldbach_partitions()\n",
    "for _ in range(T):\n",
    "    n = int(input())\n",
    "    print(goldbach_partitions[n])"
   ]
  },
  {
   "cell_type": "markdown",
   "metadata": {},
   "source": [
    "### 시간 복잡도"
   ]
  },
  {
   "cell_type": "code",
   "execution_count": null,
   "metadata": {},
   "outputs": [],
   "source": []
  },
  {
   "cell_type": "markdown",
   "metadata": {},
   "source": [
    "## 테스트 코드"
   ]
  },
  {
   "cell_type": "markdown",
   "metadata": {},
   "source": [
    "### 시간 초과"
   ]
  },
  {
   "cell_type": "code",
   "execution_count": 37,
   "metadata": {},
   "outputs": [],
   "source": [
    "from itertools import combinations\n",
    "\n",
    "def get_prime_nums(max_num):\n",
    "    MAX_NUM = max_num\n",
    "    p_nums, not_p_nums = set(), set()\n",
    "    for num in range(2, MAX_NUM+1):\n",
    "        if num not in not_p_nums:\n",
    "            p_nums.add(num)\n",
    "            not_p_nums |= set(range(num*2, MAX_NUM+1, num))\n",
    "    return p_nums\n",
    "\n",
    "def get_goldbach_partition(n):\n",
    "    prime_nums = get_prime_nums(n)\n",
    "    candidates = list(combinations(prime_nums, 2))\n",
    "    candidates.extend([(n, n) for n in prime_nums])\n",
    "    \n",
    "    min_ns = (0, 0, 10000)\n",
    "    for n1, n2 in candidates:\n",
    "        if n1 + n2 == n and abs(n1 - n2) < min_ns[2]:\n",
    "            min_ns = (n1, n2, abs(n1 - n2))\n",
    "            \n",
    "    n1, n2 = map(str, sorted(min_ns[:2]))\n",
    "    return n1 + ' ' + n2"
   ]
  },
  {
   "cell_type": "code",
   "execution_count": null,
   "metadata": {},
   "outputs": [],
   "source": [
    "T = int(input())\n",
    "for _ in range(T):\n",
    "    n = int(input())\n",
    "    print(get_goldbach_partition(n))"
   ]
  },
  {
   "cell_type": "markdown",
   "metadata": {},
   "source": [
    "### 성공"
   ]
  },
  {
   "cell_type": "code",
   "execution_count": 73,
   "metadata": {},
   "outputs": [],
   "source": [
    "from itertools import combinations\n",
    "\n",
    "def get_prime_nums():\n",
    "    MAX_NUM = 10000\n",
    "    p_nums, not_p_nums = set(), set()\n",
    "    for num in range(2, MAX_NUM+1):\n",
    "        if num not in not_p_nums:\n",
    "            p_nums.add(num)\n",
    "            not_p_nums |= set(range(num*2, MAX_NUM+1, num))\n",
    "    return p_nums\n",
    "\n",
    "def get_goldbach_partitions():\n",
    "    MAX_NUM = 10000\n",
    "    prime_nums = get_prime_nums()\n",
    "    candidates = list(combinations(prime_nums, 2))\n",
    "    candidates.extend([(n, n) for n in prime_nums])\n",
    "    goldbach_partitions = {}\n",
    "    for n1, n2 in candidates:\n",
    "        if n1 + n2 <= MAX_NUM and (n1 + n2) % 2 == 0:\n",
    "            if goldbach_partitions.get(n1+n2):\n",
    "                prev_n1, prev_n2 = map(int, goldbach_partitions.get(n1+n2).split())\n",
    "                if abs(n1 - n2) < abs(prev_n1 - prev_n2):\n",
    "                    n1, n2 = sorted([n1, n2])\n",
    "                    goldbach_partitions[n1+n2] = str(n1) + ' ' + str(n2)\n",
    "            else:\n",
    "                n1, n2 = sorted([n1, n2])\n",
    "                goldbach_partitions[n1+n2] = str(n1) + ' ' + str(n2)\n",
    "        \n",
    "    return goldbach_partitions"
   ]
  },
  {
   "cell_type": "code",
   "execution_count": 72,
   "metadata": {},
   "outputs": [
    {
     "name": "stdout",
     "output_type": "stream",
     "text": [
      "3\n",
      "8\n",
      "3 5\n",
      "10\n",
      "5 5\n",
      "16\n",
      "5 11\n"
     ]
    }
   ],
   "source": [
    "T = int(input())\n",
    "goldbach_partitions = get_goldbach_partitions()\n",
    "for _ in range(T):\n",
    "    n = int(input())\n",
    "    print(goldbach_partitions[n])"
   ]
  },
  {
   "cell_type": "markdown",
   "metadata": {},
   "source": [
    "### 예제 입출력"
   ]
  },
  {
   "cell_type": "code",
   "execution_count": 75,
   "metadata": {},
   "outputs": [
    {
     "name": "stdout",
     "output_type": "stream",
     "text": [
      "3 5\n"
     ]
    }
   ],
   "source": [
    "goldbach_partitions = get_goldbach_partitions()\n",
    "n = 8\n",
    "print(goldbach_partitions[n])"
   ]
  },
  {
   "cell_type": "code",
   "execution_count": 76,
   "metadata": {},
   "outputs": [
    {
     "name": "stdout",
     "output_type": "stream",
     "text": [
      "5 5\n"
     ]
    }
   ],
   "source": [
    "goldbach_partitions = get_goldbach_partitions()\n",
    "n = 10\n",
    "print(goldbach_partitions[n])"
   ]
  },
  {
   "cell_type": "code",
   "execution_count": 77,
   "metadata": {},
   "outputs": [
    {
     "name": "stdout",
     "output_type": "stream",
     "text": [
      "5 11\n"
     ]
    }
   ],
   "source": [
    "goldbach_partitions = get_goldbach_partitions()\n",
    "n = 16\n",
    "print(goldbach_partitions[n])"
   ]
  },
  {
   "cell_type": "code",
   "execution_count": 78,
   "metadata": {},
   "outputs": [
    {
     "name": "stdout",
     "output_type": "stream",
     "text": [
      "4919 5081\n"
     ]
    }
   ],
   "source": [
    "goldbach_partitions = get_goldbach_partitions()\n",
    "n = 10000\n",
    "print(goldbach_partitions[n])"
   ]
  },
  {
   "cell_type": "code",
   "execution_count": 79,
   "metadata": {},
   "outputs": [
    {
     "name": "stdout",
     "output_type": "stream",
     "text": [
      "2 2\n"
     ]
    }
   ],
   "source": [
    "goldbach_partitions = get_goldbach_partitions()\n",
    "n = 4\n",
    "print(goldbach_partitions[n])"
   ]
  }
 ],
 "metadata": {
  "kernelspec": {
   "display_name": "Python 3",
   "language": "python",
   "name": "python3"
  },
  "language_info": {
   "codemirror_mode": {
    "name": "ipython",
    "version": 3
   },
   "file_extension": ".py",
   "mimetype": "text/x-python",
   "name": "python",
   "nbconvert_exporter": "python",
   "pygments_lexer": "ipython3",
   "version": "3.7.3"
  }
 },
 "nbformat": 4,
 "nbformat_minor": 2
}
