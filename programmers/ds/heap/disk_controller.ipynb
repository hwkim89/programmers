{
 "cells": [
  {
   "cell_type": "markdown",
   "metadata": {},
   "source": [
    "# 디스크 컨트롤러"
   ]
  },
  {
   "cell_type": "markdown",
   "metadata": {},
   "source": [
    "## 문제 링크\n",
    "* https://programmers.co.kr/learn/courses/30/lessons/42627"
   ]
  },
  {
   "cell_type": "markdown",
   "metadata": {},
   "source": [
    "## 코드"
   ]
  },
  {
   "cell_type": "code",
   "execution_count": 196,
   "metadata": {},
   "outputs": [],
   "source": [
    "from collections import defaultdict\n",
    "import heapq\n",
    "\n",
    "def solution(jobs):\n",
    "    # convert job list as dict\n",
    "    jobs_dict = defaultdict(list)\n",
    "    max_start_time = 0\n",
    "    for t, job_len in jobs:\n",
    "        jobs_dict[t].append(job_len)\n",
    "        max_start_time = max(t, max_start_time)\n",
    "\n",
    "    # Control jobs\n",
    "    disk_controller = []\n",
    "    cur_time, work_time, total_time = 0, 0, 0\n",
    "    while cur_time <= max_start_time or cur_time == 0 or disk_controller or work_time != 0:\n",
    "        cur_jobs = jobs_dict[cur_time]\n",
    "        if cur_jobs:\n",
    "            for job_len in cur_jobs:\n",
    "                heapq.heappush(disk_controller, (job_len, cur_time))\n",
    "\n",
    "        if work_time <= 0 and disk_controller:\n",
    "            work_time, start_time = heapq.heappop(disk_controller)\n",
    "            total_time += (cur_time - start_time) + work_time\n",
    "\n",
    "        work_time -= 1\n",
    "        cur_time += 1\n",
    "        \n",
    "    return total_time // len(jobs)"
   ]
  },
  {
   "source": [
    "### 입출력 예"
   ],
   "cell_type": "markdown",
   "metadata": {}
  },
  {
   "cell_type": "code",
   "execution_count": 199,
   "metadata": {},
   "outputs": [
    {
     "output_type": "execute_result",
     "data": {
      "text/plain": [
       "9"
      ]
     },
     "metadata": {},
     "execution_count": 199
    }
   ],
   "source": [
    "jobs = [[0, 3], [1, 9], [2, 6]]\n",
    "solution(jobs)"
   ]
  },
  {
   "cell_type": "code",
   "execution_count": 200,
   "metadata": {},
   "outputs": [
    {
     "output_type": "execute_result",
     "data": {
      "text/plain": [
       "4"
      ]
     },
     "metadata": {},
     "execution_count": 200
    }
   ],
   "source": [
    "jobs = [[0, 3], [2, 4], [4, 2]]\n",
    "solution(jobs)"
   ]
  },
  {
   "cell_type": "code",
   "execution_count": 201,
   "metadata": {},
   "outputs": [
    {
     "output_type": "execute_result",
     "data": {
      "text/plain": [
       "11"
      ]
     },
     "metadata": {},
     "execution_count": 201
    }
   ],
   "source": [
    "jobs = [[0, 7], [1, 4], [2, 8]]\n",
    "solution(jobs)"
   ]
  },
  {
   "cell_type": "code",
   "execution_count": 202,
   "metadata": {},
   "outputs": [
    {
     "output_type": "execute_result",
     "data": {
      "text/plain": [
       "18"
      ]
     },
     "metadata": {},
     "execution_count": 202
    }
   ],
   "source": [
    "jobs = [[0, 3], [1, 9], [2, 6], [0, 7], [1, 4], [2, 8], [0, 3], [2, 4], [4, 2]]\n",
    "solution(jobs)"
   ]
  },
  {
   "cell_type": "code",
   "execution_count": 203,
   "metadata": {},
   "outputs": [
    {
     "output_type": "execute_result",
     "data": {
      "text/plain": [
       "3"
      ]
     },
     "metadata": {},
     "execution_count": 203
    }
   ],
   "source": [
    "jobs = [[1, 3]]\n",
    "solution(jobs)"
   ]
  },
  {
   "source": [
    "\"하드디스크가 작업을 수행하고 있지 않을 때에는 먼저 요청이 들어온 작업부터 처리합니다.\"와 관련된 반례\n",
    "- https://batory.tistory.com/263"
   ],
   "cell_type": "markdown",
   "metadata": {}
  },
  {
   "cell_type": "code",
   "execution_count": 206,
   "metadata": {},
   "outputs": [
    {
     "output_type": "execute_result",
     "data": {
      "text/plain": [
       "6"
      ]
     },
     "metadata": {},
     "execution_count": 206
    }
   ],
   "source": [
    "\n",
    "jobs = [[1, 9], [12, 3]] \n",
    "solution(jobs)"
   ]
  }
 ],
 "metadata": {
  "kernelspec": {
   "name": "python385jvsc74a57bd0881438aaf537e66dfdaad625390fa0d3b3d0ff5ed91f143384dfadbe6c34b6b5",
   "display_name": "Python 3.8.5 64-bit ('base': conda)"
  },
  "language_info": {
   "codemirror_mode": {
    "name": "ipython",
    "version": 3
   },
   "file_extension": ".py",
   "mimetype": "text/x-python",
   "name": "python",
   "nbconvert_exporter": "python",
   "pygments_lexer": "ipython3",
   "version": "3.8.5"
  },
  "metadata": {
   "interpreter": {
    "hash": "881438aaf537e66dfdaad625390fa0d3b3d0ff5ed91f143384dfadbe6c34b6b5"
   }
  }
 },
 "nbformat": 4,
 "nbformat_minor": 2
}