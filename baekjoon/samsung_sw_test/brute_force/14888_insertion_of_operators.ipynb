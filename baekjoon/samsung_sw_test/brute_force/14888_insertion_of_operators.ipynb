{
 "cells": [
  {
   "cell_type": "markdown",
   "metadata": {},
   "source": [
    "# 연산자 끼워넣기"
   ]
  },
  {
   "cell_type": "markdown",
   "metadata": {},
   "source": [
    "## 문제 링크"
   ]
  },
  {
   "cell_type": "markdown",
   "metadata": {},
   "source": [
    "* https://www.acmicpc.net/problem/14888"
   ]
  },
  {
   "cell_type": "markdown",
   "metadata": {},
   "source": [
    "## 최종 코드"
   ]
  },
  {
   "cell_type": "code",
   "execution_count": null,
   "metadata": {},
   "outputs": [],
   "source": [
    "from itertools import permutations\n",
    "\n",
    "def get_max_and_min(nums, ops_num):\n",
    "    def get_ops_set(ops_num):\n",
    "        OP = ['+', '-', '*', '//']\n",
    "        ops = []\n",
    "        for op, op_num in zip(OP, ops_num):\n",
    "            if op_num > 0:\n",
    "                ops.extend([op for _ in range(op_num)])\n",
    "            \n",
    "        ops_set = set(permutations(ops))\n",
    "        return ops_set\n",
    "    \n",
    "    ops_set = get_ops_set(ops_num)\n",
    "    result_nums = []\n",
    "    for ops in ops_set:\n",
    "        num = nums[0]\n",
    "        for op, next_num in zip(ops, nums[1:]):\n",
    "            if op == '+':\n",
    "                num += next_num\n",
    "            elif op == '-':\n",
    "                num -= next_num\n",
    "            elif op == '*':\n",
    "                num *= next_num\n",
    "            else:\n",
    "                if num * next_num < 0:\n",
    "                    num = abs(num) // abs(next_num) * -1\n",
    "                else:\n",
    "                    num = abs(num) // abs(next_num)\n",
    "        \n",
    "        result_nums.append(num)\n",
    "        \n",
    "    return max(result_nums), min(result_nums)\n",
    "\n",
    "N = int(input())\n",
    "A = list(map(int, input().split()))\n",
    "ops_num = list(map(int, input().split()))\n",
    "max_val, min_val = get_max_and_min(A, ops_num)\n",
    "print(max_val)\n",
    "print(min_val)"
   ]
  },
  {
   "cell_type": "markdown",
   "metadata": {},
   "source": [
    "### 시간 복잡도"
   ]
  },
  {
   "cell_type": "code",
   "execution_count": null,
   "metadata": {},
   "outputs": [],
   "source": []
  },
  {
   "cell_type": "markdown",
   "metadata": {},
   "source": [
    "## 테스트 코드"
   ]
  },
  {
   "cell_type": "code",
   "execution_count": 36,
   "metadata": {},
   "outputs": [],
   "source": [
    "from itertools import permutations\n",
    "\n",
    "def get_max_and_min(nums, ops_num):\n",
    "    def get_ops_set(ops_num):\n",
    "        OP = ['+', '-', '*', '//']\n",
    "        ops = []\n",
    "        for op, op_num in zip(OP, ops_num):\n",
    "            if op_num > 0:\n",
    "                ops.extend([op for _ in range(op_num)])\n",
    "            \n",
    "        ops_set = set(permutations(ops))\n",
    "        return ops_set\n",
    "    \n",
    "    ops_set = get_ops_set(ops_num)\n",
    "    result_nums = []\n",
    "    for ops in ops_set:\n",
    "        num = nums[0]\n",
    "        for op, next_num in zip(ops, nums[1:]):\n",
    "            if op == '+':\n",
    "                num += next_num\n",
    "            elif op == '-':\n",
    "                num -= next_num\n",
    "            elif op == '*':\n",
    "                num *= next_num\n",
    "            else:\n",
    "                if num * next_num < 0:\n",
    "                    num = abs(num) // abs(next_num) * -1\n",
    "                else:\n",
    "                    num = abs(num) // abs(next_num)\n",
    "        \n",
    "        result_nums.append(num)\n",
    "        \n",
    "    return max(result_nums), min(result_nums)"
   ]
  },
  {
   "cell_type": "code",
   "execution_count": 37,
   "metadata": {},
   "outputs": [
    {
     "name": "stdout",
     "output_type": "stream",
     "text": [
      "6\n",
      "1 2 3 4 5 6\n",
      "2 1 1 1\n",
      "54\n",
      "-24\n"
     ]
    }
   ],
   "source": [
    "N = int(input())\n",
    "A = list(map(int, input().split()))\n",
    "ops_num = list(map(int, input().split()))\n",
    "max_val, min_val = get_max_and_min(A, ops_num)\n",
    "print(max_val)\n",
    "print(min_val)"
   ]
  },
  {
   "cell_type": "markdown",
   "metadata": {},
   "source": [
    "### 예제 입출력"
   ]
  },
  {
   "cell_type": "code",
   "execution_count": 33,
   "metadata": {},
   "outputs": [
    {
     "name": "stdout",
     "output_type": "stream",
     "text": [
      "30\n",
      "30\n"
     ]
    }
   ],
   "source": [
    "N = 2\n",
    "A = [5, 6]\n",
    "ops_num = [0, 0, 1, 0]\n",
    "max_val, min_val = get_max_and_min(A, ops_num)\n",
    "print(max_val)\n",
    "print(min_val)"
   ]
  },
  {
   "cell_type": "code",
   "execution_count": 34,
   "metadata": {},
   "outputs": [
    {
     "name": "stdout",
     "output_type": "stream",
     "text": [
      "35\n",
      "17\n"
     ]
    }
   ],
   "source": [
    "N = 3\n",
    "A = [3, 4, 5]\n",
    "ops_num = [1, 0, 1, 0]\n",
    "max_val, min_val = get_max_and_min(A, ops_num)\n",
    "print(max_val)\n",
    "print(min_val)"
   ]
  },
  {
   "cell_type": "code",
   "execution_count": 35,
   "metadata": {},
   "outputs": [
    {
     "name": "stdout",
     "output_type": "stream",
     "text": [
      "54\n",
      "-24\n"
     ]
    }
   ],
   "source": [
    "N = 6\n",
    "A = [1, 2, 3, 4, 5, 6]\n",
    "ops_num = [2, 1, 1, 1]\n",
    "max_val, min_val = get_max_and_min(A, ops_num)\n",
    "print(max_val)\n",
    "print(min_val)"
   ]
  }
 ],
 "metadata": {
  "kernelspec": {
   "display_name": "Python 3",
   "language": "python",
   "name": "python3"
  },
  "language_info": {
   "codemirror_mode": {
    "name": "ipython",
    "version": 3
   },
   "file_extension": ".py",
   "mimetype": "text/x-python",
   "name": "python",
   "nbconvert_exporter": "python",
   "pygments_lexer": "ipython3",
   "version": "3.7.3"
  }
 },
 "nbformat": 4,
 "nbformat_minor": 2
}
