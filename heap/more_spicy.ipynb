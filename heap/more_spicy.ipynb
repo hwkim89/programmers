{
 "cells": [
  {
   "cell_type": "markdown",
   "metadata": {},
   "source": [
    "# 더 맵게"
   ]
  },
  {
   "cell_type": "markdown",
   "metadata": {},
   "source": [
    "## 문제 설명"
   ]
  },
  {
   "cell_type": "markdown",
   "metadata": {},
   "source": [
    "매운 것을 좋아하는 Leo는 모든 음식의 스코빌 지수를 K 이상으로 만들고 싶습니다. 모든 음식의 스코빌 지수를 K 이상으로 만들기 위해 Leo는 스코빌 지수가 가장 낮은 두 개의 음식을 아래와 같이 특별한 방법으로 섞어 새로운 음식을 만듭니다.\n",
    "\n",
    "섞은 음식의 스코빌 지수 = 가장 맵지 않은 음식의 스코빌 지수 + (두 번째로 맵지 않은 음식의 스코빌 지수 * 2)\n",
    "\n",
    "Leo는 모든 음식의 스코빌 지수가 K 이상이 될 때까지 반복하여 섞습니다.\n",
    "Leo가 가진 음식의 스코빌 지수를 담은 배열 scoville과 원하는 스코빌 지수 K가 주어질 때, 모든 음식의 스코빌 지수를 K 이상으로 만들기 위해 섞어야 하는 최소 횟수를 return 하도록 solution 함수를 작성해주세요."
   ]
  },
  {
   "cell_type": "markdown",
   "metadata": {},
   "source": [
    "## 제한사항"
   ]
  },
  {
   "cell_type": "markdown",
   "metadata": {},
   "source": [
    "* scoville의 길이는 1 이상 1,000,000 이하입니다.\n",
    "* K는 0 이상 1,000,000,000 이하입니다.\n",
    "* scoville의 원소는 각각 0 이상 1,000,000 이하입니다.\n",
    "* 모든 음식의 스코빌 지수를 K 이상으로 만들 수 없는 경우에는 -1을 return 합니다."
   ]
  },
  {
   "cell_type": "markdown",
   "metadata": {},
   "source": [
    "## 입출력 예"
   ]
  },
  {
   "cell_type": "markdown",
   "metadata": {},
   "source": [
    "| scoville             | K | return |\n",
    "| -------------------- | - | ------ |\n",
    "| [1, 2, 3, 9, 10, 12] | 7 | 2      |"
   ]
  },
  {
   "cell_type": "markdown",
   "metadata": {},
   "source": [
    "### 입출력 예 설명"
   ]
  },
  {
   "cell_type": "markdown",
   "metadata": {},
   "source": [
    "스코빌 지수가 1인 음식과 2인 음식을 섞으면 음식의 스코빌 지수가 아래와 같이 됩니다.\n",
    "* 새로운 음식의 스코빌 지수 = 1 + (2 * 2) = 5\n",
    "* 가진 음식의 스코빌 지수 = [5, 3, 9, 10, 12]\n",
    "\n",
    "스코빌 지수가 3인 음식과 5인 음식을 섞으면 음식의 스코빌 지수가 아래와 같이 됩니다.\n",
    "* 새로운 음식의 스코빌 지수 = 3 + (5 * 2) = 13\n",
    "* 가진 음식의 스코빌 지수 = [13, 9, 10, 12]\n",
    "\n",
    "모든 음식의 스코빌 지수가 7 이상이 되었고 이때 섞은 횟수는 2회입니다."
   ]
  },
  {
   "cell_type": "markdown",
   "metadata": {},
   "source": [
    "## 문제 해결 방법"
   ]
  },
  {
   "cell_type": "markdown",
   "metadata": {},
   "source": [
    "* 오름차순으로 정렬 후 앞에서부터 하나씩 해결할 수 있다.\n",
    "* Min heap을 이용할 수 있다."
   ]
  },
  {
   "cell_type": "markdown",
   "metadata": {},
   "source": [
    "## 코드"
   ]
  },
  {
   "cell_type": "markdown",
   "metadata": {},
   "source": [
    "### 실패한 코드"
   ]
  },
  {
   "cell_type": "code",
   "execution_count": null,
   "metadata": {},
   "outputs": [],
   "source": [
    "import numpy as np\n",
    "from copy import deepcopy\n",
    "\n",
    "\n",
    "class MinHeap:\n",
    "    def __init__(self, K):\n",
    "        self.heap = [None]\n",
    "        self.heap_size = 0\n",
    "        self.K = K\n",
    "    \n",
    "    def insert(self, scovile):\n",
    "        # 새로운 작업 추가\n",
    "        self.heap.append(self.Element(scovile))\n",
    "        self.heap_size += 1\n",
    "        \n",
    "        # 부모 노드와 비교해 가장 적절한 위치로 이동\n",
    "        i = self.heap_size\n",
    "        while i > 1:\n",
    "            if self.heap[i//2].scovile > self.heap[i].scovile:\n",
    "                self.heap[i//2], self.heap[i] = self.heap[i], self.heap[i//2]\n",
    "            else:\n",
    "                break\n",
    "                \n",
    "            i = i // 2\n",
    "            \n",
    "    def delete(self):\n",
    "        if self.heap_size == 0:\n",
    "            return 0\n",
    "        \n",
    "        # 1. Root 노드의 값을 추출\n",
    "        # 2. Root 노드 <- 마지막 노드\n",
    "        # 3. 마지막 노드의 값 <- 가장 큰 값\n",
    "        item = deepcopy(self.heap[1])\n",
    "        self.heap[1] = deepcopy(self.heap[self.heap_size])\n",
    "        self.heap[self.heap_size].scovile = np.Infinity\n",
    "        self.heap_size -= 1\n",
    "        \n",
    "        i = 1\n",
    "        while i*2 <= self.heap_size:\n",
    "            # 현재 노드 < 자식 노드 → 중단\n",
    "            if self.heap[i].scovile < self.heap[i*2].scovile and self.heap[i].scovile < self.heap[i*2+1].scovile:\n",
    "                break\n",
    "            # 왼쪽 자식 노드 < 오른쪽 자식 노드 → 현재 노드 <-> 왼쪽 자식 노드\n",
    "            elif self.heap[i*2].scovile < self.heap[i*2+1].scovile:\n",
    "                self.heap[i], self.heap[i*2] = self.heap[i*2], self.heap[i]\n",
    "                i = i * 2\n",
    "            # 왼쪽 자식 노드 > 오른쪽 자식 노드 → 현재 노드 <-> 오른쪽 자식 노드\n",
    "            else:\n",
    "                self.heap[i], self.heap[i*2+1] = self.heap[i*2+1], self.heap[i]\n",
    "                i = i * 2 + 1\n",
    "                \n",
    "        # 마지막 노드 제거\n",
    "        self.heap.pop()\n",
    "        return item.scovile\n",
    "                \n",
    "    def is_empty(self):\n",
    "        return True if self.heap_size == 0 else False\n",
    "    \n",
    "    def check_scovile(self):\n",
    "        for s in self.heap[1:]:\n",
    "            if s.scovile < self.K:\n",
    "                return False\n",
    "        return True\n",
    "    \n",
    "    def size(self):\n",
    "        return self.heap_size\n",
    "    \n",
    "    def clear(self):\n",
    "        for i in range(self.heap_size):\n",
    "            if i != 0 and heap[i] > self.K:\n",
    "                break\n",
    "        \n",
    "        if (i+1) <= self.heap_size():\n",
    "            self.heap = self.heap[:i+2]\n",
    "            self.heap_size = self.heap_size - (self.heap_size - (i+1))\n",
    "            \n",
    "        \n",
    "    # 큐의 각 요소 (시작 시간, 작업 시간)\n",
    "    class Element:\n",
    "        def __init__(self, scovile):\n",
    "            self.scovile = scovile\n",
    "            \n",
    "def solution(scovile, K):\n",
    "    # Minimize scovile values\n",
    "    for i in range(len(scovile)):\n",
    "        if scovile[i] > K:\n",
    "            break\n",
    "    scovile = scovile[:i+2]\n",
    "    \n",
    "    # Create min heap\n",
    "    max_h = MinHeap(K)\n",
    "    for s in scovile:\n",
    "        max_h.insert(s)\n",
    "        \n",
    "    count = 0\n",
    "    while max_h.size() > 1:\n",
    "        first, second = max_h.delete(), max_h.delete()\n",
    "        max_h.insert(first + second * 2)\n",
    "        count += 1\n",
    "        if max_h.check_scovile():\n",
    "            return count\n",
    "    return -1"
   ]
  },
  {
   "cell_type": "code",
   "execution_count": 73,
   "metadata": {},
   "outputs": [
    {
     "data": {
      "text/plain": [
       "2"
      ]
     },
     "execution_count": 73,
     "metadata": {},
     "output_type": "execute_result"
    }
   ],
   "source": [
    "scovile = [1, 2, 3, 9, 10, 12]\n",
    "K = 7\n",
    "solution(scovile, K)"
   ]
  },
  {
   "cell_type": "markdown",
   "metadata": {},
   "source": [
    "### 성공한 코드"
   ]
  },
  {
   "cell_type": "markdown",
   "metadata": {},
   "source": [
    "#### Version 1"
   ]
  },
  {
   "cell_type": "code",
   "execution_count": 80,
   "metadata": {},
   "outputs": [],
   "source": [
    "import heapq\n",
    "\n",
    "def solution(scovile, K):\n",
    "    heapq.heapify(scovile)\n",
    "    count = 0\n",
    "    while len(scovile) > 1:\n",
    "        first, second = heapq.heappop(scovile), heapq.heappop(scovile)\n",
    "        heapq.heappush(scovile, first + second * 2)\n",
    "        count += 1\n",
    "        if scovile[0] >= K:\n",
    "            return count\n",
    "    return -1"
   ]
  },
  {
   "cell_type": "markdown",
   "metadata": {},
   "source": [
    "#### Version 2"
   ]
  },
  {
   "cell_type": "code",
   "execution_count": 85,
   "metadata": {},
   "outputs": [],
   "source": [
    "import heapq\n",
    "\n",
    "def solution(scovile, K):\n",
    "    heapq.heapify(scovile)\n",
    "    count = 0\n",
    "    while True:\n",
    "        first = heapq.heappop(scovile)\n",
    "        if first >= K:\n",
    "            return count\n",
    "        elif len(scovile) == 0:\n",
    "            return -1\n",
    "        \n",
    "        second = heapq.heappop(scovile)\n",
    "        heapq.heappush(scovile, first + second * 2)\n",
    "        count += 1"
   ]
  },
  {
   "cell_type": "markdown",
   "metadata": {},
   "source": [
    "### 시간 복잡도"
   ]
  },
  {
   "cell_type": "markdown",
   "metadata": {},
   "source": [
    "#### List를 사용하는 경우"
   ]
  },
  {
   "cell_type": "markdown",
   "metadata": {},
   "source": [
    "* 최악의 경우\n",
    "    * 수가 하나 남을 때까지 섞어야 하는 경우 (n-1 회)\n",
    "* 각 단계 (섞는 일)에서 요구되는 계산량\n",
    "    * 정렬된 리스트에 순서 맞추어 원소 삽입\n",
    "    * O(n)\n",
    "* 전체 복잡도\n",
    "    * O(n^2)"
   ]
  },
  {
   "cell_type": "markdown",
   "metadata": {},
   "source": [
    "#### Heap을 사용하는 경우"
   ]
  },
  {
   "cell_type": "markdown",
   "metadata": {},
   "source": [
    "* 피드백 후 작성 예정"
   ]
  },
  {
   "cell_type": "markdown",
   "metadata": {},
   "source": [
    "### 예제 1"
   ]
  },
  {
   "cell_type": "code",
   "execution_count": 86,
   "metadata": {},
   "outputs": [
    {
     "data": {
      "text/plain": [
       "2"
      ]
     },
     "execution_count": 86,
     "metadata": {},
     "output_type": "execute_result"
    }
   ],
   "source": [
    "scovile = [1, 2, 3, 9, 10, 12]\n",
    "K = 7\n",
    "solution(scovile, K)"
   ]
  }
 ],
 "metadata": {
  "kernelspec": {
   "display_name": "Python 3",
   "language": "python",
   "name": "python3"
  },
  "language_info": {
   "codemirror_mode": {
    "name": "ipython",
    "version": 3
   },
   "file_extension": ".py",
   "mimetype": "text/x-python",
   "name": "python",
   "nbconvert_exporter": "python",
   "pygments_lexer": "ipython3",
   "version": "3.7.3"
  }
 },
 "nbformat": 4,
 "nbformat_minor": 2
}
