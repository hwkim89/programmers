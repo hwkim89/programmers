{
 "cells": [
  {
   "cell_type": "markdown",
   "metadata": {},
   "source": [
    "# 카펫"
   ]
  },
  {
   "source": [
    "## 문제 링크\n",
    "- https://programmers.co.kr/learn/courses/30/lessons/42842"
   ],
   "cell_type": "markdown",
   "metadata": {}
  },
  {
   "cell_type": "markdown",
   "metadata": {},
   "source": [
    "## 코드"
   ]
  },
  {
   "cell_type": "code",
   "execution_count": 3,
   "metadata": {},
   "outputs": [],
   "source": [
    "def solution(brown, yellow):\n",
    "    total = brown + yellow\n",
    "    height = 2\n",
    "    while True:\n",
    "        if total % height == 0:\n",
    "            width = total // height\n",
    "            if width*2 + (height-2)*2 == brown:\n",
    "                return [width, height]\n",
    "        height += 1\n",
    "    assert False"
   ]
  },
  {
   "cell_type": "markdown",
   "metadata": {},
   "source": [
    "### 입출력 예"
   ]
  },
  {
   "cell_type": "code",
   "execution_count": 4,
   "metadata": {},
   "outputs": [
    {
     "output_type": "execute_result",
     "data": {
      "text/plain": [
       "[4, 3]"
      ]
     },
     "metadata": {},
     "execution_count": 4
    }
   ],
   "source": [
    "brown, red = 10, 2\n",
    "solution(brown, red)"
   ]
  },
  {
   "cell_type": "code",
   "execution_count": 5,
   "metadata": {},
   "outputs": [
    {
     "output_type": "execute_result",
     "data": {
      "text/plain": [
       "[3, 3]"
      ]
     },
     "metadata": {},
     "execution_count": 5
    }
   ],
   "source": [
    "brown, red = 8, 1\n",
    "solution(brown, red)"
   ]
  },
  {
   "cell_type": "code",
   "execution_count": 6,
   "metadata": {},
   "outputs": [
    {
     "output_type": "execute_result",
     "data": {
      "text/plain": [
       "[8, 6]"
      ]
     },
     "metadata": {},
     "execution_count": 6
    }
   ],
   "source": [
    "brown, red = 24, 24\n",
    "solution(brown, red)"
   ]
  }
 ],
 "metadata": {
  "kernelspec": {
   "name": "python385jvsc74a57bd0881438aaf537e66dfdaad625390fa0d3b3d0ff5ed91f143384dfadbe6c34b6b5",
   "display_name": "Python 3.8.5 64-bit ('base': conda)"
  },
  "language_info": {
   "codemirror_mode": {
    "name": "ipython",
    "version": 3
   },
   "file_extension": ".py",
   "mimetype": "text/x-python",
   "name": "python",
   "nbconvert_exporter": "python",
   "pygments_lexer": "ipython3",
   "version": "3.8.5"
  },
  "metadata": {
   "interpreter": {
    "hash": "881438aaf537e66dfdaad625390fa0d3b3d0ff5ed91f143384dfadbe6c34b6b5"
   }
  }
 },
 "nbformat": 4,
 "nbformat_minor": 2
}