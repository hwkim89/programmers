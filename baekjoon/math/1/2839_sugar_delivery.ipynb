{
 "cells": [
  {
   "cell_type": "markdown",
   "metadata": {},
   "source": [
    "# 설탕 배달"
   ]
  },
  {
   "cell_type": "markdown",
   "metadata": {},
   "source": [
    "## 문제 링크"
   ]
  },
  {
   "cell_type": "markdown",
   "metadata": {},
   "source": [
    "* https://www.acmicpc.net/problem/2839"
   ]
  },
  {
   "cell_type": "markdown",
   "metadata": {},
   "source": [
    "## 최종 코드"
   ]
  },
  {
   "cell_type": "code",
   "execution_count": 63,
   "metadata": {},
   "outputs": [
    {
     "name": "stdout",
     "output_type": "stream",
     "text": [
      "18\n",
      "4\n"
     ]
    }
   ],
   "source": [
    "def get_min_p_bag_n(N):\n",
    "    MAX_P_BAG_N = 5000 // 3 + 1\n",
    "    min_p_bag_n = MAX_P_BAG_N\n",
    "    for big_n in range(N // 5 + 1):\n",
    "        if big_n > min_p_bag_n:\n",
    "            break\n",
    "        for small_n in range(N // 3 + 1):\n",
    "            if big_n + small_n >= min_p_bag_n:\n",
    "                break\n",
    "            elif big_n * 5 + small_n * 3 == N:\n",
    "                min_p_bag_n = min(min_p_bag_n, big_n + small_n)\n",
    "    return min_p_bag_n if min_p_bag_n != MAX_P_BAG_N else -1\n",
    "\n",
    "N = int(input())\n",
    "print(get_min_p_bag_n(N))"
   ]
  },
  {
   "cell_type": "markdown",
   "metadata": {},
   "source": [
    "### 시간 복잡도"
   ]
  },
  {
   "cell_type": "code",
   "execution_count": null,
   "metadata": {},
   "outputs": [],
   "source": []
  },
  {
   "cell_type": "markdown",
   "metadata": {},
   "source": [
    "## 테스트 코드"
   ]
  },
  {
   "cell_type": "code",
   "execution_count": 57,
   "metadata": {},
   "outputs": [],
   "source": [
    "def get_min_p_bag_n(N):\n",
    "    MAX_P_BAG_N = 5000 // 3 + 1\n",
    "    min_p_bag_n = MAX_P_BAG_N\n",
    "    for big_n in range(N // 5 + 1):\n",
    "        if big_n > min_p_bag_n:\n",
    "            break\n",
    "        for small_n in range(N // 3 + 1):\n",
    "            if big_n + small_n >= min_p_bag_n:\n",
    "                break\n",
    "            elif big_n * 5 + small_n * 3 == N:\n",
    "                min_p_bag_n = min(min_p_bag_n, big_n + small_n)\n",
    "    return min_p_bag_n if min_p_bag_n != MAX_P_BAG_N else -1"
   ]
  },
  {
   "cell_type": "markdown",
   "metadata": {},
   "source": [
    "### 예제 입출력"
   ]
  },
  {
   "cell_type": "code",
   "execution_count": 58,
   "metadata": {},
   "outputs": [
    {
     "data": {
      "text/plain": [
       "4"
      ]
     },
     "execution_count": 58,
     "metadata": {},
     "output_type": "execute_result"
    }
   ],
   "source": [
    "get_min_p_bag_n(18)"
   ]
  },
  {
   "cell_type": "code",
   "execution_count": 59,
   "metadata": {},
   "outputs": [
    {
     "data": {
      "text/plain": [
       "-1"
      ]
     },
     "execution_count": 59,
     "metadata": {},
     "output_type": "execute_result"
    }
   ],
   "source": [
    "get_min_p_bag_n(4)"
   ]
  },
  {
   "cell_type": "code",
   "execution_count": 60,
   "metadata": {},
   "outputs": [
    {
     "data": {
      "text/plain": [
       "2"
      ]
     },
     "execution_count": 60,
     "metadata": {},
     "output_type": "execute_result"
    }
   ],
   "source": [
    "get_min_p_bag_n(6)"
   ]
  },
  {
   "cell_type": "code",
   "execution_count": 61,
   "metadata": {},
   "outputs": [
    {
     "data": {
      "text/plain": [
       "3"
      ]
     },
     "execution_count": 61,
     "metadata": {},
     "output_type": "execute_result"
    }
   ],
   "source": [
    "get_min_p_bag_n(9)"
   ]
  },
  {
   "cell_type": "code",
   "execution_count": 62,
   "metadata": {},
   "outputs": [
    {
     "data": {
      "text/plain": [
       "3"
      ]
     },
     "execution_count": 62,
     "metadata": {},
     "output_type": "execute_result"
    }
   ],
   "source": [
    "get_min_p_bag_n(11)"
   ]
  }
 ],
 "metadata": {
  "kernelspec": {
   "display_name": "Python 3",
   "language": "python",
   "name": "python3"
  },
  "language_info": {
   "codemirror_mode": {
    "name": "ipython",
    "version": 3
   },
   "file_extension": ".py",
   "mimetype": "text/x-python",
   "name": "python",
   "nbconvert_exporter": "python",
   "pygments_lexer": "ipython3",
   "version": "3.7.3"
  }
 },
 "nbformat": 4,
 "nbformat_minor": 2
}
