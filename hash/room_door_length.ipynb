{
 "cells": [
  {
   "cell_type": "markdown",
   "metadata": {},
   "source": [
    "# 방문 길이"
   ]
  },
  {
   "cell_type": "markdown",
   "metadata": {},
   "source": [
    "## 문제 설명"
   ]
  },
  {
   "cell_type": "markdown",
   "metadata": {},
   "source": [
    "게임 캐릭터를 4가지 명령어를 통해 움직이려 합니다. 명령어는 다음과 같습니다.\n",
    "\n",
    "* U: 위쪽으로 한 칸 가기\n",
    "* D: 아래쪽으로 한 칸 가기\n",
    "* R: 오른쪽으로 한 칸 가기\n",
    "* L: 왼쪽으로 한 칸 가기\n",
    "\n",
    "캐릭터는 좌표평면의 (0, 0) 위치에서 시작합니다. 좌표평면의 경계는 왼쪽 위(-5, 5), 왼쪽 아래(-5, -5), 오른쪽 위(5, 5), 오른쪽 아래(5, -5)로 이루어져 있습니다.\n",
    "\n",
    "![image](room_door_length_01.png)\n",
    "\n",
    "예를 들어, ULURRDLLU로 명령했다면\n",
    "\n",
    "![image](room_door_length_02.png)\n",
    "\n",
    "1번 명령어부터 7번 명령어까지 다음과 같이 움직입니다.\n",
    "\n",
    "![image](room_door_length_03.png)\n",
    "\n",
    "8번 명령어부터 9번 명령어까지 다음과 같이 움직입니다.\n",
    "\n",
    "![image](room_door_length_04.png)\n",
    "\n",
    "이때, 우리는 게임 캐릭터가 지나간 길 중 캐릭터가 처음 걸어본 길의 길이를 구하려고 합니다. 예를 들어 위의 예시에서 게임 캐릭터가 움직인 길이는 9이지만, 캐릭터가 처음 걸어본 길의 길이는 7이 됩니다. (8, 9번 명령어에서 움직인 길은 2, 3번 명령어에서 이미 거쳐 간 길입니다)\n",
    "\n",
    "단, 좌표평면의 경계를 넘어가는 명령어는 무시합니다.\n",
    "\n",
    "예를 들어, LULLLLLLU로 명령했다면\n",
    "\n",
    "![image](room_door_length_05.png)\n",
    "\n",
    "1번 명령어부터 6번 명령어대로 움직인 후, 7, 8번 명령어는 무시합니다. 다시 9번 명령어대로 움직입니다.\n",
    "\n",
    "![image](room_door_length_06.png)\n",
    "\n",
    "이때 캐릭터가 처음 걸어본 길의 길이는 7이 됩니다.\n",
    "\n",
    "명령어가 매개변수 dirs로 주어질 때, 게임 캐릭터가 처음 걸어본 길의 길이를 구하여 return 하는 solution 함수를 완성해 주세요."
   ]
  },
  {
   "cell_type": "markdown",
   "metadata": {},
   "source": [
    "## 제한사항"
   ]
  },
  {
   "cell_type": "markdown",
   "metadata": {},
   "source": [
    "* dirs는 string형으로 주어지며, 'U', 'D', 'R', 'L' 이외에 문자는 주어지지 않습니다.\n",
    "* dirs의 길이는 500 이하의 자연수입니다."
   ]
  },
  {
   "cell_type": "markdown",
   "metadata": {},
   "source": [
    "## 입출력 예"
   ]
  },
  {
   "cell_type": "markdown",
   "metadata": {},
   "source": [
    "| dirs      | answer |\n",
    "| --------- | ------ |\n",
    "| ULURRDLLU | 7      |\n",
    "| LULLLLLLU | 7      |"
   ]
  },
  {
   "cell_type": "markdown",
   "metadata": {},
   "source": [
    "### 입출력 예 설명"
   ]
  },
  {
   "cell_type": "markdown",
   "metadata": {},
   "source": [
    "문제의 예시와 같습니다."
   ]
  },
  {
   "cell_type": "markdown",
   "metadata": {},
   "source": [
    "## 코드"
   ]
  },
  {
   "cell_type": "code",
   "execution_count": 70,
   "metadata": {},
   "outputs": [],
   "source": [
    "from operator import add\n",
    "\n",
    "def solution(dirs):\n",
    "    DIRS = {'U': (0, 1), 'D': (0, -1), 'L': (-1, 0), 'R': (1, 0)}\n",
    "    paths = set()\n",
    "    cur = (0, 0)\n",
    "    for d in dirs:\n",
    "        next_cur = tuple(map(add, cur, DIRS[d]))\n",
    "        if -6 < next_cur[0] < 6 and -6 < next_cur[1] < 6:\n",
    "            if (cur,  next_cur) not in paths and (next_cur, cur) not in paths:\n",
    "                paths.add((cur, next_cur))\n",
    "            cur = next_cur\n",
    "    return len(paths)"
   ]
  },
  {
   "cell_type": "markdown",
   "metadata": {},
   "source": [
    "### 시간 복잡도"
   ]
  },
  {
   "cell_type": "code",
   "execution_count": 1,
   "metadata": {},
   "outputs": [],
   "source": [
    "# N = len(dirs)\n",
    "# 전체 시간 복잡도: O(N)\n",
    "\n",
    "from operator import add\n",
    "\n",
    "def solution(dirs):\n",
    "    DIRS = {'U': (0, 1), 'D': (0, -1), 'L': (-1, 0), 'R': (1, 0)}\n",
    "    paths = set()\n",
    "    cur = (0, 0)\n",
    "    for d in dirs: # O(N)\n",
    "        next_cur = tuple(map(add, cur, DIRS[d])) # O(1)\n",
    "        if -6 < next_cur[0] < 6 and -6 < next_cur[1] < 6:\n",
    "            if (cur,  next_cur) not in paths and (next_cur, cur) not in paths: # O(1)\n",
    "                paths.add((cur, next_cur)) # O(1)\n",
    "            cur = next_cur\n",
    "    return len(paths)"
   ]
  },
  {
   "cell_type": "markdown",
   "metadata": {},
   "source": [
    "### 예제 1"
   ]
  },
  {
   "cell_type": "code",
   "execution_count": 2,
   "metadata": {},
   "outputs": [
    {
     "data": {
      "text/plain": [
       "7"
      ]
     },
     "execution_count": 2,
     "metadata": {},
     "output_type": "execute_result"
    }
   ],
   "source": [
    "dirs = 'ULURRDLLU'\n",
    "solution(dirs)"
   ]
  },
  {
   "cell_type": "markdown",
   "metadata": {},
   "source": [
    "### 예제 2"
   ]
  },
  {
   "cell_type": "code",
   "execution_count": 3,
   "metadata": {},
   "outputs": [
    {
     "data": {
      "text/plain": [
       "7"
      ]
     },
     "execution_count": 3,
     "metadata": {},
     "output_type": "execute_result"
    }
   ],
   "source": [
    "dirs = 'LULLLLLLU'\n",
    "solution(dirs)"
   ]
  }
 ],
 "metadata": {
  "kernelspec": {
   "display_name": "Python 3",
   "language": "python",
   "name": "python3"
  },
  "language_info": {
   "codemirror_mode": {
    "name": "ipython",
    "version": 3
   },
   "file_extension": ".py",
   "mimetype": "text/x-python",
   "name": "python",
   "nbconvert_exporter": "python",
   "pygments_lexer": "ipython3",
   "version": "3.7.3"
  }
 },
 "nbformat": 4,
 "nbformat_minor": 2
}
