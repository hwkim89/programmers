{
 "cells": [
  {
   "cell_type": "markdown",
   "metadata": {},
   "source": [
    "# Fly me to the Alpha Centauri"
   ]
  },
  {
   "cell_type": "markdown",
   "metadata": {},
   "source": [
    "## 문제 링크"
   ]
  },
  {
   "cell_type": "markdown",
   "metadata": {},
   "source": [
    "* https://www.acmicpc.net/problem/1011"
   ]
  },
  {
   "cell_type": "markdown",
   "metadata": {},
   "source": [
    "## 최종 코드"
   ]
  },
  {
   "cell_type": "code",
   "execution_count": 128,
   "metadata": {},
   "outputs": [
    {
     "name": "stdout",
     "output_type": "stream",
     "text": [
      "3\n",
      "0 3\n",
      "3\n",
      "1 5\n",
      "3\n",
      "45 50\n",
      "4\n"
     ]
    }
   ],
   "source": [
    "import math\n",
    "\n",
    "def get_dist(n):\n",
    "    if n % 2 != 0:\n",
    "        return (n//2) * (n//2+1) + math.ceil(n/2)\n",
    "    else:\n",
    "        return (n//2) * (n//2+1)\n",
    "\n",
    "def get_oper_num(x, y):\n",
    "    diff = y - x\n",
    "    oper_num = int(math.sqrt(diff * 4))\n",
    "    while not(get_dist(oper_num - 1) < diff <= get_dist(oper_num)):\n",
    "        oper_num -= 1\n",
    "    return oper_num\n",
    "\n",
    "T = int(input())\n",
    "for _ in range(T):\n",
    "    x, y  = map(int, input().split())\n",
    "    print(get_oper_num(x, y))"
   ]
  },
  {
   "cell_type": "markdown",
   "metadata": {},
   "source": [
    "### 시간 복잡도"
   ]
  },
  {
   "cell_type": "code",
   "execution_count": null,
   "metadata": {},
   "outputs": [],
   "source": []
  },
  {
   "cell_type": "markdown",
   "metadata": {},
   "source": [
    "## 테스트 코드"
   ]
  },
  {
   "cell_type": "code",
   "execution_count": 117,
   "metadata": {},
   "outputs": [],
   "source": [
    "import math\n",
    "\n",
    "def get_dist(n):\n",
    "    if n % 2 != 0:\n",
    "        return (n//2) * (n//2+1) + math.ceil(n/2)\n",
    "    else:\n",
    "        return (n//2) * (n//2+1)\n",
    "\n",
    "def get_oper_num(x, y):\n",
    "    diff = y - x\n",
    "    oper_num = int(math.sqrt(diff * 4))\n",
    "    while not(get_dist(oper_num - 1) < diff <= get_dist(oper_num)):\n",
    "        oper_num -= 1\n",
    "    return oper_num"
   ]
  },
  {
   "cell_type": "code",
   "execution_count": 127,
   "metadata": {},
   "outputs": [
    {
     "name": "stdout",
     "output_type": "stream",
     "text": [
      "3\n",
      "0 3\n",
      "3\n",
      "1 5\n",
      "3\n",
      "45 50\n",
      "4\n"
     ]
    }
   ],
   "source": [
    "T = int(input())\n",
    "for _ in range(T):\n",
    "    x, y  = map(int, input().split())\n",
    "    print(get_oper_num(x, y))"
   ]
  },
  {
   "cell_type": "markdown",
   "metadata": {},
   "source": [
    "### 예제 입출력"
   ]
  },
  {
   "cell_type": "code",
   "execution_count": 121,
   "metadata": {},
   "outputs": [
    {
     "name": "stdout",
     "output_type": "stream",
     "text": [
      "3\n"
     ]
    }
   ],
   "source": [
    "x, y  = 0, 3\n",
    "print(get_oper_num(x, y))"
   ]
  },
  {
   "cell_type": "code",
   "execution_count": 122,
   "metadata": {},
   "outputs": [
    {
     "name": "stdout",
     "output_type": "stream",
     "text": [
      "3\n"
     ]
    }
   ],
   "source": [
    "x, y  = 1, 5\n",
    "print(get_oper_num(x, y))"
   ]
  },
  {
   "cell_type": "code",
   "execution_count": 123,
   "metadata": {},
   "outputs": [
    {
     "name": "stdout",
     "output_type": "stream",
     "text": [
      "4\n"
     ]
    }
   ],
   "source": [
    "x, y  = 45, 50\n",
    "print(get_oper_num(x, y))"
   ]
  },
  {
   "cell_type": "code",
   "execution_count": 129,
   "metadata": {},
   "outputs": [
    {
     "name": "stdout",
     "output_type": "stream",
     "text": [
      "92681\n"
     ]
    }
   ],
   "source": [
    "x, y  = 0, 2**31 - 1\n",
    "print(get_oper_num(x, y))"
   ]
  },
  {
   "cell_type": "code",
   "execution_count": 124,
   "metadata": {},
   "outputs": [
    {
     "name": "stdout",
     "output_type": "stream",
     "text": [
      "0, 1: 1\n",
      "0, 2: 2\n",
      "0, 3: 3\n",
      "0, 4: 3\n",
      "0, 5: 4\n",
      "0, 6: 4\n",
      "0, 7: 5\n",
      "0, 8: 5\n",
      "0, 9: 5\n",
      "0, 10: 6\n",
      "0, 11: 6\n",
      "0, 12: 6\n",
      "0, 13: 7\n",
      "0, 14: 7\n",
      "0, 15: 7\n",
      "0, 16: 7\n",
      "0, 17: 8\n",
      "0, 18: 8\n",
      "0, 19: 8\n"
     ]
    }
   ],
   "source": [
    "for i in range(1, 20):\n",
    "    x, y  = 0, i\n",
    "    print(f'{x}, {y}:', get_oper_num(x, y))"
   ]
  }
 ],
 "metadata": {
  "kernelspec": {
   "display_name": "Python 3",
   "language": "python",
   "name": "python3"
  },
  "language_info": {
   "codemirror_mode": {
    "name": "ipython",
    "version": 3
   },
   "file_extension": ".py",
   "mimetype": "text/x-python",
   "name": "python",
   "nbconvert_exporter": "python",
   "pygments_lexer": "ipython3",
   "version": "3.7.3"
  }
 },
 "nbformat": 4,
 "nbformat_minor": 2
}
