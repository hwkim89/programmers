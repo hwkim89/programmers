{
 "cells": [
  {
   "cell_type": "markdown",
   "metadata": {},
   "source": [
    "# 문제 설명"
   ]
  },
  {
   "cell_type": "markdown",
   "metadata": {},
   "source": [
    "하드디스크는 한 번에 하나의 작업만 수행할 수 있습니다. 디스크 컨트롤러를 구현하는 방법은 여러 가지가 있습니다. 가장 일반적인 방법은 요청이 들어온 순서대로 처리하는 것입니다."
   ]
  },
  {
   "cell_type": "markdown",
   "metadata": {},
   "source": [
    "예를 들어"
   ]
  },
  {
   "cell_type": "markdown",
   "metadata": {},
   "source": [
    "- 0ms 시점에 3ms가 소요되는 A작업 요청\n",
    "- 1ms 시점에 9ms가 소요되는 B작업 요청\n",
    "- 2ms 시점에 6ms가 소요되는 C작업 요청"
   ]
  },
  {
   "cell_type": "markdown",
   "metadata": {},
   "source": [
    "와 같은 요청이 들어왔습니다. 이를 그림으로 표현하면 아래와 같습니다."
   ]
  },
  {
   "cell_type": "markdown",
   "metadata": {},
   "source": [
    "![ex1](disk_controller_01.png)"
   ]
  },
  {
   "cell_type": "markdown",
   "metadata": {},
   "source": [
    "한 번에 하나의 요청만을 수행할 수 있기 때문에 각각의 작업을 요청받은 순서대로 처리하면 다음과 같이 처리 됩니다."
   ]
  },
  {
   "cell_type": "markdown",
   "metadata": {},
   "source": [
    "![ex2](disk_controller_02.png)"
   ]
  },
  {
   "cell_type": "markdown",
   "metadata": {},
   "source": [
    "- A: 3ms 시점에 작업 완료 (요청에서 종료까지 : 3ms)\n",
    "- B: 1ms부터 대기하다가, 3ms 시점에 작업을 시작해서 12ms 시점에 작업 완료(요청에서 종료까지 : 11ms)\n",
    "- C: 2ms부터 대기하다가, 12ms 시점에 작업을 시작해서 18ms 시점에 작업 완료(요청에서 종료까지 : 16ms)"
   ]
  },
  {
   "cell_type": "markdown",
   "metadata": {},
   "source": [
    "이 때 각 작업의 요청부터 종료까지 걸린 시간의 평균은 10ms(= (3 + 11 + 16) / 3)가 됩니다.\n",
    "\n",
    "하지만 A → C → B 순서대로 처리하면"
   ]
  },
  {
   "cell_type": "markdown",
   "metadata": {},
   "source": [
    "![ex3](disk_controller_03.png)"
   ]
  },
  {
   "cell_type": "markdown",
   "metadata": {},
   "source": [
    "- A: 3ms 시점에 작업 완료(요청에서 종료까지 : 3ms)\n",
    "- C: 2ms부터 대기하다가, 3ms 시점에 작업을 시작해서 9ms 시점에 작업 완료(요청에서 종료까지 : 7ms)\n",
    "- B: 1ms부터 대기하다가, 9ms 시점에 작업을 시작해서 18ms 시점에 작업 완료(요청에서 종료까지 : 17ms)"
   ]
  },
  {
   "cell_type": "markdown",
   "metadata": {},
   "source": [
    "이렇게 A → C → B의 순서로 처리하면 각 작업의 요청부터 종료까지 걸린 시간의 평균은 9ms(= (3 + 7 + 17) / 3)가 됩니다.\n",
    "\n",
    "각 작업에 대해 [작업이 요청되는 시점, 작업의 소요시간]을 담은 2차원 배열 jobs가 매개변수로 주어질 때, 작업의 요청부터 종료까지 걸린 시간의 평균을 가장 줄이는 방법으로 처리하면 평균이 얼마가 되는지 return 하도록 solution 함수를 작성해주세요. (단, 소수점 이하의 수는 버립니다)"
   ]
  },
  {
   "cell_type": "markdown",
   "metadata": {},
   "source": [
    "# 제한 사항"
   ]
  },
  {
   "cell_type": "markdown",
   "metadata": {},
   "source": [
    "* jobs의 길이는 1 이상 500 이하입니다.\n",
    "* jobs의 각 행은 하나의 작업에 대한 [작업이 요청되는 시점, 작업의 소요시간] 입니다.\n",
    "* 각 작업에 대해 작업이 요청되는 시간은 0 이상 1,000 이하입니다.\n",
    "* 각 작업에 대해 작업의 소요시간은 1 이상 1,000 이하입니다.\n",
    "* 하드디스크가 작업을 수행하고 있지 않을 때에는 먼저 요청이 들어온 작업부터 처리합니다."
   ]
  },
  {
   "cell_type": "markdown",
   "metadata": {},
   "source": [
    "# 입출력 예"
   ]
  },
  {
   "cell_type": "markdown",
   "metadata": {},
   "source": [
    "jobs\treturn<br>\n",
    "[[0, 3], [1, 9], [2, 6]]\t9"
   ]
  },
  {
   "cell_type": "markdown",
   "metadata": {},
   "source": [
    "# 입출력 예 설명"
   ]
  },
  {
   "cell_type": "markdown",
   "metadata": {},
   "source": [
    "문제에 주어진 예와 같습니다."
   ]
  },
  {
   "cell_type": "markdown",
   "metadata": {},
   "source": [
    "* 0ms 시점에 3ms 걸리는 작업 요청이 들어옵니다.\n",
    "* 1ms 시점에 9ms 걸리는 작업 요청이 들어옵니다.\n",
    "* 2ms 시점에 6ms 걸리는 작업 요청이 들어옵니다."
   ]
  },
  {
   "cell_type": "markdown",
   "metadata": {},
   "source": [
    "---"
   ]
  },
  {
   "cell_type": "markdown",
   "metadata": {},
   "source": [
    "# Heap"
   ]
  },
  {
   "cell_type": "markdown",
   "metadata": {},
   "source": [
    "* https://oi.readthedocs.io/en/latest/algorithms/data_structure/queue/heap.html"
   ]
  },
  {
   "cell_type": "code",
   "execution_count": 95,
   "metadata": {},
   "outputs": [],
   "source": [
    "def heapify(jobs, index, heap_size):\n",
    "    largest = index\n",
    "    left = 2 * index + 1\n",
    "    right = 2 * index + 2\n",
    "    if left < heap_size:\n",
    "        if (jobs[left][0] + jobs[left][1]) > (jobs[largest][0] + jobs[largest][1]):\n",
    "            largest = left\n",
    "    if right < heap_size:\n",
    "        if (jobs[right][0] + jobs[right][1]) > (jobs[largest][0] + jobs[largest][1]):\n",
    "            largest = right\n",
    "    if largest != index:\n",
    "        jobs[largest], jobs[index] = jobs[index], jobs[largest]\n",
    "        heapify(jobs, largest, heap_size)"
   ]
  },
  {
   "cell_type": "code",
   "execution_count": 96,
   "metadata": {},
   "outputs": [],
   "source": [
    "def heap_sort(jobs):\n",
    "    n = len(jobs)\n",
    "    \n",
    "    # BUILD-MAX-HEAP (A) : 위의 1단계\n",
    "    # 인덱스 : (n을 2로 나눈 몫-1)~0\n",
    "    # 최초 힙 구성시 배열의 중간부터 시작하면 \n",
    "    # 이진트리 성질에 의해 모든 요소값을 \n",
    "    # 서로 한번씩 비교할 수 있게 됨 : O(n)\n",
    "    for i in range(n // 2 - 1, -1, -1):\n",
    "        heapify(jobs, i, n)\n",
    "        \n",
    "    # Recurrent (B) : 2~4단계\n",
    "    # 한번 힙이 구성되면 개별 노드는\n",
    "    # 최악의 경우에도 트리의 높이(logn)\n",
    "    # 만큼의 자리 이동을 하게 됨\n",
    "    # 이런 노드들이 n개 있으므로 : O(nlogn)\n",
    "    for i in range(n - 1, 0, -1):\n",
    "        jobs[0], jobs[i] = jobs[i], jobs[0]\n",
    "        heapify(jobs, 0, i)\n",
    "    return jobs"
   ]
  },
  {
   "cell_type": "code",
   "execution_count": 97,
   "metadata": {},
   "outputs": [],
   "source": [
    "def calc_avg_time(jobs):\n",
    "    job_time = 0\n",
    "    job_time_only = 0\n",
    "    for i, (start, t) in enumerate(jobs):\n",
    "        if i == 0 or start > job_time_only:\n",
    "            add_time = t\n",
    "        else:\n",
    "            add_time = t + (job_time_only - start)\n",
    "        job_time += add_time\n",
    "        \n",
    "        if i == 0:\n",
    "            add_time = t + start\n",
    "        elif start > job_time_only:\n",
    "            add_time = t + (start - job_time_only)\n",
    "        else:\n",
    "            add_time = t\n",
    "        job_time_only += add_time\n",
    "#         print(job_time, job_time_only)\n",
    "#     print(job_time)\n",
    "        \n",
    "    return int(job_time / len(jobs))"
   ]
  },
  {
   "cell_type": "code",
   "execution_count": 98,
   "metadata": {},
   "outputs": [],
   "source": [
    "def solution(jobs):\n",
    "    sorted_jobs = heap_sort(jobs)\n",
    "    print(sorted_jobs)\n",
    "    avg_time = calc_avg_time(sorted_jobs)\n",
    "    \n",
    "    return avg_time"
   ]
  },
  {
   "cell_type": "code",
   "execution_count": 99,
   "metadata": {},
   "outputs": [
    {
     "name": "stdout",
     "output_type": "stream",
     "text": [
      "[[0, 3], [2, 6], [1, 9]]\n",
      "3 3\n",
      "10 9\n",
      "27 18\n",
      "27\n"
     ]
    },
    {
     "data": {
      "text/plain": [
       "9"
      ]
     },
     "execution_count": 99,
     "metadata": {},
     "output_type": "execute_result"
    }
   ],
   "source": [
    "jobs = [[0, 3], [1, 9], [2, 6]]\n",
    "solution(jobs)"
   ]
  },
  {
   "cell_type": "code",
   "execution_count": 100,
   "metadata": {},
   "outputs": [
    {
     "name": "stdout",
     "output_type": "stream",
     "text": [
      "[[0, 3], [4, 2], [2, 4]]\n",
      "3 3\n",
      "5 6\n",
      "13 10\n",
      "13\n"
     ]
    },
    {
     "data": {
      "text/plain": [
       "4"
      ]
     },
     "execution_count": 100,
     "metadata": {},
     "output_type": "execute_result"
    }
   ],
   "source": [
    "jobs = [[0, 3], [2, 4], [4, 2]]\n",
    "solution(jobs)"
   ]
  },
  {
   "cell_type": "code",
   "execution_count": 102,
   "metadata": {},
   "outputs": [
    {
     "name": "stdout",
     "output_type": "stream",
     "text": [
      "[[1, 4], [0, 7], [2, 8]]\n",
      "4 5\n",
      "16 12\n",
      "34 20\n",
      "34\n"
     ]
    },
    {
     "data": {
      "text/plain": [
       "11"
      ]
     },
     "execution_count": 102,
     "metadata": {},
     "output_type": "execute_result"
    }
   ],
   "source": [
    "jobs = [[0, 7], [1, 4], [2, 8]]\n",
    "solution(jobs)"
   ]
  },
  {
   "cell_type": "markdown",
   "metadata": {},
   "source": [
    "Result -> 15.0/100.0"
   ]
  },
  {
   "cell_type": "markdown",
   "metadata": {},
   "source": [
    "규칙을 찾아서 heapify 하려고 했으니 실패!!"
   ]
  },
  {
   "cell_type": "markdown",
   "metadata": {},
   "source": [
    "---"
   ]
  },
  {
   "cell_type": "code",
   "execution_count": 1,
   "metadata": {},
   "outputs": [],
   "source": [
    "class Heap:\n",
    "    heap = []\n",
    "    heap_size = 0\n",
    "    \n",
    "    def __init__(self):\n",
    "        self.heap = [None]\n",
    "    \n",
    "    def insert(self, item):\n",
    "        self.heap.append(item)\n",
    "        self.heap_size += 1\n",
    "        \n",
    "        i = self.heap_size\n",
    "        while i > 1:\n",
    "            if self.heap[int(i/2)] > self.heap[i]:\n",
    "                self.heap[int(i/2)], self.heap[i] = self.heap[i], self.heap[int(i/2)]\n",
    "            else:\n",
    "                break\n",
    "                \n",
    "            i = int(i / 2)\n",
    "    \n",
    "    def min(self):\n",
    "        return self.heap[1]"
   ]
  },
  {
   "cell_type": "code",
   "execution_count": 2,
   "metadata": {},
   "outputs": [],
   "source": [
    "def calc_avg_time(jobs):\n",
    "    job_time = 0\n",
    "    job_time_only = 0\n",
    "    for i, (start, t) in enumerate(jobs):\n",
    "        if i == 0 or start > job_time_only:\n",
    "            add_time = t\n",
    "        else:\n",
    "            add_time = t + (job_time_only - start)\n",
    "        job_time += add_time\n",
    "        \n",
    "        if i == 0:\n",
    "            add_time = t + start\n",
    "        elif start > job_time_only:\n",
    "            add_time = t + (start - job_time_only)\n",
    "        else:\n",
    "            add_time = t\n",
    "        job_time_only += add_time\n",
    "        \n",
    "    return int(job_time / len(jobs))"
   ]
  },
  {
   "cell_type": "code",
   "execution_count": 3,
   "metadata": {},
   "outputs": [],
   "source": [
    "from itertools import permutations\n",
    "\n",
    "def solution(jobs):\n",
    "    heap = Heap()\n",
    "    for job in permutations(jobs):\n",
    "        heap.insert(calc_avg_time(job))\n",
    "\n",
    "    return heap.min()"
   ]
  },
  {
   "cell_type": "code",
   "execution_count": 53,
   "metadata": {},
   "outputs": [],
   "source": [
    "from itertools import permutations\n",
    "\n",
    "def solution(jobs):\n",
    "    answer = []\n",
    "    for job in permutations(jobs):\n",
    "        answer.append(calc_avg_time(job))\n",
    "\n",
    "    return min(answer)"
   ]
  },
  {
   "cell_type": "code",
   "execution_count": 4,
   "metadata": {},
   "outputs": [
    {
     "data": {
      "text/plain": [
       "9"
      ]
     },
     "execution_count": 4,
     "metadata": {},
     "output_type": "execute_result"
    }
   ],
   "source": [
    "jobs = [[0, 3], [1, 9], [2, 6]]\n",
    "solution(jobs)"
   ]
  },
  {
   "cell_type": "code",
   "execution_count": 5,
   "metadata": {},
   "outputs": [
    {
     "data": {
      "text/plain": [
       "4"
      ]
     },
     "execution_count": 5,
     "metadata": {},
     "output_type": "execute_result"
    }
   ],
   "source": [
    "jobs = [[0, 3], [2, 4], [4, 2]]\n",
    "solution(jobs)"
   ]
  },
  {
   "cell_type": "code",
   "execution_count": 7,
   "metadata": {},
   "outputs": [
    {
     "data": {
      "text/plain": [
       "11"
      ]
     },
     "execution_count": 7,
     "metadata": {},
     "output_type": "execute_result"
    }
   ],
   "source": [
    "jobs = [[0, 7], [1, 4], [2, 8]]\n",
    "solution(jobs)"
   ]
  },
  {
   "cell_type": "code",
   "execution_count": 9,
   "metadata": {},
   "outputs": [
    {
     "data": {
      "text/plain": [
       "18"
      ]
     },
     "execution_count": 9,
     "metadata": {},
     "output_type": "execute_result"
    }
   ],
   "source": [
    "jobs = [[0, 3], [1, 9], [2, 6], [0, 7], [1, 4], [2, 8], [0, 3], [2, 4], [4, 2]]\n",
    "solution(jobs)"
   ]
  },
  {
   "cell_type": "markdown",
   "metadata": {},
   "source": [
    "Result -> 35.0/100.0"
   ]
  },
  {
   "cell_type": "markdown",
   "metadata": {},
   "source": [
    "---"
   ]
  },
  {
   "cell_type": "code",
   "execution_count": 52,
   "metadata": {},
   "outputs": [],
   "source": [
    "import numpy as np\n",
    "from copy import deepcopy\n",
    "\n",
    "class Heap:\n",
    "    heap = None\n",
    "    heap_size = None\n",
    "    job_time = None\n",
    "    \n",
    "    def __init__(self):\n",
    "        self.heap = [None]\n",
    "        self.heap_size = 0\n",
    "        self.job_time = 0\n",
    "    \n",
    "    def insert(self, job):\n",
    "        self.heap.append(self.Element(job))\n",
    "        self.heap_size += 1\n",
    "        \n",
    "        i = self.heap_size\n",
    "        while i > 1:\n",
    "            if self.heap[int(i/2)].job_time > self.heap[i].job_time:\n",
    "                self.heap[int(i/2)], self.heap[i] = self.heap[i], self.heap[int(i/2)]\n",
    "            else:\n",
    "                break\n",
    "                \n",
    "            i = int(i / 2)\n",
    "            \n",
    "    def delete(self):\n",
    "        if self.heap_size == 0:\n",
    "            return 0\n",
    "        \n",
    "        item = deepcopy(self.heap[1])\n",
    "        self.heap[1] = deepcopy(self.heap[self.heap_size])\n",
    "        self.heap[self.heap_size].job_time = np.Infinity\n",
    "        self.heap_size -= 1\n",
    "        self.job_time += item.job_time + (self.job_time - item.start_time if (self.job_time - item.start_time) >= 0 else 0)\n",
    "        \n",
    "        i = 1\n",
    "        while i*2 <= self.heap_size:\n",
    "            if self.heap[i].job_time < self.heap[i*2].job_time and self.heap[i].job_time < self.heap[i*2+1].job_time:\n",
    "                break\n",
    "            elif self.heap[i*2].job_time < self.heap[i*2+1].job_time:\n",
    "                self.heap[i], self.heap[i*2] = self.heap[i*2], self.heap[i]\n",
    "                i = i * 2\n",
    "            else:\n",
    "                self.heap[i], self.heap[i*2+1] = self.heap[i*2+1], self.heap[i]\n",
    "                i = i * 2 +1\n",
    "                \n",
    "        self.heap.pop()\n",
    "        return item\n",
    "                \n",
    "    def is_empty(self):\n",
    "        return True if self.heap_size == 0 else False\n",
    "    \n",
    "    def size(self):\n",
    "        return self.heap_size\n",
    "                \n",
    "        \n",
    "    class Element:\n",
    "        start_time = None\n",
    "        job_time = None\n",
    "        \n",
    "        def __init__(self, job_info):\n",
    "            self.start_time = job_info[0]\n",
    "            self.job_time = job_info[1]"
   ]
  },
  {
   "cell_type": "code",
   "execution_count": 53,
   "metadata": {},
   "outputs": [],
   "source": [
    "def cmp(job1, job2):\n",
    "    if job1[0] < job2[0]:\n",
    "        return 1\n",
    "    elif job1[0] == job2[0]:\n",
    "        return 0\n",
    "    else:\n",
    "        return -1"
   ]
  },
  {
   "cell_type": "code",
   "execution_count": 54,
   "metadata": {},
   "outputs": [],
   "source": [
    "from functools import cmp_to_key\n",
    "\n",
    "def solution(jobs):\n",
    "    jobs = sorted(jobs, key=cmp_to_key(cmp), reverse=True)\n",
    "    \n",
    "    work_time = 0\n",
    "    total_work_time = 0\n",
    "    remained_works = 0\n",
    "    i = 0\n",
    "    p_queue = Heap()\n",
    "    while True:\n",
    "        while i != len(jobs):\n",
    "            if jobs[i][0] == work_time:\n",
    "                p_queue.insert(jobs[i])\n",
    "                i += 1\n",
    "            else:\n",
    "                break\n",
    "\n",
    "        if remained_works <= 0 and not p_queue.is_empty():\n",
    "            temp = p_queue.delete()\n",
    "            remained_works = temp.job_time\n",
    "            total_work_time += temp.job_time\n",
    "            \n",
    "        total_work_time += p_queue.size()\n",
    "        remained_works -= 1\n",
    "        work_time += 1\n",
    "        \n",
    "        \n",
    "        if p_queue.is_empty() and remained_works == 0 and i == len(jobs):\n",
    "            break\n",
    "\n",
    "    return int(total_work_time / len(jobs))"
   ]
  },
  {
   "cell_type": "code",
   "execution_count": 55,
   "metadata": {},
   "outputs": [
    {
     "data": {
      "text/plain": [
       "9"
      ]
     },
     "execution_count": 55,
     "metadata": {},
     "output_type": "execute_result"
    }
   ],
   "source": [
    "jobs = [[0, 3], [1, 9], [2, 6]]\n",
    "solution(jobs)"
   ]
  },
  {
   "cell_type": "code",
   "execution_count": 56,
   "metadata": {},
   "outputs": [
    {
     "data": {
      "text/plain": [
       "4"
      ]
     },
     "execution_count": 56,
     "metadata": {},
     "output_type": "execute_result"
    }
   ],
   "source": [
    "jobs = [[0, 3], [2, 4], [4, 2]]\n",
    "solution(jobs)"
   ]
  },
  {
   "cell_type": "code",
   "execution_count": 57,
   "metadata": {},
   "outputs": [
    {
     "data": {
      "text/plain": [
       "11"
      ]
     },
     "execution_count": 57,
     "metadata": {},
     "output_type": "execute_result"
    }
   ],
   "source": [
    "jobs = [[0, 7], [1, 4], [2, 8]]\n",
    "solution(jobs)"
   ]
  },
  {
   "cell_type": "code",
   "execution_count": 58,
   "metadata": {},
   "outputs": [
    {
     "data": {
      "text/plain": [
       "18"
      ]
     },
     "execution_count": 58,
     "metadata": {},
     "output_type": "execute_result"
    }
   ],
   "source": [
    "jobs = [[0, 3], [1, 9], [2, 6], [0, 7], [1, 4], [2, 8], [0, 3], [2, 4], [4, 2]]\n",
    "solution(jobs)"
   ]
  },
  {
   "cell_type": "markdown",
   "metadata": {},
   "source": [
    "---"
   ]
  }
 ],
 "metadata": {
  "kernelspec": {
   "display_name": "Python 3",
   "language": "python",
   "name": "python3"
  },
  "language_info": {
   "codemirror_mode": {
    "name": "ipython",
    "version": 3
   },
   "file_extension": ".py",
   "mimetype": "text/x-python",
   "name": "python",
   "nbconvert_exporter": "python",
   "pygments_lexer": "ipython3",
   "version": "3.7.1"
  }
 },
 "nbformat": 4,
 "nbformat_minor": 2
}
