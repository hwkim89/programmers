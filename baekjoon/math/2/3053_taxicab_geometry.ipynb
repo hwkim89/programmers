{
 "cells": [
  {
   "cell_type": "markdown",
   "metadata": {},
   "source": [
    "# 택시 기하학"
   ]
  },
  {
   "cell_type": "markdown",
   "metadata": {},
   "source": [
    "## 문제 링크"
   ]
  },
  {
   "cell_type": "markdown",
   "metadata": {},
   "source": [
    "* https://www.acmicpc.net/problem/3053"
   ]
  },
  {
   "cell_type": "markdown",
   "metadata": {},
   "source": [
    "## 최종 코드"
   ]
  },
  {
   "cell_type": "code",
   "execution_count": 11,
   "metadata": {},
   "outputs": [
    {
     "name": "stdout",
     "output_type": "stream",
     "text": [
      "1\n",
      "3.141592653589793\n",
      "2.0\n"
     ]
    }
   ],
   "source": [
    "from math import pi\n",
    "\n",
    "def get_circle_area(r, method):\n",
    "    if method == 'EUCLIDEAN':\n",
    "        return pi * r**2\n",
    "    else: # Taxicab\n",
    "        return 2 * r**2\n",
    "    \n",
    "R = float(input())\n",
    "METHOD = ['EUCLIDEAN', 'TAXICAB']\n",
    "for method in METHOD:\n",
    "    print(get_circle_area(R, method))"
   ]
  },
  {
   "cell_type": "markdown",
   "metadata": {},
   "source": [
    "### 시간 복잡도"
   ]
  },
  {
   "cell_type": "code",
   "execution_count": null,
   "metadata": {},
   "outputs": [],
   "source": []
  },
  {
   "cell_type": "markdown",
   "metadata": {},
   "source": [
    "## 테스트 코드"
   ]
  },
  {
   "cell_type": "code",
   "execution_count": 5,
   "metadata": {},
   "outputs": [],
   "source": [
    "from math import pi\n",
    "\n",
    "def get_circle_area(r, method):\n",
    "    if method == 'EUCLIDEAN':\n",
    "        return pi * r**2\n",
    "    else: # Taxicab\n",
    "        return 2 * r**2"
   ]
  },
  {
   "cell_type": "code",
   "execution_count": 6,
   "metadata": {},
   "outputs": [
    {
     "name": "stdout",
     "output_type": "stream",
     "text": [
      "1\n",
      "3.141592653589793\n",
      "2.0\n"
     ]
    }
   ],
   "source": [
    "R = float(input())\n",
    "METHOD = ['EUCLIDEAN', 'TAXICAB']\n",
    "for method in METHOD:\n",
    "    print(get_circle_area(R, method))"
   ]
  },
  {
   "cell_type": "markdown",
   "metadata": {},
   "source": [
    "### 예제 입출력"
   ]
  },
  {
   "cell_type": "code",
   "execution_count": 8,
   "metadata": {},
   "outputs": [
    {
     "name": "stdout",
     "output_type": "stream",
     "text": [
      "3.141592653589793\n",
      "2.0\n"
     ]
    }
   ],
   "source": [
    "R = 1.0\n",
    "METHOD = ['EUCLIDEAN', 'TAXICAB']\n",
    "for method in METHOD:\n",
    "    print(get_circle_area(R, method))"
   ]
  },
  {
   "cell_type": "code",
   "execution_count": 7,
   "metadata": {},
   "outputs": [
    {
     "name": "stdout",
     "output_type": "stream",
     "text": [
      "12.566370614359172\n",
      "8.0\n"
     ]
    }
   ],
   "source": [
    "R = 2.0\n",
    "METHOD = ['EUCLIDEAN', 'TAXICAB']\n",
    "for method in METHOD:\n",
    "    print(get_circle_area(R, method))"
   ]
  },
  {
   "cell_type": "code",
   "execution_count": 10,
   "metadata": {},
   "outputs": [
    {
     "name": "stdout",
     "output_type": "stream",
     "text": [
      "7.0685834705770345\n",
      "4.5\n"
     ]
    }
   ],
   "source": [
    "R = 1.5\n",
    "METHOD = ['EUCLIDEAN', 'TAXICAB']\n",
    "for method in METHOD:\n",
    "    print(get_circle_area(R, method))"
   ]
  }
 ],
 "metadata": {
  "kernelspec": {
   "display_name": "Python 3",
   "language": "python",
   "name": "python3"
  },
  "language_info": {
   "codemirror_mode": {
    "name": "ipython",
    "version": 3
   },
   "file_extension": ".py",
   "mimetype": "text/x-python",
   "name": "python",
   "nbconvert_exporter": "python",
   "pygments_lexer": "ipython3",
   "version": "3.7.3"
  }
 },
 "nbformat": 4,
 "nbformat_minor": 2
}
