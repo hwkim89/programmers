{
 "cells": [
  {
   "cell_type": "markdown",
   "metadata": {},
   "source": [
    "# 전기버스2"
   ]
  },
  {
   "cell_type": "markdown",
   "metadata": {},
   "source": [
    "## 문제 링크"
   ]
  },
  {
   "cell_type": "markdown",
   "metadata": {},
   "source": [
    "* https://swexpertacademy.com/main/learn/course/subjectList.do?courseId=AVuPDYSqAAbw5UW6\n",
    "* 위 링크에서 \"파이썬 SW문제해결 응용-구현5 → 백트랙킹 → 5일차 - 전기버스2\" 문제로 선택"
   ]
  },
  {
   "cell_type": "markdown",
   "metadata": {},
   "source": [
    "## 코드"
   ]
  },
  {
   "cell_type": "code",
   "execution_count": 7,
   "metadata": {},
   "outputs": [],
   "source": [
    "def backtracking(cur_idx, change_num, min_change_num, bus_stops, n_bus_stops):\n",
    "    \"\"\"배터리의 최소 교체 횟수를 반환하는 함수\n",
    "    Args:\n",
    "        cur_idx:현재 버스 정류장 번호\n",
    "        change_num: 현재 배터리 교체 횟수\n",
    "        min_change_num: 최소 배터리 교체 횟수\n",
    "        bust_stops: 버스 정류장 정보 (교체 가능한 배터리 용량)\n",
    "        n_bus_stops: 교체 가능한 총 버스 정류장 수\n",
    "        \n",
    "    Returns:\n",
    "        min_change_num: 최소 배터리 교체 횟수        \n",
    "    \"\"\"\n",
    "    # 최소 배터리 교체 수보다 현재 배터리 교체 수가 큰 경우,\n",
    "    # 최소 배터리 교체 수 반환\n",
    "    if min_change_num < change_num:\n",
    "        return min_change_num\n",
    "    \n",
    "    # 현재 버스 정류장 번호가 총 버스 정류장 수 이상인 경우,\n",
    "    # 현재 배터리 교체 수 반환\n",
    "    if cur_idx >= n_bus_stops:\n",
    "        return change_num\n",
    "    \n",
    "    # 현재 버스 정류장에서 교체된 배터리를 이용하여,\n",
    "    # 갈 수 있는 모든 버스 정류장에서의 최소 배터리 교체수 구하기\n",
    "    # (이동할 수 있는 가장 먼 거리의 버스 정류장부터 확인하는 이유:\n",
    "    #  최소 배터리 교체 수로 종점에 도착할 가능성이 높기 때문에)\n",
    "    count = bus_stops[cur_idx]\n",
    "    for i in range(count, 0, -1):\n",
    "        min_change_num = backtracking(cur_idx + i, change_num + 1, min_change_num,\n",
    "                                      bus_stops, n_bus_stops)\n",
    "        \n",
    "    return min_change_num"
   ]
  },
  {
   "cell_type": "code",
   "execution_count": 2,
   "metadata": {},
   "outputs": [
    {
     "name": "stdout",
     "output_type": "stream",
     "text": [
      "3\n",
      "5 2 3 1 1\n",
      "#1 1\n",
      "10 2 1 3 2 2 5 4 2 1\n",
      "#2 2\n",
      "10 1 1 2 1 2 2 1 2 1\n",
      "#3 5\n"
     ]
    }
   ],
   "source": [
    "# 1번 정류장에서 배터리 교체하는 상황을 고려해서 INIT_CHANGE_NUM을 -1로 함\n",
    "START_IDX, INIT_CHANGE_NUM = 1, -1\n",
    "\n",
    "T = int(input())\n",
    "for t_num in range(T):\n",
    "    min_change_num = float('inf')\n",
    "    bus_stops = list(map(int, input().split()))\n",
    "    min_change_num = backtracking(START_IDX, INIT_CHANGE_NUM, min_change_num, bus_stops, len(bus_stops))\n",
    "    print(f'#{t_num+1} {min_change_num}')"
   ]
  },
  {
   "cell_type": "markdown",
   "metadata": {},
   "source": [
    "#### 예제"
   ]
  },
  {
   "cell_type": "code",
   "execution_count": 8,
   "metadata": {
    "scrolled": true
   },
   "outputs": [
    {
     "name": "stdout",
     "output_type": "stream",
     "text": [
      "#1 1\n",
      "#2 2\n",
      "#3 5\n"
     ]
    }
   ],
   "source": [
    "START_IDX, INIT_CHANGE_NUM = 1, -1\n",
    "BUS_STOPS = ['5 2 3 1 1', '10 2 1 3 2 2 5 4 2 1', '10 1 1 2 1 2 2 1 2 1']\n",
    "for bs_num, info in enumerate(BUS_STOPS):\n",
    "    min_change_num = float('inf')\n",
    "    bus_stops = list(map(int, info.split()))\n",
    "    min_change_num = backtracking(START_IDX, INIT_CHANGE_NUM, min_change_num, bus_stops, len(bus_stops))\n",
    "    print(f'#{bs_num+1} {min_change_num}')"
   ]
  },
  {
   "cell_type": "markdown",
   "metadata": {},
   "source": [
    "### Fail"
   ]
  },
  {
   "cell_type": "markdown",
   "metadata": {},
   "source": [
    "10개 중 5개 맞춤 (시간초과)"
   ]
  },
  {
   "cell_type": "code",
   "execution_count": 1,
   "metadata": {},
   "outputs": [],
   "source": [
    "def get_min_change_num(cur_bus_stop, battery, change_num, min_change_num, n_bus_stop, b_capacities, MAX_CHANGE_NUM=50):\n",
    "    if cur_bus_stop == n_bus_stop or battery - (n_bus_stop - cur_bus_stop) >= 0:\n",
    "        return min(min_change_num, change_num)\n",
    "    \n",
    "    # 배터리 사용\n",
    "    battery -= 1\n",
    "    \n",
    "    # 현재 정류장에서 충전하는 경우\n",
    "    min_change_num_for_charge = get_min_change_num(cur_bus_stop + 1, b_capacities[cur_bus_stop-1], change_num + 1,\n",
    "                                                   min_change_num, n_bus_stop, b_capacities)\n",
    "    \n",
    "    # 현재 정류장에서 충전하지 않는 경우\n",
    "    if battery > 0:\n",
    "        min_change_num_for_no_charge = get_min_change_num(cur_bus_stop + 1, battery, change_num,\n",
    "                                                          min_change_num, n_bus_stop, b_capacities)\n",
    "    else:\n",
    "        min_change_num_for_no_charge = MAX_CHANGE_NUM\n",
    "            \n",
    "    return min(min_change_num_for_charge, min_change_num_for_no_charge)"
   ]
  },
  {
   "cell_type": "code",
   "execution_count": null,
   "metadata": {},
   "outputs": [],
   "source": [
    "MAX_CHANGE_NUM = 50\n",
    "T = int(input())\n",
    "for i in range(T):\n",
    "    cur_bus_stop, battery, change_num, min_change_num = 1, 0, 0, MAX_CHANGE_NUM\n",
    "    info = list(map(int, input().split()))\n",
    "    n_bus_stop, b_capacities = info[0], info[1:]\n",
    "    \n",
    "    min_change_num = get_min_change_num(cur_bus_stop, battery, change_num, min_change_num, n_bus_stop, b_capacities) - 1\n",
    "    print(f'#{i+1} {min_change_num}')"
   ]
  },
  {
   "cell_type": "markdown",
   "metadata": {},
   "source": [
    "#### 예제"
   ]
  },
  {
   "cell_type": "code",
   "execution_count": 2,
   "metadata": {
    "scrolled": false
   },
   "outputs": [
    {
     "name": "stdout",
     "output_type": "stream",
     "text": [
      "#1 1\n",
      "#2 2\n",
      "#3 5\n"
     ]
    }
   ],
   "source": [
    "MAX_CHANGE_NUM = 50\n",
    "infos = ['5 2 3 1 1', '10 2 1 3 2 2 5 4 2 1', '10 1 1 2 1 2 2 1 2 1']\n",
    "for i, info in enumerate(infos):\n",
    "    cur_bus_stop, battery, change_num, min_change_num = 1, 0, 0, MAX_CHANGE_NUM\n",
    "    info = list(map(int, info.split()))\n",
    "    n_bus_stop, b_capacities = info[0], info[1:]\n",
    "    \n",
    "    min_change_num = get_min_change_num(cur_bus_stop, battery, change_num, min_change_num, n_bus_stop, b_capacities) - 1\n",
    "    print(f'#{i+1} {min_change_num}')"
   ]
  },
  {
   "cell_type": "markdown",
   "metadata": {},
   "source": [
    "### 시간 복잡도"
   ]
  },
  {
   "cell_type": "code",
   "execution_count": null,
   "metadata": {},
   "outputs": [],
   "source": []
  },
  {
   "cell_type": "markdown",
   "metadata": {},
   "source": [
    "## 참조"
   ]
  },
  {
   "cell_type": "markdown",
   "metadata": {},
   "source": [
    "* https://mungto.tistory.com/219"
   ]
  }
 ],
 "metadata": {
  "kernelspec": {
   "display_name": "Python 3",
   "language": "python",
   "name": "python3"
  },
  "language_info": {
   "codemirror_mode": {
    "name": "ipython",
    "version": 3
   },
   "file_extension": ".py",
   "mimetype": "text/x-python",
   "name": "python",
   "nbconvert_exporter": "python",
   "pygments_lexer": "ipython3",
   "version": "3.7.4"
  }
 },
 "nbformat": 4,
 "nbformat_minor": 2
}
