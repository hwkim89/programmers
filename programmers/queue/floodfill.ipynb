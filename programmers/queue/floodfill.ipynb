{
 "cells": [
  {
   "cell_type": "markdown",
   "metadata": {},
   "source": [
    "# FloodFill"
   ]
  },
  {
   "cell_type": "markdown",
   "metadata": {},
   "source": [
    "## 문제 설명"
   ]
  },
  {
   "cell_type": "markdown",
   "metadata": {},
   "source": [
    "n x m 크기 도화지에 그려진 그림의 색깔이 2차원 리스트로 주어집니다. 같은 색깔은 같은 숫자로 나타난다고 할 때, 그림에 있는 영역은 총 몇 개인지 알아내려 합니다. 영역이란 상하좌우로 연결된 같은 색상의 공간을 말합니다.\n",
    "\n",
    "예를 들어, [[1,2,3], [3,2,1]] 같은 리스트는 다음과 같이 표현할 수 있습니다.\n",
    "\n",
    "![image](floodfill_1.png)\n",
    "\n",
    "이때, 이 그림에는 총 5개 영역이 있습니다.\n",
    "\n",
    "도화지의 크기 n과 m, 도화지에 칠한 색깔 image가 주어질 때, 그림에서 영역이 몇 개 있는지 리턴하는 solution 함수를 작성해주세요."
   ]
  },
  {
   "cell_type": "markdown",
   "metadata": {},
   "source": [
    "## 제한사항"
   ]
  },
  {
   "cell_type": "markdown",
   "metadata": {},
   "source": [
    "* n과 m은 1 이상 250 이하인 정수입니다.\n",
    "* 그림의 색깔은 1 이상 30000 미만인 정수로만 주어집니다."
   ]
  },
  {
   "cell_type": "markdown",
   "metadata": {},
   "source": [
    "## 입출력 예"
   ]
  },
  {
   "cell_type": "markdown",
   "metadata": {},
   "source": [
    "| n | m | images                   | 정답 |\n",
    "| - | - | ------------------------ | --- |\n",
    "| 2 | 3 | [[1, 2, 3], [3, 2, 1]]   | 5   |\n",
    "| 3 | 2 | [[1, 2], [1, 2], [4, 5]] | 4   |"
   ]
  },
  {
   "cell_type": "markdown",
   "metadata": {},
   "source": [
    "### 입출력 예 설명"
   ]
  },
  {
   "cell_type": "markdown",
   "metadata": {},
   "source": [
    "##### 입출력 예 #1"
   ]
  },
  {
   "cell_type": "markdown",
   "metadata": {},
   "source": [
    "앞서 설명한 예와 같습니다."
   ]
  },
  {
   "cell_type": "markdown",
   "metadata": {},
   "source": [
    "##### 입출력 예 #2"
   ]
  },
  {
   "cell_type": "markdown",
   "metadata": {},
   "source": [
    "주어진 이미지는 다음과 같이 표현할 수 있습니다.\n",
    "\n",
    "![image](floodfill_2.png)\n",
    "\n",
    "따라서 이 이미지에는 4개 영역이 있습니다."
   ]
  },
  {
   "cell_type": "markdown",
   "metadata": {},
   "source": [
    "## 코드"
   ]
  },
  {
   "cell_type": "markdown",
   "metadata": {},
   "source": [
    "### 실패한 코드"
   ]
  },
  {
   "cell_type": "markdown",
   "metadata": {},
   "source": [
    "#### Version 1"
   ]
  },
  {
   "cell_type": "code",
   "execution_count": 107,
   "metadata": {},
   "outputs": [],
   "source": [
    "from collections import deque\n",
    "\n",
    "def solution(n, m, image):\n",
    "    indexes = set([(i, j) for i in range(n) for j in range(m)])\n",
    "    queue = deque([(0, 0)])\n",
    "    count = 0\n",
    "    visited = []\n",
    "    while True:\n",
    "        # Find same color area in an image\n",
    "        cur_i, cur_j = queue[0]\n",
    "        color = image[cur_i][cur_j]\n",
    "        for i, j in indexes:\n",
    "            diff_loc = abs(cur_i - i) + abs(cur_j - j)\n",
    "            if (cur_i != i or cur_j != j) and image[i][j] == color and diff_loc <= 1:\n",
    "                queue.append((i, j))\n",
    "        \n",
    "        # Remove visited indexes\n",
    "        visited = []\n",
    "        while len(queue) > 0:\n",
    "            visited.append(queue.popleft())\n",
    "        indexes -= set(visited)\n",
    "        count += 1\n",
    "        if len(indexes) == 0:\n",
    "            break\n",
    "            \n",
    "        queue.append(indexes.pop())\n",
    "    return count"
   ]
  },
  {
   "cell_type": "markdown",
   "metadata": {},
   "source": [
    "#### 시간 복잡도"
   ]
  },
  {
   "cell_type": "markdown",
   "metadata": {},
   "source": [
    "* 최악의 경우\n",
    "    * 색상이 모두 다르면 색상의 종류는 30,000개\n",
    "    * indexes의 최대 길이는 62,500\n",
    "    * indexes가 1개씩 줄어들어,\n",
    "        * 62500 * 30000 + (62500-1) * 30000 + ... 1 * 30000\n",
    "        * 30000 * {(62500 + 62501) / 2} = 1,875,015,000\n",
    "        * 시간초과가 당연하다..."
   ]
  },
  {
   "cell_type": "markdown",
   "metadata": {},
   "source": [
    "#### Version 2"
   ]
  },
  {
   "cell_type": "code",
   "execution_count": 183,
   "metadata": {},
   "outputs": [],
   "source": [
    "from collections import deque\n",
    "\n",
    "def solution(n, m, image):\n",
    "    indexes = set([(i, j) for i in range(n) for j in range(m)])\n",
    "    visited = []\n",
    "    count = 0\n",
    "    while len(indexes) > 0:\n",
    "        # Find same color area in an image\n",
    "        i, j = indexes.pop()\n",
    "        same_area_indexes = deque([(i, j)])\n",
    "        while len(same_area_indexes) > 0:\n",
    "            i, j = same_area_indexes.popleft()\n",
    "            visited.append((i, j))\n",
    "            # Up\n",
    "            if (i-1) >= 0 and (i-1, j) not in visited and image[i-1][j] == image[i][j]:\n",
    "                same_area_indexes.append((i-1, j))\n",
    "            # Down\n",
    "            if (i+1) < n and (i+1, j) not in visited and image[i+1][j] == image[i][j]:\n",
    "                same_area_indexes.append((i+1, j))\n",
    "            # Left\n",
    "            if (j-1) >= 0 and (i, j-1) not in visited and image[i][j-1] == image[i][j]:\n",
    "                same_area_indexes.append((i, j-1))\n",
    "            # Right\n",
    "            if (j+1) < m and (i, j+1) not in visited and image[i][j+1] == image[i][j]:\n",
    "                same_area_indexes.append((i, j+1))\n",
    "        \n",
    "        indexes -= set(visited)\n",
    "        count += 1\n",
    "    return count"
   ]
  },
  {
   "cell_type": "markdown",
   "metadata": {},
   "source": [
    "#### Version 3"
   ]
  },
  {
   "cell_type": "code",
   "execution_count": 231,
   "metadata": {},
   "outputs": [],
   "source": [
    "from collections import deque\n",
    "\n",
    "def solution(n, m, image):\n",
    "    indexes = [(i, j) for i in range(n) for j in range(m)]\n",
    "    visited_count = 0\n",
    "    count = 0\n",
    "    while len(indexes) > visited_count:\n",
    "        for i, j in indexes:\n",
    "            if image[i][j] != 0:\n",
    "                break\n",
    "                \n",
    "        same_area_indexes = deque([(i, j)])\n",
    "        while len(same_area_indexes) > 0:\n",
    "            i, j = same_area_indexes.popleft()\n",
    "            for n_i, n_j in [(i-1, j), (i+1, j), (i, j-1), (i, j+1)]:\n",
    "                if -1 < n_i < n and -1 < n_j < m and image[n_i][n_j] != 0 and image[n_i][n_j] == image[i][j]:\n",
    "                    same_area_indexes.append((n_i, n_j))\n",
    "            image[i][j] = 0\n",
    "            visited_count += 1\n",
    "        count += 1\n",
    "    return count"
   ]
  },
  {
   "cell_type": "markdown",
   "metadata": {},
   "source": [
    "### 성공한 코드"
   ]
  },
  {
   "cell_type": "code",
   "execution_count": 239,
   "metadata": {},
   "outputs": [],
   "source": [
    "from collections import deque\n",
    "\n",
    "def solution(n, m, image):\n",
    "    count = 0\n",
    "    for i in range(n):\n",
    "        for j in range(m):\n",
    "            if image[i][j] == 0:\n",
    "                continue\n",
    "            same_area_indexes = deque([(i, j)])\n",
    "            while len(same_area_indexes) > 0:\n",
    "                b_i, b_j = same_area_indexes.popleft()\n",
    "                for n_i, n_j in [(b_i-1, b_j), (b_i+1, b_j), (b_i, b_j-1), (b_i, b_j+1)]:\n",
    "                    if -1 < n_i < n and -1 < n_j < m and image[n_i][n_j] != 0 and image[n_i][n_j] == image[b_i][b_j]:\n",
    "                        same_area_indexes.append((n_i, n_j))\n",
    "                image[b_i][b_j] = 0\n",
    "            count += 1\n",
    "    return count"
   ]
  },
  {
   "cell_type": "markdown",
   "metadata": {},
   "source": [
    "#### 시간 복잡도"
   ]
  },
  {
   "cell_type": "markdown",
   "metadata": {},
   "source": []
  },
  {
   "cell_type": "markdown",
   "metadata": {},
   "source": [
    "### 예제 1"
   ]
  },
  {
   "cell_type": "code",
   "execution_count": 240,
   "metadata": {
    "scrolled": false
   },
   "outputs": [
    {
     "data": {
      "text/plain": [
       "5"
      ]
     },
     "execution_count": 240,
     "metadata": {},
     "output_type": "execute_result"
    }
   ],
   "source": [
    "n = 2\n",
    "m = 3\n",
    "image = [[1, 2, 3], [3, 2, 1]]\n",
    "solution(n, m, image)"
   ]
  },
  {
   "cell_type": "markdown",
   "metadata": {},
   "source": [
    "### 예제 2"
   ]
  },
  {
   "cell_type": "code",
   "execution_count": 241,
   "metadata": {},
   "outputs": [
    {
     "data": {
      "text/plain": [
       "4"
      ]
     },
     "execution_count": 241,
     "metadata": {},
     "output_type": "execute_result"
    }
   ],
   "source": [
    "n = 3\n",
    "m = 2\n",
    "image = [[1, 2], [1, 2], [4, 5]]\n",
    "solution(n, m, image)"
   ]
  },
  {
   "cell_type": "markdown",
   "metadata": {},
   "source": [
    "## 추가 사항"
   ]
  },
  {
   "cell_type": "markdown",
   "metadata": {},
   "source": [
    "* 범위를 제한할 때 사용할 수 있는 새로운 방법을 알게 되었다.\n",
    "* 방문 여부를 나타낼 때, 이를 새로운 변수보다는 기존 변수를 사용해서 확인할 수 있게 만드는 것이 중요하다는 생각이 들었다.\n",
    "* Queue를 사용하면 좋다는 것을 아니까 생각을 자꾸 거기에 끼워 맞추게 되는 경향이 있다."
   ]
  }
 ],
 "metadata": {
  "kernelspec": {
   "display_name": "Python 3",
   "language": "python",
   "name": "python3"
  },
  "language_info": {
   "codemirror_mode": {
    "name": "ipython",
    "version": 3
   },
   "file_extension": ".py",
   "mimetype": "text/x-python",
   "name": "python",
   "nbconvert_exporter": "python",
   "pygments_lexer": "ipython3",
   "version": "3.7.3"
  }
 },
 "nbformat": 4,
 "nbformat_minor": 2
}
