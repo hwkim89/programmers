{
 "cells": [
  {
   "cell_type": "markdown",
   "metadata": {},
   "source": [
    "# 여행 경로"
   ]
  },
  {
   "cell_type": "markdown",
   "metadata": {},
   "source": [
    "## 문제 설명"
   ]
  },
  {
   "cell_type": "markdown",
   "metadata": {},
   "source": [
    "주어진 항공권을 모두 이용하여 여행경로를 짜려고 합니다. 항상 ICN 공항에서 출발합니다.\n",
    "\n",
    "항공권 정보가 담긴 2차원 배열 tickets가 매개변수로 주어질 때, 방문하는 공항 경로를 배열에 담아 return 하도록 solution 함수를 작성해주세요."
   ]
  },
  {
   "cell_type": "markdown",
   "metadata": {},
   "source": [
    "## 제한사항"
   ]
  },
  {
   "cell_type": "markdown",
   "metadata": {},
   "source": [
    "* 모든 공항은 알파벳 대문자 3글자로 이루어집니다.\n",
    "* 주어진 공항 수는 3개 이상 10,000개 이하입니다.\n",
    "* tickets의 각 행 [a, b]는 a 공항에서 b 공항으로 가는 항공권이 있다는 의미입니다.\n",
    "* 주어진 항공권은 모두 사용해야 합니다.\n",
    "* 만일 가능한 경로가 2개 이상일 경우 알파벳 순서가 앞서는 경로를 return 합니다.\n",
    "* 모든 도시를 방문할 수 없는 경우는 주어지지 않습니다."
   ]
  },
  {
   "cell_type": "markdown",
   "metadata": {},
   "source": [
    "## 입출력 예"
   ]
  },
  {
   "cell_type": "markdown",
   "metadata": {},
   "source": [
    "| tickets                                                     | return                         |\n",
    "| ----------------------------------------------------------- | ------------------------------ |\n",
    "| [[ICN, JFK], [HND, IAD], [JFK, HND]]                        | [ICN, JFK, HND, IAD]           |\n",
    "| [[ICN, SFO], [ICN, ATL], [SFO, ATL], [ATL, ICN], [ATL,SFO]] | [ICN, ATL, ICN, SFO, ATL, SFO] |"
   ]
  },
  {
   "cell_type": "markdown",
   "metadata": {},
   "source": [
    "### 입출력 예 설명"
   ]
  },
  {
   "cell_type": "markdown",
   "metadata": {},
   "source": [
    "* 예제 #1\n",
    "    * [ICN, JFK, HND, IAD] 순으로 방문할 수 있습니다.\n",
    "\n",
    "* 예제 #2\n",
    "    * [ICN, SFO, ATL, ICN, ATL, SFO] 순으로 방문할 수도 있지만 [ICN, ATL, ICN, SFO, ATL, SFO] 가 알파벳 순으로 앞섭니다."
   ]
  },
  {
   "cell_type": "markdown",
   "metadata": {},
   "source": [
    "## 코드"
   ]
  },
  {
   "cell_type": "markdown",
   "metadata": {},
   "source": [
    "### 실패한 코드"
   ]
  },
  {
   "cell_type": "code",
   "execution_count": 99,
   "metadata": {},
   "outputs": [],
   "source": [
    "def dfs(route, tickets, start):\n",
    "    visited = []\n",
    "    stack = [start]\n",
    "    prev_city = None\n",
    "    while stack:\n",
    "        city = stack.pop()\n",
    "        if (prev_city, city) in tickets or not prev_city:\n",
    "            visited.append(city)\n",
    "            if prev_city:\n",
    "                tickets.pop(tickets.index((prev_city, city)))\n",
    "            stack.extend(route[city])\n",
    "        prev_city = city\n",
    "    return visited\n",
    "\n",
    "def solution(tickets):\n",
    "    tickets = [(s, e) for s, e in tickets]\n",
    "    cities = {city for cities in tickets for city in cities}\n",
    "    route = {city: [] for city in cities}\n",
    "    for start, end in sorted(tickets, key=lambda x: x[1], reverse=True):\n",
    "        route[start].append(end)\n",
    "    path = dfs(route, tickets, 'ICN')\n",
    "    return path"
   ]
  },
  {
   "cell_type": "markdown",
   "metadata": {},
   "source": [
    "### 성공한 코드"
   ]
  },
  {
   "cell_type": "code",
   "execution_count": 109,
   "metadata": {},
   "outputs": [],
   "source": [
    "def dfs(routes, start):\n",
    "    visited = []\n",
    "    stack = [start]\n",
    "    while stack:\n",
    "        city = stack[-1]\n",
    "        if city not in routes or len(routes[city]) == 0:\n",
    "            visited.append((stack.pop()))\n",
    "        else:\n",
    "            stack.append(routes[city].pop())\n",
    "    return visited\n",
    "\n",
    "def solution(tickets):\n",
    "    routes = {}\n",
    "    for start, end in sorted(tickets, key=lambda x: x[1], reverse=True):\n",
    "        routes[start] = routes.get(start, []) + [end]\n",
    "    path = dfs(routes, 'ICN')\n",
    "    return path[::-1]"
   ]
  },
  {
   "cell_type": "code",
   "execution_count": 13,
   "metadata": {},
   "outputs": [],
   "source": [
    "from collections import defaultdict\n",
    "\n",
    "def dfs(routes, start):\n",
    "    stack, visited = [start], []\n",
    "    while stack:\n",
    "        city = stack[-1]\n",
    "        if city in routes and routes[city]:\n",
    "            stack.append(routes[city].pop())\n",
    "        else:\n",
    "            visited.append(stack.pop())\n",
    "            \n",
    "    return visited[::-1]\n",
    "\n",
    "def solution(tickets):\n",
    "    routes = defaultdict(list)\n",
    "    for start, end in sorted(tickets, key=lambda x: x[1], reverse=True):\n",
    "        routes[start].append(end)\n",
    "        \n",
    "    path = dfs(routes, 'ICN')\n",
    "    return path"
   ]
  },
  {
   "cell_type": "code",
   "execution_count": 14,
   "metadata": {},
   "outputs": [
    {
     "data": {
      "text/plain": [
       "['ICN', 'ATL', 'ICN', 'SFO', 'ATL', 'SFO']"
      ]
     },
     "execution_count": 14,
     "metadata": {},
     "output_type": "execute_result"
    }
   ],
   "source": [
    "tickets = [['ICN', 'SFO'], ['ICN', 'ATL'], ['SFO', 'ATL'], ['ATL', 'ICN'], ['ATL', 'SFO']]\n",
    "solution(tickets)"
   ]
  },
  {
   "cell_type": "code",
   "execution_count": 110,
   "metadata": {},
   "outputs": [
    {
     "data": {
      "text/plain": [
       "['ICN', 'ATL', 'ICN', 'SFO', 'ATL', 'SFO']"
      ]
     },
     "execution_count": 110,
     "metadata": {},
     "output_type": "execute_result"
    }
   ],
   "source": [
    "tickets = [['ICN', 'SFO'], ['ICN', 'ATL'], ['SFO', 'ATL'], ['ATL', 'ICN'], ['ATL', 'SFO']]\n",
    "solution(tickets)"
   ]
  },
  {
   "cell_type": "markdown",
   "metadata": {},
   "source": [
    "### 시간 복잡도"
   ]
  },
  {
   "cell_type": "markdown",
   "metadata": {},
   "source": []
  },
  {
   "cell_type": "markdown",
   "metadata": {},
   "source": [
    "### 예제 1"
   ]
  },
  {
   "cell_type": "code",
   "execution_count": 102,
   "metadata": {},
   "outputs": [
    {
     "data": {
      "text/plain": [
       "['ICN', 'JFK', 'HND', 'IAD']"
      ]
     },
     "execution_count": 102,
     "metadata": {},
     "output_type": "execute_result"
    }
   ],
   "source": [
    "tickets = [['ICN', 'JFK'], ['HND', 'IAD'], ['JFK', 'HND']]\n",
    "solution(tickets)"
   ]
  },
  {
   "cell_type": "markdown",
   "metadata": {},
   "source": [
    "### 예제 2"
   ]
  },
  {
   "cell_type": "code",
   "execution_count": 103,
   "metadata": {},
   "outputs": [
    {
     "data": {
      "text/plain": [
       "['ICN', 'ATL', 'ICN', 'SFO', 'ATL', 'SFO']"
      ]
     },
     "execution_count": 103,
     "metadata": {},
     "output_type": "execute_result"
    }
   ],
   "source": [
    "tickets = [['ICN', 'SFO'], ['ICN', 'ATL'], ['SFO', 'ATL'], ['ATL', 'ICN'], ['ATL', 'SFO']]\n",
    "solution(tickets)"
   ]
  }
 ],
 "metadata": {
  "kernelspec": {
   "display_name": "Python 3",
   "language": "python",
   "name": "python3"
  },
  "language_info": {
   "codemirror_mode": {
    "name": "ipython",
    "version": 3
   },
   "file_extension": ".py",
   "mimetype": "text/x-python",
   "name": "python",
   "nbconvert_exporter": "python",
   "pygments_lexer": "ipython3",
   "version": "3.7.4"
  }
 },
 "nbformat": 4,
 "nbformat_minor": 2
}
