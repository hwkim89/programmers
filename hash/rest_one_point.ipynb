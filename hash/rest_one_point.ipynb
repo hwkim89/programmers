{
 "cells": [
  {
   "cell_type": "markdown",
   "metadata": {},
   "source": [
    "# 나머지 한 점"
   ]
  },
  {
   "cell_type": "markdown",
   "metadata": {},
   "source": [
    "## 문제 설명"
   ]
  },
  {
   "cell_type": "markdown",
   "metadata": {},
   "source": [
    "직사각형을 만드는 데 필요한 4개의 점 중 3개의 좌표가 주어질 때, 나머지 한 점의 좌표를 구하려고 합니다. 점 3개의 좌표가 들어있는 배열 v가 매개변수로 주어질 때, 직사각형을 만드는 데 필요한 나머지 한 점의 좌표를 return 하도록 solution 함수를 완성해주세요. 단, 직사각형의 각 변은 x축, y축에 평행하며, 반드시 직사각형을 만들 수 있는 경우만 입력으로 주어집니다."
   ]
  },
  {
   "cell_type": "markdown",
   "metadata": {},
   "source": [
    "## 제한사항"
   ]
  },
  {
   "cell_type": "markdown",
   "metadata": {},
   "source": [
    "* v는 세 점의 좌표가 들어있는 2차원 배열입니다.\n",
    "* v의 각 원소는 점의 좌표를 나타내며, 좌표는 [x축 좌표, y축 좌표] 순으로 주어집니다.\n",
    "* 좌표값은 1 이상 10억 이하의 자연수입니다.\n",
    "* 직사각형을 만드는 데 필요한 나머지 한 점의 좌표를 [x축 좌표, y축 좌표] 순으로 담아 return 해주세요."
   ]
  },
  {
   "cell_type": "markdown",
   "metadata": {},
   "source": [
    "## 입출력 예"
   ]
  },
  {
   "cell_type": "markdown",
   "metadata": {},
   "source": [
    "| v                         | result  |\n",
    "| ------------------------- | ------- |\n",
    "| [[1, 4], [3, 4], [3, 10]] | [1, 10] |\n",
    "| [[1, 1], [2, 2], [1, 2]]  | [2, 1]  |"
   ]
  },
  {
   "cell_type": "markdown",
   "metadata": {},
   "source": [
    "### 입출력 예 설명"
   ]
  },
  {
   "cell_type": "markdown",
   "metadata": {},
   "source": [
    "#### 입출력 예 #1"
   ]
  },
  {
   "cell_type": "markdown",
   "metadata": {},
   "source": [
    "세 점이 [1, 4], [3, 4], [3, 10] 위치에 있을 때, [1, 10]에 점이 위치하면 직사각형이 됩니다."
   ]
  },
  {
   "cell_type": "markdown",
   "metadata": {},
   "source": [
    "#### 입출력 예 #2"
   ]
  },
  {
   "cell_type": "markdown",
   "metadata": {},
   "source": [
    "세 점이 [1, 1], [2, 2], [1, 2] 위치에 있을 때, [2, 1]에 점이 위치하면 직사각형이 됩니다."
   ]
  },
  {
   "cell_type": "markdown",
   "metadata": {},
   "source": [
    "## 코드"
   ]
  },
  {
   "cell_type": "markdown",
   "metadata": {},
   "source": [
    "### Version 1"
   ]
  },
  {
   "cell_type": "code",
   "execution_count": 1,
   "metadata": {},
   "outputs": [],
   "source": [
    "def solution(v):\n",
    "    x_dict, y_dict = {}, {}\n",
    "    for x, y in v:\n",
    "        x_dict[x] = x_dict.get(x, 0) + 1\n",
    "        y_dict[y] = y_dict.get(y, 0) + 1\n",
    "        \n",
    "    rest_x, rest_y = None, None\n",
    "    for x, y in zip(x_dict, y_dict):\n",
    "        if x_dict[x] == 1:\n",
    "            rest_x = x\n",
    "        if y_dict[y] == 1:\n",
    "            rest_y = y\n",
    "\n",
    "    return [rest_x, rest_y]"
   ]
  },
  {
   "cell_type": "markdown",
   "metadata": {},
   "source": [
    "### Version 2"
   ]
  },
  {
   "cell_type": "code",
   "execution_count": 3,
   "metadata": {},
   "outputs": [],
   "source": [
    "from collections import defaultdict\n",
    "\n",
    "def solution(v):\n",
    "    x_dict, y_dict = defaultdict(int), defaultdict(int)\n",
    "    for x, y in v:\n",
    "        x_dict[x] += 1\n",
    "        y_dict[y] += 1\n",
    "        \n",
    "    rest_x, rest_y = None, None\n",
    "    for x, y in zip(x_dict, y_dict):\n",
    "        if x_dict[x] == 1:\n",
    "            rest_x = x\n",
    "        if y_dict[y] == 1:\n",
    "            rest_y = y\n",
    "\n",
    "    return [rest_x, rest_y]"
   ]
  },
  {
   "cell_type": "markdown",
   "metadata": {},
   "source": [
    "### 시간 복잡도"
   ]
  },
  {
   "cell_type": "code",
   "execution_count": null,
   "metadata": {},
   "outputs": [],
   "source": [
    "# N = len(v)\n",
    "# 전체 시간 복잡도: O(N) = O(1)\n",
    "\n",
    "from collections import defaultdict\n",
    "\n",
    "def solution(v):\n",
    "    x_dict, y_dict = defaultdict(int), defaultdict(int)\n",
    "    for x, y in v: # O(N) = O(3) = O(1)\n",
    "        x_dict[x] += 1 # O(1)\n",
    "        y_dict[y] += 1 # O(1)\n",
    "        \n",
    "    rest_x, rest_y = None, None\n",
    "    for x, y in zip(x_dict, y_dict): # O(N-1) = O(2) = O(1)\n",
    "        if x_dict[x] == 1: # O(1)\n",
    "            rest_x = x\n",
    "        if y_dict[y] == 1: # O(1)\n",
    "            rest_y = y\n",
    "\n",
    "    return [rest_x, rest_y]"
   ]
  },
  {
   "cell_type": "markdown",
   "metadata": {},
   "source": [
    "### 예제 1"
   ]
  },
  {
   "cell_type": "code",
   "execution_count": 4,
   "metadata": {},
   "outputs": [
    {
     "data": {
      "text/plain": [
       "[1, 10]"
      ]
     },
     "execution_count": 4,
     "metadata": {},
     "output_type": "execute_result"
    }
   ],
   "source": [
    "v = [[1, 4], [3, 4], [3, 10]]\n",
    "solution(v)"
   ]
  },
  {
   "cell_type": "markdown",
   "metadata": {},
   "source": [
    "### 예제 2"
   ]
  },
  {
   "cell_type": "code",
   "execution_count": 5,
   "metadata": {},
   "outputs": [
    {
     "data": {
      "text/plain": [
       "[2, 1]"
      ]
     },
     "execution_count": 5,
     "metadata": {},
     "output_type": "execute_result"
    }
   ],
   "source": [
    "v = [[1, 1], [2, 2], [1, 2]]\n",
    "solution(v)"
   ]
  }
 ],
 "metadata": {
  "kernelspec": {
   "display_name": "Python 3",
   "language": "python",
   "name": "python3"
  },
  "language_info": {
   "codemirror_mode": {
    "name": "ipython",
    "version": 3
   },
   "file_extension": ".py",
   "mimetype": "text/x-python",
   "name": "python",
   "nbconvert_exporter": "python",
   "pygments_lexer": "ipython3",
   "version": "3.7.3"
  }
 },
 "nbformat": 4,
 "nbformat_minor": 2
}
