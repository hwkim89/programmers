{
 "cells": [
  {
   "cell_type": "markdown",
   "metadata": {},
   "source": [
    "# 단어 변환"
   ]
  },
  {
   "cell_type": "markdown",
   "metadata": {},
   "source": [
    "## 문제 링크"
   ]
  },
  {
   "cell_type": "markdown",
   "metadata": {},
   "source": [
    "* https://programmers.co.kr/learn/courses/30/lessons/43163"
   ]
  },
  {
   "cell_type": "markdown",
   "metadata": {},
   "source": [
    "## 코드"
   ]
  },
  {
   "cell_type": "code",
   "execution_count": 42,
   "metadata": {},
   "outputs": [],
   "source": [
    "from collections import deque\n",
    "\n",
    "def solution(begin, target, words):\n",
    "    def is_transitiable(w1, w2):\n",
    "        count = sum([1 for c1, c2 in zip(w1, w2) if c1 != c2])\n",
    "        return True if count == 1 else False\n",
    "    \n",
    "    if target not in words:\n",
    "        return 0\n",
    "    \n",
    "    queue, visited = deque([(begin, 0)]), set()\n",
    "    while queue:\n",
    "        cur_word, dist = queue.popleft()\n",
    "        if cur_word == target:\n",
    "            return dist\n",
    "            \n",
    "        for next_word in words:\n",
    "            if next_word not in visited \\\n",
    "            and is_transitiable(cur_word, next_word):\n",
    "                queue.append((next_word, dist+1))\n",
    "                visited.add(next_word)"
   ]
  },
  {
   "cell_type": "markdown",
   "metadata": {},
   "source": [
    "### 예제 입출력"
   ]
  },
  {
   "cell_type": "code",
   "execution_count": 43,
   "metadata": {
    "scrolled": true
   },
   "outputs": [
    {
     "data": {
      "text/plain": [
       "4"
      ]
     },
     "execution_count": 43,
     "metadata": {},
     "output_type": "execute_result"
    }
   ],
   "source": [
    "begin, target = 'hit', 'cog'\n",
    "words = ['hot', 'dot', 'lot', 'log', 'cog', 'dog']\n",
    "solution(begin, target, words)"
   ]
  },
  {
   "cell_type": "code",
   "execution_count": 44,
   "metadata": {},
   "outputs": [
    {
     "data": {
      "text/plain": [
       "0"
      ]
     },
     "execution_count": 44,
     "metadata": {},
     "output_type": "execute_result"
    }
   ],
   "source": [
    "begin, target = 'hit', 'cog'\n",
    "words = ['hot', 'dot', 'dog', 'lot', 'log']\n",
    "solution(begin, target, words)"
   ]
  },
  {
   "cell_type": "markdown",
   "metadata": {},
   "source": [
    "### 시간 복잡도"
   ]
  },
  {
   "cell_type": "code",
   "execution_count": null,
   "metadata": {},
   "outputs": [],
   "source": []
  }
 ],
 "metadata": {
  "kernelspec": {
   "display_name": "Python 3",
   "language": "python",
   "name": "python3"
  },
  "language_info": {
   "codemirror_mode": {
    "name": "ipython",
    "version": 3
   },
   "file_extension": ".py",
   "mimetype": "text/x-python",
   "name": "python",
   "nbconvert_exporter": "python",
   "pygments_lexer": "ipython3",
   "version": "3.7.4"
  }
 },
 "nbformat": 4,
 "nbformat_minor": 2
}
