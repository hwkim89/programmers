{
 "cells": [
  {
   "cell_type": "markdown",
   "metadata": {},
   "source": [
    "## 괄호"
   ]
  },
  {
   "cell_type": "markdown",
   "metadata": {},
   "source": [
    "### 문제 링크"
   ]
  },
  {
   "cell_type": "markdown",
   "metadata": {},
   "source": [
    "* https://www.acmicpc.net/problem/9012"
   ]
  },
  {
   "cell_type": "markdown",
   "metadata": {},
   "source": [
    "### 최종 코드"
   ]
  },
  {
   "cell_type": "code",
   "execution_count": 13,
   "metadata": {},
   "outputs": [],
   "source": [
    "def check_vps(p):\n",
    "    stack = []\n",
    "    for ch in p:\n",
    "        if ch == '(':\n",
    "            stack.append(ch)\n",
    "        elif stack and stack[-1] == '(':\n",
    "            stack.pop()\n",
    "        else:\n",
    "            return 'NO'\n",
    "    return 'NO' if stack else 'YES'\n",
    "\n",
    "N = int(input())\n",
    "for _ in range(N):\n",
    "    p = input()\n",
    "    print(check_vps(p))"
   ]
  },
  {
   "cell_type": "markdown",
   "metadata": {},
   "source": [
    "#### 시간복잡도"
   ]
  },
  {
   "cell_type": "code",
   "execution_count": null,
   "metadata": {},
   "outputs": [],
   "source": []
  },
  {
   "cell_type": "markdown",
   "metadata": {},
   "source": [
    "### 코드"
   ]
  },
  {
   "cell_type": "code",
   "execution_count": 15,
   "metadata": {},
   "outputs": [],
   "source": [
    "def check_vps(p):\n",
    "    stack = []\n",
    "    for ch in p:\n",
    "        if ch == '(':\n",
    "            stack.append(ch)\n",
    "        elif stack and stack[-1] == '(':\n",
    "            stack.pop()\n",
    "        else:\n",
    "            return 'NO'\n",
    "    return 'NO' if stack else 'YES'"
   ]
  },
  {
   "cell_type": "markdown",
   "metadata": {},
   "source": [
    "### 예제 입출력"
   ]
  },
  {
   "cell_type": "markdown",
   "metadata": {},
   "source": [
    "#### 예제 1"
   ]
  },
  {
   "cell_type": "code",
   "execution_count": 16,
   "metadata": {},
   "outputs": [
    {
     "name": "stdout",
     "output_type": "stream",
     "text": [
      "NO\n",
      "NO\n",
      "YES\n",
      "NO\n",
      "YES\n",
      "NO\n"
     ]
    }
   ],
   "source": [
    "N = 6\n",
    "ps = [\n",
    "    '(())())',\n",
    "    '(((()())()',\n",
    "    '(()())((()))',\n",
    "    '((()()(()))(((())))()',\n",
    "    '()()()()(()()())()',\n",
    "    '(()((())()('\n",
    "]\n",
    "for p in ps:\n",
    "    print(check_vps(p))"
   ]
  }
 ],
 "metadata": {
  "kernelspec": {
   "display_name": "Python 3",
   "language": "python",
   "name": "python3"
  },
  "language_info": {
   "codemirror_mode": {
    "name": "ipython",
    "version": 3
   },
   "file_extension": ".py",
   "mimetype": "text/x-python",
   "name": "python",
   "nbconvert_exporter": "python",
   "pygments_lexer": "ipython3",
   "version": "3.7.3"
  }
 },
 "nbformat": 4,
 "nbformat_minor": 2
}
