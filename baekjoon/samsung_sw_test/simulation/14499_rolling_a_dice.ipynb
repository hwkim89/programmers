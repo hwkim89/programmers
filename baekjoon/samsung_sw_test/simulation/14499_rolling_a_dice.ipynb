{
 "cells": [
  {
   "cell_type": "markdown",
   "metadata": {},
   "source": [
    "# 주사위 굴리기"
   ]
  },
  {
   "cell_type": "markdown",
   "metadata": {},
   "source": [
    "## 문제 링크"
   ]
  },
  {
   "cell_type": "markdown",
   "metadata": {},
   "source": [
    "* https://www.acmicpc.net/problem/14499"
   ]
  },
  {
   "cell_type": "markdown",
   "metadata": {},
   "source": [
    "## 코드"
   ]
  },
  {
   "cell_type": "code",
   "execution_count": 9,
   "metadata": {},
   "outputs": [],
   "source": [
    "def solution(map_info, N, M, cmds, cur_pos):\n",
    "    RIGHT, LEFT, UP, DOWN = 1, 2, 3, 4\n",
    "    dice = {i:0 for i in range(6)}\n",
    "    for cmd in cmds:\n",
    "        if cmd == RIGHT:\n",
    "            cur_pos[1] += 1\n",
    "            if cur_pos[1] == M:\n",
    "                cur_pos[1] -= 1\n",
    "                continue\n",
    "            dice[5], dice[3], dice[4], dice[1] = dice[1], dice[5], dice[3], dice[4]\n",
    "        elif cmd == LEFT:\n",
    "            cur_pos[1] -= 1\n",
    "            if cur_pos[1] < 0:\n",
    "                cur_pos[1] = 0\n",
    "                continue\n",
    "            dice[4], dice[1], dice[5], dice[3]  = dice[1], dice[5], dice[3], dice[4]\n",
    "        elif cmd == UP:\n",
    "            cur_pos[0] -= 1\n",
    "            if cur_pos[0] < 0:\n",
    "                cur_pos[0] = 0\n",
    "                continue\n",
    "            dice[3], dice[0], dice[1], dice[2] = dice[0], dice[1], dice[2], dice[3]\n",
    "        else: # DOWN\n",
    "            cur_pos[0] += 1\n",
    "            if cur_pos[0] == N:\n",
    "                cur_pos[0] -= 1\n",
    "                continue\n",
    "            dice[1], dice[2], dice[3], dice[0] = dice[0], dice[1], dice[2], dice[3]\n",
    "        \n",
    "        if map_info[cur_pos[0]][cur_pos[1]] == 0:\n",
    "            map_info[cur_pos[0]][cur_pos[1]] = dice[3]\n",
    "        else:\n",
    "            dice[3] = map_info[cur_pos[0]][cur_pos[1]]\n",
    "            map_info[cur_pos[0]][cur_pos[1]] = 0\n",
    "            \n",
    "        print(dice[1])"
   ]
  },
  {
   "cell_type": "markdown",
   "metadata": {},
   "source": [
    "### 시간 복잡도"
   ]
  },
  {
   "cell_type": "code",
   "execution_count": null,
   "metadata": {},
   "outputs": [],
   "source": []
  },
  {
   "cell_type": "markdown",
   "metadata": {},
   "source": [
    "### 예제 입력 및 출력"
   ]
  },
  {
   "cell_type": "code",
   "execution_count": 10,
   "metadata": {},
   "outputs": [
    {
     "name": "stdout",
     "output_type": "stream",
     "text": [
      "2 2 0 0 16\n",
      "0 2\n",
      "3 4\n",
      "4 4 4 4 1 1 1 1 3 3 3 3 2 2 2 2\n",
      "0\n",
      "0\n",
      "0\n",
      "0\n"
     ]
    }
   ],
   "source": [
    "N, M, CUR_R, CUR_C, N_CMD = map(int, input().split())\n",
    "cur_pos = [CUR_R, CUR_C]\n",
    "map_info = []\n",
    "for _ in range(N):\n",
    "    map_info.append(list(map(int, input().split())))\n",
    "CMDS = list(map(int, input().split()))\n",
    "solution(map_info, N, M, CMDS, cur_pos)"
   ]
  },
  {
   "cell_type": "markdown",
   "metadata": {},
   "source": [
    "#### 예제 1"
   ]
  },
  {
   "cell_type": "code",
   "execution_count": 11,
   "metadata": {},
   "outputs": [
    {
     "name": "stdout",
     "output_type": "stream",
     "text": [
      "0\n",
      "0\n",
      "3\n",
      "0\n",
      "0\n",
      "8\n",
      "6\n",
      "3\n"
     ]
    }
   ],
   "source": [
    "N, M = 4, 2\n",
    "cur_pos = [0, 0]\n",
    "N_CMD = 8\n",
    "map_info = [[0, 2],\n",
    "            [3, 4],\n",
    "            [5, 6],\n",
    "            [7, 8]]\n",
    "CMDS = [4, 4, 4, 1, 3, 3, 3, 2]\n",
    "solution(map_info, N, M, CMDS, cur_pos)"
   ]
  },
  {
   "cell_type": "markdown",
   "metadata": {},
   "source": [
    "#### 예제 2"
   ]
  },
  {
   "cell_type": "code",
   "execution_count": 5,
   "metadata": {},
   "outputs": [
    {
     "data": {
      "text/plain": [
       "64"
      ]
     },
     "execution_count": 5,
     "metadata": {},
     "output_type": "execute_result"
    }
   ],
   "source": [
    "N = 5\n",
    "equation = '8*3+5'\n",
    "calc_eq(solution(equation))"
   ]
  },
  {
   "cell_type": "markdown",
   "metadata": {},
   "source": [
    "#### 예제 3"
   ]
  },
  {
   "cell_type": "code",
   "execution_count": 6,
   "metadata": {},
   "outputs": [
    {
     "data": {
      "text/plain": [
       "66"
      ]
     },
     "execution_count": 6,
     "metadata": {},
     "output_type": "execute_result"
    }
   ],
   "source": [
    "N = 7\n",
    "equation = '8*3+5+2'\n",
    "calc_eq(solution(equation))"
   ]
  },
  {
   "cell_type": "markdown",
   "metadata": {},
   "source": [
    "#### 예제 4"
   ]
  },
  {
   "cell_type": "code",
   "execution_count": 7,
   "metadata": {},
   "outputs": [
    {
     "data": {
      "text/plain": [
       "0"
      ]
     },
     "execution_count": 7,
     "metadata": {},
     "output_type": "execute_result"
    }
   ],
   "source": [
    "N = 19\n",
    "equation = '1*2+3*4*5-6*7*8*9*0'\n",
    "calc_eq(solution(equation))"
   ]
  },
  {
   "cell_type": "markdown",
   "metadata": {},
   "source": [
    "#### 예제 5"
   ]
  },
  {
   "cell_type": "code",
   "execution_count": 8,
   "metadata": {},
   "outputs": [
    {
     "data": {
      "text/plain": [
       "426384"
      ]
     },
     "execution_count": 8,
     "metadata": {},
     "output_type": "execute_result"
    }
   ],
   "source": [
    "N = 19\n",
    "equation = '1*2+3*4*5-6*7*8*9*9'\n",
    "calc_eq(solution(equation))"
   ]
  },
  {
   "cell_type": "markdown",
   "metadata": {},
   "source": [
    "#### 예제 6"
   ]
  },
  {
   "cell_type": "code",
   "execution_count": 9,
   "metadata": {},
   "outputs": [
    {
     "data": {
      "text/plain": [
       "24"
      ]
     },
     "execution_count": 9,
     "metadata": {},
     "output_type": "execute_result"
    }
   ],
   "source": [
    "N = 19\n",
    "equation = '1-9-1-9-1-9-1-9-1-9'\n",
    "calc_eq(solution(equation))"
   ]
  }
 ],
 "metadata": {
  "kernelspec": {
   "display_name": "Python 3",
   "language": "python",
   "name": "python3"
  },
  "language_info": {
   "codemirror_mode": {
    "name": "ipython",
    "version": 3
   },
   "file_extension": ".py",
   "mimetype": "text/x-python",
   "name": "python",
   "nbconvert_exporter": "python",
   "pygments_lexer": "ipython3",
   "version": "3.7.3"
  }
 },
 "nbformat": 4,
 "nbformat_minor": 2
}
