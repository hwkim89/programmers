{
 "metadata": {
  "language_info": {
   "codemirror_mode": {
    "name": "ipython",
    "version": 3
   },
   "file_extension": ".py",
   "mimetype": "text/x-python",
   "name": "python",
   "nbconvert_exporter": "python",
   "pygments_lexer": "ipython3",
   "version": "3.8.5-final"
  },
  "orig_nbformat": 2,
  "kernelspec": {
   "name": "python385jvsc74a57bd0881438aaf537e66dfdaad625390fa0d3b3d0ff5ed91f143384dfadbe6c34b6b5",
   "display_name": "Python 3.8.5 64-bit ('anaconda3': virtualenv)"
  },
  "metadata": {
   "interpreter": {
    "hash": "881438aaf537e66dfdaad625390fa0d3b3d0ff5ed91f143384dfadbe6c34b6b5"
   }
  }
 },
 "nbformat": 4,
 "nbformat_minor": 2,
 "cells": [
  {
   "source": [
    "# 타겟 넘버"
   ],
   "cell_type": "markdown",
   "metadata": {}
  },
  {
   "source": [
    "## 문제 링크\n",
    "- https://programmers.co.kr/learn/courses/30/lessons/43165"
   ],
   "cell_type": "markdown",
   "metadata": {}
  },
  {
   "source": [
    "## 코드"
   ],
   "cell_type": "markdown",
   "metadata": {}
  },
  {
   "cell_type": "code",
   "execution_count": 1,
   "metadata": {},
   "outputs": [],
   "source": [
    "def get_cases(numbers, i, cur_num, target, count):\n",
    "    # Check whether a current number is a target number or not\n",
    "    if i == len(numbers):\n",
    "        if cur_num == target:\n",
    "            return 1\n",
    "        else:\n",
    "            return 0\n",
    "    \n",
    "    # Confirm cases when numbers[i] is positive or negative.\n",
    "    pos_count = get_cases(numbers, i+1, cur_num + numbers[i], target, count)\n",
    "    neg_count = get_cases(numbers, i+1, cur_num - numbers[i], target, count)\n",
    "    \n",
    "    return pos_count + neg_count\n",
    "\n",
    "def solution(numbers, target):\n",
    "    return get_cases(numbers, i=0, cur_num=0, target=target, count=0)"
   ]
  },
  {
   "source": [
    "### 예제 입출력"
   ],
   "cell_type": "markdown",
   "metadata": {}
  },
  {
   "cell_type": "code",
   "execution_count": 2,
   "metadata": {},
   "outputs": [
    {
     "output_type": "execute_result",
     "data": {
      "text/plain": [
       "5"
      ]
     },
     "metadata": {},
     "execution_count": 2
    }
   ],
   "source": [
    "numbers, target = [1, 1, 1, 1, 1], 3\n",
    "solution(numbers, target)"
   ]
  }
 ]
}