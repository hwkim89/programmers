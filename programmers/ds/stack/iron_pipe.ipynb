{
 "cells": [
  {
   "cell_type": "markdown",
   "metadata": {},
   "source": [
    "# 쇠막대기"
   ]
  },
  {
   "cell_type": "markdown",
   "metadata": {},
   "source": [
    "## 문제 링크"
   ]
  },
  {
   "cell_type": "markdown",
   "metadata": {},
   "source": [
    "* https://programmers.co.kr/learn/courses/30/lessons/42585"
   ]
  },
  {
   "cell_type": "markdown",
   "metadata": {},
   "source": [
    "## 코드"
   ]
  },
  {
   "cell_type": "markdown",
   "metadata": {},
   "source": [
    "### 최종 코드"
   ]
  },
  {
   "cell_type": "code",
   "execution_count": null,
   "metadata": {},
   "outputs": [],
   "source": [
    "def solution(arrangement):\n",
    "    OPEN, CLOSE, LASER = '(', ')', 'l'\n",
    "    pipe = 0\n",
    "    count = 0\n",
    "    arrangement = arrangement.replace('()', LASER)\n",
    "    for a in arrangement:\n",
    "        if a == OPEN:\n",
    "            pipe += 1\n",
    "        elif a == CLOSE:\n",
    "            pipe -= 1\n",
    "            count += 1\n",
    "        elif a == LASER:\n",
    "            count += pipe\n",
    "\n",
    "    return count"
   ]
  },
  {
   "cell_type": "markdown",
   "metadata": {},
   "source": [
    "#### 시간 복잡도"
   ]
  },
  {
   "cell_type": "code",
   "execution_count": null,
   "metadata": {},
   "outputs": [],
   "source": [
    "# N = len(arrangement)\n",
    "# 최종 시간 복잡도: O(N)\n",
    "\n",
    "def solution(arrangement):\n",
    "    OPEN, CLOSE, LASER = '(', ')', 'l'\n",
    "    pipe = 0\n",
    "    count = 0\n",
    "    arrangement = arrangement.replace('()', LASER) # O(N)\n",
    "    for a in arrangement: # O(N)\n",
    "        if a == OPEN:\n",
    "            pipe += 1\n",
    "        elif a == CLOSE:\n",
    "            pipe -= 1\n",
    "            count += 1\n",
    "        elif a == LASER:\n",
    "            count += pipe\n",
    "\n",
    "    return count"
   ]
  },
  {
   "cell_type": "markdown",
   "metadata": {},
   "source": [
    "### 실패한 코드"
   ]
  },
  {
   "cell_type": "code",
   "execution_count": 19,
   "metadata": {},
   "outputs": [],
   "source": [
    "def get_divided_pipe_num(stack):\n",
    "    laser_count = []; last = ''\n",
    "    divided_pipe_count = 0\n",
    "    while stack:\n",
    "        current = stack.pop()\n",
    "        if last == ')':\n",
    "            if current == ')':\n",
    "                laser_count.append(0)\n",
    "            elif current == '(':\n",
    "                for i in range(len(laser_count)):\n",
    "                    laser_count[i] += 1\n",
    "        elif last == '(' and current == '(':\n",
    "            divided_pipe_count += laser_count.pop() + 1\n",
    "        \n",
    "        last = current\n",
    "            \n",
    "    return divided_pipe_count\n",
    "\n",
    "def solution(arrangement):\n",
    "    left_count = 0; right_count = 0; stack = []\n",
    "    divided_pipe_count = 0\n",
    "    for p in arrangement:\n",
    "        if p == '(':\n",
    "            left_count += 1\n",
    "        else:\n",
    "            right_count += 1\n",
    "            \n",
    "        stack.append(p)\n",
    "        if left_count == right_count:\n",
    "            divided_pipe_count += get_divided_pipe_num(stack)\n",
    "            left_count = 0; right_count = 0; stack = []\n",
    "            \n",
    "    return divided_pipe_count"
   ]
  },
  {
   "cell_type": "markdown",
   "metadata": {},
   "source": [
    "### 성공한 코드"
   ]
  },
  {
   "cell_type": "code",
   "execution_count": 41,
   "metadata": {},
   "outputs": [],
   "source": [
    "def solution(arrangement):\n",
    "    OPEN, CLOSE, LASER = '(', ')', 'l'\n",
    "    pipe = 0\n",
    "    count = 0\n",
    "    arrangement = arrangement.replace('()', LASER)\n",
    "    for a in arrangement:\n",
    "        if a == OPEN:\n",
    "            pipe += 1\n",
    "        elif a == CLOSE:\n",
    "            pipe -= 1\n",
    "            count += 1\n",
    "        elif a == LASER:\n",
    "            count += pipe\n",
    "\n",
    "    return count"
   ]
  },
  {
   "cell_type": "markdown",
   "metadata": {},
   "source": [
    "#### 시간 복잡도"
   ]
  },
  {
   "cell_type": "code",
   "execution_count": null,
   "metadata": {},
   "outputs": [],
   "source": [
    "# N = len(arrangement)\n",
    "# 최종 시간 복잡도: O(N)\n",
    "\n",
    "def solution(arrangement):\n",
    "    OPEN, CLOSE, LASER = '(', ')', 'l'\n",
    "    pipe = 0\n",
    "    count = 0\n",
    "    arrangement = arrangement.replace('()', LASER) # O(N)\n",
    "    for a in arrangement: # O(N)\n",
    "        if a == OPEN:\n",
    "            pipe += 1\n",
    "        elif a == CLOSE:\n",
    "            pipe -= 1\n",
    "            count += 1\n",
    "        elif a == LASER:\n",
    "            count += pipe\n",
    "\n",
    "    return count"
   ]
  },
  {
   "cell_type": "markdown",
   "metadata": {},
   "source": [
    "### 예제"
   ]
  },
  {
   "cell_type": "code",
   "execution_count": 54,
   "metadata": {
    "scrolled": true
   },
   "outputs": [
    {
     "data": {
      "text/plain": [
       "14"
      ]
     },
     "execution_count": 54,
     "metadata": {},
     "output_type": "execute_result"
    }
   ],
   "source": [
    "arrangement = '()(((()())(())()))(())'\n",
    "solution(arrangement)"
   ]
  }
 ],
 "metadata": {
  "kernelspec": {
   "display_name": "Python 3",
   "language": "python",
   "name": "python3"
  },
  "language_info": {
   "codemirror_mode": {
    "name": "ipython",
    "version": 3
   },
   "file_extension": ".py",
   "mimetype": "text/x-python",
   "name": "python",
   "nbconvert_exporter": "python",
   "pygments_lexer": "ipython3",
   "version": "3.7.3"
  }
 },
 "nbformat": 4,
 "nbformat_minor": 2
}
