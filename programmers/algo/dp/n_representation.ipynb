{
 "cells": [
  {
   "cell_type": "markdown",
   "metadata": {},
   "source": [
    "# N으로 표현"
   ]
  },
  {
   "cell_type": "markdown",
   "metadata": {},
   "source": [
    "## 문제 링크"
   ]
  },
  {
   "cell_type": "markdown",
   "metadata": {},
   "source": [
    "* https://programmers.co.kr/learn/courses/30/lessons/42895"
   ]
  },
  {
   "cell_type": "markdown",
   "metadata": {},
   "source": [
    "## 코드"
   ]
  },
  {
   "cell_type": "markdown",
   "metadata": {},
   "source": [
    "### 실패한 코드"
   ]
  },
  {
   "cell_type": "code",
   "execution_count": 138,
   "metadata": {},
   "outputs": [],
   "source": [
    "OP = ['+', '-', '*', '//']\n",
    "\n",
    "def make_eq_patterns(N, l):\n",
    "    ns = [str(N) * i for i in range(1, l+1)]\n",
    "    eqs = []\n",
    "    for op1 in OP:\n",
    "        for n1 in ns:\n",
    "            eqs.append((op1 + n1, len(n1)))\n",
    "            for op2 in OP:\n",
    "                eqs.append((op1 + (n1 + op2 + str(N)), len(n1) + 1))\n",
    "    return eqs\n",
    "    \n",
    "def get_count(n, number, eqs, count):\n",
    "    best_count = 9\n",
    "    for eq, c in eqs:\n",
    "        if (count+c) > 8:\n",
    "            continue\n",
    "            \n",
    "        new_n = eval(str(n) + eq)\n",
    "        if new_n == number:\n",
    "            new_count = count + c\n",
    "        else:\n",
    "            new_count = get_count(new_n, number, eqs, count+c)\n",
    "        \n",
    "        best_count = min(new_count, best_count)\n",
    "        \n",
    "    return best_count\n",
    "    \n",
    "def solution(N, number):\n",
    "    eqs = make_eq_patterns(N, len(str(number)))\n",
    "    best_count = 9\n",
    "    for n in [str(N) * i for i in range(1, len(str(number))+1)]:\n",
    "        new_count = get_count(int(n), number, eqs, len(n))\n",
    "        best_count = min(new_count, best_count)\n",
    "        \n",
    "    if best_count > 8:\n",
    "        return -1\n",
    "    return best_count"
   ]
  },
  {
   "cell_type": "markdown",
   "metadata": {},
   "source": [
    "### 성공한 코드"
   ]
  },
  {
   "cell_type": "markdown",
   "metadata": {},
   "source": [
    "#### Version 1"
   ]
  },
  {
   "cell_type": "code",
   "execution_count": null,
   "metadata": {},
   "outputs": [],
   "source": [
    "def solution(N, number):\n",
    "    ns = [None]\n",
    "    for i in range(1, 9):\n",
    "        n = str(N) * i\n",
    "        if int(n) == number:\n",
    "            return i\n",
    "        \n",
    "        ns.append({str(N) * i})\n",
    "        for j, k in zip(range(1, i), range(i-1, 0, -1)):\n",
    "            for a in ns[j]:\n",
    "                for b in ns[k]:\n",
    "                    for op in ['+', '-', '*', '//']:\n",
    "                        if b != '0':\n",
    "                            n = str(eval(a + op + b))\n",
    "                            if int(n) == number:\n",
    "                                print(ns)\n",
    "                                return i\n",
    "                            ns[i].add(n)\n",
    "    return -1"
   ]
  },
  {
   "cell_type": "markdown",
   "metadata": {},
   "source": [
    "#### Version 2"
   ]
  },
  {
   "cell_type": "code",
   "execution_count": 253,
   "metadata": {},
   "outputs": [],
   "source": [
    "def solution(N, number):\n",
    "    ns = [set() for i in range(8)]\n",
    "    for i, n in enumerate(ns):\n",
    "        ns[i].add(int(str(N) * (i+1)))\n",
    "        for j in range(i):\n",
    "            for a in ns[j]:\n",
    "                for b in ns[i-j-1]:\n",
    "                    ns[i].add(a + b)\n",
    "                    ns[i].add(a - b)\n",
    "                    ns[i].add(a * b)\n",
    "                    if b != 0:\n",
    "                        ns[i].add(a // b)\n",
    "                        \n",
    "        if number in ns[i]:\n",
    "            return i+1\n",
    "        \n",
    "    return -1"
   ]
  },
  {
   "cell_type": "markdown",
   "metadata": {},
   "source": [
    "### 다시 풀기"
   ]
  },
  {
   "cell_type": "code",
   "execution_count": 90,
   "metadata": {},
   "outputs": [],
   "source": [
    "from math import ceil\n",
    "\n",
    "def solution(N, target_num):\n",
    "    OPERATORS = ['+', '*', '-', '//']\n",
    "    MAX_N, MAX_NUM = 8, 32000\n",
    "    N, target_num, prev_nums = str(N), str(target_num), {}\n",
    "    \n",
    "    for i in range(1, MAX_N + 1):\n",
    "        if N * i == target_num:\n",
    "            return i\n",
    "        prev_nums[i] = [N * i]\n",
    "        if i != 1:\n",
    "            for j in range(1, ceil(i/2)+1):\n",
    "                for num1 in prev_nums[i-j]:\n",
    "                    for operator in OPERATORS:\n",
    "                        for num2 in prev_nums[j]:\n",
    "                            if not(operator == '//' and num2 == '0'):\n",
    "                                new_num = str(eval(num1 + operator + num2))\n",
    "                                if new_num == target_num:\n",
    "                                    return i\n",
    "                                else:\n",
    "                                    prev_nums[i].append(new_num)\n",
    "    return -1"
   ]
  },
  {
   "cell_type": "markdown",
   "metadata": {},
   "source": [
    "### 예제"
   ]
  },
  {
   "cell_type": "code",
   "execution_count": 91,
   "metadata": {},
   "outputs": [
    {
     "data": {
      "text/plain": [
       "4"
      ]
     },
     "execution_count": 91,
     "metadata": {},
     "output_type": "execute_result"
    }
   ],
   "source": [
    "N = 5\n",
    "number = 12\n",
    "solution(N, number)"
   ]
  },
  {
   "cell_type": "code",
   "execution_count": 92,
   "metadata": {},
   "outputs": [
    {
     "data": {
      "text/plain": [
       "3"
      ]
     },
     "execution_count": 92,
     "metadata": {},
     "output_type": "execute_result"
    }
   ],
   "source": [
    "N = 2\n",
    "number = 11\n",
    "solution(N, number)"
   ]
  },
  {
   "cell_type": "code",
   "execution_count": 93,
   "metadata": {},
   "outputs": [
    {
     "data": {
      "text/plain": [
       "-1"
      ]
     },
     "execution_count": 93,
     "metadata": {},
     "output_type": "execute_result"
    }
   ],
   "source": [
    "N = 5\n",
    "number = 31168\n",
    "solution(N, number)"
   ]
  },
  {
   "cell_type": "markdown",
   "metadata": {},
   "source": [
    "### 시간 복잡도"
   ]
  },
  {
   "cell_type": "code",
   "execution_count": null,
   "metadata": {},
   "outputs": [],
   "source": []
  }
 ],
 "metadata": {
  "kernelspec": {
   "display_name": "Python 3",
   "language": "python",
   "name": "python3"
  },
  "language_info": {
   "codemirror_mode": {
    "name": "ipython",
    "version": 3
   },
   "file_extension": ".py",
   "mimetype": "text/x-python",
   "name": "python",
   "nbconvert_exporter": "python",
   "pygments_lexer": "ipython3",
   "version": "3.7.4"
  }
 },
 "nbformat": 4,
 "nbformat_minor": 2
}
