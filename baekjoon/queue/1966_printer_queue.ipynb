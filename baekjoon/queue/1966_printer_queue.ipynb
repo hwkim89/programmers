{
 "cells": [
  {
   "cell_type": "markdown",
   "metadata": {},
   "source": [
    "## 프린터 큐"
   ]
  },
  {
   "cell_type": "markdown",
   "metadata": {},
   "source": [
    "### 문제 링크"
   ]
  },
  {
   "cell_type": "markdown",
   "metadata": {},
   "source": [
    "* https://www.acmicpc.net/problem/1966"
   ]
  },
  {
   "cell_type": "markdown",
   "metadata": {},
   "source": [
    "### 최종 코드"
   ]
  },
  {
   "cell_type": "code",
   "execution_count": null,
   "metadata": {},
   "outputs": [],
   "source": [
    "from collections import deque\n",
    "\n",
    "def get_target_pos(p):\n",
    "    def is_max(queue, x):\n",
    "        return True if x >= max(queue, key=lambda x: x[0])[0] else False\n",
    "    \n",
    "    queue = deque(p)\n",
    "    is_target = False\n",
    "    count = 0\n",
    "    while queue:\n",
    "        cur, is_target = queue.popleft()\n",
    "        if not queue:\n",
    "            count += 1\n",
    "        elif is_max(queue, cur):\n",
    "            count += 1\n",
    "            if is_target:\n",
    "                break\n",
    "        else:\n",
    "            queue.append((cur, is_target))\n",
    "            \n",
    "    return count\n",
    "\n",
    "N = int(input())\n",
    "for _ in range(N):\n",
    "    N, M = map(int, input().split())\n",
    "    p = [(int(p), True if i == M else False)\n",
    "         for i, p in enumerate(input().split())]\n",
    "    print(get_target_pos(p))"
   ]
  },
  {
   "cell_type": "markdown",
   "metadata": {},
   "source": [
    "#### 시간 복잡도"
   ]
  },
  {
   "cell_type": "code",
   "execution_count": null,
   "metadata": {},
   "outputs": [],
   "source": []
  },
  {
   "cell_type": "markdown",
   "metadata": {},
   "source": [
    "### 코드"
   ]
  },
  {
   "cell_type": "code",
   "execution_count": 55,
   "metadata": {},
   "outputs": [],
   "source": [
    "from collections import deque\n",
    "\n",
    "def get_target_pos(p):\n",
    "    def is_max(queue, x):\n",
    "        return True if x >= max(queue, key=lambda x: x[0])[0] else False\n",
    "    \n",
    "    queue = deque(p)\n",
    "    is_target = False\n",
    "    count = 0\n",
    "    while queue:\n",
    "        cur, is_target = queue.popleft()\n",
    "        if not queue:\n",
    "            count += 1\n",
    "        elif is_max(queue, cur):\n",
    "            count += 1\n",
    "            if is_target:\n",
    "                break\n",
    "        else:\n",
    "            queue.append((cur, is_target))\n",
    "            \n",
    "    return count"
   ]
  },
  {
   "cell_type": "code",
   "execution_count": 58,
   "metadata": {},
   "outputs": [
    {
     "name": "stdout",
     "output_type": "stream",
     "text": [
      "3\n",
      "1 0\n",
      "5\n",
      "1\n",
      "4 2\n",
      "1 2 3 4\n",
      "2\n",
      "6 0\n",
      "1 1 9 1 1 1\n",
      "5\n"
     ]
    }
   ],
   "source": [
    "N = int(input())\n",
    "for _ in range(N):\n",
    "    N, M = map(int, input().split())\n",
    "    p = [(int(p), True if i == M else False)\n",
    "         for i, p in enumerate(input().split())]\n",
    "    print(get_target_pos(p))"
   ]
  },
  {
   "cell_type": "markdown",
   "metadata": {},
   "source": [
    "### 예제 입출력"
   ]
  },
  {
   "cell_type": "code",
   "execution_count": 52,
   "metadata": {},
   "outputs": [
    {
     "data": {
      "text/plain": [
       "1"
      ]
     },
     "execution_count": 52,
     "metadata": {},
     "output_type": "execute_result"
    }
   ],
   "source": [
    "N, M = 1, 0\n",
    "p = [(5, True)]\n",
    "get_target_pos(p)"
   ]
  },
  {
   "cell_type": "code",
   "execution_count": 53,
   "metadata": {},
   "outputs": [
    {
     "data": {
      "text/plain": [
       "2"
      ]
     },
     "execution_count": 53,
     "metadata": {},
     "output_type": "execute_result"
    }
   ],
   "source": [
    "N, M = 4, 2\n",
    "p = [(1, False), (2, False), (3, True), (4, False)]\n",
    "get_target_pos(p)"
   ]
  },
  {
   "cell_type": "code",
   "execution_count": 54,
   "metadata": {},
   "outputs": [
    {
     "data": {
      "text/plain": [
       "5"
      ]
     },
     "execution_count": 54,
     "metadata": {},
     "output_type": "execute_result"
    }
   ],
   "source": [
    "N, M = 6, 0\n",
    "p = [(1, True), (1, False), (9, False), (1, False), (1, False), (1, False)]\n",
    "get_target_pos(p)"
   ]
  }
 ],
 "metadata": {
  "kernelspec": {
   "display_name": "Python 3",
   "language": "python",
   "name": "python3"
  },
  "language_info": {
   "codemirror_mode": {
    "name": "ipython",
    "version": 3
   },
   "file_extension": ".py",
   "mimetype": "text/x-python",
   "name": "python",
   "nbconvert_exporter": "python",
   "pygments_lexer": "ipython3",
   "version": "3.7.3"
  }
 },
 "nbformat": 4,
 "nbformat_minor": 2
}
