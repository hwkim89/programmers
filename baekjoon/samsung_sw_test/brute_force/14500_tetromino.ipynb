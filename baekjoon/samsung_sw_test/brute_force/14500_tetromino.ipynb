{
 "cells": [
  {
   "cell_type": "markdown",
   "metadata": {},
   "source": [
    "# 테트로미노"
   ]
  },
  {
   "cell_type": "markdown",
   "metadata": {},
   "source": [
    "## 문제 링크"
   ]
  },
  {
   "cell_type": "markdown",
   "metadata": {},
   "source": [
    "* https://www.acmicpc.net/problem/14500"
   ]
  },
  {
   "cell_type": "markdown",
   "metadata": {},
   "source": [
    "## 코드"
   ]
  },
  {
   "cell_type": "code",
   "execution_count": 62,
   "metadata": {},
   "outputs": [],
   "source": [
    "def is_valid(n, m, tetro, i, j):\n",
    "    for t_i, t_j in tetro:\n",
    "        if not(0 <= i + t_i < n and 0 <= j + t_j < m):\n",
    "            return False\n",
    "    return True\n",
    "\n",
    "def get_score(matrix, tetro, i, j):\n",
    "    score = 0\n",
    "    for t_i, t_j in tetro:\n",
    "        score += matrix[i+t_i][j+t_j]\n",
    "    return score\n",
    "\n",
    "def solution(matrix, n, m):\n",
    "    TETROMINO = (\n",
    "        ((0, 0), (0, 1), (0, 2), (0, 3)),\n",
    "        ((0, 0), (1, 0), (2, 0), (3, 0)),\n",
    "        \n",
    "        ((0, 0), (0, 1), (1, 0), (1, 1)),\n",
    "        \n",
    "        ((0, 0), (1, 0), (2, 0), (2, 1)),\n",
    "        ((0, 2), (1, 0), (1, 1), (1, 2)),\n",
    "        ((0, 0), (0, 1), (1, 1), (2, 1)),\n",
    "        ((0, 0), (0, 1), (0, 2), (1, 0)),\n",
    "        \n",
    "        ((0, 1), (1, 1), (2, 0), (2, 1)),\n",
    "        ((0, 0), (0, 1), (0, 2), (1, 2)),\n",
    "        ((0, 0), (0, 1), (1, 0), (2, 0)),\n",
    "        ((0, 0), (1, 0), (1, 1), (1, 2)),\n",
    "        \n",
    "        ((0, 0), (1, 0), (1, 1), (2, 1)),\n",
    "        ((0, 1), (0, 2), (1, 0), (1, 1)),\n",
    "        ((0, 1), (1, 0), (1, 1), (2, 0)),\n",
    "        ((0, 0), (0, 1), (1, 1), (1, 2)),\n",
    "        \n",
    "        ((0, 0), (0, 1), (0, 2), (1, 1)),\n",
    "        ((0, 0), (1, 0), (1, 1), (2, 0)),\n",
    "        ((0, 1), (1, 0), (1, 1), (1, 2)),\n",
    "        ((0, 1), (1, 0), (1, 1), (2, 1))\n",
    "    )\n",
    "    \n",
    "    max_score = 0\n",
    "    for i, row in enumerate(matrix):\n",
    "        for j, col in enumerate(row):\n",
    "            for tetro in TETROMINO:\n",
    "                if is_valid(n, m, tetro, i, j):\n",
    "                    score = get_score(matrix, tetro, i, j)\n",
    "                    max_score = max(score, max_score)\n",
    "                    \n",
    "    return max_score"
   ]
  },
  {
   "cell_type": "markdown",
   "metadata": {},
   "source": [
    "### 시간 복잡도"
   ]
  },
  {
   "cell_type": "code",
   "execution_count": null,
   "metadata": {},
   "outputs": [],
   "source": []
  },
  {
   "cell_type": "markdown",
   "metadata": {},
   "source": [
    "### 예제 입력 및 출력"
   ]
  },
  {
   "cell_type": "code",
   "execution_count": 45,
   "metadata": {},
   "outputs": [
    {
     "name": "stdout",
     "output_type": "stream",
     "text": [
      "5 5\n",
      "1 2 3 4 5\n",
      "5 4 3 2 1\n",
      "2 3 4 5 6\n",
      "6 5 4 3 2\n",
      "1 2 1 2 1\n"
     ]
    },
    {
     "data": {
      "text/plain": [
       "19"
      ]
     },
     "execution_count": 45,
     "metadata": {},
     "output_type": "execute_result"
    }
   ],
   "source": [
    "N, M = map(int, input().split())\n",
    "matrix = []\n",
    "for _ in range(N):\n",
    "    matrix.append(list(map(int, input().split())))\n",
    "print(solution(matrix, N, M))"
   ]
  },
  {
   "cell_type": "markdown",
   "metadata": {},
   "source": [
    "#### 예제 1"
   ]
  },
  {
   "cell_type": "code",
   "execution_count": 63,
   "metadata": {},
   "outputs": [
    {
     "data": {
      "text/plain": [
       "19"
      ]
     },
     "execution_count": 63,
     "metadata": {},
     "output_type": "execute_result"
    }
   ],
   "source": [
    "N, M = 5, 5\n",
    "MATRIX = [\n",
    "    [1, 2, 3, 4, 5],\n",
    "    [5, 4, 3, 2, 1],\n",
    "    [2, 3, 4, 5, 6],\n",
    "    [6, 5, 4, 3, 2],\n",
    "    [1, 2, 1, 2, 1]\n",
    "]\n",
    "solution(MATRIX, N, M)"
   ]
  },
  {
   "cell_type": "markdown",
   "metadata": {},
   "source": [
    "#### 예제 2"
   ]
  },
  {
   "cell_type": "code",
   "execution_count": 64,
   "metadata": {},
   "outputs": [
    {
     "data": {
      "text/plain": [
       "20"
      ]
     },
     "execution_count": 64,
     "metadata": {},
     "output_type": "execute_result"
    }
   ],
   "source": [
    "N, M = 4, 5\n",
    "MATRIX = [\n",
    "    [1, 2, 3, 4, 5],\n",
    "    [1, 2, 3, 4, 5],\n",
    "    [1, 2, 3, 4, 5],\n",
    "    [1, 2, 3, 4, 5]\n",
    "]\n",
    "solution(MATRIX, N, M)"
   ]
  },
  {
   "cell_type": "markdown",
   "metadata": {},
   "source": [
    "#### 예제 3"
   ]
  },
  {
   "cell_type": "code",
   "execution_count": 65,
   "metadata": {
    "scrolled": true
   },
   "outputs": [
    {
     "data": {
      "text/plain": [
       "7"
      ]
     },
     "execution_count": 65,
     "metadata": {},
     "output_type": "execute_result"
    }
   ],
   "source": [
    "N, M = 4, 10\n",
    "MATRIX = [\n",
    "    [1, 2, 1, 2, 1, 2, 1, 2, 1, 2],\n",
    "    [2, 1, 2, 1, 2, 1, 2, 1, 2, 1],\n",
    "    [1, 2, 1, 2, 1, 2, 1, 2, 1, 2],\n",
    "    [2, 1, 2, 1, 2, 1, 2, 1, 2, 1],\n",
    "]\n",
    "solution(MATRIX, N, M)"
   ]
  },
  {
   "cell_type": "markdown",
   "metadata": {},
   "source": [
    "#### 예제 4"
   ]
  },
  {
   "cell_type": "code",
   "execution_count": 66,
   "metadata": {},
   "outputs": [
    {
     "data": {
      "text/plain": [
       "1728"
      ]
     },
     "execution_count": 66,
     "metadata": {},
     "output_type": "execute_result"
    }
   ],
   "source": [
    "from random import randrange\n",
    "\n",
    "N, M = 500, 500\n",
    "MATRIX = [[randrange(N)] * M] * N\n",
    "solution(MATRIX, N, M)"
   ]
  }
 ],
 "metadata": {
  "kernelspec": {
   "display_name": "Python 3",
   "language": "python",
   "name": "python3"
  },
  "language_info": {
   "codemirror_mode": {
    "name": "ipython",
    "version": 3
   },
   "file_extension": ".py",
   "mimetype": "text/x-python",
   "name": "python",
   "nbconvert_exporter": "python",
   "pygments_lexer": "ipython3",
   "version": "3.7.3"
  }
 },
 "nbformat": 4,
 "nbformat_minor": 2
}
