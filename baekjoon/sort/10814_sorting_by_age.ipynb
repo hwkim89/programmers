{
 "cells": [
  {
   "cell_type": "markdown",
   "metadata": {},
   "source": [
    "# 나이순 정렬"
   ]
  },
  {
   "cell_type": "markdown",
   "metadata": {},
   "source": [
    "## 문제 링크"
   ]
  },
  {
   "cell_type": "markdown",
   "metadata": {},
   "source": [
    "* https://www.acmicpc.net/problem/10814"
   ]
  },
  {
   "cell_type": "markdown",
   "metadata": {},
   "source": [
    "## 최종 코드"
   ]
  },
  {
   "cell_type": "code",
   "execution_count": 9,
   "metadata": {},
   "outputs": [
    {
     "name": "stdout",
     "output_type": "stream",
     "text": [
      "3\n",
      "21 Junkyu\n",
      "21 Dohyun\n",
      "20 Sunyoung\n",
      "20 Sunyoung\n",
      "21 Junkyu\n",
      "21 Dohyun\n"
     ]
    }
   ],
   "source": [
    "def print_sorting_members(members):\n",
    "    members.sort(key=lambda x: x[0])\n",
    "    for age, name in members:\n",
    "        print(age, name)\n",
    "\n",
    "N = int(input())\n",
    "members = []\n",
    "for _ in range(N):\n",
    "    age, name = input().split()\n",
    "    members.append((int(age), name))\n",
    "print_sorting_members(members)"
   ]
  },
  {
   "cell_type": "markdown",
   "metadata": {},
   "source": [
    "### 시간 복잡도"
   ]
  },
  {
   "cell_type": "code",
   "execution_count": null,
   "metadata": {},
   "outputs": [],
   "source": []
  },
  {
   "cell_type": "markdown",
   "metadata": {},
   "source": [
    "## 테스트 코드"
   ]
  },
  {
   "cell_type": "code",
   "execution_count": 7,
   "metadata": {},
   "outputs": [],
   "source": [
    "def print_sorting_members(members):\n",
    "    members.sort(key=lambda x: x[0])\n",
    "    for age, name in members:\n",
    "        print(age, name)"
   ]
  },
  {
   "cell_type": "code",
   "execution_count": 8,
   "metadata": {},
   "outputs": [
    {
     "name": "stdout",
     "output_type": "stream",
     "text": [
      "3\n",
      "21 Junkyu\n",
      "21 Dohyun\n",
      "20 Sunyoung\n",
      "20 Sunyoung\n",
      "21 Junkyu\n",
      "21 Dohyun\n"
     ]
    }
   ],
   "source": [
    "N = int(input())\n",
    "members = []\n",
    "for _ in range(N):\n",
    "    age, name = input().split()\n",
    "    members.append((int(age), name))\n",
    "print_sorting_members(members)"
   ]
  },
  {
   "cell_type": "markdown",
   "metadata": {},
   "source": [
    "### 예제 입출력"
   ]
  },
  {
   "cell_type": "code",
   "execution_count": 4,
   "metadata": {},
   "outputs": [
    {
     "name": "stdout",
     "output_type": "stream",
     "text": [
      "(20, 'Sunyoung')\n",
      "(21, 'Junkyu')\n",
      "(21, 'Dohyun')\n"
     ]
    }
   ],
   "source": [
    "members = [(21, 'Junkyu'), (21, 'Dohyun'), (20, 'Sunyoung')]\n",
    "print_sorting_members(members)"
   ]
  }
 ],
 "metadata": {
  "kernelspec": {
   "display_name": "Python 3",
   "language": "python",
   "name": "python3"
  },
  "language_info": {
   "codemirror_mode": {
    "name": "ipython",
    "version": 3
   },
   "file_extension": ".py",
   "mimetype": "text/x-python",
   "name": "python",
   "nbconvert_exporter": "python",
   "pygments_lexer": "ipython3",
   "version": "3.7.3"
  }
 },
 "nbformat": 4,
 "nbformat_minor": 2
}
