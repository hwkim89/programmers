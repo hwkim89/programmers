{
 "cells": [
  {
   "cell_type": "markdown",
   "metadata": {},
   "source": [
    "# Hash 튜토리얼"
   ]
  },
  {
   "cell_type": "markdown",
   "metadata": {},
   "source": [
    "## 문제 설명"
   ]
  },
  {
   "cell_type": "markdown",
   "metadata": {},
   "source": [
    "문장이 주어졌을 때 가장 많이 등장하는 단어를 구하려 합니다. 예를 들어 다음과 같은 문장이 주어졌습니다.\n",
    "\n",
    "```\n",
    "i am very very hungry\n",
    "```\n",
    "* i: 1번 등장\n",
    "* am: 1번 등장\n",
    "* very: 2번 등장\n",
    "* hungry: 1번 등장\n",
    "\n",
    "했으므로 가장 많이 등장한 단어는 very입니다.\n",
    "\n",
    "문자열 sentence가 solution 함수의 매개변수로 주어졌을 때 가장 많이 등장하는 단어를 리턴하는 solution 함수를 완성해주세요."
   ]
  },
  {
   "cell_type": "markdown",
   "metadata": {},
   "source": [
    "## 제한사항"
   ]
  },
  {
   "cell_type": "markdown",
   "metadata": {},
   "source": [
    "* sentence는 길이가 1 이상 1000 이하인 문자열입니다.\n",
    "* sentence는 영문 소문자와 스페이스(\" \")로만 이루어져 있습니다.\n",
    "* 가장 많이 등장한 단어가 여러 개인 경우는 없습니다."
   ]
  },
  {
   "cell_type": "markdown",
   "metadata": {},
   "source": [
    "## 입출력 예"
   ]
  },
  {
   "cell_type": "markdown",
   "metadata": {},
   "source": [
    "| sentence               | 정답  |\n",
    "| ---------------------- | ---- |\n",
    "| 'i am very very hugry' | very |"
   ]
  },
  {
   "cell_type": "markdown",
   "metadata": {},
   "source": [
    "## 코드"
   ]
  },
  {
   "cell_type": "markdown",
   "metadata": {},
   "source": [
    "### Hash (=Dictionary) 활용"
   ]
  },
  {
   "cell_type": "code",
   "execution_count": null,
   "metadata": {},
   "outputs": [],
   "source": [
    "def solution(sentence):\n",
    "    words = sentence.split(\" \")\n",
    "    my_counter = {}\n",
    "    for word in words:\n",
    "        my_counter[word] = my_counter.get(word, 0) + 1\n",
    "    counted = sorted(my_counter.items(), key=lambda x:-x[1])\n",
    "    return counted[0][0]"
   ]
  },
  {
   "cell_type": "markdown",
   "metadata": {},
   "source": [
    "### Counter 사용"
   ]
  },
  {
   "cell_type": "code",
   "execution_count": 19,
   "metadata": {},
   "outputs": [],
   "source": [
    "from collections import Counter\n",
    "\n",
    "def solution(sentence):\n",
    "    words = sentence.split(' ')\n",
    "    counted = sorted(Counter(words).items(), key=lambda x: x[1], reverse=True)\n",
    "    return counted[0][0]"
   ]
  },
  {
   "cell_type": "markdown",
   "metadata": {},
   "source": [
    "### 시간 복잡도"
   ]
  },
  {
   "cell_type": "markdown",
   "metadata": {},
   "source": []
  },
  {
   "cell_type": "markdown",
   "metadata": {},
   "source": [
    "### 예제 1"
   ]
  },
  {
   "cell_type": "code",
   "execution_count": 20,
   "metadata": {},
   "outputs": [
    {
     "data": {
      "text/plain": [
       "'very'"
      ]
     },
     "execution_count": 20,
     "metadata": {},
     "output_type": "execute_result"
    }
   ],
   "source": [
    "sentence = 'demi is very very lazy'\n",
    "solution(sentence)"
   ]
  }
 ],
 "metadata": {
  "kernelspec": {
   "display_name": "Python 3",
   "language": "python",
   "name": "python3"
  },
  "language_info": {
   "codemirror_mode": {
    "name": "ipython",
    "version": 3
   },
   "file_extension": ".py",
   "mimetype": "text/x-python",
   "name": "python",
   "nbconvert_exporter": "python",
   "pygments_lexer": "ipython3",
   "version": "3.7.3"
  }
 },
 "nbformat": 4,
 "nbformat_minor": 2
}
