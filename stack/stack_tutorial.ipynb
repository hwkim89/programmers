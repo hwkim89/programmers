{
 "cells": [
  {
   "cell_type": "markdown",
   "metadata": {},
   "source": [
    "# Stack 튜토리얼"
   ]
  },
  {
   "cell_type": "markdown",
   "metadata": {},
   "source": [
    "## 문제 설명"
   ]
  },
  {
   "cell_type": "markdown",
   "metadata": {},
   "source": [
    "문자열에서 연속해 등장하는 알파벳을 하나로 줄이려 합니다. 예를 들어 다음과 같이 말이죠.\n",
    "\n",
    "* aaabbbcabbccc -> abcabc\n",
    "* wewweee -> wewe\n",
    "\n",
    "문자열 sentence가 solution 함수의 매개변수로 주어졌을 때 연속해 등장하는 알파벳을 줄인 결과를 리턴하는 solution 함수를 완성해주세요."
   ]
  },
  {
   "cell_type": "markdown",
   "metadata": {},
   "source": [
    "## 제한사항"
   ]
  },
  {
   "cell_type": "markdown",
   "metadata": {},
   "source": [
    "* sentence는 길이가 1 이상 100 이하인 문자열입니다.\n",
    "* sentence는 영문 소문자로만 이루어져 있습니다."
   ]
  },
  {
   "cell_type": "markdown",
   "metadata": {},
   "source": [
    "## 입출력 예"
   ]
  },
  {
   "cell_type": "markdown",
   "metadata": {},
   "source": [
    "| sentence      | 정답    |\n",
    "| ------------- | ------ |\n",
    "| aaabbbcabbccc | abcabc |\n",
    "| wewweee       | wewe   |"
   ]
  },
  {
   "cell_type": "markdown",
   "metadata": {},
   "source": [
    "## 코드"
   ]
  },
  {
   "cell_type": "code",
   "execution_count": 3,
   "metadata": {},
   "outputs": [],
   "source": [
    "def solution(numbers):\n",
    "    stack = []\n",
    "    for number in numbers:\n",
    "        while stack and stack[-1] == number:\n",
    "            stack.pop()\n",
    "        stack.append(number)\n",
    "    return ''.join(stack)"
   ]
  },
  {
   "cell_type": "markdown",
   "metadata": {},
   "source": [
    "### 시간 복잡도"
   ]
  },
  {
   "cell_type": "markdown",
   "metadata": {},
   "source": [
    "* N = len(numbers)\n",
    "* while 문이 N번 반복한다고 생각할 수 있지만, <br>\n",
    "  모든 number가 모두 stack에 push 되는 최악의 경우에도 while문은 1번만 반복됨\n",
    "* 따라서 while 문의 시간 복잡도는 O(1)\n",
    "* 최종 시간 복잡도: O(N)"
   ]
  },
  {
   "cell_type": "code",
   "execution_count": null,
   "metadata": {},
   "outputs": [],
   "source": [
    "def solution(numbers):\n",
    "    stack = []\n",
    "    for number in numbers: # O(N)\n",
    "        while stack and stack[-1] == number: # O(1)\n",
    "            stack.pop()\n",
    "        stack.append(number)\n",
    "    return ''.join(stack)"
   ]
  },
  {
   "cell_type": "markdown",
   "metadata": {},
   "source": [
    "### 예제 1"
   ]
  },
  {
   "cell_type": "code",
   "execution_count": 4,
   "metadata": {},
   "outputs": [
    {
     "data": {
      "text/plain": [
       "'abcabc'"
      ]
     },
     "execution_count": 4,
     "metadata": {},
     "output_type": "execute_result"
    }
   ],
   "source": [
    "sentence = 'aaabbbcabbccc'\n",
    "solution(sentence)"
   ]
  },
  {
   "cell_type": "markdown",
   "metadata": {},
   "source": [
    "### 예제 2"
   ]
  },
  {
   "cell_type": "code",
   "execution_count": null,
   "metadata": {},
   "outputs": [],
   "source": [
    "sentence = 'aaabbbcabbccc'\n",
    "solution(sentence)"
   ]
  }
 ],
 "metadata": {
  "kernelspec": {
   "display_name": "Python 3",
   "language": "python",
   "name": "python3"
  },
  "language_info": {
   "codemirror_mode": {
    "name": "ipython",
    "version": 3
   },
   "file_extension": ".py",
   "mimetype": "text/x-python",
   "name": "python",
   "nbconvert_exporter": "python",
   "pygments_lexer": "ipython3",
   "version": "3.7.3"
  }
 },
 "nbformat": 4,
 "nbformat_minor": 2
}
