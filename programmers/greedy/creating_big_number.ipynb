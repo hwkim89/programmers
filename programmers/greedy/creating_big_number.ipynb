{
 "cells": [
  {
   "cell_type": "markdown",
   "metadata": {},
   "source": [
    "# 큰 수 만들기"
   ]
  },
  {
   "cell_type": "markdown",
   "metadata": {},
   "source": [
    "## 문제 설명"
   ]
  },
  {
   "cell_type": "markdown",
   "metadata": {},
   "source": [
    "어떤 숫자에서 k개의 수를 제거했을 때 얻을 수 있는 가장 큰 숫자를 구하려 합니다.\n",
    "\n",
    "예를 들어, 숫자 1924에서 수 두 개를 제거하면 [19, 12, 14, 92, 94, 24] 를 만들 수 있습니다. 이 중 가장 큰 숫자는 94 입니다.\n",
    "\n",
    "문자열 형식으로 숫자 number와 제거할 수의 개수 k가 solution 함수의 매개변수로 주어집니다. number에서 k 개의 수를 제거했을 때 만들 수 있는 수 중 가장 큰 숫자를 문자열 형태로 return 하도록 solution 함수를 완성하세요."
   ]
  },
  {
   "cell_type": "markdown",
   "metadata": {},
   "source": [
    "## 제한사항"
   ]
  },
  {
   "cell_type": "markdown",
   "metadata": {},
   "source": [
    "* number는 1자리 이상, 1,000,000자리 이하인 숫자입니다.\n",
    "* k는 1 이상 number의 자릿수 미만인 자연수입니다."
   ]
  },
  {
   "cell_type": "markdown",
   "metadata": {},
   "source": [
    "## 입출력 예"
   ]
  },
  {
   "cell_type": "markdown",
   "metadata": {},
   "source": [
    "| number     | k | return |\n",
    "| ---------- | - | ------ |\n",
    "| 1924       | 2 | 94     |\n",
    "| 1231234    | 3 | 3234   |\n",
    "| 4177252841 | 4 | 775841 |"
   ]
  },
  {
   "cell_type": "markdown",
   "metadata": {},
   "source": [
    "## 코드"
   ]
  },
  {
   "cell_type": "markdown",
   "metadata": {},
   "source": [
    "### 실패한 코드"
   ]
  },
  {
   "cell_type": "markdown",
   "metadata": {},
   "source": [
    "* 재귀 함수의 Depth가 너무 크다.\n",
    "* 걸린 시간: 2시간\n",
    "* 결과: 58.3점"
   ]
  },
  {
   "cell_type": "code",
   "execution_count": 38,
   "metadata": {},
   "outputs": [],
   "source": [
    "def find_bnum(number, i, s, mem):\n",
    "    if s == 0:\n",
    "        return ''\n",
    "        \n",
    "    b_num = ''\n",
    "    if s in mem.keys():\n",
    "        b_num = mem[s]\n",
    "    else:\n",
    "        for max_val in '9876543210':\n",
    "            if number[i:].find(max_val) != -1:\n",
    "                for j in range(i, len(number)):\n",
    "                    if number[j] == max_val and (j+s) <= len(number):\n",
    "                        new_b_num = str(number[j]) + find_bnum(number, j+1, s-1, mem)\n",
    "                        if new_b_num > b_num:\n",
    "                            b_num = new_b_num\n",
    "                            max_status = (s, max_val)\n",
    "\n",
    "                if b_num:\n",
    "                    mem[s] = b_num\n",
    "\n",
    "    return b_num\n",
    "\n",
    "def solution(number, k):\n",
    "    b_num = find_bnum(number, 0, len(number)-k, {})\n",
    "    return b_num"
   ]
  },
  {
   "cell_type": "markdown",
   "metadata": {},
   "source": [
    "### 성공한 코드"
   ]
  },
  {
   "cell_type": "markdown",
   "metadata": {},
   "source": [
    "#### Version 1"
   ]
  },
  {
   "cell_type": "code",
   "execution_count": 85,
   "metadata": {},
   "outputs": [],
   "source": [
    "def solution(number, k):\n",
    "    bnums = ''\n",
    "    for n in number:\n",
    "        lindex = len(bnums)\n",
    "        if k > 0:\n",
    "            for i in range(len(bnums)-1, -1, -1):\n",
    "                if n > bnums[i]:\n",
    "                    lindex = i\n",
    "                    k -= 1\n",
    "                    if k == 0:\n",
    "                        break\n",
    "                else:\n",
    "                    break\n",
    "        bnums = bnums[:lindex] + n\n",
    "        \n",
    "    if k > 0:\n",
    "        bnums = bnums[:-k]\n",
    "    return bnums"
   ]
  },
  {
   "cell_type": "markdown",
   "metadata": {},
   "source": [
    "#### Version 2"
   ]
  },
  {
   "cell_type": "markdown",
   "metadata": {},
   "source": [
    "* 문자열 대신 리스트를 사용\n",
    "    * 문자열은 Immutable하고 리스트는 Mutable하기 때문"
   ]
  },
  {
   "cell_type": "code",
   "execution_count": 92,
   "metadata": {},
   "outputs": [],
   "source": [
    "def solution(number, k):\n",
    "    bnums = []\n",
    "    for i, n in enumerate(number):\n",
    "        while len(bnums) > 0 and bnums[-1] < n and k > 0:\n",
    "            k -= 1\n",
    "            bnums.pop()\n",
    "        if k == 0:\n",
    "            bnums += number[i:]\n",
    "            break\n",
    "        bnums.append(n)\n",
    "        \n",
    "    if k > 0:\n",
    "        bnums = bnums[:-k]\n",
    "    return ''.join(bnums)"
   ]
  },
  {
   "cell_type": "markdown",
   "metadata": {},
   "source": [
    "### 시간 복잡도"
   ]
  },
  {
   "cell_type": "markdown",
   "metadata": {},
   "source": [
    "* O(n^2)이라고 생각할 수 있는데 O(n)이다.\n",
    "* n개의 모든 자릿수는 더해지는 것도 한 번, 빠지는 것도 한 번이기 때문이다 (조금 더 구체적으로 말하면 2n)."
   ]
  },
  {
   "cell_type": "markdown",
   "metadata": {},
   "source": [
    "### 예제 1"
   ]
  },
  {
   "cell_type": "code",
   "execution_count": 93,
   "metadata": {},
   "outputs": [
    {
     "data": {
      "text/plain": [
       "'94'"
      ]
     },
     "execution_count": 93,
     "metadata": {},
     "output_type": "execute_result"
    }
   ],
   "source": [
    "number = '1924'\n",
    "k = 2\n",
    "solution(number, k)"
   ]
  },
  {
   "cell_type": "markdown",
   "metadata": {},
   "source": [
    "### 예제 2"
   ]
  },
  {
   "cell_type": "code",
   "execution_count": 57,
   "metadata": {},
   "outputs": [
    {
     "data": {
      "text/plain": [
       "'3234'"
      ]
     },
     "execution_count": 57,
     "metadata": {},
     "output_type": "execute_result"
    }
   ],
   "source": [
    "number = '1231234'\n",
    "k = 3\n",
    "solution(number, k)"
   ]
  },
  {
   "cell_type": "markdown",
   "metadata": {},
   "source": [
    "### 예제 3"
   ]
  },
  {
   "cell_type": "code",
   "execution_count": 87,
   "metadata": {},
   "outputs": [
    {
     "data": {
      "text/plain": [
       "'775841'"
      ]
     },
     "execution_count": 87,
     "metadata": {},
     "output_type": "execute_result"
    }
   ],
   "source": [
    "number = '4177252841'\n",
    "k = 4\n",
    "solution(number, k)"
   ]
  }
 ],
 "metadata": {
  "kernelspec": {
   "display_name": "Python 3",
   "language": "python",
   "name": "python3"
  },
  "language_info": {
   "codemirror_mode": {
    "name": "ipython",
    "version": 3
   },
   "file_extension": ".py",
   "mimetype": "text/x-python",
   "name": "python",
   "nbconvert_exporter": "python",
   "pygments_lexer": "ipython3",
   "version": "3.7.3"
  }
 },
 "nbformat": 4,
 "nbformat_minor": 2
}
