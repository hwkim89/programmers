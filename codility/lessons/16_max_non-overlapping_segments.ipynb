{
 "metadata": {
  "language_info": {
   "codemirror_mode": {
    "name": "ipython",
    "version": 3
   },
   "file_extension": ".py",
   "mimetype": "text/x-python",
   "name": "python",
   "nbconvert_exporter": "python",
   "pygments_lexer": "ipython3",
   "version": "3.8.5-final"
  },
  "orig_nbformat": 2,
  "kernelspec": {
   "name": "python385jvsc74a57bd0881438aaf537e66dfdaad625390fa0d3b3d0ff5ed91f143384dfadbe6c34b6b5",
   "display_name": "Python 3.8.5 64-bit ('base': conda)"
  },
  "metadata": {
   "interpreter": {
    "hash": "881438aaf537e66dfdaad625390fa0d3b3d0ff5ed91f143384dfadbe6c34b6b5"
   }
  }
 },
 "nbformat": 4,
 "nbformat_minor": 2,
 "cells": [
  {
   "source": [
    "# Max Non-overlapping Segments"
   ],
   "cell_type": "markdown",
   "metadata": {}
  },
  {
   "source": [
    "## Problem Link\n",
    "- https://app.codility.com/programmers/lessons/16-greedy_algorithms/max_nonoverlapping_segments/"
   ],
   "cell_type": "markdown",
   "metadata": {}
  },
  {
   "source": [
    "## Results\n",
    "- Link\n",
    "\n",
    "  - https://app.codility.com/demo/results/training28XTUJ-Z7F/\n",
    "\n",
    "- Thoughts\n",
    "\n",
    "  - I should check a basic validity before doing tasks."
   ],
   "cell_type": "markdown",
   "metadata": {}
  },
  {
   "source": [
    "## Codes"
   ],
   "cell_type": "markdown",
   "metadata": {}
  },
  {
   "cell_type": "code",
   "execution_count": 8,
   "metadata": {},
   "outputs": [],
   "source": [
    "def solution(A, B):\n",
    "    for i, (a, b) in enumerate(zip(A, B)):\n",
    "        if i == 0:\n",
    "            segments = [[b, 1]]\n",
    "            max_seg_length = 1\n",
    "        else:\n",
    "            for j, (end_x, count) in enumerate(segments):\n",
    "\n",
    "                if end_x < a:\n",
    "                    segments[j][0] = b\n",
    "                    segments[j][1] = count + 1\n",
    "                    max_seg_length = max(max_seg_length, segments[j][1])\n",
    "\n",
    "    return max_seg_length"
   ]
  },
  {
   "source": [
    "### Test Examples"
   ],
   "cell_type": "markdown",
   "metadata": {}
  },
  {
   "cell_type": "code",
   "execution_count": 9,
   "metadata": {},
   "outputs": [
    {
     "output_type": "execute_result",
     "data": {
      "text/plain": [
       "3"
      ]
     },
     "metadata": {},
     "execution_count": 9
    }
   ],
   "source": [
    "A, B = [1, 3, 7, 9, 9], [5, 6, 8, 9, 10]\n",
    "solution(A, B)"
   ]
  },
  {
   "cell_type": "code",
   "execution_count": 10,
   "metadata": {},
   "outputs": [
    {
     "output_type": "execute_result",
     "data": {
      "text/plain": [
       "4"
      ]
     },
     "metadata": {},
     "execution_count": 10
    }
   ],
   "source": [
    "A, B = [1, 3, 7, 9, 9, 10], [5, 6, 8, 9, 10, 11]\n",
    "solution(A, B)"
   ]
  }
 ]
}