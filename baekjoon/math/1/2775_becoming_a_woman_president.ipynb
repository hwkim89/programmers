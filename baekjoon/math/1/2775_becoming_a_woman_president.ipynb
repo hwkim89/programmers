{
 "cells": [
  {
   "cell_type": "markdown",
   "metadata": {},
   "source": [
    "# 부녀회장이 될테야"
   ]
  },
  {
   "cell_type": "markdown",
   "metadata": {},
   "source": [
    "## 문제 링크"
   ]
  },
  {
   "cell_type": "markdown",
   "metadata": {},
   "source": [
    "* https://www.acmicpc.net/problem/2869"
   ]
  },
  {
   "cell_type": "markdown",
   "metadata": {},
   "source": [
    "## 최종 코드"
   ]
  },
  {
   "cell_type": "code",
   "execution_count": 45,
   "metadata": {},
   "outputs": [
    {
     "name": "stdout",
     "output_type": "stream",
     "text": [
      "2\n",
      "1\n",
      "3\n",
      "6\n",
      "2\n",
      "3\n",
      "10\n"
     ]
    }
   ],
   "source": [
    "def get_population(k, n, p_dict):\n",
    "    if k == 0:\n",
    "        return n\n",
    "    elif p_dict.get((k, n)):\n",
    "        return p_dict.get((k, n))\n",
    "    \n",
    "    p_dict[(k, n)] = sum([get_population(k-1, i, p_dict) for i in range(1, n+1)])\n",
    "    return p_dict[(k, n)]\n",
    "\n",
    "T = int(input())\n",
    "for _ in range(T):\n",
    "    k, n, p_dict = int(input()), int(input()), {}\n",
    "    print(get_population(k, n, p_dict))"
   ]
  },
  {
   "cell_type": "markdown",
   "metadata": {},
   "source": [
    "### 시간 복잡도"
   ]
  },
  {
   "cell_type": "code",
   "execution_count": null,
   "metadata": {},
   "outputs": [],
   "source": []
  },
  {
   "cell_type": "markdown",
   "metadata": {},
   "source": [
    "## 문제 이해"
   ]
  },
  {
   "cell_type": "markdown",
   "metadata": {},
   "source": [
    "* a_(k, n) = a_(k-1, 0) + ... + a_(k-1, n)\n",
    "* a_(0, 1) = 1, ..., a_(0, 14) = 14\n",
    "* 1 <= k <= 14, 1 <= n <= 14"
   ]
  },
  {
   "cell_type": "markdown",
   "metadata": {},
   "source": [
    "## 테스트 코드"
   ]
  },
  {
   "cell_type": "markdown",
   "metadata": {},
   "source": [
    "### 시간 초과"
   ]
  },
  {
   "cell_type": "code",
   "execution_count": 31,
   "metadata": {},
   "outputs": [],
   "source": [
    "def get_population(k, n):\n",
    "    if k == 0:\n",
    "        return n\n",
    "    return sum([get_population(k-1, i) for i in range(1, n+1)])"
   ]
  },
  {
   "cell_type": "markdown",
   "metadata": {},
   "source": [
    "### 성공"
   ]
  },
  {
   "cell_type": "code",
   "execution_count": 43,
   "metadata": {},
   "outputs": [],
   "source": [
    "def get_population(k, n, p_dict):\n",
    "    if k == 0:\n",
    "        return n\n",
    "    elif p_dict.get((k, n)):\n",
    "        return p_dict.get((k, n))\n",
    "    \n",
    "    p_dict[(k, n)] = sum([get_population(k-1, i, p_dict) for i in range(1, n+1)])\n",
    "    return p_dict[(k, n)]"
   ]
  },
  {
   "cell_type": "code",
   "execution_count": 44,
   "metadata": {},
   "outputs": [
    {
     "name": "stdout",
     "output_type": "stream",
     "text": [
      "2\n",
      "1\n",
      "3\n",
      "6\n",
      "2\n",
      "3\n",
      "10\n"
     ]
    }
   ],
   "source": [
    "T = int(input())\n",
    "for _ in range(T):\n",
    "    k, n, p_dict = int(input()), int(input()), {}\n",
    "    print(get_population(k, n, p_dict))"
   ]
  },
  {
   "cell_type": "markdown",
   "metadata": {},
   "source": [
    "### 예제 입출력"
   ]
  },
  {
   "cell_type": "code",
   "execution_count": 17,
   "metadata": {},
   "outputs": [
    {
     "name": "stdout",
     "output_type": "stream",
     "text": [
      "6\n"
     ]
    }
   ],
   "source": [
    "k, n, p_dict = 1, 3, {}\n",
    "print(get_population(k, n, p_dict))"
   ]
  },
  {
   "cell_type": "code",
   "execution_count": 19,
   "metadata": {},
   "outputs": [
    {
     "name": "stdout",
     "output_type": "stream",
     "text": [
      "10\n"
     ]
    }
   ],
   "source": [
    "k, n, p_dict = 2, 3, {}\n",
    "print(get_population(k, n, p_dict))"
   ]
  },
  {
   "cell_type": "code",
   "execution_count": 42,
   "metadata": {},
   "outputs": [
    {
     "name": "stdout",
     "output_type": "stream",
     "text": [
      "37442160\n"
     ]
    }
   ],
   "source": [
    "k, n, p_dict = 14, 14, {}\n",
    "print(get_population(k, n, p_dict))"
   ]
  }
 ],
 "metadata": {
  "kernelspec": {
   "display_name": "Python 3",
   "language": "python",
   "name": "python3"
  },
  "language_info": {
   "codemirror_mode": {
    "name": "ipython",
    "version": 3
   },
   "file_extension": ".py",
   "mimetype": "text/x-python",
   "name": "python",
   "nbconvert_exporter": "python",
   "pygments_lexer": "ipython3",
   "version": "3.7.3"
  }
 },
 "nbformat": 4,
 "nbformat_minor": 2
}
