{
 "cells": [
  {
   "cell_type": "markdown",
   "metadata": {},
   "source": [
    "# 사전순 부분문자열"
   ]
  },
  {
   "cell_type": "markdown",
   "metadata": {},
   "source": [
    "## 문제 설명"
   ]
  },
  {
   "cell_type": "markdown",
   "metadata": {},
   "source": [
    "어떤 문자열 s가 주어졌을 때, s로부터 만들 수 있는 부분 문자열 중 사전 순으로 가장 뒤에 나오는 문자열을 찾으려 합니다. 부분 문자열을 만드는 방법은 다음과 같습니다.\n",
    "\n",
    "s에서 일부 문자를 선택해 새로운 문자열을 만듭니다.\n",
    "단, 이때 문자의 순서는 뒤바꾸지 않습니다.\n",
    "예를 들어 문자열 xyb로 만들 수 있는 부분 문자열은 다음과 같습니다.\n",
    "\n",
    "* x\n",
    "* y\n",
    "* b\n",
    "* xy\n",
    "* xb\n",
    "* yb\n",
    "* xyb\n",
    "\n",
    "이 중 사전 순으로 가장 뒤에 있는 문자열은 yb입니다.\n",
    "\n",
    "문자열 s가 주어졌을 때 s로부터 만들 수 있는 부분 문자열 중 사전 순으로 가장 뒤에 나오는 문자열을 리턴하는 solution 함수를 완성해주세요."
   ]
  },
  {
   "cell_type": "markdown",
   "metadata": {},
   "source": [
    "## 제한사항"
   ]
  },
  {
   "cell_type": "markdown",
   "metadata": {},
   "source": [
    "* s는 길이가 1 이상 1,000,000 이하인 문자열입니다.\n",
    "* s는 알파벳 소문자로만 이루어져 있습니다."
   ]
  },
  {
   "cell_type": "markdown",
   "metadata": {},
   "source": [
    "## 입출력 예"
   ]
  },
  {
   "cell_type": "markdown",
   "metadata": {},
   "source": [
    "| s    | result |\n",
    "| ---- | ------ |\n",
    "| xyb  | yb     |\n",
    "| yxyc | yyc    |"
   ]
  },
  {
   "cell_type": "markdown",
   "metadata": {},
   "source": [
    "### 입출력 예 설명"
   ]
  },
  {
   "cell_type": "markdown",
   "metadata": {},
   "source": [
    "#### 입출력 예 #1"
   ]
  },
  {
   "cell_type": "markdown",
   "metadata": {},
   "source": [
    "앞서 설명한 예와 같습니다."
   ]
  },
  {
   "cell_type": "markdown",
   "metadata": {},
   "source": [
    "#### 입출력 예 # 2"
   ]
  },
  {
   "cell_type": "markdown",
   "metadata": {},
   "source": [
    "yxyc로 만들 수 있는 부분 문자열은 다음과 같습니다.\n",
    "\n",
    "* y\n",
    "* x\n",
    "* c\n",
    "* yx\n",
    "* yy\n",
    "* yc\n",
    "* xy\n",
    "* xc\n",
    "* yxy\n",
    "* yxc\n",
    "* yyc\n",
    "* xyc\n",
    "* yxyc\n",
    "\n",
    "이 중 사전 순으로 가장 뒤에 나오는 문자열은 yyc입니다."
   ]
  },
  {
   "cell_type": "markdown",
   "metadata": {},
   "source": [
    "## 코드"
   ]
  },
  {
   "cell_type": "code",
   "execution_count": 93,
   "metadata": {},
   "outputs": [
    {
     "data": {
      "text/plain": [
       "'b'"
      ]
     },
     "execution_count": 93,
     "metadata": {},
     "output_type": "execute_result"
    }
   ],
   "source": [
    "'b'[-1]"
   ]
  },
  {
   "cell_type": "code",
   "execution_count": 94,
   "metadata": {},
   "outputs": [],
   "source": [
    "def solution(s):\n",
    "    if len(s) == 1:\n",
    "        return s\n",
    "    \n",
    "    prev_char = (0, s[0])\n",
    "    for i, char in enumerate(s[1:], start=1):\n",
    "        if char > prev_char[1]:\n",
    "            return s[:i-1] + s[i:]\n",
    "        prev_char = (i, char)\n",
    "    return s[:-1]"
   ]
  },
  {
   "cell_type": "code",
   "execution_count": 95,
   "metadata": {},
   "outputs": [
    {
     "data": {
      "text/plain": [
       "''"
      ]
     },
     "execution_count": 95,
     "metadata": {},
     "output_type": "execute_result"
    }
   ],
   "source": [
    "solution('a')"
   ]
  },
  {
   "cell_type": "code",
   "execution_count": 36,
   "metadata": {},
   "outputs": [],
   "source": [
    "from itertools import combinations\n",
    "\n",
    "def solution(s):\n",
    "    if len(s) == 1:\n",
    "        return s\n",
    "    \n",
    "    if s[0] > s[1]:\n",
    "        return s[0] + sorted([''.join(ps) for ps in combinations(s[1:], len(s)-2)], reverse=True)[0]\n",
    "    else:\n",
    "        return s[1:]"
   ]
  },
  {
   "cell_type": "code",
   "execution_count": null,
   "metadata": {},
   "outputs": [],
   "source": [
    "from itertools import combinations\n",
    "\n",
    "def solution(s):\n",
    "    if len(s) == 1:\n",
    "        return s\n",
    "    \n",
    "    if s[0] > s[1]:\n",
    "        return s[0] + sorted([''.join(ps) for ps in combinations(s[1:], len(s)-2)], reverse=True)[0]\n",
    "    else:\n",
    "        return s[1:]"
   ]
  },
  {
   "cell_type": "code",
   "execution_count": 60,
   "metadata": {},
   "outputs": [],
   "source": [
    "from itertools import combinations\n",
    "\n",
    "def solution(s):\n",
    "    if len(s) == 1:\n",
    "        return s\n",
    "    \n",
    "    return sorted([''.join(ps) for ps in combinations(s, len(s)-1)])[-1]"
   ]
  },
  {
   "cell_type": "code",
   "execution_count": 78,
   "metadata": {},
   "outputs": [],
   "source": [
    "from itertools import combinations\n",
    "\n",
    "def solution(s):\n",
    "    if len(s) == 1:\n",
    "        return s\n",
    "    \n",
    "    return sorted([''.join(ps) for ps in combinations(s, len(s)-1)])[-1]"
   ]
  },
  {
   "cell_type": "code",
   "execution_count": 72,
   "metadata": {},
   "outputs": [],
   "source": [
    "from itertools import combinations, chain\n",
    "\n",
    "def powerset(iterable):\n",
    "    \"powerset([1,2,3]) --> () (1,) (2,) (3,) (1,2) (1,3) (2,3) (1,2,3)\"\n",
    "    s = list(iterable)\n",
    "    return chain.from_iterable(combinations(s, r) for r in range(len(s)+1))\n",
    "\n",
    "def solution(s):\n",
    "    if len(s) == 1:\n",
    "        return s\n",
    "    \n",
    "    return sorted([''.join(ps) for ps in powerset(s)])"
   ]
  },
  {
   "cell_type": "code",
   "execution_count": 103,
   "metadata": {},
   "outputs": [],
   "source": [
    "def solution(s):\n",
    "    stack = []\n",
    "    for char in s: # O(N)\n",
    "        while stack and stack[-1] < char: # O(1)\n",
    "            stack.pop()\n",
    "        stack.append(char)\n",
    "    return ''.join(stack)"
   ]
  },
  {
   "cell_type": "code",
   "execution_count": 104,
   "metadata": {},
   "outputs": [
    {
     "data": {
      "text/plain": [
       "'sgeea'"
      ]
     },
     "execution_count": 104,
     "metadata": {},
     "output_type": "execute_result"
    }
   ],
   "source": [
    "s = \"fdesgeea\"\n",
    "solution(s)"
   ]
  },
  {
   "cell_type": "markdown",
   "metadata": {},
   "source": [
    "### 시간 복잡도"
   ]
  },
  {
   "cell_type": "code",
   "execution_count": null,
   "metadata": {},
   "outputs": [],
   "source": [
    "# N = len(s)\n",
    "# 전체 시간 복잡도: O(N)\n",
    "\n",
    "def solution(s):\n",
    "    stack = []\n",
    "    for char in s: # O(N)\n",
    "        while stack and stack[-1] < char: # O(1)\n",
    "            stack.pop()\n",
    "        stack.append(char)\n",
    "    return ''.join(stack)"
   ]
  },
  {
   "cell_type": "markdown",
   "metadata": {},
   "source": [
    "### 예제 1"
   ]
  },
  {
   "cell_type": "code",
   "execution_count": 98,
   "metadata": {},
   "outputs": [
    {
     "data": {
      "text/plain": [
       "'yb'"
      ]
     },
     "execution_count": 98,
     "metadata": {},
     "output_type": "execute_result"
    }
   ],
   "source": [
    "s = 'xyb'\n",
    "solution(s)"
   ]
  },
  {
   "cell_type": "markdown",
   "metadata": {},
   "source": [
    "### 예제 2"
   ]
  },
  {
   "cell_type": "code",
   "execution_count": 99,
   "metadata": {},
   "outputs": [
    {
     "data": {
      "text/plain": [
       "'yyc'"
      ]
     },
     "execution_count": 99,
     "metadata": {},
     "output_type": "execute_result"
    }
   ],
   "source": [
    "s = 'yxyc'\n",
    "solution(s)"
   ]
  }
 ],
 "metadata": {
  "kernelspec": {
   "display_name": "Python 3",
   "language": "python",
   "name": "python3"
  },
  "language_info": {
   "codemirror_mode": {
    "name": "ipython",
    "version": 3
   },
   "file_extension": ".py",
   "mimetype": "text/x-python",
   "name": "python",
   "nbconvert_exporter": "python",
   "pygments_lexer": "ipython3",
   "version": "3.7.3"
  }
 },
 "nbformat": 4,
 "nbformat_minor": 2
}
