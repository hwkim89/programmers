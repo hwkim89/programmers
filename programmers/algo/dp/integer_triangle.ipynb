{
 "cells": [
  {
   "cell_type": "markdown",
   "metadata": {},
   "source": [
    "# 정수 삼각형"
   ]
  },
  {
   "cell_type": "markdown",
   "metadata": {},
   "source": [
    "## 문제 링크\n",
    "- https://programmers.co.kr/learn/courses/30/lessons/43105"
   ]
  },
  {
   "cell_type": "markdown",
   "metadata": {},
   "source": [
    "## 코드"
   ]
  },
  {
   "cell_type": "code",
   "execution_count": 82,
   "metadata": {},
   "outputs": [],
   "source": [
    "import numpy as np\n",
    "\n",
    "def flatten_2d(arrays):\n",
    "    flatten_array = [0]\n",
    "    for array in arrays:\n",
    "        for value in array:\n",
    "            flatten_array.append(value)\n",
    "    return flatten_array\n",
    "\n",
    "def solution(triangle):\n",
    "    triangle.insert(0, [])\n",
    "    flatten_triangle = flatten_2d(triangle)\n",
    "    count = 1\n",
    "    for i, nums in enumerate(triangle[2:], start=2):\n",
    "        p_min, p_max = count - len(triangle[i-1]) + 1, count\n",
    "        for j, n in enumerate(nums):\n",
    "            count += 1\n",
    "            p_loc_start = count - len(triangle[i-1]) - 1\n",
    "            for p_loc in range(p_loc_start, p_loc_start+2):\n",
    "                if p_min <= p_loc <= p_max:\n",
    "                    flatten_triangle[count] = max(flatten_triangle[count],\n",
    "                                                  flatten_triangle[p_loc] + triangle[i][j])\n",
    "\n",
    "    return max(flatten_triangle[-len(triangle[-1]):])"
   ]
  },
  {
   "cell_type": "markdown",
   "metadata": {},
   "source": [
    "### 입출력 예"
   ]
  },
  {
   "cell_type": "code",
   "execution_count": 83,
   "metadata": {
    "scrolled": true
   },
   "outputs": [
    {
     "output_type": "execute_result",
     "data": {
      "text/plain": [
       "30"
      ]
     },
     "metadata": {},
     "execution_count": 83
    }
   ],
   "source": [
    "triangle = [[7], [3, 8], [8, 1, 0], [2, 7, 4, 4], [4, 5, 2, 6, 5]]\n",
    "solution(triangle)"
   ]
  }
 ],
 "metadata": {
  "kernelspec": {
   "name": "python385jvsc74a57bd0881438aaf537e66dfdaad625390fa0d3b3d0ff5ed91f143384dfadbe6c34b6b5",
   "display_name": "Python 3.8.5 64-bit ('base': conda)"
  },
  "language_info": {
   "codemirror_mode": {
    "name": "ipython",
    "version": 3
   },
   "file_extension": ".py",
   "mimetype": "text/x-python",
   "name": "python",
   "nbconvert_exporter": "python",
   "pygments_lexer": "ipython3",
   "version": "3.8.5"
  },
  "metadata": {
   "interpreter": {
    "hash": "881438aaf537e66dfdaad625390fa0d3b3d0ff5ed91f143384dfadbe6c34b6b5"
   }
  }
 },
 "nbformat": 4,
 "nbformat_minor": 2
}