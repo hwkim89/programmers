{
 "cells": [
  {
   "cell_type": "markdown",
   "metadata": {},
   "source": [
    "# 징검다리"
   ]
  },
  {
   "cell_type": "markdown",
   "metadata": {},
   "source": [
    "* https://programmers.co.kr/learn/courses/30/lessons/43236"
   ]
  },
  {
   "cell_type": "markdown",
   "metadata": {},
   "source": [
    "## 문제 설명"
   ]
  },
  {
   "cell_type": "markdown",
   "metadata": {},
   "source": [
    "출발지점부터 distance만큼 떨어진 곳에 도착지점이 있습니다. 그리고 그사이에는 바위들이 놓여있습니다. 바위 중 몇 개를 제거하려고 합니다.\n",
    "예를 들어, 도착지점이 25만큼 떨어져 있고, 바위가 [2, 14, 11, 21, 17] 지점에 놓여있을 때 바위 2개를 제거하면 출발지점, 도착지점, 바위 간의 거리가 아래와 같습니다."
   ]
  },
  {
   "cell_type": "markdown",
   "metadata": {},
   "source": [
    "|제거한 바위의 위치|각 바위 사이의 거리|거리의 최솟값|\n",
    "|------------------|-------------------|-------------|\n",
    "|[21, 17]|[2, 9, 3, 11]|2|\n",
    "|[2, 21]|[11, 3, 3, 8]|3|\n",
    "|[2, 11]|[14, 3, 4, 4]|3|\n",
    "|[11, 21]|[2, 12, 3, 8]|2|\n",
    "|[2, 14]|[11, 6, 4, 4]|4|"
   ]
  },
  {
   "cell_type": "markdown",
   "metadata": {},
   "source": [
    "위에서 구한 거리의 최솟값 중에 가장 큰 값은 4입니다.\n",
    "\n",
    "출발지점부터 도착지점까지의 거리 distance, 바위들이 있는 위치를 담은 배열 rocks, 제거할 바위의 수 n이 매개변수로 주어질 때, 바위를 n개 제거한 뒤 각 지점 사이의 거리의 최솟값 중에 가장 큰 값을 return 하도록 solution 함수를 작성해주세요."
   ]
  },
  {
   "cell_type": "markdown",
   "metadata": {},
   "source": [
    "### 제한사항"
   ]
  },
  {
   "cell_type": "markdown",
   "metadata": {},
   "source": [
    "* 도착지점까지의 거리 distance는 1 이상 1,000,000,000 이하입니다.\n",
    "* 바위는 1개 이상 50,000개 이하가 있습니다.\n",
    "* n 은 1 이상 바위의 개수 이하입니다."
   ]
  },
  {
   "cell_type": "markdown",
   "metadata": {},
   "source": [
    "## 입출력 예"
   ]
  },
  {
   "cell_type": "markdown",
   "metadata": {},
   "source": [
    "|distance|rocks|n|return|\n",
    "|-|-|-|-|\n",
    "|25|[2, 14, 11, 21, 17]|2|4|"
   ]
  },
  {
   "cell_type": "markdown",
   "metadata": {},
   "source": [
    "### 입출력 예 설명"
   ]
  },
  {
   "cell_type": "markdown",
   "metadata": {},
   "source": [
    "문제에 나온 예와 같습니다."
   ]
  },
  {
   "cell_type": "markdown",
   "metadata": {},
   "source": [
    "## 문제 풀이"
   ]
  },
  {
   "cell_type": "markdown",
   "metadata": {},
   "source": [
    "![문제 풀이](image.png)"
   ]
  },
  {
   "cell_type": "markdown",
   "metadata": {},
   "source": [
    "## 최종 코드"
   ]
  },
  {
   "cell_type": "code",
   "execution_count": 43,
   "metadata": {},
   "outputs": [],
   "source": [
    "def solution(distance, rocks, n):\n",
    "    rocks.sort()\n",
    "    left = 0; right = distance\n",
    "    while(left < right):\n",
    "        mid = (left + right + 1) // 2 # 바위 사이 거리의 최소값\n",
    "        prev = 0 # 이전 돌\n",
    "        count = 0 # 제거할 돌 개수\n",
    "        for rock in rocks:\n",
    "            # 바위 사이의 최소 거리보다 더 작은 돌은 제거\n",
    "            if rock - prev < mid:\n",
    "                count += 1\n",
    "            else:\n",
    "                prev = rock\n",
    "\n",
    "        # 제거한 돌 개수 ↑ => 바위 제거 수 ↓ => 바위 사이 거리의 최소값 ↓\n",
    "        if count > n:\n",
    "            right = mid - 1\n",
    "        # 제거한 돌 개수 ↓ => 바위 제거 수 ↑ => 바위 사이 거리의 최소값 ↑\n",
    "        else:\n",
    "            left = mid\n",
    "            \n",
    "    return left"
   ]
  },
  {
   "cell_type": "markdown",
   "metadata": {},
   "source": [
    "### 테스트"
   ]
  },
  {
   "cell_type": "code",
   "execution_count": 45,
   "metadata": {},
   "outputs": [
    {
     "data": {
      "text/plain": [
       "4"
      ]
     },
     "execution_count": 45,
     "metadata": {},
     "output_type": "execute_result"
    }
   ],
   "source": [
    "distance = 25\n",
    "rocks = [2, 14, 11, 21, 17]\n",
    "n = 2\n",
    "\n",
    "solution(distance, rocks, n)"
   ]
  },
  {
   "cell_type": "code",
   "execution_count": 46,
   "metadata": {},
   "outputs": [
    {
     "data": {
      "text/plain": [
       "3"
      ]
     },
     "execution_count": 46,
     "metadata": {},
     "output_type": "execute_result"
    }
   ],
   "source": [
    "distance = 50\n",
    "rocks = [2, 14, 11, 21, 17, 16, 29, 32, 45, 39]\n",
    "n = 3\n",
    "\n",
    "solution(distance, rocks, n)"
   ]
  },
  {
   "cell_type": "code",
   "execution_count": 47,
   "metadata": {},
   "outputs": [
    {
     "data": {
      "text/plain": [
       "22"
      ]
     },
     "execution_count": 47,
     "metadata": {},
     "output_type": "execute_result"
    }
   ],
   "source": [
    "distance = 80\n",
    "rocks = [2, 14, 11, 21, 17, 16, 29, 32, 45, 39, 65, 34, 55, 57, 74, 73, 77, 1]\n",
    "n = 15\n",
    "\n",
    "solution(distance, rocks, n)"
   ]
  },
  {
   "cell_type": "markdown",
   "metadata": {},
   "source": [
    "### 결과"
   ]
  },
  {
   "cell_type": "markdown",
   "metadata": {},
   "source": [
    "정확성  테스트  \n",
    "테스트 1 〉\t통과 (0.25ms, 10.8MB)  \n",
    "테스트 2 〉\t통과 (0.25ms, 10.8MB)  \n",
    "테스트 3 〉\t통과 (0.28ms, 10.7MB)  \n",
    "테스트 4 〉\t통과 (10.88ms, 11.3MB)  \n",
    "테스트 5 〉\t통과 (9.82ms, 11.3MB)  \n",
    "테스트 6 〉\t통과 (115.74ms, 46.5MB)  \n",
    "테스트 7 〉\t통과 (146.76ms, 45.5MB)  \n",
    "테스트 8 〉\t통과 (148.98ms, 45.5MB)  \n",
    "\n",
    "채점 결과  \n",
    "정확성: 100.0  \n",
    "합계: 100.0 / 100.0"
   ]
  },
  {
   "cell_type": "markdown",
   "metadata": {},
   "source": [
    "## 테스트 코드"
   ]
  },
  {
   "cell_type": "code",
   "execution_count": 30,
   "metadata": {},
   "outputs": [],
   "source": [
    "from collections import Counter\n",
    "\n",
    "def remove_min_distance_rock(rocks, distance):\n",
    "    # 시작점에서 도착점까지 각 바위로 이동하는 경로 정보 추출 후 거리가 짧은 순으로 정렬\n",
    "    rock_sets = []\n",
    "    for i in range(len(rocks)-1):\n",
    "        rock_sets.append([rocks[i], rocks[i+1], rocks[i+1] - rocks[i]])\n",
    "    rock_sets.sort(key=lambda x: x[2])\n",
    "\n",
    "    # 최소 거리의 바위들 추출\n",
    "    min_distance = rock_sets[0][2]\n",
    "    min_distance_rocks = [rock_sets[0][:2]]\n",
    "    for rock_set in rock_sets[1:]:\n",
    "        if rock_set[2] == min_distance:\n",
    "            min_distance_rocks.append(rock_set[:2])\n",
    "        else:\n",
    "            break\n",
    "            \n",
    "    min_rock = (None, float('inf'))\n",
    "    for l_rock, r_rock in min_distance_rocks:\n",
    "        # 최소 거리를 가지는 두 바위와 맞닿아 있는 바위 정보 추출\n",
    "        if rocks.index(l_rock) > 0:\n",
    "            ll_rock = rocks[rocks.index(l_rock)-1]\n",
    "        else:\n",
    "            ll_rock = float('-inf')\n",
    "        if rocks.index(r_rock) < (len(rocks)-1):\n",
    "            rr_rock = rocks[rocks.index(r_rock)+1]\n",
    "        else:\n",
    "            rr_rock = float('inf')\n",
    "            \n",
    "#         print('Min rocks')\n",
    "#         print(ll_rock, l_rock)\n",
    "#         print(r_rock, rr_rock, '\\n')\n",
    "            \n",
    "        # 맞닿아 있는 바위와의 거리가 가장 작은 경우 해당 바위 정보 추출\n",
    "        if (l_rock - ll_rock) <= (rr_rock - r_rock) and (l_rock - ll_rock) < min_rock[1]:\n",
    "            min_rock = (l_rock, l_rock - ll_rock)\n",
    "        elif (l_rock - ll_rock) > (rr_rock - r_rock) and (rr_rock - r_rock) < min_rock[1]:\n",
    "            min_rock = (r_rock, rr_rock - r_rock)\n",
    "        \n",
    "#     print(min_distance_rocks)\n",
    "#     print(rocks, min_rock, '\\n')\n",
    "    rocks.remove(min_rock[0])\n",
    "    return rocks"
   ]
  },
  {
   "cell_type": "code",
   "execution_count": 31,
   "metadata": {},
   "outputs": [],
   "source": [
    "def solution(distance, rocks, n):\n",
    "    if n == len(rocks):\n",
    "        return distance\n",
    "    \n",
    "    # 바위 위치 정렬 후 시작점과 도착점 추가\n",
    "    rocks.sort()\n",
    "    rocks.insert(0, 0)\n",
    "    rocks.append(distance)\n",
    "    \n",
    "    # 가장 거리가 짧은 바위 제거\n",
    "    for i in range(n):\n",
    "        rocks = remove_min_distance_rock(rocks, distance)\n",
    "        \n",
    "    # 남은 바위 간 거리 중 최소값 반환\n",
    "    return sorted([rocks[i+1]-rocks[i] for i in range(len(rocks)-1)])[0]"
   ]
  },
  {
   "cell_type": "markdown",
   "metadata": {},
   "source": [
    "### 테스트"
   ]
  },
  {
   "cell_type": "code",
   "execution_count": 32,
   "metadata": {
    "scrolled": true
   },
   "outputs": [
    {
     "data": {
      "text/plain": [
       "4"
      ]
     },
     "execution_count": 32,
     "metadata": {},
     "output_type": "execute_result"
    }
   ],
   "source": [
    "distance = 25\n",
    "rocks = [2, 14, 11, 21, 17]\n",
    "n = 2\n",
    "\n",
    "solution(distance, rocks, n)"
   ]
  },
  {
   "cell_type": "code",
   "execution_count": 33,
   "metadata": {
    "scrolled": false
   },
   "outputs": [
    {
     "data": {
      "text/plain": [
       "3"
      ]
     },
     "execution_count": 33,
     "metadata": {},
     "output_type": "execute_result"
    }
   ],
   "source": [
    "distance = 50\n",
    "rocks = [2, 14, 11, 21, 17, 16, 29, 32, 45, 39]\n",
    "n = 3\n",
    "\n",
    "solution(distance, rocks, n)"
   ]
  },
  {
   "cell_type": "code",
   "execution_count": 34,
   "metadata": {
    "scrolled": false
   },
   "outputs": [
    {
     "data": {
      "text/plain": [
       "15"
      ]
     },
     "execution_count": 34,
     "metadata": {},
     "output_type": "execute_result"
    }
   ],
   "source": [
    "distance = 80\n",
    "rocks = [2, 14, 11, 21, 17, 16, 29, 32, 45, 39, 65, 34, 55, 57, 74, 73, 77, 1]\n",
    "n = 15\n",
    "\n",
    "solution(distance, rocks, n)"
   ]
  },
  {
   "cell_type": "markdown",
   "metadata": {},
   "source": [
    "### 결과"
   ]
  },
  {
   "cell_type": "markdown",
   "metadata": {},
   "source": [
    "채점을 시작합니다.  \n",
    "정확성  테스트  \n",
    "테스트 1 〉\t실패 (1.26ms, 10.8MB)  \n",
    "테스트 2 〉\t실패 (1.68ms, 10.8MB)  \n",
    "테스트 3 〉\t실패 (1.86ms, 10.8MB)  \n",
    "테스트 4 〉\t통과 (1131.72ms, 11.7MB)  \n",
    "테스트 5 〉\t통과 (2156.08ms, 11.8MB)  \n",
    "테스트 6 〉\t실패 (시간 초과)  \n",
    "테스트 7 〉\t실패 (시간 초과)  \n",
    "테스트 8 〉\t실패 (시간 초과)  \n",
    "\n",
    "채점 결과  \n",
    "정확성: 25.0  \n",
    "합계: 25.0 / 100.0  "
   ]
  },
  {
   "cell_type": "markdown",
   "metadata": {},
   "source": [
    "## 참조"
   ]
  },
  {
   "cell_type": "markdown",
   "metadata": {},
   "source": [
    "* https://m.post.naver.com/viewer/postView.nhn?volumeNo=27217004&memberNo=33264526"
   ]
  }
 ],
 "metadata": {
  "kernelspec": {
   "display_name": "Python 3",
   "language": "python",
   "name": "python3"
  },
  "language_info": {
   "codemirror_mode": {
    "name": "ipython",
    "version": 3
   },
   "file_extension": ".py",
   "mimetype": "text/x-python",
   "name": "python",
   "nbconvert_exporter": "python",
   "pygments_lexer": "ipython3",
   "version": "3.7.4"
  }
 },
 "nbformat": 4,
 "nbformat_minor": 2
}
