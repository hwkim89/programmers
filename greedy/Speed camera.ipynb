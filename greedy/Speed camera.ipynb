{
 "cells": [
  {
   "cell_type": "markdown",
   "metadata": {},
   "source": [
    "# 문제 설명"
   ]
  },
  {
   "cell_type": "markdown",
   "metadata": {},
   "source": [
    "고속도로를 이동하는 모든 차량이 고속도로를 이용하면서 단속용 카메라를 한 번은 만나도록 카메라를 설치하려고 합니다.\n",
    "\n",
    "고속도로를 이동하는 차량의 경로 routes가 매개변수로 주어질 때, 모든 차량이 한 번은 단속용 카메라를 만나도록 하려면 최소 몇 대의 카메라를 설치해야 하는지를 return 하도록 solution 함수를 완성하세요."
   ]
  },
  {
   "cell_type": "markdown",
   "metadata": {},
   "source": [
    "# 제한 사항"
   ]
  },
  {
   "cell_type": "markdown",
   "metadata": {},
   "source": [
    "차량의 대수는 1대 이상 10,000대 이하입니다.\n",
    "routes에는 차량의 이동 경로가 포함되어 있으며 routes[i][0]에는 i번째 차량이 고속도로에 진입한 지점, routes[i][1]에는 i번째 차량이 고속도로에서 나간 지점이 적혀 있습니다.\n",
    "차량의 진입/진출 지점에 카메라가 설치되어 있어도 카메라를 만난것으로 간주합니다.\n",
    "차량의 진입 지점, 진출 지점은 -30,000 이상 30,000 이하입니다."
   ]
  },
  {
   "cell_type": "markdown",
   "metadata": {},
   "source": [
    "# 입출력 예"
   ]
  },
  {
   "cell_type": "markdown",
   "metadata": {},
   "source": [
    "routes\treturn<br>\n",
    "[[-20,15], [-14,-5], [-18,-13], [-5,-3]]\t2"
   ]
  },
  {
   "cell_type": "markdown",
   "metadata": {},
   "source": [
    "# 입출력 예 설명"
   ]
  },
  {
   "cell_type": "markdown",
   "metadata": {},
   "source": [
    "-5 지점에 카메라를 설치하면 두 번째, 네 번째 차량이 카메라를 만납니다.\n",
    "\n",
    "-15 지점에 카메라를 설치하면 첫 번째, 세 번째 차량이 카메라를 만납니다."
   ]
  },
  {
   "cell_type": "markdown",
   "metadata": {},
   "source": [
    "---"
   ]
  },
  {
   "cell_type": "code",
   "execution_count": 15,
   "metadata": {},
   "outputs": [],
   "source": [
    "# 특정 카메라 위치가 차량 이동 구간에 포함되는지 확인\n",
    "def is_in(info, loc):\n",
    "    if info[0] <= loc and info[1] >= loc:\n",
    "        return True\n",
    "    return False"
   ]
  },
  {
   "cell_type": "code",
   "execution_count": 16,
   "metadata": {},
   "outputs": [],
   "source": [
    "# 카메라 위치에 포함되는 차량 이동 구간은 모두 제거\n",
    "def remove_passed(routes, camera_loc):\n",
    "    removal_list = []\n",
    "    for i, route in enumerate(routes):\n",
    "        if is_in(route, camera_loc):\n",
    "            removal_list.append(route)\n",
    "            \n",
    "    for value in removal_list:\n",
    "        routes.remove(value)"
   ]
  },
  {
   "cell_type": "code",
   "execution_count": 13,
   "metadata": {},
   "outputs": [],
   "source": [
    "def solution(routes):\n",
    "    cameras = 0\n",
    "    while routes:\n",
    "        # 가장 큰 진출 지점에 카메라 위치를 두는 경우, 포함되는 구간 모두 제거\n",
    "        max_left = max(routes, key=lambda x: x[0])[0]\n",
    "        remove_passed(routes, max_left)\n",
    "        cameras += 1\n",
    "        if not routes:\n",
    "            break\n",
    "\n",
    "        # 가장 작은 진입 지점에 카메라 위치를 두는 경우, 포함되는 구간 모두 제거\n",
    "        min_right = min(routes, key=lambda x: x[1])[1]\n",
    "        remove_passed(routes, min_right)\n",
    "        cameras += 1\n",
    "        \n",
    "    return cameras"
   ]
  },
  {
   "cell_type": "code",
   "execution_count": 14,
   "metadata": {},
   "outputs": [
    {
     "data": {
      "text/plain": [
       "2"
      ]
     },
     "execution_count": 14,
     "metadata": {},
     "output_type": "execute_result"
    }
   ],
   "source": [
    "routes = [[-20,15], [-14,-5], [-18,-13], [-5,-3]]\n",
    "solution(routes)"
   ]
  },
  {
   "cell_type": "markdown",
   "metadata": {},
   "source": [
    "---"
   ]
  },
  {
   "cell_type": "markdown",
   "metadata": {},
   "source": [
    "# Result"
   ]
  },
  {
   "cell_type": "markdown",
   "metadata": {},
   "source": [
    "* 정확성: 50.0\n",
    "* 효율성: 50.0\n",
    "* 합계: 100.0 / 100.0"
   ]
  },
  {
   "cell_type": "markdown",
   "metadata": {},
   "source": [
    "---"
   ]
  }
 ],
 "metadata": {
  "kernelspec": {
   "display_name": "Python 3",
   "language": "python",
   "name": "python3"
  },
  "language_info": {
   "codemirror_mode": {
    "name": "ipython",
    "version": 3
   },
   "file_extension": ".py",
   "mimetype": "text/x-python",
   "name": "python",
   "nbconvert_exporter": "python",
   "pygments_lexer": "ipython3",
   "version": "3.7.1"
  }
 },
 "nbformat": 4,
 "nbformat_minor": 2
}
