{
 "cells": [
  {
   "cell_type": "markdown",
   "metadata": {},
   "source": [
    "# 동전 1"
   ]
  },
  {
   "cell_type": "markdown",
   "metadata": {},
   "source": [
    "## 문제 링크"
   ]
  },
  {
   "cell_type": "markdown",
   "metadata": {},
   "source": [
    "* https://www.acmicpc.net/problem/2293"
   ]
  },
  {
   "cell_type": "markdown",
   "metadata": {},
   "source": [
    "## 최종 코드"
   ]
  },
  {
   "cell_type": "code",
   "execution_count": 20,
   "metadata": {},
   "outputs": [
    {
     "name": "stdout",
     "output_type": "stream",
     "text": [
      "3 10\n",
      "1\n",
      "2\n",
      "5\n",
      "10\n"
     ]
    }
   ],
   "source": [
    "def find_all_cases(coins, k):\n",
    "    k_sum = [0 for i in range(k + 1)]\n",
    "    k_sum[0] = 1\n",
    "    for coin in coins:\n",
    "        for cur_k in range(1, k + 1):\n",
    "            if cur_k - coin >= 0:\n",
    "                k_sum[cur_k] += k_sum[cur_k - coin]\n",
    "    return k_sum[k]\n",
    "\n",
    "n, k = map(int, input().split())\n",
    "coins = []\n",
    "for i in range(n):\n",
    "    coins.append(int(input()))\n",
    "print(find_all_cases(coins, k))"
   ]
  },
  {
   "cell_type": "markdown",
   "metadata": {},
   "source": [
    "### 설명"
   ]
  },
  {
   "cell_type": "markdown",
   "metadata": {},
   "source": [
    "| coin ↓ | k → | 0  | 1  | 2  | 3  | 4  | 5  | 6  | 7  | 8  | 9  | 10 |\n",
    "|---------|------|----|----|----|----|----|----|----|----|----|----|----|\n",
    "| 0       |      | 1  | 0  | 0  | 0  | 0  | 0  | 0  | 0  | 0  | 0  | 0  |\n",
    "| 1       |      | 1  | 1  | 1  | 1  | 1  | 1  | 1  | 1  | 1  | 1  | 1  |\n",
    "| 2       |      | 1  | 1  | 2  | 2  | 3  | 3  | 4  | 4  | 5  | 5  | 6  |\n",
    "| 5       |      | 1  | 1  | 2  | 2  | 3  | 4  | 5  | 6  | 7  | 8  | 10 |"
   ]
  },
  {
   "cell_type": "markdown",
   "metadata": {},
   "source": [
    "* 현재 coin으로 k를 만들 수 있는 경우의 수 = 이전 coin들로 k를 만들 수 있는 경우의 수 + (k - 현재 coin)을 만들 수 있는 경우의수\n",
    "* cases[cur_coin, k] = cases[prev_coins, k] + cases[prev_coins & cur_coin, k - cur_coin]"
   ]
  },
  {
   "cell_type": "markdown",
   "metadata": {},
   "source": [
    "### 시간 복잡도"
   ]
  },
  {
   "cell_type": "code",
   "execution_count": null,
   "metadata": {},
   "outputs": [],
   "source": []
  },
  {
   "cell_type": "markdown",
   "metadata": {},
   "source": [
    "## 테스트 코드"
   ]
  },
  {
   "cell_type": "code",
   "execution_count": 1,
   "metadata": {},
   "outputs": [],
   "source": [
    "def find_all_cases(coins, k):\n",
    "    k_sum = [0 for i in range(k + 1)]\n",
    "    k_sum[0] = 1\n",
    "    for coin in coins:\n",
    "        for cur_k in range(1, k + 1):\n",
    "            if cur_k - coin >= 0:\n",
    "                k_sum[cur_k] += k_sum[cur_k - coin]\n",
    "    return k_sum[k]"
   ]
  },
  {
   "cell_type": "code",
   "execution_count": 9,
   "metadata": {},
   "outputs": [],
   "source": [
    "from collections import deque\n",
    "\n",
    "def find_all_cases(coins, total_val_sum):\n",
    "    cur_val_sums = [total_val_sum]\n",
    "    count = 0\n",
    "    for coin in coins:\n",
    "        remained_val_sums = []\n",
    "        for cur_val_sum in cur_val_sums:\n",
    "            for cur_val in range(0, cur_val_sum+1, coin):\n",
    "                if cur_val == cur_val_sum:\n",
    "                    count += 1\n",
    "                else:\n",
    "                    remained_val_sums.append(cur_val_sum - cur_val)\n",
    "                    \n",
    "        cur_val_sums = remained_val_sums\n",
    "        \n",
    "    return count"
   ]
  },
  {
   "cell_type": "code",
   "execution_count": 2,
   "metadata": {},
   "outputs": [
    {
     "name": "stdout",
     "output_type": "stream",
     "text": [
      "3 10\n",
      "1\n",
      "2\n",
      "5\n",
      "10\n"
     ]
    }
   ],
   "source": [
    "n, total_val_sum = map(int, input().split())\n",
    "coins = [int(input()) for _ in range(n)]\n",
    "print(find_all_cases(coins, total_val_sum))"
   ]
  },
  {
   "cell_type": "markdown",
   "metadata": {},
   "source": [
    "### 예제 입출력"
   ]
  },
  {
   "cell_type": "code",
   "execution_count": 5,
   "metadata": {},
   "outputs": [
    {
     "name": "stdout",
     "output_type": "stream",
     "text": [
      "10\n"
     ]
    }
   ],
   "source": [
    "n, total_val_sum = 3, 10\n",
    "coins = [1, 2, 5]\n",
    "print(find_all_cases(coins, total_val_sum))"
   ]
  },
  {
   "cell_type": "code",
   "execution_count": 3,
   "metadata": {},
   "outputs": [
    {
     "name": "stdout",
     "output_type": "stream",
     "text": [
      "22683324467557455025270363928849330511235016373648534420498657018392011562024963097559021800\n"
     ]
    }
   ],
   "source": [
    "n, total_val_sum = 100, 10000\n",
    "coins = [i for i in range(1, n+1)]\n",
    "print(find_all_cases(coins, total_val_sum))"
   ]
  }
 ],
 "metadata": {
  "kernelspec": {
   "display_name": "Python 3",
   "language": "python",
   "name": "python3"
  },
  "language_info": {
   "codemirror_mode": {
    "name": "ipython",
    "version": 3
   },
   "file_extension": ".py",
   "mimetype": "text/x-python",
   "name": "python",
   "nbconvert_exporter": "python",
   "pygments_lexer": "ipython3",
   "version": "3.7.4"
  }
 },
 "nbformat": 4,
 "nbformat_minor": 2
}
