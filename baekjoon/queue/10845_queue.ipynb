{
 "cells": [
  {
   "cell_type": "markdown",
   "metadata": {},
   "source": [
    "## 큐"
   ]
  },
  {
   "cell_type": "markdown",
   "metadata": {},
   "source": [
    "### 문제 링크"
   ]
  },
  {
   "cell_type": "markdown",
   "metadata": {},
   "source": [
    "* https://www.acmicpc.net/problem/10845"
   ]
  },
  {
   "cell_type": "markdown",
   "metadata": {},
   "source": [
    "### 최종 코드"
   ]
  },
  {
   "cell_type": "code",
   "execution_count": null,
   "metadata": {},
   "outputs": [],
   "source": [
    "from collections import deque\n",
    "from sys import stdin\n",
    "\n",
    "class Queue:\n",
    "    def __init__(self):\n",
    "        self._queue = deque()\n",
    "\n",
    "    @property\n",
    "    def size(self):\n",
    "        return len(self._queue)\n",
    "    \n",
    "    @property\n",
    "    def front(self):\n",
    "        return self._queue[0] if self._queue else -1\n",
    "    \n",
    "    @property\n",
    "    def back(self):\n",
    "        return self._queue[-1] if self._queue else -1\n",
    "    \n",
    "    def push(self, element):\n",
    "        self._queue.append(element)\n",
    "        \n",
    "    def pop(self):\n",
    "        return self._queue.popleft() if self._queue else -1\n",
    "    \n",
    "    def is_empty(self):\n",
    "        return 0 if self._queue else 1\n",
    "    \n",
    "def solution(queue, cmd):\n",
    "    if len(cmd) > 1: # push\n",
    "        queue.push(cmd[-1])\n",
    "    else:\n",
    "        cmd = cmd[0]\n",
    "        if cmd == 'size':\n",
    "            print(queue.size)\n",
    "        elif cmd == 'front':\n",
    "            print(queue.front)\n",
    "        elif cmd == 'back':\n",
    "            print(queue.back)\n",
    "        elif cmd == 'pop':\n",
    "            print(queue.pop())\n",
    "        else: # empty\n",
    "            print(queue.is_empty())\n",
    "            \n",
    "N = int(stdin.readline())\n",
    "queue = Queue()\n",
    "for _ in range(N):\n",
    "    cmd = stdin.readline().split()\n",
    "    solution(queue, cmd)"
   ]
  },
  {
   "cell_type": "markdown",
   "metadata": {},
   "source": [
    "#### 시간 복잡도"
   ]
  },
  {
   "cell_type": "code",
   "execution_count": null,
   "metadata": {},
   "outputs": [],
   "source": []
  },
  {
   "cell_type": "markdown",
   "metadata": {},
   "source": [
    "### 코드"
   ]
  },
  {
   "cell_type": "code",
   "execution_count": 11,
   "metadata": {},
   "outputs": [],
   "source": [
    "from collections import deque\n",
    "from sys import stdin\n",
    "\n",
    "class Queue:\n",
    "    def __init__(self):\n",
    "        self._queue = deque()\n",
    "\n",
    "    @property\n",
    "    def size(self):\n",
    "        return len(self._queue)\n",
    "    \n",
    "    @property\n",
    "    def front(self):\n",
    "        return self._queue[0] if self._queue else -1\n",
    "    \n",
    "    @property\n",
    "    def back(self):\n",
    "        return self._queue[-1] if self._queue else -1\n",
    "    \n",
    "    def push(self, element):\n",
    "        self._queue.append(element)\n",
    "        \n",
    "    def pop(self):\n",
    "        return self._queue.popleft() if self._queue else -1\n",
    "    \n",
    "    def is_empty(self):\n",
    "        return 0 if self._queue else 1\n",
    "    \n",
    "def solution(queue, cmd):\n",
    "    if len(cmd) > 1: # push\n",
    "        queue.push(cmd[-1])\n",
    "    else:\n",
    "        cmd = cmd[0]\n",
    "        if cmd == 'size':\n",
    "            print(queue.size)\n",
    "        elif cmd == 'front':\n",
    "            print(queue.front)\n",
    "        elif cmd == 'back':\n",
    "            print(queue.back)\n",
    "        elif cmd == 'pop':\n",
    "            print(queue.pop())\n",
    "        else: # empty\n",
    "            print(queue.is_empty())"
   ]
  },
  {
   "cell_type": "code",
   "execution_count": null,
   "metadata": {},
   "outputs": [],
   "source": [
    "N = int(stdin.readline())\n",
    "queue = Queue()\n",
    "for _ in range(N):\n",
    "    cmd = stdin.readline().split()\n",
    "    solution(queue, cmd)"
   ]
  },
  {
   "cell_type": "markdown",
   "metadata": {},
   "source": [
    "### 예제 입출력"
   ]
  },
  {
   "cell_type": "code",
   "execution_count": 13,
   "metadata": {},
   "outputs": [
    {
     "name": "stdout",
     "output_type": "stream",
     "text": [
      "1\n",
      "2\n",
      "2\n",
      "0\n",
      "1\n",
      "2\n",
      "-1\n",
      "0\n",
      "1\n",
      "-1\n",
      "0\n",
      "3\n"
     ]
    }
   ],
   "source": [
    "N = 15\n",
    "queue = Queue()\n",
    "cmds = [\n",
    "    'push 1',\n",
    "    'push 2',\n",
    "    'front',\n",
    "    'back',\n",
    "    'size',\n",
    "    'empty',\n",
    "    'pop',\n",
    "    'pop',\n",
    "    'pop',\n",
    "    'size',\n",
    "    'empty',\n",
    "    'pop',\n",
    "    'push 3',\n",
    "    'empty',\n",
    "    'front'\n",
    "]\n",
    "for cmd in cmds:\n",
    "    cmd = cmd.split()\n",
    "    solution(queue, cmd)"
   ]
  }
 ],
 "metadata": {
  "kernelspec": {
   "display_name": "Python 3",
   "language": "python",
   "name": "python3"
  },
  "language_info": {
   "codemirror_mode": {
    "name": "ipython",
    "version": 3
   },
   "file_extension": ".py",
   "mimetype": "text/x-python",
   "name": "python",
   "nbconvert_exporter": "python",
   "pygments_lexer": "ipython3",
   "version": "3.7.3"
  }
 },
 "nbformat": 4,
 "nbformat_minor": 2
}
