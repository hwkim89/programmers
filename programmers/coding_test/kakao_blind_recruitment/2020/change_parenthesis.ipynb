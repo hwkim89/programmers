{
 "cells": [
  {
   "cell_type": "markdown",
   "metadata": {},
   "source": [
    "# 괄호 변환"
   ]
  },
  {
   "cell_type": "markdown",
   "metadata": {},
   "source": [
    "## 문제 링크"
   ]
  },
  {
   "cell_type": "markdown",
   "metadata": {},
   "source": [
    "* https://programmers.co.kr/learn/courses/30/lessons/60058"
   ]
  },
  {
   "cell_type": "markdown",
   "metadata": {},
   "source": [
    "## 코드"
   ]
  },
  {
   "cell_type": "markdown",
   "metadata": {},
   "source": [
    "안 좋은 코드 (try-except 구문 쓰지 않기)"
   ]
  },
  {
   "cell_type": "code",
   "execution_count": 46,
   "metadata": {},
   "outputs": [],
   "source": [
    "def check(s):\n",
    "    stack = []\n",
    "    for c in s:\n",
    "        if c == ')':\n",
    "            try:\n",
    "                stack.pop()\n",
    "            except:\n",
    "                return False\n",
    "        else:\n",
    "            stack.append(c)\n",
    "\n",
    "    return False if stack else True\n",
    "\n",
    "def divide(p):\n",
    "    count = {'(': 0, ')': 0}\n",
    "    for i, c in enumerate(p):\n",
    "        count[c] += 1\n",
    "        if count['('] == count[')']:\n",
    "            return p[:i+1], p[i+1:]\n",
    "\n",
    "def solution(p):\n",
    "    if not p or check(p):\n",
    "        return p\n",
    "    \n",
    "    u, v = divide(p)\n",
    "    if check(u):\n",
    "        return u + solution(v)\n",
    "    else:\n",
    "        return '(' + solution(v) + ')' + ''.join([')' if c == '(' else '(' for c in u[1:-1]])"
   ]
  },
  {
   "cell_type": "markdown",
   "metadata": {},
   "source": [
    "개선된 코드"
   ]
  },
  {
   "cell_type": "code",
   "execution_count": 29,
   "metadata": {},
   "outputs": [],
   "source": [
    "def get_right_p(parenthesis):\n",
    "    def get_balanced_ps(parenthesis):\n",
    "        count = {'(': 0, ')': 0}\n",
    "        for i, p in enumerate(parenthesis):\n",
    "            count[p] += 1\n",
    "            if count['('] == count[')']:\n",
    "                return parenthesis[:i+1], parenthesis[i+1:]\n",
    "            \n",
    "    def is_right_p(parenthesis):\n",
    "        stack = []\n",
    "        for p in parenthesis:\n",
    "            if p == '(':\n",
    "                stack.append(p)\n",
    "            elif stack:\n",
    "                stack.pop()\n",
    "            else:\n",
    "                return False\n",
    "            \n",
    "        return len(stack) == 0\n",
    "                \n",
    "    if parenthesis == '' or is_right_p(parenthesis):\n",
    "        return parenthesis\n",
    "    \n",
    "    u, v = get_balanced_ps(parenthesis)\n",
    "    if is_right_p(u):\n",
    "        return u + get_right_p(v)\n",
    "    else:\n",
    "        reversed_u = ''.join([')' if c == '(' else '(' for c in u[1:-1]])\n",
    "        return '(' + get_right_p(v) + ')' + reversed_u\n",
    "\n",
    "def solution(parenthesis):\n",
    "    return get_right_p(parenthesis)"
   ]
  },
  {
   "cell_type": "markdown",
   "metadata": {},
   "source": [
    "### 시간 복잡도"
   ]
  },
  {
   "cell_type": "code",
   "execution_count": null,
   "metadata": {},
   "outputs": [],
   "source": []
  },
  {
   "cell_type": "markdown",
   "metadata": {},
   "source": [
    "### 예제"
   ]
  },
  {
   "cell_type": "code",
   "execution_count": 30,
   "metadata": {},
   "outputs": [
    {
     "data": {
      "text/plain": [
       "'(()())()'"
      ]
     },
     "execution_count": 30,
     "metadata": {},
     "output_type": "execute_result"
    }
   ],
   "source": [
    "p = \"(()())()\" #\"(()())()\"\n",
    "solution(p)"
   ]
  },
  {
   "cell_type": "code",
   "execution_count": 31,
   "metadata": {},
   "outputs": [
    {
     "data": {
      "text/plain": [
       "'()'"
      ]
     },
     "execution_count": 31,
     "metadata": {},
     "output_type": "execute_result"
    }
   ],
   "source": [
    "p = \")(\" #\"()\"\n",
    "solution(p)"
   ]
  },
  {
   "cell_type": "code",
   "execution_count": 32,
   "metadata": {},
   "outputs": [
    {
     "data": {
      "text/plain": [
       "'()(())()'"
      ]
     },
     "execution_count": 32,
     "metadata": {},
     "output_type": "execute_result"
    }
   ],
   "source": [
    "p = \"()))((()\" #\"()(())()\"\n",
    "solution(p)"
   ]
  }
 ],
 "metadata": {
  "kernelspec": {
   "display_name": "Python 3",
   "language": "python",
   "name": "python3"
  },
  "language_info": {
   "codemirror_mode": {
    "name": "ipython",
    "version": 3
   },
   "file_extension": ".py",
   "mimetype": "text/x-python",
   "name": "python",
   "nbconvert_exporter": "python",
   "pygments_lexer": "ipython3",
   "version": "3.7.4"
  }
 },
 "nbformat": 4,
 "nbformat_minor": 2
}
