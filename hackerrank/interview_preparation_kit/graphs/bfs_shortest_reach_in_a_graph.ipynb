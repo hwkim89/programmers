{
 "metadata": {
  "language_info": {
   "codemirror_mode": {
    "name": "ipython",
    "version": 3
   },
   "file_extension": ".py",
   "mimetype": "text/x-python",
   "name": "python",
   "nbconvert_exporter": "python",
   "pygments_lexer": "ipython3",
   "version": "3.8.5"
  },
  "orig_nbformat": 2,
  "kernelspec": {
   "name": "python385jvsc74a57bd0881438aaf537e66dfdaad625390fa0d3b3d0ff5ed91f143384dfadbe6c34b6b5",
   "display_name": "Python 3.8.5 64-bit ('base': conda)"
  },
  "metadata": {
   "interpreter": {
    "hash": "881438aaf537e66dfdaad625390fa0d3b3d0ff5ed91f143384dfadbe6c34b6b5"
   }
  }
 },
 "nbformat": 4,
 "nbformat_minor": 2,
 "cells": [
  {
   "source": [
    "# BFS: Shortest Reach in a Graph"
   ],
   "cell_type": "markdown",
   "metadata": {}
  },
  {
   "source": [
    "## Problem Link\n",
    "- https://www.hackerrank.com/challenges/ctci-bfs-shortest-reach/problem"
   ],
   "cell_type": "markdown",
   "metadata": {}
  },
  {
   "source": [
    "## Codes"
   ],
   "cell_type": "markdown",
   "metadata": {}
  },
  {
   "cell_type": "code",
   "execution_count": 58,
   "metadata": {},
   "outputs": [],
   "source": [
    "from collections import defaultdict, deque\n",
    "\n",
    "COST = 6\n",
    "\n",
    "def get_distances(graph, s, n):\n",
    "    # Calculate distances\n",
    "    distances = [0 for _ in range(n+1)]\n",
    "    queue, visited = deque([s]), set()\n",
    "    while queue:\n",
    "        cur_v = queue.popleft()\n",
    "        visited.add(cur_v)\n",
    "        for next_v in graph[cur_v]:\n",
    "            if next_v not in visited:\n",
    "                queue.append(next_v)\n",
    "                visited.add(next_v)\n",
    "                distances[next_v] += distances[cur_v] + COST\n",
    "\n",
    "    # Convert distances into a string\n",
    "    new_distances = []\n",
    "    for i, d in enumerate(distances[1:], start=1):\n",
    "        if i != s:\n",
    "            if d != 0:\n",
    "                new_distances.append(str(d))\n",
    "            else:\n",
    "                new_distances.append('-1')\n",
    "    return ' '.join(new_distances)\n",
    "\n",
    "q = int(input())\n",
    "for i in range(q):\n",
    "    # Create a graph\n",
    "    n, m = map(int, input().split())\n",
    "    graph = defaultdict(list)\n",
    "    for i in range(m):\n",
    "        u, v = map(int, input().split())\n",
    "        graph[u].append(v)\n",
    "        graph[v].append(u)\n",
    "        \n",
    "    # Get and print distances\n",
    "    s = int(input())\n",
    "    distances = get_distances(graph, s, n)\n",
    "    print(distances)"
   ]
  },
  {
   "source": [
    "### Test Codes with Files"
   ],
   "cell_type": "markdown",
   "metadata": {}
  },
  {
   "cell_type": "code",
   "execution_count": 60,
   "metadata": {
    "tags": []
   },
   "outputs": [
    {
     "output_type": "stream",
     "name": "stdout",
     "text": [
      "Successed!!\n"
     ]
    }
   ],
   "source": [
    "with open('test_cases/bfs_shortest_reach_in_a_graph/input01.txt', 'r') as f:\n",
    "    info = f.read().splitlines()[1:]\n",
    "    answers = []\n",
    "    count = 0\n",
    "    for _ in range(q):\n",
    "        # Create a graph\n",
    "        n, m = map(int, info[0].split())\n",
    "        graph = defaultdict(list)\n",
    "        for edge in info[1:m+1]:\n",
    "            u, v = map(int, edge.split())\n",
    "            graph[u].append(v)\n",
    "            graph[v].append(u)\n",
    "            \n",
    "        # Get and print distances\n",
    "        s = int(info[m+1])\n",
    "        distances = get_distances(graph, s, n)\n",
    "        answers.append(distances)\n",
    "\n",
    "        # Update information\n",
    "        info = info[m:]\n",
    "\n",
    "with open('test_cases/bfs_shortest_reach_in_a_graph/output01.txt', 'r') as f:\n",
    "    truths = f.read().splitlines()\n",
    "    successed = True\n",
    "    for answer, truth in zip(answers, truths):\n",
    "        answer, truth = answer.split(), truth.split()\n",
    "        for each_answer, each_truth in zip(answer, truth):\n",
    "            if each_answer != each_truth:\n",
    "                print('answer, truth:', each_answer, each_truth)\n",
    "                successed = False\n",
    "\n",
    "    if successed:\n",
    "        print('Successed!!')\n"
   ]
  }
 ]
}