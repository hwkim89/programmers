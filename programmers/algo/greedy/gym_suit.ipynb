{
 "cells": [
  {
   "cell_type": "markdown",
   "metadata": {},
   "source": [
    "# 체육복"
   ]
  },
  {
   "source": [
    "## 문제 링크\n",
    "- https://programmers.co.kr/learn/courses/30/lessons/42862"
   ],
   "cell_type": "markdown",
   "metadata": {}
  },
  {
   "source": [
    "## 코드"
   ],
   "cell_type": "markdown",
   "metadata": {}
  },
  {
   "source": [
    "### 방법 1"
   ],
   "cell_type": "markdown",
   "metadata": {}
  },
  {
   "cell_type": "code",
   "execution_count": 75,
   "metadata": {},
   "outputs": [],
   "source": [
    "def solution(n, lost, reserve):\n",
    "    ori_lost, ori_reserve = set(lost), set(reserve)\n",
    "    lost = set([i for i in ori_lost if i not in ori_reserve])\n",
    "    reserve = set([i for i in ori_reserve if i not in ori_lost])\n",
    "    count = n - len(lost)\n",
    "    \n",
    "    visited = set()\n",
    "    for i in reserve:\n",
    "        if i-1 not in visited and i-1 in lost:\n",
    "            visited.add(i-1)\n",
    "            count += 1\n",
    "        elif i+1 in lost:\n",
    "            visited.add(i+1)\n",
    "            count += 1\n",
    "    return count"
   ]
  },
  {
   "cell_type": "markdown",
   "metadata": {},
   "source": [
    "### 방법 2"
   ]
  },
  {
   "cell_type": "code",
   "execution_count": 2,
   "metadata": {},
   "outputs": [],
   "source": [
    "# 여벌을 가져온 학생 처리: reserve의 길이에 비례\n",
    "# 체육복 잃어버린 학생 처리: lost의 길이에 비례\n",
    "# 체육복 빌려주기 처리: 전체 학생 수 (n)에 비례\n",
    "# 최종 시간 복잡도: O(n)\n",
    "\n",
    "def solution(n, lost, reserve):\n",
    "    n_st_gs = [1] * (n+2)\n",
    "\n",
    "    # Add counts in reservation cases\n",
    "    for i in reserve:\n",
    "        n_st_gs[i] += 1\n",
    "    \n",
    "    # Subtract counts in lost cases\n",
    "    for i in lost:\n",
    "        n_st_gs[i] -= 1\n",
    "            \n",
    "    # Borrow gym suits\n",
    "    for i in range(1, n+1):\n",
    "        if n_st_gs[i] == 0:\n",
    "            if n_st_gs[i-1] == 2:\n",
    "                n_st_gs[i-1] -= 1\n",
    "                n_st_gs[i] += 1\n",
    "            elif n_st_gs[i+1] == 2:\n",
    "                n_st_gs[i+1] -= 1\n",
    "                n_st_gs[i] += 1\n",
    "\n",
    "    return len([True for c in n_st_gs if c > 0]) - 2"
   ]
  },
  {
   "cell_type": "markdown",
   "metadata": {},
   "source": [
    "### 방법 3"
   ]
  },
  {
   "cell_type": "code",
   "execution_count": 115,
   "metadata": {},
   "outputs": [],
   "source": [
    "def solution(n, lost, reserve):\n",
    "    reserve.sort()\n",
    "    lost_dic = {i: True for i in lost if i not in reserve}\n",
    "    count = len(lost_dic)\n",
    "    for i in reserve:\n",
    "        if i not in lost:\n",
    "            if lost_dic.get(i-1, None):\n",
    "                lost_dic.pop(i-1)\n",
    "                count -= 1\n",
    "            elif lost_dic.get(i+1, None):\n",
    "                lost_dic.pop(i+1)\n",
    "                count -= 1\n",
    "\n",
    "    return n - count"
   ]
  },
  {
   "cell_type": "markdown",
   "metadata": {},
   "source": [
    "### 방법 4"
   ]
  },
  {
   "source": [
    "- Set은 Dictionary로 구현되어 있기 때문에 접근 시간이 O(1)이다.\n",
    "    - Dictionary는 Key-value 구조이지만, Set은 특정 Value는 없다.\n",
    "    - Set은 어떤 원소가 이 집합에 속해 있는지 없는지를 나타낼 수 있는 구조이다.\n",
    "- Greedy 접근법을 사용하려면 오름차순으로 정렬되어 있기 때문에 나보다 번호가 하나 작은 사람을 먼저 살펴보고 나서 나보다 번호가 하나 큰 사람을 살펴봐야 한다."
   ],
   "cell_type": "markdown",
   "metadata": {}
  },
  {
   "cell_type": "code",
   "execution_count": 8,
   "metadata": {},
   "outputs": [],
   "source": [
    "# 여벌의 체육복을 가져온 학생들의 번호 (reserve)를 정렬: O(klogk)\n",
    "# 체육복을 빌려줄 수 있는 학생을 찾아 처리: O(k) x O(1)\n",
    "# 최종 시간 복잡도: O(klogk)\n",
    "# 추가적으로 Set을 만드는데 시간 복잡도가 reverse의 길이만큼인 O(k)가 든다.\n",
    "\n",
    "def solution(n, lost, reserve):\n",
    "    l_and_s = set(lost) & set(reserve)\n",
    "    l = set(lost) - l_and_s\n",
    "    r = set(reserve) - l_and_s\n",
    "    for i in sorted(r):\n",
    "        if (i-1) in l:\n",
    "            l.remove(i-1)\n",
    "        elif (i+1) in l:\n",
    "            l.remove(i+1)\n",
    "\n",
    "    return n - len(l)"
   ]
  },
  {
   "source": [
    "### 입출력 예"
   ],
   "cell_type": "markdown",
   "metadata": {}
  },
  {
   "cell_type": "code",
   "execution_count": 84,
   "metadata": {},
   "outputs": [
    {
     "output_type": "execute_result",
     "data": {
      "text/plain": [
       "5"
      ]
     },
     "metadata": {},
     "execution_count": 84
    }
   ],
   "source": [
    "n, lost, reserve = 5, [2, 4], [1 ,3, 5]\n",
    "solution(n, lost, reserve)"
   ]
  },
  {
   "cell_type": "code",
   "execution_count": 83,
   "metadata": {},
   "outputs": [
    {
     "output_type": "execute_result",
     "data": {
      "text/plain": [
       "4"
      ]
     },
     "metadata": {},
     "execution_count": 83
    }
   ],
   "source": [
    "n, lost, reserve = 5, [2, 4], [3]\n",
    "solution(n, lost, reserve)"
   ]
  },
  {
   "cell_type": "code",
   "execution_count": 82,
   "metadata": {},
   "outputs": [
    {
     "output_type": "execute_result",
     "data": {
      "text/plain": [
       "2"
      ]
     },
     "metadata": {},
     "execution_count": 82
    }
   ],
   "source": [
    "n, lost, reserve = 3, [3], [1]\n",
    "solution(n, lost, reserve)"
   ]
  },
  {
   "cell_type": "code",
   "execution_count": 81,
   "metadata": {},
   "outputs": [
    {
     "output_type": "execute_result",
     "data": {
      "text/plain": [
       "4"
      ]
     },
     "metadata": {},
     "execution_count": 81
    }
   ],
   "source": [
    "n, lost, reserve = 5, [2, 3], [1, 2]\n",
    "solution(n, lost, reserve)"
   ]
  }
 ],
 "metadata": {
  "kernelspec": {
   "name": "python385jvsc74a57bd0881438aaf537e66dfdaad625390fa0d3b3d0ff5ed91f143384dfadbe6c34b6b5",
   "display_name": "Python 3.8.5 64-bit ('base': conda)"
  },
  "language_info": {
   "codemirror_mode": {
    "name": "ipython",
    "version": 3
   },
   "file_extension": ".py",
   "mimetype": "text/x-python",
   "name": "python",
   "nbconvert_exporter": "python",
   "pygments_lexer": "ipython3",
   "version": "3.8.5"
  },
  "metadata": {
   "interpreter": {
    "hash": "881438aaf537e66dfdaad625390fa0d3b3d0ff5ed91f143384dfadbe6c34b6b5"
   }
  }
 },
 "nbformat": 4,
 "nbformat_minor": 2
}