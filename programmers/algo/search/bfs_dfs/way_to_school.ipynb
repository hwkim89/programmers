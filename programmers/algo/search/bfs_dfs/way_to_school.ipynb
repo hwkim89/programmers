{
 "cells": [
  {
   "cell_type": "markdown",
   "metadata": {},
   "source": [
    "# 등굣길"
   ]
  },
  {
   "cell_type": "markdown",
   "metadata": {},
   "source": [
    "## 문제 링크"
   ]
  },
  {
   "cell_type": "markdown",
   "metadata": {},
   "source": [
    "* https://programmers.co.kr/learn/courses/30/lessons/42898"
   ]
  },
  {
   "cell_type": "markdown",
   "metadata": {},
   "source": [
    "## 코드"
   ]
  },
  {
   "cell_type": "code",
   "execution_count": 1,
   "metadata": {},
   "outputs": [],
   "source": [
    "from collections import deque\n",
    "\n",
    "def solution(m, n, puddles):\n",
    "    MOD_NUM = 1000000007\n",
    "    DELTAS = [(1, 0), (0, 1)]\n",
    "    START, GOAL = (0, 0), (n-1, m-1)\n",
    "    puddles = set((y-1, x-1) for x, y in puddles)\n",
    "    roads = [[0] * m for _ in range(n)]\n",
    "                        \n",
    "    queue, visited = deque([START]), set()\n",
    "    while len(queue) > 0:\n",
    "        x, y = queue.popleft()\n",
    "        \n",
    "        # Update a road value\n",
    "        upper_val = roads[x-1][y] if x - 1 >= 0 else 0\n",
    "        left_val = roads[x][y-1] if y - 1 >= 0 else 0\n",
    "        roads[x][y] = upper_val + left_val if (x, y) != (0, 0) else 1\n",
    "        \n",
    "        # Check a goal and a level\n",
    "        if (x, y) == GOAL:\n",
    "            break\n",
    "            \n",
    "        # Find next (x, y)\n",
    "        if (x, y) not in puddles:\n",
    "            for dx, dy in DELTAS:\n",
    "                next_x, next_y = x + dx, y + dy\n",
    "                if 0 <= next_x < n and 0 <= next_y < m \\\n",
    "                and (next_x, next_y) not in puddles \\\n",
    "                and (next_x, next_y) not in visited:\n",
    "                    queue.append((next_x, next_y))\n",
    "                    visited.add((next_x, next_y))\n",
    "    \n",
    "    return roads[-1][-1] % MOD_NUM"
   ]
  },
  {
   "cell_type": "markdown",
   "metadata": {},
   "source": [
    "### 입출력 예"
   ]
  },
  {
   "cell_type": "code",
   "execution_count": 2,
   "metadata": {
    "scrolled": true
   },
   "outputs": [
    {
     "data": {
      "text/plain": [
       "4"
      ]
     },
     "execution_count": 2,
     "metadata": {},
     "output_type": "execute_result"
    }
   ],
   "source": [
    "m, n = 4, 3\n",
    "puddles = [[2, 2]]\n",
    "solution(m, n, puddles)"
   ]
  },
  {
   "cell_type": "code",
   "execution_count": 3,
   "metadata": {},
   "outputs": [
    {
     "data": {
      "text/plain": [
       "19261"
      ]
     },
     "execution_count": 3,
     "metadata": {},
     "output_type": "execute_result"
    }
   ],
   "source": [
    "m, n = 10, 10\n",
    "puddles = [[2, 3], [3, 4], [6, 1], [6, 2]]\n",
    "solution(m, n, puddles)"
   ]
  }
 ],
 "metadata": {
  "kernelspec": {
   "name": "python385jvsc74a57bd0881438aaf537e66dfdaad625390fa0d3b3d0ff5ed91f143384dfadbe6c34b6b5",
   "display_name": "Python 3.8.5 64-bit ('base': conda)"
  },
  "language_info": {
   "codemirror_mode": {
    "name": "ipython",
    "version": 3
   },
   "file_extension": ".py",
   "mimetype": "text/x-python",
   "name": "python",
   "nbconvert_exporter": "python",
   "pygments_lexer": "ipython3",
   "version": "3.8.5-final"
  },
  "metadata": {
   "interpreter": {
    "hash": "881438aaf537e66dfdaad625390fa0d3b3d0ff5ed91f143384dfadbe6c34b6b5"
   }
  }
 },
 "nbformat": 4,
 "nbformat_minor": 2
}