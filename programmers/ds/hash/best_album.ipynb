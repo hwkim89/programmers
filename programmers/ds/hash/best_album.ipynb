{
 "cells": [
  {
   "cell_type": "markdown",
   "metadata": {},
   "source": [
    "# 베스트 앨범"
   ]
  },
  {
   "cell_type": "markdown",
   "metadata": {},
   "source": [
    "## 문제 링크"
   ]
  },
  {
   "cell_type": "markdown",
   "metadata": {},
   "source": [
    "* https://programmers.co.kr/learn/courses/30/lessons/42579"
   ]
  },
  {
   "cell_type": "markdown",
   "metadata": {},
   "source": [
    "## 코드"
   ]
  },
  {
   "cell_type": "code",
   "execution_count": 15,
   "metadata": {},
   "outputs": [],
   "source": [
    "from collections import defaultdict\n",
    "import functools\n",
    "\n",
    "def compare(x, y):\n",
    "    if x[0] < y[0]:\n",
    "        return 1\n",
    "    elif x[0] > y[0]:\n",
    "        return -1\n",
    "    else:\n",
    "        if x[1] > y[1]:\n",
    "            return 1\n",
    "        elif x[1] < y[1]:\n",
    "            return -1\n",
    "        else:\n",
    "            return 0\n",
    "\n",
    "def solution(genres, plays):\n",
    "    count = {g: {'total': 0, 'part': []} for g in set(genres)}\n",
    "    for idx, (genre, play) in enumerate(zip(genres, plays)):\n",
    "        count[genre]['total'] += play\n",
    "        count[genre]['part'].append((play, idx))\n",
    "\n",
    "    sorted_genres = []\n",
    "    for genre, info in count.items():\n",
    "        sorted_genres.append((info['total'], genre))\n",
    "        count[genre]['part'].sort(key=functools.cmp_to_key(compare))\n",
    "    sorted_genres.sort(reverse=True)\n",
    "\n",
    "    best_idx = []\n",
    "    for _, genre in sorted_genres:\n",
    "        for _, idx in count[genre]['part'][:2]:\n",
    "            best_idx.append(idx)\n",
    "    return best_idx\n"
   ]
  },
  {
   "cell_type": "markdown",
   "metadata": {},
   "source": [
    "### 입출력 예"
   ]
  },
  {
   "cell_type": "code",
   "execution_count": 16,
   "metadata": {},
   "outputs": [
    {
     "output_type": "execute_result",
     "data": {
      "text/plain": [
       "[4, 1, 3, 0]"
      ]
     },
     "metadata": {},
     "execution_count": 16
    }
   ],
   "source": [
    "genres = [\"classic\", \"pop\", \"classic\", \"classic\", \"pop\"]\n",
    "plays = [500, 600, 150, 800, 2500]\n",
    "solution(genres, plays)"
   ]
  }
 ],
 "metadata": {
  "kernelspec": {
   "name": "python385jvsc74a57bd0881438aaf537e66dfdaad625390fa0d3b3d0ff5ed91f143384dfadbe6c34b6b5",
   "display_name": "Python 3.8.5 64-bit ('base': conda)"
  },
  "language_info": {
   "codemirror_mode": {
    "name": "ipython",
    "version": 3
   },
   "file_extension": ".py",
   "mimetype": "text/x-python",
   "name": "python",
   "nbconvert_exporter": "python",
   "pygments_lexer": "ipython3",
   "version": "3.8.5"
  },
  "metadata": {
   "interpreter": {
    "hash": "881438aaf537e66dfdaad625390fa0d3b3d0ff5ed91f143384dfadbe6c34b6b5"
   }
  }
 },
 "nbformat": 4,
 "nbformat_minor": 2
}