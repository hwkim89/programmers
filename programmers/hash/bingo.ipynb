{
 "cells": [
  {
   "cell_type": "markdown",
   "metadata": {},
   "source": [
    "# 빙고"
   ]
  },
  {
   "cell_type": "markdown",
   "metadata": {},
   "source": [
    "## 문제 설명"
   ]
  },
  {
   "cell_type": "markdown",
   "metadata": {},
   "source": [
    "빙고는 NxN 크기의 게임 보드 칸에 1부터 NxN까지의 자연수를 중복 없이 하나씩 적은 후 숫자를 하나씩 지워나가는 게임입니다. 이때, 가로, 세로, 대각선 방향으로 한 줄에 적힌 숫자를 모두 지울 경우 빙고를 1개 만들었다고 합니다.\n",
    "다음은 4X4 크기의 게임 보드를 이용해 게임을 진행한 예시입니다.\n",
    "\n",
    "![image](bingo_01.png)\n",
    "\n",
    "위와 같이 각 칸에 숫자가 적혀 있을 때, 위 게임 보드에서 순서대로 지운 숫자가 [14,3,2,4,13,1,16,11,5,15]인 경우 아래와 같이 빙고 3개가 만들어집니다.\n",
    "\n",
    "![image](bingo_02.png)\n",
    "\n",
    "빙고 게임 보드에 적힌 숫자가 담겨있는 배열 board, 게임 보드에서 순서대로 지운 숫자가 들어있는 배열 nums가 매개변수로 주어질 때, board에서 nums에 들어있는 숫자를 모두 지우면 몇 개의 빙고가 만들어지는지 return하도록 solution함수를 완성해주세요."
   ]
  },
  {
   "cell_type": "markdown",
   "metadata": {},
   "source": [
    "## 제한사항"
   ]
  },
  {
   "cell_type": "markdown",
   "metadata": {},
   "source": [
    "* board는 게임 보드 칸에 적힌 숫자를 뜻하는 NxN크기의 2차원 배열이며, N은 2 이상 500이하의 자연수입니다.\n",
    "* board의 각 칸에는 1 이상 NxN이하의 자연수가 중복 없이 하나씩 들어있습니다.\n",
    "* nums는 board에서 지울 숫자가 들어있는 배열이며, 길이는 1 이상 NxN이하입니다.\n",
    "* nums에 들어있는 숫자는 1 이상 NxN이하의 자연수이며, 중복된 수가 들어있지 않습니다."
   ]
  },
  {
   "cell_type": "markdown",
   "metadata": {},
   "source": [
    "## 입출력 예"
   ]
  },
  {
   "cell_type": "markdown",
   "metadata": {},
   "source": [
    "| board                                                                         | nums                                | result |\n",
    "| ----------------------------------------------------------------------------- | ----------------------------------- | ------ |\n",
    "| [[11,13,15,16],[12,1,4,3],[10,2,7,8],[5,14,6,9]]                              | [14,3,2,4,13,1,16,11,5,15]          | 3      |\n",
    "| [[6,15,17,14,23],[5,12,16,13,25],[21,4,2,1,22],[10,20,3,18,8],[11,9,19,24,7]] | [15,7,2,25,9,16,12,18,5,4,10,13,20] | 2      |"
   ]
  },
  {
   "cell_type": "markdown",
   "metadata": {},
   "source": [
    "### 입출력 예 설명"
   ]
  },
  {
   "cell_type": "code",
   "execution_count": 5,
   "metadata": {},
   "outputs": [
    {
     "data": {
      "text/plain": [
       "defaultdict(int, {'a': 1})"
      ]
     },
     "execution_count": 5,
     "metadata": {},
     "output_type": "execute_result"
    }
   ],
   "source": [
    "from collections import defaultdict\n",
    "d = defaultdict(int)\n",
    "d['a'] += 1\n",
    "d"
   ]
  },
  {
   "cell_type": "markdown",
   "metadata": {},
   "source": [
    "#### 입출력 예 #1"
   ]
  },
  {
   "cell_type": "markdown",
   "metadata": {},
   "source": [
    "문제의 예시와 같습니다."
   ]
  },
  {
   "cell_type": "markdown",
   "metadata": {},
   "source": [
    "#### 입출력 예 #2"
   ]
  },
  {
   "cell_type": "markdown",
   "metadata": {},
   "source": [
    "다음 그림과 같이 2개의 빙고가 만들어집니다.\n",
    "\n",
    "![image](bingo_03.png)"
   ]
  },
  {
   "cell_type": "markdown",
   "metadata": {},
   "source": [
    "## 코드"
   ]
  },
  {
   "cell_type": "markdown",
   "metadata": {},
   "source": [
    "### Version 1"
   ]
  },
  {
   "cell_type": "code",
   "execution_count": null,
   "metadata": {},
   "outputs": [],
   "source": [
    "def solution(board, nums):\n",
    "    board_check = {n: False for n in range(1, len(board)**2 + 1)}\n",
    "    for num in nums:\n",
    "        board_check[num] = True\n",
    "    count = len(board) * 2 + 2\n",
    "\n",
    "    # 가로, 세로 빙고 확인\n",
    "    for i in range(len(board)):\n",
    "        for j in range(len(board)):\n",
    "            if not board_check[board[i][j]]:\n",
    "                count -= 1\n",
    "                break\n",
    "        for j in range(len(board)):\n",
    "            if not board_check[board[j][i]]:\n",
    "                count -= 1\n",
    "                break\n",
    "    \n",
    "    # 대각선 (왼쪽 상단 -> 오른쪽 하단) 빙고 확인\n",
    "    for i in range(len(board)):\n",
    "        if not board_check[board[i][i]]:\n",
    "            count -= 1\n",
    "            break\n",
    "            \n",
    "    # 대각선 (오른쪽 상단 -> 왼쪽 하단) 빙고 확인\n",
    "    for i in range(len(board)):\n",
    "        if not board_check[board[i][len(board)-1-i]]:\n",
    "            count -= 1\n",
    "            break\n",
    "            \n",
    "    return count"
   ]
  },
  {
   "cell_type": "markdown",
   "metadata": {},
   "source": [
    "* dict() 대신 defaultdict()를 사용하면 굳이 초기화를 위와 같이 할 필요 X"
   ]
  },
  {
   "cell_type": "markdown",
   "metadata": {},
   "source": [
    "### Version 2"
   ]
  },
  {
   "cell_type": "code",
   "execution_count": 1,
   "metadata": {},
   "outputs": [],
   "source": [
    "from collections import defaultdict\n",
    "\n",
    "def solution(board, nums):\n",
    "    board_check = defaultdict(bool)\n",
    "    for num in nums:\n",
    "        board_check[num] = True\n",
    "    count = len(board) * 2 + 2\n",
    "\n",
    "    # 가로, 세로 빙고 확인\n",
    "    for i in range(len(board)):\n",
    "        for j in range(len(board)):\n",
    "            if not board_check[board[i][j]]:\n",
    "                count -= 1\n",
    "                break\n",
    "        for j in range(len(board)):\n",
    "            if not board_check[board[j][i]]:\n",
    "                count -= 1\n",
    "                break\n",
    "    \n",
    "    # 대각선 (왼쪽 상단 -> 오른쪽 하단) 빙고 확인\n",
    "    for i in range(len(board)):\n",
    "        if not board_check[board[i][i]]:\n",
    "            count -= 1\n",
    "            break\n",
    "            \n",
    "    # 대각선 (오른쪽 상단 -> 왼쪽 하단) 빙고 확인\n",
    "    for i in range(len(board)):\n",
    "        if not board_check[board[i][len(board)-1-i]]:\n",
    "            count -= 1\n",
    "            break\n",
    "            \n",
    "    return count"
   ]
  },
  {
   "cell_type": "markdown",
   "metadata": {},
   "source": [
    "### 시간 복잡도"
   ]
  },
  {
   "cell_type": "code",
   "execution_count": null,
   "metadata": {},
   "outputs": [],
   "source": [
    "# board: N x N matrix\n",
    "# N <= 500, N^2 <= 250,000\n",
    "# 전체 시간 복잡도: ① + ② + ③ + ④ = O(N^2) + O(N^2) + O(N) + O(N) = O(N^2)\n",
    "# N^2의 크기가 작아 O(N^2)이라도 진행했음\n",
    "\n",
    "from collections import defaultdict\n",
    "\n",
    "def solution(board, nums):\n",
    "    # ① O(N^2) = O(N^2)\n",
    "    board_check = defaultdict(bool)\n",
    "    for num in nums: # O(N^2)\n",
    "        board_check[num] = True # O(1)\n",
    "    count = len(board) * 2 + 2\n",
    "\n",
    "    # ② O(N^2)\n",
    "    # 가로, 세로 빙고 확인\n",
    "    for i in range(len(board)): # O(N)\n",
    "        for j in range(len(board)): # O(N)\n",
    "            if not board_check[board[i][j]]: # O(1)\n",
    "                count -= 1\n",
    "                break\n",
    "        for j in range(len(board)): # O(N)\n",
    "            if not board_check[board[j][i]]: # O(1)\n",
    "                count -= 1\n",
    "                break\n",
    "    \n",
    "    # ③ O(N)\n",
    "    # 대각선 (왼쪽 상단 -> 오른쪽 하단) 빙고 확인\n",
    "    for i in range(len(board)): # O(N)\n",
    "        if not board_check[board[i][i]]:\n",
    "            count -= 1\n",
    "            break\n",
    "            \n",
    "    # ④ O(N)\n",
    "    # 대각선 (오른쪽 상단 -> 왼쪽 하단) 빙고 확인\n",
    "    for i in range(len(board)): # O(N)\n",
    "        if not board_check[board[i][len(board)-1-i]]: # O(1)\n",
    "            count -= 1\n",
    "            break\n",
    "            \n",
    "    return count"
   ]
  },
  {
   "cell_type": "markdown",
   "metadata": {},
   "source": [
    "### 예제 1"
   ]
  },
  {
   "cell_type": "code",
   "execution_count": 2,
   "metadata": {},
   "outputs": [
    {
     "data": {
      "text/plain": [
       "3"
      ]
     },
     "execution_count": 2,
     "metadata": {},
     "output_type": "execute_result"
    }
   ],
   "source": [
    "board = [[11,13,15,16],[12,1,4,3],[10,2,7,8],[5,14,6,9]]\n",
    "nums = [14,3,2,4,13,1,16,11,5,15]\n",
    "solution(board, nums)"
   ]
  },
  {
   "cell_type": "markdown",
   "metadata": {},
   "source": [
    "### 예제 2"
   ]
  },
  {
   "cell_type": "code",
   "execution_count": 3,
   "metadata": {},
   "outputs": [
    {
     "data": {
      "text/plain": [
       "2"
      ]
     },
     "execution_count": 3,
     "metadata": {},
     "output_type": "execute_result"
    }
   ],
   "source": [
    "board = [[6,15,17,14,23],[5,12,16,13,25],[21,4,2,1,22],[10,20,3,18,8],[11,9,19,24,7]]\n",
    "nums = [15,7,2,25,9,16,12,18,5,4,10,13,20]\n",
    "solution(board, nums)"
   ]
  }
 ],
 "metadata": {
  "kernelspec": {
   "display_name": "Python 3",
   "language": "python",
   "name": "python3"
  },
  "language_info": {
   "codemirror_mode": {
    "name": "ipython",
    "version": 3
   },
   "file_extension": ".py",
   "mimetype": "text/x-python",
   "name": "python",
   "nbconvert_exporter": "python",
   "pygments_lexer": "ipython3",
   "version": "3.7.3"
  }
 },
 "nbformat": 4,
 "nbformat_minor": 2
}
