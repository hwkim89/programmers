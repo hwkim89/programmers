{
 "cells": [
  {
   "cell_type": "markdown",
   "metadata": {},
   "source": [
    "# 네트워크"
   ]
  },
  {
   "cell_type": "markdown",
   "metadata": {},
   "source": [
    "## 문제 링크\n",
    "- https://programmers.co.kr/learn/courses/30/lessons/43162"
   ]
  },
  {
   "source": [
    "## 코드"
   ],
   "cell_type": "markdown",
   "metadata": {}
  },
  {
   "source": [
    "### Adjacency Graph"
   ],
   "cell_type": "markdown",
   "metadata": {}
  },
  {
   "cell_type": "code",
   "execution_count": 85,
   "metadata": {},
   "outputs": [],
   "source": [
    "from collections import defaultdict\n",
    "\n",
    "def dfs(network, cur_node, visited):\n",
    "    visited.add(cur_node)\n",
    "    for next_node in network[cur_node]:\n",
    "        if next_node not in visited:\n",
    "            visited= dfs(network, next_node, visited)\n",
    "\n",
    "    return visited\n",
    "        \n",
    "def solution(n, computers):\n",
    "    # Create an adjacency network\n",
    "    network = defaultdict(set)\n",
    "    for node1 in range(n):\n",
    "        for node2 in range(n):\n",
    "            if node1 != node2 and computers[node1][node2]:\n",
    "                network[node1].add(node2)\n",
    "                network[node2].add(node1)\n",
    "\n",
    "    # Count the number of internal networks\n",
    "    count, visited = 0, set()\n",
    "    for cur_node in range(n):\n",
    "        if cur_node not in visited:\n",
    "            visited = dfs(network, cur_node=cur_node, visited=visited)\n",
    "            count += 1\n",
    "    return count"
   ]
  },
  {
   "source": [
    "### Adjacency Matrix"
   ],
   "cell_type": "markdown",
   "metadata": {}
  },
  {
   "cell_type": "code",
   "execution_count": 39,
   "metadata": {},
   "outputs": [],
   "source": [
    "import numpy as np\n",
    "\n",
    "def dfs(current, computers, network):\n",
    "    # 현재 노드를 네트워크에 추가\n",
    "    network.append(current)\n",
    "    \n",
    "    # 현재 노드의 이웃을 기준으로 DFS로 탐색\n",
    "    for neighbor, connect in enumerate([\n",
    "        n for i, n in enumerate(computers[current])\n",
    "    ]):\n",
    "        if connect == 1 and neighbor != current and neighbor not in network:\n",
    "            network = dfs(neighbor, computers, network)\n",
    "        \n",
    "    return network"
   ]
  },
  {
   "cell_type": "code",
   "execution_count": 40,
   "metadata": {},
   "outputs": [],
   "source": [
    "# 네트워크를 형성할 수 있는 모든 컴퓨터를 리스트화 후 DFS를 이용하여 탐색하고,\n",
    "# 탐색된 네트워크는 전체 컴퓨터에서 제외하면서 네트워크의 개수를 세는 함수\n",
    "def solution(n, computers):\n",
    "    networks = range(0, n)\n",
    "    net_count = 0\n",
    "    while networks:\n",
    "        network = dfs(networks[0], computers, [])\n",
    "        networks = [com for com in networks if com not in network]\n",
    "        net_count += 1\n",
    "    \n",
    "    return net_count"
   ]
  },
  {
   "source": [
    "### 입출력 예"
   ],
   "cell_type": "markdown",
   "metadata": {}
  },
  {
   "cell_type": "code",
   "execution_count": 88,
   "metadata": {},
   "outputs": [
    {
     "output_type": "execute_result",
     "data": {
      "text/plain": [
       "2"
      ]
     },
     "metadata": {},
     "execution_count": 88
    }
   ],
   "source": [
    "n = 3\n",
    "computers = [[1, 1, 0], [1, 1, 0], [0, 0, 1]]\n",
    "solution(n, computers)"
   ]
  },
  {
   "cell_type": "code",
   "execution_count": 89,
   "metadata": {},
   "outputs": [
    {
     "output_type": "execute_result",
     "data": {
      "text/plain": [
       "1"
      ]
     },
     "metadata": {},
     "execution_count": 89
    }
   ],
   "source": [
    "n = 3\n",
    "computers = [[1, 1, 0], [1, 1, 1], [0, 1, 1]]\n",
    "solution(n, computers)"
   ]
  },
  {
   "cell_type": "markdown",
   "metadata": {},
   "source": [
    "## Reference\n",
    "- https://oi-test.readthedocs.io/en/latest/algorithms/search/dfs.html"
   ]
  }
 ],
 "metadata": {
  "kernelspec": {
   "name": "python385jvsc74a57bd0881438aaf537e66dfdaad625390fa0d3b3d0ff5ed91f143384dfadbe6c34b6b5",
   "display_name": "Python 3.8.5 64-bit ('anaconda3': virtualenv)"
  },
  "language_info": {
   "codemirror_mode": {
    "name": "ipython",
    "version": 3
   },
   "file_extension": ".py",
   "mimetype": "text/x-python",
   "name": "python",
   "nbconvert_exporter": "python",
   "pygments_lexer": "ipython3",
   "version": "3.8.5-final"
  },
  "metadata": {
   "interpreter": {
    "hash": "881438aaf537e66dfdaad625390fa0d3b3d0ff5ed91f143384dfadbe6c34b6b5"
   }
  }
 },
 "nbformat": 4,
 "nbformat_minor": 2
}