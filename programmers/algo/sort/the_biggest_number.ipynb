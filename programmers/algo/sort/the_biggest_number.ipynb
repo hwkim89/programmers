{
 "cells": [
  {
   "cell_type": "markdown",
   "metadata": {},
   "source": [
    "# 가장 큰 수"
   ]
  },
  {
   "cell_type": "markdown",
   "metadata": {},
   "source": [
    "## 문제 링크\n",
    "- https://programmers.co.kr/learn/courses/30/lessons/42746"
   ]
  },
  {
   "source": [
    "## 코드"
   ],
   "cell_type": "markdown",
   "metadata": {}
  },
  {
   "cell_type": "code",
   "execution_count": 48,
   "metadata": {},
   "outputs": [],
   "source": [
    "from functools import cmp_to_key\n",
    "\n",
    "def cmp(n1, n2):\n",
    "    if n1 + n2 < n2 + n1:\n",
    "        return 1\n",
    "    elif n1 + n2 > n2 + n1:\n",
    "        return -1\n",
    "    else:\n",
    "        return 0\n",
    "\n",
    "def solution(numbers):\n",
    "    numbers = list(map(str, numbers))\n",
    "    numbers.sort(key=cmp_to_key(cmp))\n",
    "    if numbers[0] == '0':\n",
    "        return '0'\n",
    "    return ''.join(numbers)"
   ]
  },
  {
   "cell_type": "code",
   "execution_count": 54,
   "metadata": {},
   "outputs": [],
   "source": [
    "# numbers = [str(n) for n in numbers]: O(n)\n",
    "# numbers = sorted(numbers, key=lambda x: (x * 4)[:4], reverse=True): O(nlogn)\n",
    "# answer = ''.join(numbers): O(n)\n",
    "# 최종 시간 복잡도: O(nlogn)\n",
    "\n",
    "def solution(numbers):\n",
    "    numbers = [str(n) for n in numbers]\n",
    "    numbers = sorted(numbers, key=lambda x: (x * 4)[:4], reverse=True)\n",
    "    if numbers[0] == '0':\n",
    "        answer = '0'\n",
    "    else:\n",
    "        answer = ''.join(numbers)\n",
    "    return answer"
   ]
  },
  {
   "cell_type": "code",
   "execution_count": 49,
   "metadata": {},
   "outputs": [
    {
     "output_type": "execute_result",
     "data": {
      "text/plain": [
       "'6210'"
      ]
     },
     "metadata": {},
     "execution_count": 49
    }
   ],
   "source": [
    "numbers = [6, 10, 2]\n",
    "solution(numbers)"
   ]
  },
  {
   "cell_type": "code",
   "execution_count": 50,
   "metadata": {},
   "outputs": [
    {
     "output_type": "execute_result",
     "data": {
      "text/plain": [
       "'9534330'"
      ]
     },
     "metadata": {},
     "execution_count": 50
    }
   ],
   "source": [
    "numbers = [3, 30, 34, 5, 9]\n",
    "solution(numbers)"
   ]
  },
  {
   "cell_type": "code",
   "execution_count": 51,
   "metadata": {},
   "outputs": [
    {
     "output_type": "execute_result",
     "data": {
      "text/plain": [
       "'0'"
      ]
     },
     "metadata": {},
     "execution_count": 51
    }
   ],
   "source": [
    "numbers = [0, 0]\n",
    "solution(numbers)"
   ]
  }
 ],
 "metadata": {
  "kernelspec": {
   "name": "python385jvsc74a57bd0881438aaf537e66dfdaad625390fa0d3b3d0ff5ed91f143384dfadbe6c34b6b5",
   "display_name": "Python 3.8.5 64-bit ('base': conda)"
  },
  "language_info": {
   "codemirror_mode": {
    "name": "ipython",
    "version": 3
   },
   "file_extension": ".py",
   "mimetype": "text/x-python",
   "name": "python",
   "nbconvert_exporter": "python",
   "pygments_lexer": "ipython3",
   "version": "3.8.5"
  },
  "metadata": {
   "interpreter": {
    "hash": "881438aaf537e66dfdaad625390fa0d3b3d0ff5ed91f143384dfadbe6c34b6b5"
   }
  }
 },
 "nbformat": 4,
 "nbformat_minor": 2
}