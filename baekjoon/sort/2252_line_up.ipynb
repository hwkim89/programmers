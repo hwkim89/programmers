{
 "cells": [
  {
   "cell_type": "markdown",
   "metadata": {},
   "source": [
    "# 줄세우기"
   ]
  },
  {
   "cell_type": "markdown",
   "metadata": {},
   "source": [
    "## 문제 링크"
   ]
  },
  {
   "cell_type": "markdown",
   "metadata": {},
   "source": [
    "* https://www.acmicpc.net/problem/2252"
   ]
  },
  {
   "cell_type": "markdown",
   "metadata": {},
   "source": [
    "## 최종 코드"
   ]
  },
  {
   "cell_type": "code",
   "execution_count": 11,
   "metadata": {},
   "outputs": [],
   "source": [
    "def topological_sort(graph, in_degree):\n",
    "    stack = []\n",
    "    for node in range(len(in_degree)):\n",
    "        if in_degree[node] == 0:\n",
    "            stack.append(node)\n",
    "\n",
    "    tsort_results = []\n",
    "    while stack:\n",
    "        node = stack.pop()\n",
    "        tsort_results.append(str(node+1))\n",
    "\n",
    "        for adj_node in graph[node]:\n",
    "            in_degree[adj_node] -= 1\n",
    "            if in_degree[adj_node] == 0:\n",
    "                stack.append(adj_node)\n",
    "\n",
    "    return ' '.join(tsort_results)\n",
    "\n",
    "N, M = map(int, input().split())\n",
    "graph = {n: [] for n in range(N)}\n",
    "in_degree = [0] * N\n",
    "for _ in range(M):\n",
    "    st1, st2 = map(int, input().split())\n",
    "    graph[st1-1].append(st2-1)\n",
    "    in_degree[st2-1] += 1\n",
    "    \n",
    "print(topological_sort(graph, in_degree))"
   ]
  },
  {
   "cell_type": "markdown",
   "metadata": {},
   "source": [
    "### 시간 복잡도"
   ]
  },
  {
   "cell_type": "code",
   "execution_count": null,
   "metadata": {},
   "outputs": [],
   "source": []
  },
  {
   "cell_type": "markdown",
   "metadata": {},
   "source": [
    "## 테스트 코드"
   ]
  },
  {
   "cell_type": "markdown",
   "metadata": {},
   "source": [
    "Stack"
   ]
  },
  {
   "cell_type": "code",
   "execution_count": 69,
   "metadata": {},
   "outputs": [],
   "source": [
    "def topological_sort(graph, in_degree):\n",
    "    stack = []\n",
    "    for node in range(len(in_degree)):\n",
    "        if in_degree[node] == 0:\n",
    "            stack.append(node)\n",
    "\n",
    "    tsort_results = []\n",
    "    while stack:\n",
    "        node = stack.pop()\n",
    "        tsort_results.append(str(node+1))\n",
    "\n",
    "        for adj_node in graph[node]:\n",
    "            in_degree[adj_node] -= 1\n",
    "            if in_degree[adj_node] == 0:\n",
    "                stack.append(adj_node)\n",
    "\n",
    "    return ' '.join(tsort_results)"
   ]
  },
  {
   "cell_type": "markdown",
   "metadata": {},
   "source": [
    "Queue"
   ]
  },
  {
   "cell_type": "code",
   "execution_count": null,
   "metadata": {},
   "outputs": [],
   "source": [
    "from collections import deque\n",
    "\n",
    "def topological_sort(graph, in_degree):\n",
    "    queue = deque()\n",
    "\n",
    "    for node in range(len(in_degree)):\n",
    "        if in_degree[node] == 0:\n",
    "            queue.append(node)\n",
    "\n",
    "    tsort_results = []\n",
    "    while queue:\n",
    "        node = queue.popleft()\n",
    "        tsort_results.append(str(node+1))\n",
    "\n",
    "        for adj_node in graph[node]:\n",
    "            in_degree[adj_node] -= 1\n",
    "            if in_degree[adj_node] == 0:\n",
    "                queue.append(adj_node)\n",
    "\n",
    "    return ' '.join(tsort_results)"
   ]
  },
  {
   "cell_type": "code",
   "execution_count": 68,
   "metadata": {},
   "outputs": [
    {
     "name": "stdout",
     "output_type": "stream",
     "text": [
      "3 2\n",
      "1 3\n",
      "2 3\n"
     ]
    },
    {
     "data": {
      "text/plain": [
       "'1 2 3'"
      ]
     },
     "execution_count": 68,
     "metadata": {},
     "output_type": "execute_result"
    }
   ],
   "source": [
    "N, M = map(int, input().split())\n",
    "graph = {n: [] for n in range(N)}\n",
    "in_degree = [0] * N\n",
    "for _ in range(M):\n",
    "    st1, st2 = map(int, input().split())\n",
    "    graph[st1-1].append(st2-1)\n",
    "    in_degree[st2-1] += 1\n",
    "    \n",
    "print(topological_sort(graph, in_degree))"
   ]
  },
  {
   "cell_type": "markdown",
   "metadata": {},
   "source": [
    "### 예제 입출력"
   ]
  },
  {
   "cell_type": "code",
   "execution_count": 70,
   "metadata": {},
   "outputs": [
    {
     "data": {
      "text/plain": [
       "'2 1 3'"
      ]
     },
     "execution_count": 70,
     "metadata": {},
     "output_type": "execute_result"
    }
   ],
   "source": [
    "N, M = 3, 2\n",
    "graph = {0: [2], 1: [2], 2: []}\n",
    "in_degree = [0, 0, 2]\n",
    "topological_sort(graph, in_degree)"
   ]
  },
  {
   "cell_type": "code",
   "execution_count": 71,
   "metadata": {},
   "outputs": [
    {
     "data": {
      "text/plain": [
       "'4 2 3 1'"
      ]
     },
     "execution_count": 71,
     "metadata": {},
     "output_type": "execute_result"
    }
   ],
   "source": [
    "N, M = 4, 2\n",
    "graph = {0: [], 1: [], 2: [0], 3: [1]}\n",
    "in_degree = [1, 1, 0, 0]\n",
    "topological_sort(graph, in_degree)"
   ]
  },
  {
   "cell_type": "markdown",
   "metadata": {},
   "source": [
    "## 출처"
   ]
  },
  {
   "cell_type": "markdown",
   "metadata": {},
   "source": [
    "* https://sexy-developer.tistory.com/56"
   ]
  }
 ],
 "metadata": {
  "kernelspec": {
   "display_name": "Python 3",
   "language": "python",
   "name": "python3"
  },
  "language_info": {
   "codemirror_mode": {
    "name": "ipython",
    "version": 3
   },
   "file_extension": ".py",
   "mimetype": "text/x-python",
   "name": "python",
   "nbconvert_exporter": "python",
   "pygments_lexer": "ipython3",
   "version": "3.7.4"
  }
 },
 "nbformat": 4,
 "nbformat_minor": 2
}
