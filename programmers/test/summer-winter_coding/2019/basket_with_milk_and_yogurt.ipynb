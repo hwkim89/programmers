{
 "cells": [
  {
   "cell_type": "markdown",
   "metadata": {},
   "source": [
    "# 우유와 요거트가 담긴 장바구니"
   ]
  },
  {
   "cell_type": "markdown",
   "metadata": {},
   "source": [
    "## 문제 링크\n",
    "- https://programmers.co.kr/learn/courses/30/lessons/62284"
   ]
  },
  {
   "cell_type": "markdown",
   "metadata": {},
   "source": [
    "## 코드"
   ]
  },
  {
   "cell_type": "code",
   "execution_count": 28,
   "metadata": {},
   "outputs": [],
   "source": [
    "SELECT DISTINCT M.CART_ID\n",
    "FROM (SELECT CART_ID FROM CART_PRODUCTS\n",
    "      WHERE NAME = \"Milk\") AS M\n",
    "JOIN(SELECT CART_ID FROM CART_PRODUCTS\n",
    "     WHERE NAME = \"Yogurt\") AS Y\n",
    "ON M.CART_ID = Y.CART_ID;"
   ]
  }
 ],
 "metadata": {
  "kernelspec": {
   "display_name": "Python 3",
   "language": "python",
   "name": "python3"
  },
  "language_info": {
   "codemirror_mode": {
    "name": "ipython",
    "version": 3
   },
   "file_extension": ".py",
   "mimetype": "text/x-python",
   "name": "python",
   "nbconvert_exporter": "python",
   "pygments_lexer": "ipython3",
   "version": "3.7.4"
  }
 },
 "nbformat": 4,
 "nbformat_minor": 2
}