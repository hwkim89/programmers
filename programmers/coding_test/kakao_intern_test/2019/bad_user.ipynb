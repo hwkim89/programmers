{
 "cells": [
  {
   "cell_type": "markdown",
   "metadata": {},
   "source": [
    "# 불량 사용자"
   ]
  },
  {
   "cell_type": "markdown",
   "metadata": {},
   "source": [
    "## 문제 링크"
   ]
  },
  {
   "cell_type": "markdown",
   "metadata": {},
   "source": [
    "* https://programmers.co.kr/learn/courses/30/lessons/64064"
   ]
  },
  {
   "cell_type": "markdown",
   "metadata": {},
   "source": [
    "## 코드"
   ]
  },
  {
   "cell_type": "code",
   "execution_count": 28,
   "metadata": {},
   "outputs": [],
   "source": [
    "import re\n",
    "\n",
    "def solution(user_id, banned_id):\n",
    "    def get_candidates_for_bids(subsets, i, candidate=[], candidates=[]):\n",
    "        if i == len(subsets):\n",
    "            candidates.append(set(candidate[:]))\n",
    "            return candidates\n",
    "        \n",
    "        for s in subsets[i]:\n",
    "            if s not in candidate:\n",
    "                candidate.append(s)\n",
    "                candidates = get_candidates_for_bids(subsets, i+1, candidate, candidates)\n",
    "                candidate.pop()\n",
    "            \n",
    "        return candidates\n",
    "    \n",
    "    def count_unique_candidates(candidates):\n",
    "        counted = []\n",
    "        count = 0\n",
    "        for candidate in candidates:\n",
    "            if candidate not in counted:\n",
    "                counted.append(candidate)\n",
    "                count += 1\n",
    "        return count\n",
    "    \n",
    "    subsets = []\n",
    "    for bid in banned_id:\n",
    "        # \\w: 문자+숫자 (alphanumeric)와 매치\n",
    "        p = re.compile(bid.replace('*', '\\w') + '$')\n",
    "        subset = []\n",
    "        for uid in user_id:\n",
    "            if p.match(uid):\n",
    "                subset.append(uid)\n",
    "        subsets.append(subset)\n",
    "        \n",
    "    candidates = get_candidates_for_bids(subsets, 0)\n",
    "    count = count_unique_candidates(candidates)\n",
    "    return count"
   ]
  },
  {
   "cell_type": "markdown",
   "metadata": {},
   "source": [
    "### 시간 복잡도"
   ]
  },
  {
   "cell_type": "code",
   "execution_count": null,
   "metadata": {},
   "outputs": [],
   "source": []
  },
  {
   "cell_type": "markdown",
   "metadata": {},
   "source": [
    "## 예제"
   ]
  },
  {
   "cell_type": "code",
   "execution_count": 29,
   "metadata": {},
   "outputs": [
    {
     "data": {
      "text/plain": [
       "2"
      ]
     },
     "execution_count": 29,
     "metadata": {},
     "output_type": "execute_result"
    }
   ],
   "source": [
    "user_id = [\"frodo\", \"fradi\", \"crodo\", \"abc123\", \"frodoc\"]\n",
    "banned_id = [\"fr*d*\", \"abc1**\"]\n",
    "solution(user_id, banned_id)"
   ]
  },
  {
   "cell_type": "code",
   "execution_count": 96,
   "metadata": {},
   "outputs": [
    {
     "data": {
      "text/plain": [
       "2"
      ]
     },
     "execution_count": 96,
     "metadata": {},
     "output_type": "execute_result"
    }
   ],
   "source": [
    "user_id = [\"frodo\", \"fradi\", \"crodo\", \"abc123\", \"frodoc\"]\n",
    "banned_id = [\"*rodo\", \"*rodo\", \"******\"]\n",
    "solution(user_id, banned_id)"
   ]
  },
  {
   "cell_type": "code",
   "execution_count": 97,
   "metadata": {},
   "outputs": [
    {
     "data": {
      "text/plain": [
       "3"
      ]
     },
     "execution_count": 97,
     "metadata": {},
     "output_type": "execute_result"
    }
   ],
   "source": [
    "user_id = [\"frodo\", \"fradi\", \"crodo\", \"abc123\", \"frodoc\"]\n",
    "banned_id = [\"fr*d*\", \"*rodo\", \"******\", \"******\"]\n",
    "solution(user_id, banned_id)"
   ]
  },
  {
   "cell_type": "markdown",
   "metadata": {},
   "source": [
    "## 참조\n",
    "\n",
    "* https://wikidocs.net/4308\n",
    "* https://programmers.co.kr/learn/courses/11"
   ]
  }
 ],
 "metadata": {
  "kernelspec": {
   "display_name": "Python 3",
   "language": "python",
   "name": "python3"
  },
  "language_info": {
   "codemirror_mode": {
    "name": "ipython",
    "version": 3
   },
   "file_extension": ".py",
   "mimetype": "text/x-python",
   "name": "python",
   "nbconvert_exporter": "python",
   "pygments_lexer": "ipython3",
   "version": "3.7.4"
  }
 },
 "nbformat": 4,
 "nbformat_minor": 2
}
