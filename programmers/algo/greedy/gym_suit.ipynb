{
 "cells": [
  {
   "cell_type": "markdown",
   "metadata": {},
   "source": [
    "# 체육복"
   ]
  },
  {
   "cell_type": "markdown",
   "metadata": {},
   "source": [
    "## 문제 설명"
   ]
  },
  {
   "cell_type": "markdown",
   "metadata": {},
   "source": [
    "점심시간에 도둑이 들어, 일부 학생이 체육복을 도난당했습니다. 다행히 여벌 체육복이 있는 학생이 이들에게 체육복을 빌려주려 합니다. 학생들의 번호는 체격 순으로 매겨져 있어, 바로 앞번호의 학생이나 바로 뒷번호의 학생에게만 체육복을 빌려줄 수 있습니다. 예를 들어, 4번 학생은 3번 학생이나 5번 학생에게만 체육복을 빌려줄 수 있습니다. 체육복이 없으면 수업을 들을 수 없기 때문에 체육복을 적절히 빌려 최대한 많은 학생이 체육수업을 들어야 합니다.\n",
    "\n",
    "전체 학생의 수 n, 체육복을 도난당한 학생들의 번호가 담긴 배열 lost, 여벌의 체육복을 가져온 학생들의 번호가 담긴 배열 reserve가 매개변수로 주어질 때, 체육수업을 들을 수 있는 학생의 최댓값을 return 하도록 solution 함수를 작성해주세요."
   ]
  },
  {
   "cell_type": "markdown",
   "metadata": {},
   "source": [
    "## 제한사항"
   ]
  },
  {
   "cell_type": "markdown",
   "metadata": {},
   "source": [
    "* 전체 학생의 수는 2명 이상 30명 이하입니다.\n",
    "* 체육복을 도난당한 학생의 수는 1명 이상 n명 이하이고 중복되는 번호는 없습니다.\n",
    "* 여벌의 체육복을 가져온 학생의 수는 1명 이상 n명 이하이고 중복되는 번호는 없습니다.\n",
    "* 여벌 체육복이 있는 학생만 다른 학생에게 체육복을 빌려줄 수 있습니다.\n",
    "* 여벌 체육복을 가져온 학생이 체육복을 도난당했을 수 있습니다. 이때 이 학생은 체육복을 하나만 도난당했다고 가정하며, 남은 체육복이 하나이기에 다른 학생에게는 체육복을 빌려줄 수 없습니다."
   ]
  },
  {
   "cell_type": "markdown",
   "metadata": {},
   "source": [
    "## 입출력 예"
   ]
  },
  {
   "cell_type": "markdown",
   "metadata": {},
   "source": [
    "| n | lost   | reserve   | return |\n",
    "| - | ------ | --------- | ------ |\n",
    "| 5 | [2, 4] | [1, 3, 5] | 5      |\n",
    "| 5 | [2, 4] | [3]       | 4      |\n",
    "| 3 | [3]    | [1]       | 2      |"
   ]
  },
  {
   "cell_type": "markdown",
   "metadata": {},
   "source": [
    "### 입출력 예 설명"
   ]
  },
  {
   "cell_type": "markdown",
   "metadata": {},
   "source": [
    "* 예제 #1\n",
    "    * 1번 학생이 2번 학생에게 체육복을 빌려주고, 3번 학생이나 5번 학생이 4번 학생에게 체육복을 빌려주면 학생 5명이 체육수업을 들을 수 있습니다.\n",
    "\n",
    "* 예제 #2\n",
    "    * 3번 학생이 2번 학생이나 4번 학생에게 체육복을 빌려주면 학생 4명이 체육수업을 들을 수 있습니다."
   ]
  },
  {
   "cell_type": "markdown",
   "metadata": {},
   "source": [
    "## 코드"
   ]
  },
  {
   "cell_type": "markdown",
   "metadata": {},
   "source": [
    "### 방법 1"
   ]
  },
  {
   "cell_type": "code",
   "execution_count": 2,
   "metadata": {},
   "outputs": [],
   "source": [
    "def solution(n, lost, reserve):\n",
    "    n_st_gs = [1] * (n+2)\n",
    "\n",
    "    # Add counts in reservation cases\n",
    "    for i in reserve:\n",
    "        n_st_gs[i] += 1\n",
    "    \n",
    "    # Subtract counts in lost cases\n",
    "    for i in lost:\n",
    "        n_st_gs[i] -= 1\n",
    "            \n",
    "    # Borrow gym suits\n",
    "    for i in range(1, n+1):\n",
    "        if n_st_gs[i] == 0:\n",
    "            if n_st_gs[i-1] == 2:\n",
    "                n_st_gs[i-1] -= 1\n",
    "                n_st_gs[i] += 1\n",
    "            elif n_st_gs[i+1] == 2:\n",
    "                n_st_gs[i+1] -= 1\n",
    "                n_st_gs[i] += 1\n",
    "\n",
    "    return len([True for c in n_st_gs if c > 0]) - 2"
   ]
  },
  {
   "cell_type": "markdown",
   "metadata": {},
   "source": [
    "#### 시간 복잡도"
   ]
  },
  {
   "cell_type": "markdown",
   "metadata": {},
   "source": [
    "* 여벌을 가져온 학생 처리: reserve의 길이에 비례\n",
    "* 체육복 잃어버린 학생 처리: lost의 길이에 비례\n",
    "* 체육복 빌려주기 처리: 전체 학생 수 (n)에 비례\n",
    "* 최종 시간 복잡도: O(n)"
   ]
  },
  {
   "cell_type": "markdown",
   "metadata": {},
   "source": [
    "### 방법 2"
   ]
  },
  {
   "cell_type": "markdown",
   "metadata": {},
   "source": [
    "#### Version 1"
   ]
  },
  {
   "cell_type": "code",
   "execution_count": 115,
   "metadata": {},
   "outputs": [],
   "source": [
    "def solution(n, lost, reserve):\n",
    "    reserve.sort()\n",
    "    lost_dic = {i: True for i in lost if i not in reserve}\n",
    "    count = len(lost_dic)\n",
    "    for i in reserve:\n",
    "        if i not in lost:\n",
    "            if lost_dic.get(i-1, None):\n",
    "                lost_dic.pop(i-1)\n",
    "                count -= 1\n",
    "            elif lost_dic.get(i+1, None):\n",
    "                lost_dic.pop(i+1)\n",
    "                count -= 1\n",
    "\n",
    "    return n - count"
   ]
  },
  {
   "cell_type": "markdown",
   "metadata": {},
   "source": [
    "#### Version 2"
   ]
  },
  {
   "cell_type": "markdown",
   "metadata": {},
   "source": [
    "Set은 Dictionary로 구현되어 있기 때문에 접근 시간이 O(1)이다.\n",
    "\n",
    "Dictionary는 Key-value 구조이지만, Set은 특정 Value는 없고 어떤 원소가 이 집합에 속해 있는지 없는지를 나타낼 수 있는 구조이다."
   ]
  },
  {
   "cell_type": "code",
   "execution_count": 8,
   "metadata": {},
   "outputs": [],
   "source": [
    "def solution(n, lost, reserve):\n",
    "    l_and_s = set(lost) & set(reserve)\n",
    "    l = set(lost) - l_and_s\n",
    "    r = set(reserve) - l_and_s\n",
    "    for i in sorted(r):\n",
    "        if (i-1) in l:\n",
    "            l.remove(i-1)\n",
    "        elif (i+1) in l:\n",
    "            l.remove(i+1)\n",
    "\n",
    "    return n - len(l)"
   ]
  },
  {
   "cell_type": "markdown",
   "metadata": {},
   "source": [
    "위 방법에서는 Greedy 접근법을 사용하려면 오름차순으로 정렬되어 있기 때문에 나보다 번호가 하나 작은 사람을 먼저 살펴보고 그 다음에 나보다 번호가 하나 큰 사람을 살펴봐야 한다."
   ]
  },
  {
   "cell_type": "markdown",
   "metadata": {},
   "source": [
    "#### 시간 복잡도"
   ]
  },
  {
   "cell_type": "markdown",
   "metadata": {},
   "source": [
    "* 여벌의 체육복을 가져온 학생들의 번호 (reserve)를 정렬: O(klogk)\n",
    "* 체육복을 빌려줄 수 있는 학생을 찾아 처리: O(k) x O(1)\n",
    "* 최종 시간 복잡도: O(klogk)\n",
    "* 추가적으로 Set을 만드는데 시간 복잡도가 reverse의 길이만큼인 O(k)가 든다."
   ]
  },
  {
   "cell_type": "markdown",
   "metadata": {},
   "source": [
    "### 예제 1"
   ]
  },
  {
   "cell_type": "code",
   "execution_count": 9,
   "metadata": {},
   "outputs": [
    {
     "data": {
      "text/plain": [
       "5"
      ]
     },
     "execution_count": 9,
     "metadata": {},
     "output_type": "execute_result"
    }
   ],
   "source": [
    "n = 5\n",
    "lost = [2, 4]\n",
    "reserve = [1 ,3, 5]\n",
    "\n",
    "solution(n, lost, reserve)"
   ]
  },
  {
   "cell_type": "markdown",
   "metadata": {},
   "source": [
    "### 예제 2"
   ]
  },
  {
   "cell_type": "code",
   "execution_count": 4,
   "metadata": {},
   "outputs": [
    {
     "data": {
      "text/plain": [
       "4"
      ]
     },
     "execution_count": 4,
     "metadata": {},
     "output_type": "execute_result"
    }
   ],
   "source": [
    "n = 5\n",
    "lost = [2, 4]\n",
    "reserve = [3]\n",
    "\n",
    "solution(n, lost, reserve)"
   ]
  },
  {
   "cell_type": "markdown",
   "metadata": {},
   "source": [
    "### 예제 3"
   ]
  },
  {
   "cell_type": "code",
   "execution_count": 5,
   "metadata": {},
   "outputs": [
    {
     "data": {
      "text/plain": [
       "2"
      ]
     },
     "execution_count": 5,
     "metadata": {},
     "output_type": "execute_result"
    }
   ],
   "source": [
    "n = 3\n",
    "lost = [3]\n",
    "reserve = [1]\n",
    "\n",
    "solution(n, lost, reserve)"
   ]
  }
 ],
 "metadata": {
  "kernelspec": {
   "display_name": "Python 3",
   "language": "python",
   "name": "python3"
  },
  "language_info": {
   "codemirror_mode": {
    "name": "ipython",
    "version": 3
   },
   "file_extension": ".py",
   "mimetype": "text/x-python",
   "name": "python",
   "nbconvert_exporter": "python",
   "pygments_lexer": "ipython3",
   "version": "3.7.3"
  }
 },
 "nbformat": 4,
 "nbformat_minor": 2
}
