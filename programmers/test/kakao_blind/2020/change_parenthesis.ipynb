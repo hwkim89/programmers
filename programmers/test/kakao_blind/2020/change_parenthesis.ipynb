{
 "cells": [
  {
   "cell_type": "markdown",
   "metadata": {},
   "source": [
    "# 괄호 변환"
   ]
  },
  {
   "cell_type": "markdown",
   "metadata": {},
   "source": [
    "## 문제 링크\n",
    "* https://programmers.co.kr/learn/courses/30/lessons/60058"
   ]
  },
  {
   "cell_type": "markdown",
   "metadata": {},
   "source": [
    "## 코드"
   ]
  },
  {
   "source": [
    "### 방법 1"
   ],
   "cell_type": "markdown",
   "metadata": {}
  },
  {
   "cell_type": "code",
   "execution_count": 1,
   "metadata": {},
   "outputs": [],
   "source": [
    "def is_balanced(p):\n",
    "    stack = []\n",
    "    for each_p in p:\n",
    "        if each_p == '(':\n",
    "            stack.append(each_p)\n",
    "        elif stack:\n",
    "            stack.pop()\n",
    "        else:\n",
    "            return False\n",
    "    return True if not stack else False\n",
    "\n",
    "def switch_p(p):\n",
    "    new_p = ''\n",
    "    for each_p in p:\n",
    "        if each_p == '(':\n",
    "            new_p += ')'\n",
    "        else:\n",
    "            new_p += '('\n",
    "    return new_p\n",
    "\n",
    "def get_balanced_p(p):\n",
    "    if p == '':\n",
    "        return ''\n",
    "\n",
    "    left_p, right_p = 0, 0\n",
    "    for i, each_p in enumerate(p):\n",
    "        if each_p == '(':\n",
    "            left_p += 1\n",
    "        else:\n",
    "            right_p += 1\n",
    "\n",
    "        if left_p == right_p:\n",
    "            if is_balanced(p[:i+1]):\n",
    "                return p[:i+1] + get_balanced_p(p[i+1:])\n",
    "            else:\n",
    "                return '(' + get_balanced_p(p[i+1:]) + ')' + switch_p(p[1:i])\n",
    "\n",
    "def solution(p):\n",
    "    if p == '':\n",
    "        return p\n",
    "    return get_balanced_p(p)"
   ]
  },
  {
   "source": [
    "### 방법 2"
   ],
   "cell_type": "markdown",
   "metadata": {}
  },
  {
   "cell_type": "code",
   "execution_count": 29,
   "metadata": {},
   "outputs": [],
   "source": [
    "def get_right_p(parenthesis):\n",
    "    def get_balanced_ps(parenthesis):\n",
    "        count = {'(': 0, ')': 0}\n",
    "        for i, p in enumerate(parenthesis):\n",
    "            count[p] += 1\n",
    "            if count['('] == count[')']:\n",
    "                return parenthesis[:i+1], parenthesis[i+1:]\n",
    "            \n",
    "    def is_right_p(parenthesis):\n",
    "        stack = []\n",
    "        for p in parenthesis:\n",
    "            if p == '(':\n",
    "                stack.append(p)\n",
    "            elif stack:\n",
    "                stack.pop()\n",
    "            else:\n",
    "                return False\n",
    "            \n",
    "        return len(stack) == 0\n",
    "                \n",
    "    if parenthesis == '' or is_right_p(parenthesis):\n",
    "        return parenthesis\n",
    "    \n",
    "    u, v = get_balanced_ps(parenthesis)\n",
    "    if is_right_p(u):\n",
    "        return u + get_right_p(v)\n",
    "    else:\n",
    "        reversed_u = ''.join([')' if c == '(' else '(' for c in u[1:-1]])\n",
    "        return '(' + get_right_p(v) + ')' + reversed_u\n",
    "\n",
    "def solution(parenthesis):\n",
    "    return get_right_p(parenthesis)"
   ]
  },
  {
   "source": [
    "### 입출력 예"
   ],
   "cell_type": "markdown",
   "metadata": {}
  },
  {
   "cell_type": "code",
   "execution_count": 2,
   "metadata": {},
   "outputs": [
    {
     "output_type": "execute_result",
     "data": {
      "text/plain": [
       "'(()())()'"
      ]
     },
     "metadata": {},
     "execution_count": 2
    }
   ],
   "source": [
    "p = \"(()())()\" #\"(()())()\"\n",
    "solution(p)"
   ]
  },
  {
   "cell_type": "code",
   "execution_count": 3,
   "metadata": {},
   "outputs": [
    {
     "output_type": "execute_result",
     "data": {
      "text/plain": [
       "'()'"
      ]
     },
     "metadata": {},
     "execution_count": 3
    }
   ],
   "source": [
    "p = \")(\" #\"()\"\n",
    "solution(p)"
   ]
  },
  {
   "cell_type": "code",
   "execution_count": 4,
   "metadata": {},
   "outputs": [
    {
     "output_type": "execute_result",
     "data": {
      "text/plain": [
       "'()(())()'"
      ]
     },
     "metadata": {},
     "execution_count": 4
    }
   ],
   "source": [
    "p = \"()))((()\" #\"()(())()\"\n",
    "solution(p)"
   ]
  },
  {
   "cell_type": "markdown",
   "metadata": {},
   "source": [
    "개선된 코드"
   ]
  }
 ],
 "metadata": {
  "kernelspec": {
   "name": "python385jvsc74a57bd0881438aaf537e66dfdaad625390fa0d3b3d0ff5ed91f143384dfadbe6c34b6b5",
   "display_name": "Python 3.8.5 64-bit ('base': conda)"
  },
  "language_info": {
   "codemirror_mode": {
    "name": "ipython",
    "version": 3
   },
   "file_extension": ".py",
   "mimetype": "text/x-python",
   "name": "python",
   "nbconvert_exporter": "python",
   "pygments_lexer": "ipython3",
   "version": "3.8.5"
  },
  "metadata": {
   "interpreter": {
    "hash": "881438aaf537e66dfdaad625390fa0d3b3d0ff5ed91f143384dfadbe6c34b6b5"
   }
  }
 },
 "nbformat": 4,
 "nbformat_minor": 2
}