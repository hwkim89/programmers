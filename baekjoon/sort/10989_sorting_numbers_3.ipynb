{
 "cells": [
  {
   "cell_type": "markdown",
   "metadata": {},
   "source": [
    "# 수 정렬하기 3"
   ]
  },
  {
   "cell_type": "markdown",
   "metadata": {},
   "source": [
    "## 문제 링크"
   ]
  },
  {
   "cell_type": "markdown",
   "metadata": {},
   "source": [
    "* https://www.acmicpc.net/problem/10989"
   ]
  },
  {
   "cell_type": "markdown",
   "metadata": {},
   "source": [
    "## 최종 코드"
   ]
  },
  {
   "cell_type": "code",
   "execution_count": null,
   "metadata": {},
   "outputs": [],
   "source": [
    "def counting_sort(nums):\n",
    "    # 각 숫자 개수 세기\n",
    "    max_num = max(nums)\n",
    "    counting_nums = [0 for _ in range(max_num+1)]\n",
    "    for n in nums:\n",
    "        counting_nums[n] += 1\n",
    "        \n",
    "    # Counting 결과에 대한 누적합으로 치환\n",
    "    for i in range(1, len(counting_nums)):\n",
    "        counting_nums[i] += counting_nums[i-1]\n",
    "        \n",
    "    # 중복된 수만큼 순서대로 배치\n",
    "    sorted_nums = [0 for _ in range(counting_nums[-1])]\n",
    "    for num in nums[::-1]:\n",
    "        sorted_nums[counting_nums[num]-1] = num\n",
    "        counting_nums[num] -= 1\n",
    "    \n",
    "    return sorted_nums\n",
    "    \n",
    "def print_sorting_nums(nums):\n",
    "    sorted_nums = counting_sort(nums)\n",
    "    for num in sorted_nums:\n",
    "        print(num)\n",
    "        \n",
    "N = int(stdin.readline())\n",
    "nums = []\n",
    "for _ in range(N):\n",
    "    nums.append(int(stdin.readline()))\n",
    "print_sorting_nums(nums)"
   ]
  },
  {
   "cell_type": "markdown",
   "metadata": {},
   "source": [
    "### 시간 복잡도"
   ]
  },
  {
   "cell_type": "code",
   "execution_count": null,
   "metadata": {},
   "outputs": [],
   "source": []
  },
  {
   "cell_type": "markdown",
   "metadata": {},
   "source": [
    "## 테스트 코드"
   ]
  },
  {
   "cell_type": "code",
   "execution_count": 10,
   "metadata": {},
   "outputs": [],
   "source": [
    "def counting_sort(nums):\n",
    "    # 각 숫자 개수 세기\n",
    "    max_num = max(nums)\n",
    "    counting_nums = [0 for _ in range(max_num+1)]\n",
    "    for n in nums:\n",
    "        counting_nums[n] += 1\n",
    "        \n",
    "    # Counting 결과에 대한 누적합으로 치환\n",
    "    for i in range(1, len(counting_nums)):\n",
    "        counting_nums[i] += counting_nums[i-1]\n",
    "        \n",
    "    # 중복된 수만큼 순서대로 배치\n",
    "    sorted_nums = [0 for _ in range(counting_nums[-1])]\n",
    "    for num in nums[::-1]:\n",
    "        sorted_nums[counting_nums[num]-1] = num\n",
    "        counting_nums[num] -= 1\n",
    "    \n",
    "    return sorted_nums\n",
    "    \n",
    "def print_sorting_nums(nums):\n",
    "    sorted_nums = counting_sort(nums)\n",
    "    for num in sorted_nums:\n",
    "        print(num)"
   ]
  },
  {
   "cell_type": "code",
   "execution_count": 14,
   "metadata": {},
   "outputs": [
    {
     "name": "stdout",
     "output_type": "stream",
     "text": [
      "10\n",
      "5\n",
      "2\n",
      "3\n",
      "1\n",
      "4\n",
      "2\n",
      "3\n",
      "5\n",
      "1\n",
      "7\n",
      "1\n",
      "1\n",
      "2\n",
      "2\n",
      "3\n",
      "3\n",
      "4\n",
      "5\n",
      "5\n",
      "7\n"
     ]
    }
   ],
   "source": [
    "N = int(input())\n",
    "nums = []\n",
    "for _ in range(N):\n",
    "    nums.append(int(input()))\n",
    "print_sorting_nums(nums)"
   ]
  },
  {
   "cell_type": "code",
   "execution_count": null,
   "metadata": {},
   "outputs": [],
   "source": [
    "N = int(stdin.readline())\n",
    "nums = []\n",
    "for _ in range(N):\n",
    "    nums.append(int(stdin.readline()))\n",
    "print_sorting_nums(nums)"
   ]
  },
  {
   "cell_type": "markdown",
   "metadata": {},
   "source": [
    "### 예제 입출력"
   ]
  },
  {
   "cell_type": "code",
   "execution_count": 13,
   "metadata": {},
   "outputs": [
    {
     "name": "stdout",
     "output_type": "stream",
     "text": [
      "1\n",
      "1\n",
      "2\n",
      "2\n",
      "3\n",
      "3\n",
      "4\n",
      "5\n",
      "5\n",
      "7\n"
     ]
    }
   ],
   "source": [
    "nums = [5, 2, 3, 1, 4, 2, 3, 5, 1, 7]\n",
    "print_sorting_nums(nums)"
   ]
  }
 ],
 "metadata": {
  "kernelspec": {
   "display_name": "Python 3",
   "language": "python",
   "name": "python3"
  },
  "language_info": {
   "codemirror_mode": {
    "name": "ipython",
    "version": 3
   },
   "file_extension": ".py",
   "mimetype": "text/x-python",
   "name": "python",
   "nbconvert_exporter": "python",
   "pygments_lexer": "ipython3",
   "version": "3.7.3"
  }
 },
 "nbformat": 4,
 "nbformat_minor": 2
}
