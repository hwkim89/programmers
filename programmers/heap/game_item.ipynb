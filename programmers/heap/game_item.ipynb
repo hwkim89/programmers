{
 "cells": [
  {
   "cell_type": "markdown",
   "metadata": {},
   "source": [
    "# Game item"
   ]
  },
  {
   "cell_type": "markdown",
   "metadata": {},
   "source": [
    "## 문제 설명"
   ]
  },
  {
   "cell_type": "markdown",
   "metadata": {},
   "source": [
    "XX 게임의 유저들이 보스 몬스터를 사냥하려고 팀을 만들었습니다. 그리고 팀에 속한 캐릭터에 아이템을 사용해 공격력을 높이려 합니다.\n",
    "\n",
    "이 게임의 아이템은 캐릭터의 공격력은 높이고 체력을 낮춥니다. 그래서 아이템을 적절히 사용해 팀의 공격력을 최대한 끌어올리려 합니다. 캐릭터별로 아이템을 사용할지 말지는 자유지만, 아이템을 사용한 캐릭터는 체력이 반드시 100 이상 남아야 합니다. 또, 한 캐릭터에 아이템 하나씩만 사용할 수 있으며, 사용한 아이템은 사라집니다.\n",
    "\n",
    "예를 들어 캐릭터의 체력이 [200, 120, 150]이고 아이템의 효과는 다음과 같습니다.\n",
    "\n",
    "| 높여줄 공격치 | 낮추는 체력 |\n",
    "| ---------- | --------- |\n",
    "| 30         | 100       |\n",
    "| 500        | 30        |\n",
    "| 100        | 400       |\n",
    "\n",
    "이때 팀의 공격력을 최대로 올리려면 첫 번째 캐릭터에 첫 번째 아이템을, 세 번째 캐릭터에 두 번째 아이템을 사용하면 됩니다.\n",
    "\n",
    "캐릭터들의 체력을 담은 배열 healths와 아이템별 효과를 담은 이차원 배열 items가 solution 함수의 매개변수로 주어질 때, 팀의 공격력을 최고로 끌어올리려면 어떤 아이템을 사용해야 하는지 return 하도록 solution 함수를 완성해주세요."
   ]
  },
  {
   "cell_type": "markdown",
   "metadata": {},
   "source": [
    "## 제한사항"
   ]
  },
  {
   "cell_type": "markdown",
   "metadata": {},
   "source": [
    "* healths의 길이는 1 이상 10,000 이하입니다.\n",
    "* healths의 원소(캐릭터의 체력)는 1 이상 1,000,000 이하인 자연수입니다.\n",
    "* items의 길이는 1 이상 5,000 이하입니다.\n",
    "* items에는 아이템이 [올려줄 공격력, 낮출 체력]이 번호 순서대로 들어있습니다.\n",
    "    * 아이템 번호는 1번 부터 시작합니다.\n",
    "    * items[i]에는 i + 1번 아이템이 [올려줄 공격력, 낮출 체력]이 들어있습니다.\n",
    "    * 아이템이 올리는 공격력은 1 이상 500,000 이하인 자연수입니다.\n",
    "    * 아이템이 내리는 체력은 1 이상 500,000 이하인 자연수입니다.\n",
    "* 아이템 번호는 오름차순으로 정렬해 return 해주세요.\n",
    "* 올려주는 공격력이 같은 아이템은 없습니다.\n",
    "* 아이템을 사용하는 방법이 여러 가지라면, 그러한 방법 중 아무거나 하나를 return 해주세요. 단, 아이템 번호는 오름차순으로 정렬되어 있어야 합니다.\n"
   ]
  },
  {
   "cell_type": "markdown",
   "metadata": {},
   "source": [
    "## 입출력 예"
   ]
  },
  {
   "cell_type": "markdown",
   "metadata": {},
   "source": [
    "| healths       | items                                 | return |\n",
    "| ------------- | ------------------------------------- | ------ |\n",
    "| [200,120,150] | [[30,100],[500,30],[100,400]]         | [1,2]  |\n",
    "| [300,200,500] | [[1000, 600], [400, 500], [300, 100]] | [3]    |"
   ]
  },
  {
   "cell_type": "markdown",
   "metadata": {},
   "source": [
    "### 입출력 예 설명"
   ]
  },
  {
   "cell_type": "markdown",
   "metadata": {},
   "source": [
    "#### 입출력 예 #1"
   ]
  },
  {
   "cell_type": "markdown",
   "metadata": {},
   "source": [
    "문제의 예시와 같습니다."
   ]
  },
  {
   "cell_type": "markdown",
   "metadata": {},
   "source": [
    "#### 입출력 예 #2"
   ]
  },
  {
   "cell_type": "markdown",
   "metadata": {},
   "source": [
    "첫 번째, 두 번째 아이템을 사용하면 캐릭터의 체력이 100 미만이 됩니다. 따라서 세 번째 아이템만 사용할 수 있습니다."
   ]
  },
  {
   "cell_type": "markdown",
   "metadata": {},
   "source": [
    "## 문제 풀이 방법"
   ]
  },
  {
   "cell_type": "markdown",
   "metadata": {},
   "source": [
    "* 아이템 중 공격력을 최고로 상승시키는 경우를 우선으로 사용\n",
    "* 위 조건을 만족하는 유저 중,\n",
    "    * 아이템 사용 시 체력이 내려간 이후에도 체력이 100 이상인 유저\n",
    "    * 그리고 내려간 체력이 가장 작은 유저 선택 (가장 최적화된 아이템)"
   ]
  },
  {
   "cell_type": "markdown",
   "metadata": {},
   "source": [
    "## 코드"
   ]
  },
  {
   "cell_type": "markdown",
   "metadata": {},
   "source": [
    "### 실패한 코드"
   ]
  },
  {
   "cell_type": "code",
   "execution_count": 59,
   "metadata": {},
   "outputs": [],
   "source": [
    "import heapq\n",
    "\n",
    "def solution(healths, items):\n",
    "    ''' 문제 풀이 방법 & 시간 복잡도\n",
    "    1. 문제 풀이 방법\n",
    "    * 아이템 중 공격력을 최고로 상승시키는 경우를 우선으로 사용\n",
    "    * 위 조건을 만족하는 유저 중,\n",
    "        * 아이템 사용 시 체력이 내려간 이후에도 체력이 100 이상인 유저\n",
    "        * 그리고 체력을 내린 후 그 값이 가장 작은 유저 선택 (가장 최적화된 아이템)\n",
    "    2. 시간 복잡도\n",
    "    * N = len(healths), M = len(items)\n",
    "    * O(NM)\n",
    "    '''\n",
    "    MAX_HEALTH = 1000000\n",
    "    items = [[-attack, damage, num] for num, (attack, damage) in enumerate(items, start=1)] # O(M)\n",
    "    heapq.heapify(items) # O(M)\n",
    "    used_items = []\n",
    "    while len(items) > 0: # O(M)\n",
    "        item = heapq.heappop(items) # log(M)\n",
    "        best_health = (None, MAX_HEALTH)\n",
    "        for i, health in enumerate(healths): # O(N)\n",
    "            if (health - item[1]) >= 100 and (health - item[1]) < best_health[1]:\n",
    "                best_health = (i, health)\n",
    "                \n",
    "        if best_health[1] != MAX_HEALTH:\n",
    "            healths[best_health[0]] = MAX_HEALTH\n",
    "            used_items.append(item[2])\n",
    "        \n",
    "    return sorted(set(used_items)) # O(MlogM)"
   ]
  },
  {
   "cell_type": "code",
   "execution_count": 91,
   "metadata": {},
   "outputs": [],
   "source": [
    "import heapq\n",
    "\n",
    "def solution(healths, items):\n",
    "    ''' 문제 풀이 방법 & 시간 복잡도\n",
    "    1. 문제 풀이 방법\n",
    "    * 체력은 유저의 체력이 낮은 순으로 정렬하고, 아이템은 아이템의 데미지가 낮은 순으로 정렬한다.\n",
    "    * 체력이 낮은 유저부터 확인하면서,\n",
    "        * 아이템의 데미지가 낮은 순으로 확인한다.\n",
    "        * 이 때, 데미지를 받고 나서 유저의 체력이 100 이상인 경우에 착용 가능한 아이템으로 판단한다.\n",
    "        * 그리고 낮은 체력을 가진 유저가 낮은 데미지를 주는 아이템을 착용하는 경우가\n",
    "          높은 체력을 가진 유저가 낮은 데미지를 주는 아이템을 착용하는 경우보다 좋으므로,\n",
    "          낮은 체력을 가진 유저가 낮은 데미지를 주는 아이템을 착용할 수 있는 경우에는\n",
    "          높은 체력을 가진 유저가 낮은 데미지를 주는 아이템을 착용할 수 있는지 확인하지 않는다.\n",
    "        * 착용 가능한 아이템이 있는 경우 사용 가능한 아이템 목록에 추가한다.\n",
    "    2. 시간 복잡도\n",
    "    * N = len(healths), M = len(items)\n",
    "    * 최종 시간 복잡도: O(NM)\n",
    "    * O(log(len(possible_items))) <- 이 부분은 어떻게 계산해야 되는지 모르겠음\n",
    "    '''\n",
    "    DAMAGE, ATTACK, NUM = (0, 1, 2)\n",
    "    healths.sort() # O(N)\n",
    "    items = sorted([[damage, attack, num]\n",
    "                    for num, (attack, damage) in enumerate(items, start=1)]) # O(M)\n",
    "    \n",
    "    item_index = 0\n",
    "    possible_items = []\n",
    "    heapq.heapify(possible_items)\n",
    "    used_items = []\n",
    "    for health in healths: # O(N)\n",
    "        while item_index < len(items): # O(M)\n",
    "            if (health - items[item_index][DAMAGE]) < 100:\n",
    "                break\n",
    "            heapq.heappush(possible_items, (-items[item_index][ATTACK], items[item_index][NUM])) # O(log(len(possible_items)))\n",
    "            item_index += 1\n",
    "        if possible_items:\n",
    "            _, num = heapq.heappop(possible_items) # O(log(len(possible_items)))\n",
    "            used_items.append(num)\n",
    "        \n",
    "    return sorted(used_items) # O(MlogM)"
   ]
  },
  {
   "cell_type": "code",
   "execution_count": null,
   "metadata": {},
   "outputs": [],
   "source": [
    "import heapq\n",
    "from collections import deque\n",
    "\n",
    "def solution(healths, items):\n",
    "    healths.sort()\n",
    "    BUFF, DEBUFF, INDEX = 0, 1, 2\n",
    "    items.sort(key=lambda x: x[DEBUFF])\n",
    "    items = deque(items)\n",
    "    \n",
    "    candidates, answer = [], []\n",
    "    for health in healths:\n",
    "        while items and health - items[0][DEBUFF] >= 100:\n",
    "            item = items.popleft()\n",
    "            heapq.heappush(candidates, (-item[BUFF], item[INDEX]))\n",
    "            \n",
    "        if candidates:\n",
    "            answer.append(heapq.heappop(candidates)[1])\n",
    "            \n",
    "    answer.sort()\n",
    "    return answer"
   ]
  },
  {
   "cell_type": "markdown",
   "metadata": {},
   "source": [
    "### 예제 1"
   ]
  },
  {
   "cell_type": "code",
   "execution_count": 89,
   "metadata": {},
   "outputs": [
    {
     "data": {
      "text/plain": [
       "[1, 2]"
      ]
     },
     "execution_count": 89,
     "metadata": {},
     "output_type": "execute_result"
    }
   ],
   "source": [
    "healths = [200,120,150]\n",
    "items = [[30,100],[500,30],[100,400]]\n",
    "solution(healths, items)"
   ]
  },
  {
   "cell_type": "markdown",
   "metadata": {},
   "source": [
    "### 예제 2"
   ]
  },
  {
   "cell_type": "code",
   "execution_count": 90,
   "metadata": {},
   "outputs": [
    {
     "data": {
      "text/plain": [
       "[3]"
      ]
     },
     "execution_count": 90,
     "metadata": {},
     "output_type": "execute_result"
    }
   ],
   "source": [
    "healths = [300,200,500]\n",
    "items = [[1000, 600], [400, 500], [300, 100]]\n",
    "solution(healths, items)"
   ]
  },
  {
   "cell_type": "markdown",
   "metadata": {},
   "source": [
    "### 예제 3"
   ]
  },
  {
   "cell_type": "code",
   "execution_count": 51,
   "metadata": {},
   "outputs": [
    {
     "name": "stdout",
     "output_type": "stream",
     "text": [
      "[-500, -200, 2]\n",
      "[-500, -150, 3]\n"
     ]
    }
   ],
   "source": [
    "healths = [300,200,500]\n",
    "items = [[500, 100], [500, 200], [500, 150]]\n",
    "items = [[-attack, -damage, num] for num, (attack, damage) in enumerate(items, start=1)] # O(M)\n",
    "heapq.heapify(items)\n",
    "print(heapq.heappop(items))\n",
    "print(heapq.heappop(items))"
   ]
  },
  {
   "cell_type": "markdown",
   "metadata": {},
   "source": [
    "## 추가 사항"
   ]
  },
  {
   "cell_type": "markdown",
   "metadata": {},
   "source": [
    "* 시간 복잡도 계산을 하면서 문제를 푸니, 시간 초과 문제가 해결됨"
   ]
  }
 ],
 "metadata": {
  "kernelspec": {
   "display_name": "Python 3",
   "language": "python",
   "name": "python3"
  },
  "language_info": {
   "codemirror_mode": {
    "name": "ipython",
    "version": 3
   },
   "file_extension": ".py",
   "mimetype": "text/x-python",
   "name": "python",
   "nbconvert_exporter": "python",
   "pygments_lexer": "ipython3",
   "version": "3.7.3"
  }
 },
 "nbformat": 4,
 "nbformat_minor": 2
}
