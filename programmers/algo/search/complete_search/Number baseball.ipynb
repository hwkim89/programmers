{
 "cells": [
  {
   "cell_type": "markdown",
   "metadata": {},
   "source": [
    "# 문제 설명"
   ]
  },
  {
   "cell_type": "markdown",
   "metadata": {},
   "source": [
    "숫자 야구 게임이란 2명이 서로가 생각한 숫자를 맞추는 게임입니다. <a href=\"https://scratch.mit.edu/projects/131352991/\">게임해보기</a>\n",
    "\n",
    "각자 서로 다른 1~9까지 3자리 임의의 숫자를 정한 뒤 서로에게 3자리의 숫자를 불러서 결과를 확인합니다. 그리고 그 결과를 토대로 상대가 정한 숫자를 예상한 뒤 맞힙니다."
   ]
  },
  {
   "cell_type": "markdown",
   "metadata": {},
   "source": [
    "* 숫자는 맞지만, 위치가 틀렸을 때는 볼\n",
    "* 숫자와 위치가 모두 맞을 때는 스트라이크\n",
    "* 숫자와 위치가 모두 틀렸을 때는 아웃"
   ]
  },
  {
   "cell_type": "markdown",
   "metadata": {},
   "source": [
    "예를 들어, 아래의 경우가 있으면"
   ]
  },
  {
   "cell_type": "markdown",
   "metadata": {},
   "source": [
    "A : 123<br>\n",
    "B : 1스트라이크 1볼.<br>\n",
    "A : 356<br>\n",
    "B : 1스트라이크 0볼.<br>\n",
    "A : 327<br>\n",
    "B : 2스트라이크 0볼.<br>\n",
    "A : 489<br>\n",
    "B : 0스트라이크 1볼.<br>"
   ]
  },
  {
   "cell_type": "markdown",
   "metadata": {},
   "source": [
    "이때 가능한 답은 324와 328 두 가지입니다.\n",
    "\n",
    "질문한 세 자리의 수, 스트라이크의 수, 볼의 수를 담은 2차원 배열 baseball이 매개변수로 주어질 때, 가능한 답의 개수를 return 하도록 solution 함수를 작성해주세요."
   ]
  },
  {
   "cell_type": "markdown",
   "metadata": {},
   "source": [
    "# 제한사항"
   ]
  },
  {
   "cell_type": "markdown",
   "metadata": {},
   "source": [
    "* 질문의 수는 1 이상 100 이하의 자연수입니다.\n",
    "* baseball의 각 행은 [세 자리의 수, 스트라이크의 수, 볼의 수] 를 담고 있습니다."
   ]
  },
  {
   "cell_type": "markdown",
   "metadata": {},
   "source": [
    "# 입출력 예"
   ]
  },
  {
   "cell_type": "markdown",
   "metadata": {},
   "source": [
    "baseball\treturn<br>\n",
    "[[123, 1, 1], [356, 1, 0], [327, 2, 0], [489, 0, 1]]\t2"
   ]
  },
  {
   "cell_type": "markdown",
   "metadata": {},
   "source": [
    "# 입출력 예 설명"
   ]
  },
  {
   "cell_type": "markdown",
   "metadata": {},
   "source": [
    "문제에 나온 예와 같습니다."
   ]
  },
  {
   "cell_type": "markdown",
   "metadata": {},
   "source": [
    "---"
   ]
  },
  {
   "cell_type": "code",
   "execution_count": 5,
   "metadata": {},
   "outputs": [],
   "source": [
    "def get_candidates_by_strike(candidates, ex, strike):\n",
    "    if strike == 1:\n",
    "        for i, candidate in enumerate(candidates):\n",
    "            if not(ex[0] == candidate[0] or ex[1] == candidate[1] or ex[2] == candidate[2]):\n",
    "                candidates.pop(i)\n",
    "    elif strike == 2:\n",
    "        for i, candidate in enumerate(candidates):\n",
    "            if not(ex[0] == candidate[0] and ex[1] == candidate[1] \\\n",
    "                   or (ex[1] == candidate[1] and ex[2] == candidate[2]) \\\n",
    "                   or (ex[0] == candidate[0] and ex[2] == candidate[2])):\n",
    "                candidates.pop(i)\n",
    "    elif strike == 3:\n",
    "        candidates = [ex]\n",
    "                \n",
    "    return candidates"
   ]
  },
  {
   "cell_type": "code",
   "execution_count": 47,
   "metadata": {},
   "outputs": [],
   "source": [
    "def get_candidates_by_ball(candidates, ex, strike, ball):\n",
    "    if ball == 0 and strike == 0:\n",
    "        for i, candidate in enumerate(candidates):\n",
    "            if ex == candidate:\n",
    "                candidates.pop(i)\n",
    "                break\n",
    "    elif ball == 1:\n",
    "        print('164' in candidates)\n",
    "        for i, candidate in enumerate(candidates):\n",
    "            if ex == '123':\n",
    "                print(candidate)\n",
    "            \n",
    "            if not((ex[0] != candidate[0] and (ex[0] == candidate[1] or ex[0] == candidate[2])) \\\n",
    "                   or (ex[1] != candidate[1] and (ex[1] == candidate[0] or ex[1] == candidate[2])) \\\n",
    "                   or (ex[2] != candidate[2] and (ex[2] == candidate[0] or ex[2] == candidate[1]))):\n",
    "                candidates.pop(i)\n",
    "    elif ball == 2:\n",
    "        for i, candidate in enumerate(candidates):\n",
    "            if not(ex[0] != candidate[0] and ex[1] != candidate[1] \\\n",
    "                   and (ex[0] == candidate[1] or ex[0] == candidate[2]) \\\n",
    "                   and (ex[1] == candidate[0] or ex[1] == candidate[2])) \\\n",
    "            and not(ex[1] != candidate[1] and ex[2] != candidate[2] \\\n",
    "                   and (ex[1] == candidate[0] or ex[1] == candidate[2]) \\\n",
    "                   and (ex[2] == candidate[0] or ex[2] == candidate[1])) \\\n",
    "            and not(ex[0] != candidate[0] and ex[2] != candidate[2] \\\n",
    "                   and (ex[0] == candidate[1] or ex[0] == candidate[2]) \\\n",
    "                   and (ex[2] == candidate[0] or ex[2] == candidate[1])):\n",
    "                candidates.pop(i)\n",
    "    elif ball == 3:\n",
    "        for i, candidate in enumerate(candidates):\n",
    "            for j, n in enumerate(ex):\n",
    "                if not(n in candidate and n!= candidate[j]):\n",
    "                    candidates.pop(i)\n",
    "                    \n",
    "    return candidates"
   ]
  },
  {
   "cell_type": "code",
   "execution_count": 48,
   "metadata": {},
   "outputs": [],
   "source": [
    "def solution(baseball):\n",
    "    candidates = [\n",
    "        str(n) for n in range(100, 999)\n",
    "        if '0' not in str(n) and len(set(list(str(n)))) == 3\n",
    "    ]\n",
    "    for ex, strike, ball in baseball:\n",
    "        candidates = get_candidates_by_strike(candidates, str(ex), strike)\n",
    "        candidates = get_candidates_by_ball(candidates, str(ex), strike, ball)\n",
    "        \n",
    "    return len(candidates)"
   ]
  },
  {
   "cell_type": "code",
   "execution_count": 49,
   "metadata": {},
   "outputs": [
    {
     "name": "stdout",
     "output_type": "stream",
     "text": [
      "True\n",
      "123\n",
      "125\n",
      "127\n",
      "129\n",
      "134\n",
      "135\n",
      "136\n",
      "137\n",
      "138\n",
      "139\n",
      "142\n",
      "143\n",
      "146\n",
      "148\n",
      "152\n",
      "153\n",
      "156\n",
      "158\n",
      "162\n",
      "163\n",
      "165\n",
      "168\n",
      "172\n",
      "173\n",
      "175\n",
      "178\n",
      "182\n",
      "183\n",
      "185\n",
      "187\n",
      "192\n",
      "193\n",
      "195\n",
      "197\n",
      "213\n",
      "215\n",
      "217\n",
      "219\n",
      "234\n",
      "236\n",
      "238\n",
      "241\n",
      "243\n",
      "246\n",
      "248\n",
      "251\n",
      "253\n",
      "256\n",
      "258\n",
      "261\n",
      "263\n",
      "265\n",
      "268\n",
      "271\n",
      "273\n",
      "275\n",
      "278\n",
      "281\n",
      "283\n",
      "285\n",
      "287\n",
      "291\n",
      "293\n",
      "295\n",
      "297\n",
      "312\n",
      "315\n",
      "317\n",
      "319\n",
      "321\n",
      "324\n",
      "325\n",
      "326\n",
      "327\n",
      "328\n",
      "329\n",
      "342\n",
      "346\n",
      "348\n",
      "351\n",
      "354\n",
      "357\n",
      "359\n",
      "362\n",
      "365\n",
      "368\n",
      "371\n",
      "374\n",
      "376\n",
      "379\n",
      "382\n",
      "385\n",
      "387\n",
      "391\n",
      "394\n",
      "396\n",
      "398\n",
      "413\n",
      "416\n",
      "418\n",
      "421\n",
      "423\n",
      "426\n",
      "428\n",
      "432\n",
      "436\n",
      "438\n",
      "451\n",
      "453\n",
      "459\n",
      "463\n",
      "469\n",
      "473\n",
      "479\n",
      "483\n",
      "489\n",
      "493\n",
      "498\n",
      "516\n",
      "518\n",
      "521\n",
      "523\n",
      "526\n",
      "528\n",
      "532\n",
      "536\n",
      "538\n",
      "541\n",
      "543\n",
      "549\n",
      "563\n",
      "569\n",
      "573\n",
      "579\n",
      "583\n",
      "589\n",
      "593\n",
      "598\n",
      "615\n",
      "618\n",
      "621\n",
      "623\n",
      "625\n",
      "628\n",
      "632\n",
      "635\n",
      "638\n",
      "641\n",
      "643\n",
      "649\n",
      "653\n",
      "659\n",
      "673\n",
      "679\n",
      "683\n",
      "689\n",
      "693\n",
      "698\n",
      "715\n",
      "718\n",
      "721\n",
      "723\n",
      "725\n",
      "728\n",
      "732\n",
      "735\n",
      "738\n",
      "741\n",
      "743\n",
      "749\n",
      "753\n",
      "759\n",
      "763\n",
      "769\n",
      "783\n",
      "789\n",
      "793\n",
      "798\n",
      "815\n",
      "817\n",
      "821\n",
      "823\n",
      "825\n",
      "827\n",
      "832\n",
      "835\n",
      "837\n",
      "841\n",
      "843\n",
      "849\n",
      "853\n",
      "859\n",
      "863\n",
      "869\n",
      "873\n",
      "879\n",
      "893\n",
      "897\n",
      "915\n",
      "917\n",
      "921\n",
      "923\n",
      "925\n",
      "927\n",
      "932\n",
      "935\n",
      "937\n",
      "941\n",
      "943\n",
      "948\n",
      "953\n",
      "958\n",
      "963\n",
      "968\n",
      "973\n",
      "978\n",
      "983\n",
      "987\n",
      "True\n"
     ]
    },
    {
     "data": {
      "text/plain": [
       "46"
      ]
     },
     "execution_count": 49,
     "metadata": {},
     "output_type": "execute_result"
    }
   ],
   "source": [
    "baseball = [[123, 1, 1], [356, 1, 0], [327, 2, 0], [489, 0, 1]]\n",
    "solution(baseball)"
   ]
  },
  {
   "cell_type": "code",
   "execution_count": null,
   "metadata": {},
   "outputs": [],
   "source": []
  }
 ],
 "metadata": {
  "kernelspec": {
   "display_name": "Python 3",
   "language": "python",
   "name": "python3"
  },
  "language_info": {
   "codemirror_mode": {
    "name": "ipython",
    "version": 3
   },
   "file_extension": ".py",
   "mimetype": "text/x-python",
   "name": "python",
   "nbconvert_exporter": "python",
   "pygments_lexer": "ipython3",
   "version": "3.7.1"
  }
 },
 "nbformat": 4,
 "nbformat_minor": 2
}
