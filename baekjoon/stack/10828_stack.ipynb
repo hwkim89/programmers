{
 "cells": [
  {
   "cell_type": "markdown",
   "metadata": {},
   "source": [
    "## 스택"
   ]
  },
  {
   "cell_type": "markdown",
   "metadata": {},
   "source": [
    "### 문제 링크"
   ]
  },
  {
   "cell_type": "markdown",
   "metadata": {},
   "source": [
    "* https://www.acmicpc.net/problem/10828"
   ]
  },
  {
   "cell_type": "markdown",
   "metadata": {},
   "source": [
    "### 최종 코드"
   ]
  },
  {
   "cell_type": "code",
   "execution_count": null,
   "metadata": {},
   "outputs": [],
   "source": [
    "from sys import stdin\n",
    "\n",
    "class Stack:\n",
    "    def __init__(self):\n",
    "        self._stack = []\n",
    "\n",
    "    @property\n",
    "    def size(self):\n",
    "        return len(self._stack)\n",
    "    \n",
    "    @property\n",
    "    def top(self):\n",
    "        return self._stack[-1] if self._stack else -1\n",
    "    \n",
    "    def push(self, element):\n",
    "        self._stack.append(element)\n",
    "        \n",
    "    def pop(self):\n",
    "        return self._stack.pop() if self._stack else -1\n",
    "    \n",
    "    def is_empty(self):\n",
    "        return 0 if self._stack else 1\n",
    "    \n",
    "def solution(stack, cmd):\n",
    "    if len(cmd) > 1: # push\n",
    "        stack.push(cmd[-1])\n",
    "    else:\n",
    "        cmd = cmd[0]\n",
    "        if cmd == 'size':\n",
    "            print(stack.size)\n",
    "        elif cmd == 'top':\n",
    "            print(stack.top)\n",
    "        elif cmd == 'pop':\n",
    "            print(stack.pop())\n",
    "        else: # empty\n",
    "            print(stack.is_empty())\n",
    "            \n",
    "N = int(stdin.readline())\n",
    "stack = Stack()\n",
    "for _ in range(N):\n",
    "    cmd = stdin.readline().split()\n",
    "    solution(stack, cmd)"
   ]
  },
  {
   "cell_type": "markdown",
   "metadata": {},
   "source": [
    "#### 시간 복잡도"
   ]
  },
  {
   "cell_type": "code",
   "execution_count": null,
   "metadata": {},
   "outputs": [],
   "source": []
  },
  {
   "cell_type": "markdown",
   "metadata": {},
   "source": [
    "### 코드"
   ]
  },
  {
   "cell_type": "code",
   "execution_count": 3,
   "metadata": {},
   "outputs": [],
   "source": [
    "from sys import stdin\n",
    "\n",
    "class Stack:\n",
    "    def __init__(self):\n",
    "        self._stack = []\n",
    "\n",
    "    @property\n",
    "    def size(self):\n",
    "        return len(self._stack)\n",
    "    \n",
    "    @property\n",
    "    def top(self):\n",
    "        return self._stack[-1] if self._stack else -1\n",
    "    \n",
    "    def push(self, element):\n",
    "        self._stack.append(element)\n",
    "        \n",
    "    def pop(self):\n",
    "        return self._stack.pop() if self._stack else -1\n",
    "    \n",
    "    def is_empty(self):\n",
    "        return 0 if self._stack else 1\n",
    "    \n",
    "def solution(stack, cmd):\n",
    "    if len(cmd) > 1: # push\n",
    "        stack.push(cmd[-1])\n",
    "    else:\n",
    "        cmd = cmd[0]\n",
    "        if cmd == 'size':\n",
    "            print(stack.size)\n",
    "        elif cmd == 'top':\n",
    "            print(stack.top)\n",
    "        elif cmd == 'pop':\n",
    "            print(stack.pop())\n",
    "        else: # empty\n",
    "            print(stack.is_empty())"
   ]
  },
  {
   "cell_type": "code",
   "execution_count": null,
   "metadata": {},
   "outputs": [],
   "source": [
    "N = int(stdin.readline())\n",
    "stack = Stack()\n",
    "for _ in range(N):\n",
    "    cmd = stdin.readline().split()\n",
    "    solution(stack, cmd)"
   ]
  },
  {
   "cell_type": "markdown",
   "metadata": {},
   "source": [
    "### 예제 입출력"
   ]
  },
  {
   "cell_type": "markdown",
   "metadata": {},
   "source": [
    "#### 예제 1"
   ]
  },
  {
   "cell_type": "code",
   "execution_count": 4,
   "metadata": {},
   "outputs": [
    {
     "name": "stdout",
     "output_type": "stream",
     "text": [
      "2\n",
      "2\n",
      "0\n",
      "2\n",
      "1\n",
      "-1\n",
      "0\n",
      "1\n",
      "-1\n",
      "0\n",
      "3\n"
     ]
    }
   ],
   "source": [
    "N = 14\n",
    "stack = Stack()\n",
    "cmds = [\n",
    "    'push 1',\n",
    "    'push 2',\n",
    "    'top',\n",
    "    'size',\n",
    "    'empty',\n",
    "    'pop',\n",
    "    'pop',\n",
    "    'pop',\n",
    "    'size',\n",
    "    'empty',\n",
    "    'pop',\n",
    "    'push 3',\n",
    "    'empty',\n",
    "    'top'\n",
    "]\n",
    "for cmd in cmds:\n",
    "    cmd = cmd.split()\n",
    "    solution(stack, cmd)"
   ]
  },
  {
   "cell_type": "markdown",
   "metadata": {},
   "source": [
    "#### 예제 2"
   ]
  },
  {
   "cell_type": "code",
   "execution_count": 5,
   "metadata": {},
   "outputs": [
    {
     "name": "stdout",
     "output_type": "stream",
     "text": [
      "-1\n",
      "-1\n",
      "123\n",
      "123\n",
      "-1\n",
      "-1\n"
     ]
    }
   ],
   "source": [
    "N = 7\n",
    "stack = Stack()\n",
    "cmds = [\n",
    "    'pop',\n",
    "    'top',\n",
    "    'push 123',\n",
    "    'top',\n",
    "    'pop',\n",
    "    'top',\n",
    "    'pop'\n",
    "]\n",
    "for cmd in cmds:\n",
    "    cmd = cmd.split()\n",
    "    solution(stack, cmd)"
   ]
  }
 ],
 "metadata": {
  "kernelspec": {
   "display_name": "Python 3",
   "language": "python",
   "name": "python3"
  },
  "language_info": {
   "codemirror_mode": {
    "name": "ipython",
    "version": 3
   },
   "file_extension": ".py",
   "mimetype": "text/x-python",
   "name": "python",
   "nbconvert_exporter": "python",
   "pygments_lexer": "ipython3",
   "version": "3.7.3"
  }
 },
 "nbformat": 4,
 "nbformat_minor": 2
}
