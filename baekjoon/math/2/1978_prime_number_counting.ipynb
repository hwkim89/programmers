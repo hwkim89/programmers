{
 "cells": [
  {
   "cell_type": "markdown",
   "metadata": {},
   "source": [
    "# 소수 찾기"
   ]
  },
  {
   "cell_type": "markdown",
   "metadata": {},
   "source": [
    "## 문제 링크"
   ]
  },
  {
   "cell_type": "markdown",
   "metadata": {},
   "source": [
    "* https://www.acmicpc.net/problem/1978"
   ]
  },
  {
   "cell_type": "markdown",
   "metadata": {},
   "source": [
    "## 최종 코드"
   ]
  },
  {
   "cell_type": "code",
   "execution_count": 11,
   "metadata": {},
   "outputs": [
    {
     "name": "stdout",
     "output_type": "stream",
     "text": [
      "4\n",
      "1 3 5 7\n",
      "3\n"
     ]
    }
   ],
   "source": [
    "def get_prime_nums():\n",
    "    MAX_NUM = 1000\n",
    "    p_nums = set(range(2, MAX_NUM+1))\n",
    "    for n in range(2, MAX_NUM+1):\n",
    "        if n in p_nums:\n",
    "            removed_p_nums = set()\n",
    "            for p_num in p_nums:\n",
    "                if n != p_num and p_num % n == 0:\n",
    "                    removed_p_nums.add(p_num)\n",
    "            p_nums -= removed_p_nums\n",
    "            \n",
    "    return p_nums\n",
    "\n",
    "def count_p_nums(p_nums, nums):\n",
    "    return len(p_nums & nums)\n",
    "\n",
    "N = input()\n",
    "nums = set(map(int, input().split()))\n",
    "p_nums = get_prime_nums()\n",
    "print(count_p_nums(p_nums, nums))"
   ]
  },
  {
   "cell_type": "markdown",
   "metadata": {},
   "source": [
    "### 시간 복잡도"
   ]
  },
  {
   "cell_type": "code",
   "execution_count": null,
   "metadata": {},
   "outputs": [],
   "source": []
  },
  {
   "cell_type": "markdown",
   "metadata": {},
   "source": [
    "## 테스트 코드"
   ]
  },
  {
   "cell_type": "code",
   "execution_count": 4,
   "metadata": {},
   "outputs": [],
   "source": [
    "def get_prime_nums():\n",
    "    MAX_NUM = 1000\n",
    "    p_nums = set(range(2, MAX_NUM+1))\n",
    "    for n in range(2, MAX_NUM+1):\n",
    "        if n in p_nums:\n",
    "            removed_p_nums = set()\n",
    "            for p_num in p_nums:\n",
    "                if n != p_num and p_num % n == 0:\n",
    "                    removed_p_nums.add(p_num)\n",
    "            p_nums -= removed_p_nums\n",
    "            \n",
    "    return p_nums\n",
    "\n",
    "def count_p_nums(p_nums, nums):\n",
    "    return len(p_nums & nums)"
   ]
  },
  {
   "cell_type": "code",
   "execution_count": 10,
   "metadata": {},
   "outputs": [
    {
     "name": "stdout",
     "output_type": "stream",
     "text": [
      "4\n",
      "1 3 5 7\n",
      "3\n"
     ]
    }
   ],
   "source": [
    "N = input()\n",
    "nums = set(map(int, input().split()))\n",
    "p_nums = get_prime_nums()\n",
    "print(count_p_nums(p_nums, nums))"
   ]
  },
  {
   "cell_type": "markdown",
   "metadata": {},
   "source": [
    "### 예제 입출력"
   ]
  },
  {
   "cell_type": "code",
   "execution_count": 5,
   "metadata": {},
   "outputs": [
    {
     "name": "stdout",
     "output_type": "stream",
     "text": [
      "3\n"
     ]
    }
   ],
   "source": [
    "nums = set([1, 3, 5, 7])\n",
    "p_nums = get_prime_nums()\n",
    "print(count_p_nums(p_nums, nums))"
   ]
  },
  {
   "cell_type": "code",
   "execution_count": 7,
   "metadata": {},
   "outputs": [
    {
     "name": "stdout",
     "output_type": "stream",
     "text": [
      "25\n"
     ]
    }
   ],
   "source": [
    "nums = set(range(100))\n",
    "p_nums = get_prime_nums()\n",
    "print(count_p_nums(p_nums, nums))"
   ]
  },
  {
   "cell_type": "code",
   "execution_count": 8,
   "metadata": {},
   "outputs": [
    {
     "name": "stdout",
     "output_type": "stream",
     "text": [
      "46\n"
     ]
    }
   ],
   "source": [
    "nums = set(range(200))\n",
    "p_nums = get_prime_nums()\n",
    "print(count_p_nums(p_nums, nums))"
   ]
  },
  {
   "cell_type": "code",
   "execution_count": 9,
   "metadata": {},
   "outputs": [
    {
     "name": "stdout",
     "output_type": "stream",
     "text": [
      "168\n"
     ]
    }
   ],
   "source": [
    "nums = set(range(1000))\n",
    "p_nums = get_prime_nums()\n",
    "print(count_p_nums(p_nums, nums))"
   ]
  }
 ],
 "metadata": {
  "kernelspec": {
   "display_name": "Python 3",
   "language": "python",
   "name": "python3"
  },
  "language_info": {
   "codemirror_mode": {
    "name": "ipython",
    "version": 3
   },
   "file_extension": ".py",
   "mimetype": "text/x-python",
   "name": "python",
   "nbconvert_exporter": "python",
   "pygments_lexer": "ipython3",
   "version": "3.7.3"
  }
 },
 "nbformat": 4,
 "nbformat_minor": 2
}
