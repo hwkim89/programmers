{
 "cells": [
  {
   "cell_type": "markdown",
   "metadata": {},
   "source": [
    "# 운송 트럭"
   ]
  },
  {
   "cell_type": "markdown",
   "metadata": {},
   "source": [
    "## 문제 설명"
   ]
  },
  {
   "cell_type": "markdown",
   "metadata": {},
   "source": [
    "XX 회사는 트럭을 이용해 상품을 운반합니다. 트럭은 최대 무게가 한정되어있습니다. 직원은 트럭에 상품을 순서대로 실으며, 상품을 실을 수 없는 트럭은 바로 목적지로 출발합니다. 이때 우리는 모든 상품을 운반하는데 필요한 트럭은 최소 몇 대인지 구하려 합니다.\n",
    "\n",
    "예를 들어, 각 상품의 스펙이 다음과 같고, 트럭의 허용 무게가 300, 실어야 할 상품이 [toy, snack, snack]라고 합니다.\n",
    "\n",
    "| 상품 이름 | 무게 |\n",
    "| ------- | --- |\n",
    "| toy     | 70  |\n",
    "| snack   | 200 |\n",
    "\n",
    "이 경우 첫째 상품과 둘째 상품은 같은 트럭에 들어가지만, 셋째 상품은 다른 트럭에 넣어야 합니다. 따라서 필요한 트럭 수는 두 대 입니다.\n",
    "\n",
    "| 상품   | 누적 무게 | 새 트럭 |\n",
    "| ----- | ------- | ------ |\n",
    "| toy   | 70      | 불필요  |\n",
    "| snack | 270     | 불필요  |\n",
    "| snack | 200     | 필요   |\n",
    "\n",
    "트럭의 허용 무게 max_weight와 상품의 스펙을 담은 배열 specs, 운반할 상품의 이름이 순서대로 들은 배열 names가 주어집니다. 이때, 상품을 순서대로 운반하기 위해 필요한 트럭 수를 리턴하는 함수, soution을 완성하세요."
   ]
  },
  {
   "cell_type": "markdown",
   "metadata": {},
   "source": [
    "## 제한사항"
   ]
  },
  {
   "cell_type": "markdown",
   "metadata": {},
   "source": [
    "* max_weight는 1 이상 100,000 이하입니다.\n",
    "* specs의 길이는 1 이상 100,000 이하입니다.\n",
    "    * specs의 원소는 [상품 이름, 상품 무게]를 나타냅니다.\n",
    "    * 상품 이름은 길이가 1 이상 10,000 이하인 문자열입니다.\n",
    "    * 상품 무게는 1 이상 max_weight 이하인 자연수를 나타내는 문자열입니다.\n",
    "    * 이름이 같은 상품은 없습니다.\n",
    "* names는 길이가 10,000 이하인 배열입니다.\n",
    "    * names의 원소는 모두 specs에 있는 상품입니다."
   ]
  },
  {
   "cell_type": "markdown",
   "metadata": {},
   "source": [
    "## 입출력 예"
   ]
  },
  {
   "cell_type": "markdown",
   "metadata": {},
   "source": [
    "| max_weight | specs                    | names               | return |\n",
    "| ---------- | ------------------------ | ------------------- | ------ |\n",
    "| 300        | [[toy,70], [snack, 200]] | [toy, snack, snack] | 2      |\n",
    "| 200        | [[toy,70], [snack, 200]] | [toy, snack, toy]   | 3      |"
   ]
  },
  {
   "cell_type": "markdown",
   "metadata": {},
   "source": [
    "### 입출력 예 설명"
   ]
  },
  {
   "cell_type": "markdown",
   "metadata": {},
   "source": [
    "#### 입출력 예 #1"
   ]
  },
  {
   "cell_type": "markdown",
   "metadata": {},
   "source": [
    "앞서 설명한 예와 같습니다."
   ]
  },
  {
   "cell_type": "markdown",
   "metadata": {},
   "source": [
    "#### 입출력 예 #2"
   ]
  },
  {
   "cell_type": "markdown",
   "metadata": {},
   "source": [
    "모든 상품은 각각 다른 트럭에 들어갑니다.\n",
    "\n",
    "두 번째 트럭을 호출하면 첫 번째 트럭은 목적지로 출발하므로, 세 번째 상품을 첫 번째 트럭에 넣을 수는 없습니다."
   ]
  },
  {
   "cell_type": "markdown",
   "metadata": {},
   "source": [
    "## 코드"
   ]
  },
  {
   "cell_type": "code",
   "execution_count": 16,
   "metadata": {},
   "outputs": [],
   "source": [
    "def solution(max_weight, specs, names):\n",
    "    specs = {name: int(weight) for name, weight in specs}\n",
    "    weight = 0\n",
    "    count = 0\n",
    "    for name in names:\n",
    "        if weight + specs[name] > max_weight or weight == 0:\n",
    "            count += 1\n",
    "            weight = specs[name]\n",
    "        else:\n",
    "            weight += specs[name]\n",
    "    return count"
   ]
  },
  {
   "cell_type": "markdown",
   "metadata": {},
   "source": [
    "### 시간 복잡도"
   ]
  },
  {
   "cell_type": "code",
   "execution_count": null,
   "metadata": {},
   "outputs": [],
   "source": [
    "# N = len(specs)\n",
    "# M = len(names)\n",
    "# 최종 시간 복잡도: O(N) + O(M)\n",
    "\n",
    "def solution(max_weight, specs, names):\n",
    "    specs = {name: int(weight) for name, weight in specs} # O(N)\n",
    "    weight = 0\n",
    "    count = 0\n",
    "    for name in names: # O(M)\n",
    "        if weight + specs[name] > max_weight or weight == 0: # O(1)\n",
    "            count += 1\n",
    "            weight = specs[name] # O(1)\n",
    "        else:\n",
    "            weight += specs[name] # O(1)\n",
    "    return count"
   ]
  },
  {
   "cell_type": "markdown",
   "metadata": {},
   "source": [
    "### 예제 1"
   ]
  },
  {
   "cell_type": "code",
   "execution_count": 17,
   "metadata": {},
   "outputs": [
    {
     "name": "stdout",
     "output_type": "stream",
     "text": [
      "toy 70\n",
      "snack 270\n",
      "snack 200\n"
     ]
    },
    {
     "data": {
      "text/plain": [
       "2"
      ]
     },
     "execution_count": 17,
     "metadata": {},
     "output_type": "execute_result"
    }
   ],
   "source": [
    "max_weight = 300\n",
    "specs = [['toy','70'], ['snack', '200']]\n",
    "names = ['toy', 'snack', 'snack']\n",
    "solution(max_weight, specs, names)"
   ]
  },
  {
   "cell_type": "markdown",
   "metadata": {},
   "source": [
    "### 예제 2"
   ]
  },
  {
   "cell_type": "code",
   "execution_count": 18,
   "metadata": {},
   "outputs": [
    {
     "name": "stdout",
     "output_type": "stream",
     "text": [
      "toy 70\n",
      "snack 200\n",
      "toy 70\n"
     ]
    },
    {
     "data": {
      "text/plain": [
       "3"
      ]
     },
     "execution_count": 18,
     "metadata": {},
     "output_type": "execute_result"
    }
   ],
   "source": [
    "max_weight = 200\n",
    "specs = [['toy','70'], ['snack', '200']]\n",
    "names = ['toy', 'snack', 'toy']\n",
    "solution(max_weight, specs, names)"
   ]
  }
 ],
 "metadata": {
  "kernelspec": {
   "display_name": "Python 3",
   "language": "python",
   "name": "python3"
  },
  "language_info": {
   "codemirror_mode": {
    "name": "ipython",
    "version": 3
   },
   "file_extension": ".py",
   "mimetype": "text/x-python",
   "name": "python",
   "nbconvert_exporter": "python",
   "pygments_lexer": "ipython3",
   "version": "3.7.3"
  }
 },
 "nbformat": 4,
 "nbformat_minor": 2
}
