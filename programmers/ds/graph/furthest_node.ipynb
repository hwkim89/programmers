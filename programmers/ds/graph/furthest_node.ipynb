{
 "cells": [
  {
   "cell_type": "markdown",
   "metadata": {},
   "source": [
    "# 가장 먼 노드"
   ]
  },
  {
   "cell_type": "markdown",
   "metadata": {},
   "source": [
    "## 문제 링크"
   ]
  },
  {
   "cell_type": "markdown",
   "metadata": {},
   "source": [
    "* https://programmers.co.kr/learn/courses/30/lessons/49189"
   ]
  },
  {
   "cell_type": "markdown",
   "metadata": {},
   "source": [
    "## 코드"
   ]
  },
  {
   "cell_type": "code",
   "execution_count": 51,
   "metadata": {},
   "outputs": [],
   "source": [
    "from collections import deque, defaultdict\n",
    "\n",
    "def bfs(graph, start_node):\n",
    "    queue, visited = deque(), set()\n",
    "    queue.append((start_node, 0))\n",
    "    count = defaultdict(int)\n",
    "    while queue:\n",
    "        cur_node, level = queue.popleft()\n",
    "        visited.add(cur_node)\n",
    "        \n",
    "        is_terminal = True\n",
    "        for next_node in graph[cur_node]:\n",
    "            if next_node not in visited:\n",
    "                queue.append((next_node, level+1))\n",
    "                visited.add(next_node)\n",
    "                is_terminal = False\n",
    "                \n",
    "        if is_terminal:\n",
    "            count[level] += 1\n",
    "        \n",
    "    max_level, furthest_dist = -1, 0\n",
    "    for level, num in count.items():\n",
    "        if level > max_level:\n",
    "            max_level, furthest_dist = level, num\n",
    "            \n",
    "    return furthest_dist\n",
    "        \n",
    "\n",
    "def solution(n, edges):\n",
    "    # Make a graph\n",
    "    graph = {i: [] for i in range(1, n+1)}\n",
    "    for v1, v2 in edges:\n",
    "        graph[v1].append(v2)\n",
    "        graph[v2].append(v1)\n",
    "        \n",
    "    # Search a graph with BFS\n",
    "    furthest_dist = bfs(graph, start_node=1)\n",
    "    \n",
    "    return furthest_dist"
   ]
  },
  {
   "cell_type": "markdown",
   "metadata": {},
   "source": [
    "### 시간 복잡도"
   ]
  },
  {
   "cell_type": "code",
   "execution_count": null,
   "metadata": {},
   "outputs": [],
   "source": []
  },
  {
   "cell_type": "markdown",
   "metadata": {},
   "source": [
    "## 예제"
   ]
  },
  {
   "cell_type": "code",
   "execution_count": 53,
   "metadata": {
    "scrolled": false
   },
   "outputs": [
    {
     "data": {
      "text/plain": [
       "3"
      ]
     },
     "execution_count": 53,
     "metadata": {},
     "output_type": "execute_result"
    }
   ],
   "source": [
    "n = 6\n",
    "edges = [[3, 6], [4, 3], [3, 2], [1, 3], [1, 2], [2, 4], [5, 2]]\n",
    "solution(n, edges)"
   ]
  },
  {
   "cell_type": "markdown",
   "metadata": {},
   "source": [
    "## 참조"
   ]
  },
  {
   "cell_type": "markdown",
   "metadata": {},
   "source": [
    "### BFS 기본 코드"
   ]
  },
  {
   "cell_type": "code",
   "execution_count": null,
   "metadata": {},
   "outputs": [],
   "source": [
    "def bfs(graph, start_node):\n",
    "    queue, visited = deque(), set()\n",
    "    queue.append(start_node)\n",
    "    while queue:\n",
    "        cur_node = queue.popleft()\n",
    "        visited.add(cur_node)\n",
    "        for next_node in graph[cur_node]:\n",
    "            if next_node not in visited:\n",
    "                queue.append(next_node)\n",
    "                visited.add(next_node)\n",
    "    return visited"
   ]
  },
  {
   "cell_type": "markdown",
   "metadata": {},
   "source": [
    "### 참조한 사이트\n",
    "\n",
    "* https://itholic.github.io/python-bfs-dfs/"
   ]
  }
 ],
 "metadata": {
  "kernelspec": {
   "display_name": "Python 3",
   "language": "python",
   "name": "python3"
  },
  "language_info": {
   "codemirror_mode": {
    "name": "ipython",
    "version": 3
   },
   "file_extension": ".py",
   "mimetype": "text/x-python",
   "name": "python",
   "nbconvert_exporter": "python",
   "pygments_lexer": "ipython3",
   "version": "3.7.4"
  }
 },
 "nbformat": 4,
 "nbformat_minor": 2
}
